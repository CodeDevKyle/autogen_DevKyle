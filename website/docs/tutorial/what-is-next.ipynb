{
 "cells": [
  {
   "cell_type": "markdown",
   "metadata": {},
   "source": [
    "# What is Next?\n",
    "\n",
    "Now that you have learned the basics of AutoGen, you can start to build your\n",
    "own agents. Here are some ideas to get you started without going to the advanced\n",
    "topics:\n",
    "\n",
    "1. **Chat with LLMs**: In [Human-in-the-Loop](./human-in-the-loop) we covered\n",
    "    the basic human-in-the-loop usage. You can try to hook up different LLMs\n",
    "    using proxy servers like \n",
    "    [Ollama](https://github.com/ollama/ollama), \n",
    "    and chat with them\n",
    "    using the human-in-the-loop component of your human proxy agent.\n",
    "2. **Prompt Engineering**: In [Code Executors](./code-executors) we covered the\n",
    "    simple two agent scenario using GPT-4 and Python code executor. To make this\n",
    "    scenario work for different LLMs and programming languages, you probably need\n",
    "    to tune the system message of the code writer agent. Same with other scenarios\n",
    "    that we have covered in this tutorial, you can also try to tune system messages\n",
    "    for different LLMs.\n",
    "3. **Complex Tasks**: In [Conversation Patterns](./conversation-patterns)\n",
    "    we covered the basic conversation patterns. You can try to find other \n",
    "    tasks that can be decomposed into these patterns, and leverage the \n",
    "    code executors to make the agents more powerful.\n",
    "\n",
    "If you have any questions, you can ask in our \n",
    "[GitHub Discussions](https://github.com/microsoft/autogen/discussions), or \n",
    "join our [Discord Server](https://discord.gg/pAbnFJrkgZ).\n",
    "\n",
    "[![](https://img.shields.io/discord/1153072414184452236?logo=discord&style=flat)](https://discord.gg/pAbnFJrkgZ)\n",
    "\n",
    "To contribute your work to our [gallery](../Gallery), following\n",
    "our [contribution guide](../Contribute) to make a pull request.\n",
    "You can also share your work with the community on the Discord server.\n",
    "\n",
    "## Advanced Topics\n",
    "\n",
    "To check out dig deeper into the AutoGen, you can check out the\n",
    "the the list of [example notebooks](../Examples.md)."
   ]
  }
 ],
 "metadata": {
  "language_info": {
   "name": "python"
  }
 },
 "nbformat": 4,
 "nbformat_minor": 2
}
