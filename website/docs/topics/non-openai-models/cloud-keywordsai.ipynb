{
 "cells": [
  {
   "cell_type": "markdown",
   "metadata": {},
   "source": [
    "# Keywords AI\n",
    "[Keywords AI](https://keywordsai.co/) is a unified developer platform where you can call 150+ LLMs, using the OpenAI API format, with one API key and get insights into your AI products. With 2 lines of code, you can build better AI products with complete observability.\n",
    "\n",
    "Start by [installing AutoGen](/docs/installation/) and getting your [Keywords AI API key](https://keywordsai.co/)."
   ]
  },
  {
   "cell_type": "code",
   "execution_count": null,
   "metadata": {},
   "outputs": [],
   "source": [
    "!pip install pyautogen -U"
   ]
  },
  {
   "cell_type": "markdown",
   "metadata": {},
   "source": [
    "Create your LLM configuration, with the [model you want](https://docs.keywordsai.co/integration/supported-models)."
   ]
  },
  {
   "cell_type": "code",
   "execution_count": 3,
   "metadata": {},
   "outputs": [],
   "source": [
    "llm_config = {\n",
    "    \"config_list\": [\n",
    "        {\n",
    "            # Choose your model name.\n",
    "            \"model\": \"gpt-4o\",\n",
    "            \"base_url\": \"https://api.keywordsai.co/api/\",\n",
    "            # You need to provide your API key here.\n",
    "            \"api_key\": \"Your_Keywords_AI_API_Key\",\n",
    "        }\n",
    "    ],\n",
    "    \"cache_seed\": None,  # Turns off caching, useful for testing different models\n",
    "}"
   ]
  },
  {
   "cell_type": "markdown",
   "metadata": {},
   "source": [
    "## Using Keywords AI with AutoGen"
   ]
  },
  {
   "cell_type": "code",
   "execution_count": 4,
   "metadata": {},
   "outputs": [
    {
     "name": "stdout",
     "output_type": "stream",
     "text": [
      "\u001b[33magent\u001b[0m (to user):\n",
      "\n",
      "How can I help you today?\n",
      "\n",
      "--------------------------------------------------------------------------------\n",
      "\u001b[33muser\u001b[0m (to agent):\n",
      "\n",
      "Write a Fibonacci number generator\n",
      "\n",
      "--------------------------------------------------------------------------------\n",
      "\u001b[31m\n",
      ">>>>>>>> USING AUTO REPLY...\u001b[0m\n",
      "\u001b[33magent\u001b[0m (to user):\n",
      "\n",
      "Sure! Here’s a simple and succinct Fibonacci number generator in Python using a generator function:\n",
      "\n",
      "```python\n",
      "def fibonacci():\n",
      "    a, b = 0, 1\n",
      "    while True:\n",
      "        yield a\n",
      "        a, b = b, a + b\n",
      "\n",
      "# Example of usage:\n",
      "# for index, fib in enumerate(fibonacci()):\n",
      "#     if index == 10:  # Limit to 10 terms for example\n",
      "#         break\n",
      "#     print(fib)\n",
      "```\n",
      "\n",
      "This function will generate an infinite sequence of Fibonacci numbers. If you'd like to limit the number of Fibonacci numbers generated, you can include a condition within the loop where you use this generator, as shown in the usage example.\n",
      "\n",
      "--------------------------------------------------------------------------------\n"
     ]
    },
    {
     "data": {
      "text/plain": [
       "ChatResult(chat_id=None, chat_history=[{'content': 'How can I help you today?', 'role': 'assistant'}, {'content': 'Write a Fibonacci number generator', 'role': 'user'}, {'content': \"Sure! Here’s a simple and succinct Fibonacci number generator in Python using a generator function:\\n\\n```python\\ndef fibonacci():\\n    a, b = 0, 1\\n    while True:\\n        yield a\\n        a, b = b, a + b\\n\\n# Example of usage:\\n# for index, fib in enumerate(fibonacci()):\\n#     if index == 10:  # Limit to 10 terms for example\\n#         break\\n#     print(fib)\\n```\\n\\nThis function will generate an infinite sequence of Fibonacci numbers. If you'd like to limit the number of Fibonacci numbers generated, you can include a condition within the loop where you use this generator, as shown in the usage example.\", 'role': 'assistant'}], summary=\"Sure! Here’s a simple and succinct Fibonacci number generator in Python using a generator function:\\n\\n```python\\ndef fibonacci():\\n    a, b = 0, 1\\n    while True:\\n        yield a\\n        a, b = b, a + b\\n\\n# Example of usage:\\n# for index, fib in enumerate(fibonacci()):\\n#     if index == 10:  # Limit to 10 terms for example\\n#         break\\n#     print(fib)\\n```\\n\\nThis function will generate an infinite sequence of Fibonacci numbers. If you'd like to limit the number of Fibonacci numbers generated, you can include a condition within the loop where you use this generator, as shown in the usage example.\", cost={'usage_including_cached_inference': {'total_cost': 0, 'gpt-4o-2024-05-13': {'cost': 0, 'prompt_tokens': 42, 'completion_tokens': 143, 'total_tokens': 185}}, 'usage_excluding_cached_inference': {'total_cost': 0, 'gpt-4o-2024-05-13': {'cost': 0, 'prompt_tokens': 42, 'completion_tokens': 143, 'total_tokens': 185}}}, human_input=[])"
      ]
     },
     "execution_count": 4,
     "metadata": {},
     "output_type": "execute_result"
    }
   ],
   "source": [
    "from autogen import ConversableAgent, UserProxyAgent\n",
    "\n",
    "# Create the agent that uses the LLM.\n",
    "assistant = ConversableAgent(\n",
    "    name=\"agent\",\n",
    "    llm_config=llm_config,\n",
    "    system_message=\"You are a senior Python developer, a specialist in writing succinct Python functions.\",\n",
    ")\n",
    "\n",
    "# Create the agent that represents the user in the conversation.\n",
    "user_proxy = UserProxyAgent(\n",
    "    name=\"user\",\n",
    "    code_execution_config=False,\n",
    "    system_message=\"A human admin\",\n",
    ")\n",
    "\n",
    "# Let the assistant start the conversation.  It will end when the user types exit.\n",
    "assistant.initiate_chat(user_proxy, message=\"How can I help you today?\")"
   ]
  }
 ],
 "metadata": {
  "kernelspec": {
   "display_name": "Python 3 (ipykernel)",
   "language": "python",
   "name": "python3"
  },
  "language_info": {
   "codemirror_mode": {
    "name": "ipython",
    "version": 3
   },
   "file_extension": ".py",
   "mimetype": "text/x-python",
   "name": "python",
   "nbconvert_exporter": "python",
   "pygments_lexer": "ipython3",
   "version": "3.11.5"
  }
 },
 "nbformat": 4,
 "nbformat_minor": 4
}
