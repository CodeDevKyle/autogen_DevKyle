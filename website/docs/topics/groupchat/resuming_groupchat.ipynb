{
 "cells": [
  {
   "cell_type": "markdown",
   "metadata": {},
   "source": [
    "# Resuming a GroupChat\n",
    "\n",
    "In GroupChat, we can resume a previous group chat by passing the messages from that conversation to the GroupChatManager's `resume_chat` function (or `a_resume_chat` for asynchronous workflows).\n",
    "\n",
    "To resume, the agents, GroupChat, and GroupChatManager objects must exist and match the original group chat.\n",
    "\n",
    "The messages can be passed in as a JSON string or a `List[Dict]`, typically from the original GroupChat's `messages` value. Use the GroupChatManager's `messages_to_string` function to retrieve a JSON string from a groupchat that can be used for resuming:\n",
    "\n",
    "```text\n",
    "# Save chat messages for resuming later on\n",
    "messages_json = mygroupchatmanager.messages_to_string()\n",
    "```"
   ]
  },
  {
   "cell_type": "markdown",
   "metadata": {},
   "source": [
    "\n",
    "An example of the JSON string:\n",
    "```json\n",
    "[{\"content\": \"Find the latest paper about gpt-4 on arxiv and find its potential applications in software.\", \"role\": \"user\", \"name\": \"Admin\"}, {\"content\": \"Plan:\\n1. **Engineer**: Search for the latest paper on GPT-4 on arXiv.\\n2. **Scientist**: Read the paper and summarize the key findings and potential applications of GPT-4.\\n3. **Engineer**: Identify potential software applications where GPT-4 can be utilized based on the scientist's summary.\\n4. **Scientist**: Provide insights on the feasibility and impact of implementing GPT-4 in the identified software applications.\\n5. **Engineer**: Develop a prototype or proof of concept to demonstrate how GPT-4 can be integrated into the selected software application.\\n6. **Scientist**: Evaluate the prototype, provide feedback, and suggest any improvements or modifications.\\n7. **Engineer**: Make necessary revisions based on the scientist's feedback and finalize the integration of GPT-4 into the software application.\\n8. **Admin**: Review the final software application with GPT-4 integration and approve for further development or implementation.\\n\\nFeedback from admin and critic is needed for further refinement of the plan.\", \"role\": \"user\", \"name\": \"Planner\"}, {\"content\": \"Agree\", \"role\": \"user\", \"name\": \"Admin\"}, {\"content\": \"Great! Let's proceed with the plan outlined earlier. I will start by searching for the latest paper on GPT-4 on arXiv. Once I find the paper, the scientist will summarize the key findings and potential applications of GPT-4. We will then proceed with the rest of the steps as outlined. I will keep you updated on our progress.\", \"role\": \"user\", \"name\": \"Planner\"}]\n",
    "```\n",
    "\n",
    "Under the hood, the `ConversableAgent.initiate_chat` method is called with many of the parameters of `resume_chat` being passed through. These include `silent`, `max_turns`, `summary_method`, and `summary_args`. In line with that, `resume_chat` returns a `ChatResult`.\n",
    "\n",
    "When resuming, the messages will be validated against the groupchat's agents to make sure that the messages can be assigned to them. Messages will be allocated to the agents and then the last speaker and message will be used to resume the group chat."
   ]
  },
  {
   "cell_type": "markdown",
   "metadata": {},
   "source": [
    "### Example of resuming a GroupChat\n",
    "\n",
    "Start with the LLM config. This can differ from the original group chat."
   ]
  },
  {
   "cell_type": "code",
   "execution_count": 3,
   "metadata": {},
   "outputs": [],
   "source": [
    "import os\n",
    "\n",
    "import autogen\n",
    "\n",
    "# Put your api key in the environment variable OPENAI_API_KEY\n",
    "config_list = [\n",
    "    {\n",
    "        \"model\": \"gpt-4-0125-preview\",\n",
    "        \"api_key\": os.environ[\"OPENAI_API_KEY\"],\n",
    "    }\n",
    "]\n",
    "\n",
    "gpt4_config = {\n",
    "    \"cache_seed\": 42,  # change the cache_seed for different trials\n",
    "    \"temperature\": 0,\n",
    "    \"config_list\": config_list,\n",
    "    \"timeout\": 120,\n",
    "}"
   ]
  },
  {
   "cell_type": "markdown",
   "metadata": {},
   "source": [
    "Create the group chat objects, they should have the same `name` as the original group chat."
   ]
  },
  {
   "cell_type": "code",
   "execution_count": 4,
   "metadata": {},
   "outputs": [],
   "source": [
    "# Create Agents, GroupChat, and GroupChatManager in line with the original group chat\n",
    "\n",
    "planner = autogen.AssistantAgent(\n",
    "    name=\"Planner\",\n",
    "    system_message=\"\"\"Planner. Suggest a plan. Revise the plan based on feedback from admin and critic, until admin approval.\n",
    "The plan may involve an engineer who can write code and a scientist who doesn't write code.\n",
    "Explain the plan first. Be clear which step is performed by an engineer, and which step is performed by a scientist.\n",
    "\"\"\",\n",
    "    llm_config=gpt4_config,\n",
    ")\n",
    "\n",
    "user_proxy = autogen.UserProxyAgent(\n",
    "    name=\"Admin\",\n",
    "    system_message=\"A human admin. Interact with the planner to discuss the plan. Plan execution needs to be approved by this admin.\",\n",
    "    code_execution_config=False,\n",
    ")\n",
    "\n",
    "engineer = autogen.AssistantAgent(\n",
    "    name=\"Engineer\",\n",
    "    llm_config=gpt4_config,\n",
    "    system_message=\"\"\"Engineer. You follow an approved plan. You write python/shell code to solve tasks. Wrap the code in a code block that specifies the script type. The user can't modify your code. So do not suggest incomplete code which requires others to modify. Don't use a code block if it's not intended to be executed by the executor.\n",
    "Don't include multiple code blocks in one response. Do not ask others to copy and paste the result. Check the execution result returned by the executor.\n",
    "If the result indicates there is an error, fix the error and output the code again. Suggest the full code instead of partial code or code changes. If the error can't be fixed or if the task is not solved even after the code is executed successfully, analyze the problem, revisit your assumption, collect additional info you need, and think of a different approach to try.\n",
    "\"\"\",\n",
    ")\n",
    "scientist = autogen.AssistantAgent(\n",
    "    name=\"Scientist\",\n",
    "    llm_config=gpt4_config,\n",
    "    system_message=\"\"\"Scientist. You follow an approved plan. You are able to categorize papers after seeing their abstracts printed. You don't write code.\"\"\",\n",
    ")\n",
    "\n",
    "executor = autogen.UserProxyAgent(\n",
    "    name=\"Executor\",\n",
    "    system_message=\"Executor. Execute the code written by the engineer and report the result.\",\n",
    "    human_input_mode=\"NEVER\",\n",
    "    code_execution_config={\n",
    "        \"last_n_messages\": 3,\n",
    "        \"work_dir\": \"paper\",\n",
    "        \"use_docker\": False,\n",
    "    },  # Please set use_docker=True if docker is available to run the generated code. Using docker is safer than running the generated code directly.\n",
    ")\n",
    "\n",
    "groupchat = autogen.GroupChat(\n",
    "    agents=[user_proxy, engineer, scientist, planner, executor],\n",
    "    messages=[],\n",
    "    max_round=10,\n",
    ")\n",
    "\n",
    "manager = autogen.GroupChatManager(groupchat=groupchat, llm_config=gpt4_config)"
   ]
  },
  {
   "cell_type": "markdown",
   "metadata": {},
   "source": [
    "Load the previous messages (from a JSON string or messages `List[Dict]`)"
   ]
  },
  {
   "cell_type": "code",
   "execution_count": 5,
   "metadata": {},
   "outputs": [],
   "source": [
    "# Messages in a JSON string\n",
    "previous_state = r\"\"\"[{\"content\": \"Find the latest paper about gpt-4 on arxiv and find its potential applications in software.\", \"role\": \"user\", \"name\": \"Admin\"}, {\"content\": \"Plan:\\n1. **Engineer**: Search for the latest paper on GPT-4 on arXiv.\\n2. **Scientist**: Read the paper and summarize the key findings and potential applications of GPT-4.\\n3. **Engineer**: Identify potential software applications where GPT-4 can be utilized based on the scientist's summary.\\n4. **Scientist**: Provide insights on the feasibility and impact of implementing GPT-4 in the identified software applications.\\n5. **Engineer**: Develop a prototype or proof of concept to demonstrate how GPT-4 can be integrated into the selected software application.\\n6. **Scientist**: Evaluate the prototype, provide feedback, and suggest any improvements or modifications.\\n7. **Engineer**: Make necessary revisions based on the scientist's feedback and finalize the integration of GPT-4 into the software application.\\n8. **Admin**: Review the final software application with GPT-4 integration and approve for further development or implementation.\\n\\nFeedback from admin and critic is needed for further refinement of the plan.\", \"role\": \"user\", \"name\": \"Planner\"}, {\"content\": \"Agree\", \"role\": \"user\", \"name\": \"Admin\"}, {\"content\": \"Great! Let's proceed with the plan outlined earlier. I will start by searching for the latest paper on GPT-4 on arXiv. Once I find the paper, the scientist will summarize the key findings and potential applications of GPT-4. We will then proceed with the rest of the steps as outlined. I will keep you updated on our progress.\", \"role\": \"user\", \"name\": \"Planner\"}]\"\"\""
   ]
  },
  {
   "cell_type": "markdown",
   "metadata": {},
   "source": [
    "Resume the group chat through the manager."
   ]
  },
  {
   "cell_type": "code",
   "execution_count": 6,
   "metadata": {},
   "outputs": [
    {
     "name": "stdout",
     "output_type": "stream",
     "text": [
      "\u001b[33mResuming chat...\u001b[0m\n",
      "Last speaker is \u001b[33mPlanner\u001b[0m - conversation will resume with their last message.\n",
      "\u001b[33mPlanner\u001b[0m (to chat_manager):\n",
      "\n",
      "Great! Let's proceed with the plan outlined earlier. I will start by searching for the latest paper on GPT-4 on arXiv. Once I find the paper, the scientist will summarize the key findings and potential applications of GPT-4. We will then proceed with the rest of the steps as outlined. I will keep you updated on our progress.\n",
      "\n",
      "--------------------------------------------------------------------------------\n",
      "\u001b[33mEngineer\u001b[0m (to chat_manager):\n",
      "\n",
      "```python\n",
      "import requests\n",
      "from bs4 import BeautifulSoup\n",
      "\n",
      "# Define the URL for the arXiv search\n",
      "url = \"https://arxiv.org/search/?query=GPT-4&searchtype=all&source=header\"\n",
      "\n",
      "# Send a GET request to the URL\n",
      "response = requests.get(url)\n",
      "\n",
      "# Parse the HTML content of the page\n",
      "soup = BeautifulSoup(response.content, 'html.parser')\n",
      "\n",
      "# Find the first paper related to GPT-4\n",
      "paper = soup.find('li', class_='arxiv-result')\n",
      "if paper:\n",
      "    title = paper.find('p', class_='title').text.strip()\n",
      "    authors = paper.find('p', class_='authors').text.strip()\n",
      "    abstract = paper.find('p', class_='abstract').text.strip().replace('\\n', ' ')\n",
      "    link = paper.find('p', class_='list-title').find('a')['href']\n",
      "    print(f\"Title: {title}\\nAuthors: {authors}\\nAbstract: {abstract}\\nLink: {link}\")\n",
      "else:\n",
      "    print(\"No GPT-4 papers found on arXiv.\")\n",
      "```\n",
      "This script searches for the latest paper on GPT-4 on arXiv, extracts the title, authors, abstract, and link to the paper, and prints this information.\n",
      "\n",
      "--------------------------------------------------------------------------------\n",
      "\u001b[31m\n",
      ">>>>>>>> EXECUTING CODE BLOCK 0 (inferred language is python)...\u001b[0m\n",
      "\u001b[33mExecutor\u001b[0m (to chat_manager):\n",
      "\n",
      "exitcode: 0 (execution succeeded)\n",
      "Code output: \n",
      "Title: NaturalCodeBench: Examining Coding Performance Mismatch on HumanEval and Natural User Prompts\n",
      "Authors: Authors:\n",
      "Shudan Zhang, \n",
      "      \n",
      "      Hanlin Zhao, \n",
      "      \n",
      "      Xiao Liu, \n",
      "      \n",
      "      Qinkai Zheng, \n",
      "      \n",
      "      Zehan Qi, \n",
      "      \n",
      "      Xiaotao Gu, \n",
      "      \n",
      "      Xiaohan Zhang, \n",
      "      \n",
      "      Yuxiao Dong, \n",
      "      \n",
      "      Jie Tang\n",
      "Abstract: Abstract:                …we also introduce a semi-automated pipeline to enhance the efficiency of test case construction. Comparing with manual solutions, it achieves an efficiency increase of more than 4 times. Our systematic experiments on 39 LLMs find that performance gaps on NCB between models with close HumanEval scores could still be significant, indicating a lack of focus on…         ▽ More           Large language models (LLMs) have manifested strong ability to generate codes for productive activities. However, current benchmarks for code synthesis, such as HumanEval, MBPP, and DS-1000, are predominantly oriented towards introductory tasks on algorithm and data science, insufficiently satisfying challenging requirements prevalent in real-world coding. To fill this gap, we propose NaturalCodeBench (NCB), a challenging code benchmark designed to mirror the complexity and variety of scenarios in real coding tasks. NCB comprises 402 high-quality problems in Python and Java, meticulously selected from natural user queries from online coding services, covering 6 different domains. Noting the extraordinary difficulty in creating testing cases for real-world queries, we also introduce a semi-automated pipeline to enhance the efficiency of test case construction. Comparing with manual solutions, it achieves an efficiency increase of more than 4 times. Our systematic experiments on 39 LLMs find that performance gaps on NCB between models with close HumanEval scores could still be significant, indicating a lack of focus on practical code synthesis scenarios or over-specified optimization on HumanEval. On the other hand, even the best-performing GPT-4 is still far from satisfying on NCB. The evaluation toolkit and development set are available at https://github.com/THUDM/NaturalCodeBench.         △ Less\n",
      "Link: https://arxiv.org/abs/2405.04520\n",
      "\n",
      "\n",
      "--------------------------------------------------------------------------------\n",
      "\u001b[33mScientist\u001b[0m (to chat_manager):\n",
      "\n",
      "The latest paper related to GPT-4 on arXiv is titled \"NaturalCodeBench: Examining Coding Performance Mismatch on HumanEval and Natural User Prompts\" by Shudan Zhang, Hanlin Zhao, Xiao Liu, Qinkai Zheng, Zehan Qi, Xiaotao Gu, Xiaohan Zhang, Yuxiao Dong, and Jie Tang. The abstract discusses the introduction of NaturalCodeBench (NCB), a challenging code benchmark designed to mirror the complexity and variety of scenarios in real coding tasks. It comprises 402 high-quality problems in Python and Java, selected from natural user queries from online coding services, covering 6 different domains. The paper highlights the performance gaps on NCB between models with close HumanEval scores, indicating a lack of focus on practical code synthesis scenarios or over-specified optimization on HumanEval. It also notes that even the best-performing GPT-4 is still far from satisfying on NCB, suggesting room for improvement in real-world coding applications.\n",
      "\n",
      "Potential applications in software based on this summary could include:\n",
      "1. **Automated Code Generation**: Enhancing IDEs (Integrated Development Environments) with GPT-4 to provide real-time coding assistance, code completion, and bug fixing suggestions based on real-world coding scenarios.\n",
      "2. **Code Review and Optimization**: Integrating GPT-4 into code review tools to suggest optimizations and improvements by understanding the context and complexity of the code better.\n",
      "3. **Educational Tools**: Developing educational software that uses GPT-4 to create more complex and real-world relevant coding exercises and challenges for learners.\n",
      "4. **Automated Testing and Debugging**: Utilizing GPT-4 to generate test cases for software projects automatically, especially for complex real-world scenarios that are hard to cover manually.\n",
      "\n",
      "These applications could significantly impact software development by improving efficiency, code quality, and learning outcomes for developers.\n",
      "\n",
      "--------------------------------------------------------------------------------\n",
      "\u001b[33mEngineer\u001b[0m (to chat_manager):\n",
      "\n",
      "Based on the scientist's summary and identified potential applications of GPT-4 in software, we can see that GPT-4's capabilities can be leveraged to enhance various aspects of software development and education. The key areas where GPT-4 can make a significant impact include automated code generation, code review and optimization, educational tools, and automated testing and debugging.\n",
      "\n",
      "Given the current state of GPT-4 as highlighted in the paper, where it still falls short in satisfying the complex requirements of real-world coding tasks as per the NaturalCodeBench (NCB) benchmark, it's clear that integrating GPT-4 into software applications requires careful consideration of its limitations and strengths. The potential for GPT-4 to improve efficiency, code quality, and learning outcomes is substantial, but it also necessitates ongoing evaluation and refinement to ensure that the applications remain relevant and effective in real-world scenarios.\n",
      "\n",
      "For instance, in automated code generation and assistance within IDEs, GPT-4 could be used to suggest code snippets, complete code blocks, or even generate entire functions based on brief descriptions or comments. However, developers would need to review these suggestions carefully for accuracy and efficiency, especially in complex or critical applications.\n",
      "\n",
      "In code review and optimization, GPT-4 could help identify potential improvements or optimizations in code, but human reviewers should verify these suggestions to ensure they align with project goals and coding standards.\n",
      "\n",
      "Educational tools powered by GPT-4 could offer advanced coding challenges and personalized learning experiences, but they should be designed to encourage understanding and not just mimicry of solutions.\n",
      "\n",
      "Finally, in automated testing and debugging, GPT-4's ability to generate test cases could significantly reduce manual effort, but the quality and coverage of these tests would need to be assessed to ensure they effectively catch bugs and issues.\n",
      "\n",
      "Overall, the integration of GPT-4 into software applications offers exciting possibilities, but it also requires a balanced approach that leverages the model's strengths while mitigating its limitations through careful design, human oversight, and continuous feedback and improvement.\n",
      "\n",
      "--------------------------------------------------------------------------------\n",
      "\u001b[33mAdmin\u001b[0m (to chat_manager):\n",
      "\n",
      "Approve\n",
      "\n",
      "--------------------------------------------------------------------------------\n",
      "\u001b[33mEngineer\u001b[0m (to chat_manager):\n",
      "\n",
      "With the approval from the admin, the plan to explore and integrate GPT-4 into software applications, considering its potential and limitations, is set to move forward. This involves developing prototypes or proof of concepts for the identified applications, such as enhancing IDEs with real-time coding assistance, integrating GPT-4 into code review tools, creating educational software with complex coding exercises, and automating test case generation for software projects.\n",
      "\n",
      "The next steps include detailed planning and execution of these prototypes, ensuring they leverage GPT-4 effectively while addressing any challenges that arise during development. Continuous evaluation and refinement based on feedback will be crucial to achieving successful integration and realizing the benefits of GPT-4 in software development and education.\n",
      "\n",
      "This initiative represents an exciting opportunity to push the boundaries of what's possible with AI in software, aiming to improve efficiency, code quality, and learning outcomes for developers and students alike.\n",
      "\n",
      "--------------------------------------------------------------------------------\n"
     ]
    }
   ],
   "source": [
    "result = manager.resume_chat(messages=previous_state)"
   ]
  },
  {
   "cell_type": "code",
   "execution_count": 45,
   "metadata": {},
   "outputs": [
    {
     "name": "stdout",
     "output_type": "stream",
     "text": [
      "#1, Admin: Find the latest paper about gpt-4 on arxiv and find its potential applications i ...\n",
      "#2, Planner: Plan: 1. **Engineer**: Search for the latest paper on GPT-4 on arXiv. 2. **Scien ...\n",
      "#3, Admin: Agree \n",
      "#4, Planner: Great! Let's proceed with the plan outlined earlier. I will start by searching f ...\n",
      "#5, Engineer: ```python import requests from bs4 import BeautifulSoup  # Define the URL for th ...\n",
      "#6, Executor: exitcode: 0 (execution succeeded) Code output:  Title: NaturalCodeBench: Examini ...\n",
      "#7, Scientist: The latest paper related to GPT-4 on arXiv is titled \"NaturalCodeBench: Examinin ...\n",
      "#8, Engineer: Based on the scientist's summary and identified potential applications of GPT-4  ...\n",
      "#9, Admin: Approve \n",
      "#10, Engineer: With the approval from the admin, the plan to explore and integrate GPT-4 into s ...\n"
     ]
    }
   ],
   "source": [
    "# Output the final chat history showing the original 4 messages and resumed messages\n",
    "for i, message in enumerate(groupchat.messages):\n",
    "    print(\n",
    "        f\"#{i + 1}, {message['name']}: {message['content'][:80]}\".replace(\"\\n\", \" \"),\n",
    "        f\"{'...' if len(message['content']) > 80 else ''}\".replace(\"\\n\", \" \"),\n",
    "    )"
   ]
  }
 ],
 "metadata": {
  "front_matter": {
   "description": "Custom Speaker Selection Function",
   "tags": [
    "orchestration",
    "group chat"
   ]
  },
  "kernelspec": {
   "display_name": "autogen",
   "language": "python",
   "name": "python3"
  },
  "language_info": {
   "codemirror_mode": {
    "name": "ipython",
    "version": 3
   },
   "file_extension": ".py",
   "mimetype": "text/x-python",
   "name": "python",
   "nbconvert_exporter": "python",
   "pygments_lexer": "ipython3",
   "version": "3.11.9"
  }
 },
 "nbformat": 4,
 "nbformat_minor": 2
}
