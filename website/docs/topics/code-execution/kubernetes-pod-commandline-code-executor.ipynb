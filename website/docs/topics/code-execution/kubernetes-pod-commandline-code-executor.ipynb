{
 "cells": [
  {
   "cell_type": "markdown",
   "metadata": {},
   "source": [
    "# Kubernetes Pod Commandline Code Executor\n",
    "\n"
   ]
  },
  {
   "cell_type": "code",
   "execution_count": null,
   "metadata": {},
   "outputs": [],
   "source": [
    "%pip -qqq install pyautogen[kubernetes]"
   ]
  },
  {
   "cell_type": "code",
   "execution_count": null,
   "metadata": {},
   "outputs": [],
   "source": [
    "from autogen.coding.kubernetes import PodCommandLineCodeExecutor\n",
    "from autogen.coding import CodeBlock"
   ]
  },
  {
   "cell_type": "code",
   "execution_count": null,
   "metadata": {},
   "outputs": [],
   "source": [
    "from pathlib import Path\n",
    "import sys\n",
    "import os\n",
    "\n",
    "kubeconfig = Path('.kube/config')\n",
    "\n",
    "if os.environ.get('KUBECONFIG', None):\n",
    "    kubeconfig = os.environ[\"KUBECONFIG\"]\n",
    "elif sys.platform == \"win32\":\n",
    "    kubeconfig = os.environ[\"userprofile\"] / kubeconfig\n",
    "else:\n",
    "    kubeconfig = os.environ[\"HOME\"] / kubeconfig"
   ]
  },
  {
   "cell_type": "code",
   "execution_count": null,
   "metadata": {},
   "outputs": [],
   "source": [
    "with PodCommandLineCodeExecutor(namespace=\"default\", kube_config_file=kubeconfig) as executor:\n",
    "    print(\n",
    "        executor.execute_code_blocks(\n",
    "            code_blocks=[\n",
    "                CodeBlock(language=\"python\", code=\"print('Hello, World!')\"),\n",
    "            ]\n",
    "        )\n",
    "    )"
   ]
  },
  {
   "cell_type": "code",
   "execution_count": null,
   "metadata": {},
   "outputs": [],
   "source": [
    "with PodCommandLineCodeExecutor(\n",
    "    image=\"node:22-alpine\",\n",
    "    namespace=\"default\",\n",
    "    work_dir=\"./app\",\n",
    "    timeout=10,\n",
    "    kube_config_file=kubeconfig,\n",
    "    execution_policies = {\"javascript\": True}\n",
    ") as executor:\n",
    "    print(\n",
    "        executor.execute_code_blocks(\n",
    "            code_blocks=[\n",
    "                CodeBlock(language=\"javascript\", code=\"console.log('Hello, World!')\"),\n",
    "            ]\n",
    "        )\n",
    "    )"
   ]
  },
  {
   "cell_type": "code",
   "execution_count": null,
   "metadata": {},
   "outputs": [],
   "source": [
    "from kubernetes import client\n",
    "\n",
    "pod = client.V1Pod(\n",
    "    metadata=client.V1ObjectMeta(name=\"abcd\", namespace=\"default\", \n",
    "                                 annotations={\"sidecar.istio.io/inject\": \"false\"}),\n",
    "    spec=client.V1PodSpec(\n",
    "        restart_policy=\"Never\",\n",
    "        containers=[client.V1Container(\n",
    "            args=[\"-c\", \"while true;do sleep 5; done\"],\n",
    "            command=[\"/bin/sh\"],\n",
    "            name=\"abcd\",\n",
    "            image=\"python:3.11-slim\",\n",
    "            env=[\n",
    "                client.V1EnvVar(\n",
    "                    name=\"TEST\",\n",
    "                    value=\"TEST\"\n",
    "                ),\n",
    "                client.V1EnvVar(\n",
    "                    name=\"POD_NAME\",\n",
    "                    value_from=client.V1EnvVarSource(\n",
    "                        field_ref=client.V1ObjectFieldSelector(\n",
    "                            field_path=\"metadata.name\"\n",
    "                        )\n",
    "                    )\n",
    "                )\n",
    "            ]\n",
    "        )],\n",
    "    )\n",
    ")"
   ]
  },
  {
   "cell_type": "code",
   "execution_count": null,
   "metadata": {},
   "outputs": [],
   "source": [
    "with PodCommandLineCodeExecutor(\n",
    "    pod_spec=pod,\n",
    "    container_name=\"abcd\",\n",
    "    work_dir=\"/autogen\",\n",
    "    timeout=60,\n",
    "    kube_config_file=kubeconfig,\n",
    ") as executor:\n",
    "    print(\n",
    "        executor.execute_code_blocks(\n",
    "            code_blocks=[\n",
    "                CodeBlock(language=\"python\", code=\"print('Hello, World!')\"),\n",
    "            ]\n",
    "        )\n",
    "    )\n",
    "    print(\n",
    "        executor.execute_code_blocks(\n",
    "            code_blocks=[\n",
    "                CodeBlock(code=\"echo $TEST $POD_NAME\", language=\"bash\"),\n",
    "            ]\n",
    "        )\n",
    "    )\n",
    "    "
   ]
  },
  {
   "cell_type": "code",
   "execution_count": null,
   "metadata": {},
   "outputs": [],
   "source": [
    "config_list = []"
   ]
  },
  {
   "cell_type": "code",
   "execution_count": null,
   "metadata": {},
   "outputs": [],
   "source": [
    "from autogen import ConversableAgent\n",
    "\n",
    "# The code writer agent's system message is to instruct the LLM on how to\n",
    "# use the Jupyter code executor with IPython kernel.\n",
    "code_writer_system_message = \"\"\"\n",
    "You have been given coding capability to solve tasks using Python code.\n",
    "In the following cases, suggest python code (in a python coding block) or shell script (in a sh coding block) for the user to execute.\n",
    "    1. When you need to collect info, use the code to output the info you need, for example, browse or search the web, download/read a file, print the content of a webpage or a file, get the current date/time, check the operating system. After sufficient info is printed and the task is ready to be solved based on your language skill, you can solve the task by yourself.\n",
    "    2. When you need to perform some task with code, use the code to perform the task and output the result. Finish the task smartly.\n",
    "Solve the task step by step if you need to. If a plan is not provided, explain your plan first. Be clear which step uses code, and which step uses your language skill.\n",
    "When using code, you must indicate the script type in the code block. The user cannot provide any other feedback or perform any other action beyond executing the code you suggest. The user can't modify your code. So do not suggest incomplete code which requires users to modify. Don't use a code block if it's not intended to be executed by the user.\n",
    "If you want the user to save the code in a file before executing it, put # filename: <filename> inside the code block as the first line. Don't include multiple code blocks in one response. Do not ask users to copy and paste the result. Instead, use 'print' function for the output when relevant. Check the execution result returned by the user.\n",
    "\"\"\"\n",
    "with PodCommandLineCodeExecutor(namespace=\"default\", kube_config_file=kubeconfig) as executor:\n",
    "    \n",
    "    code_executor_agent = ConversableAgent(\n",
    "        name=\"code_executor_agent\",\n",
    "        llm_config=False,\n",
    "        code_execution_config={\n",
    "            \"executor\": executor,\n",
    "        },\n",
    "        human_input_mode=\"NEVER\",\n",
    "    )\n",
    "\n",
    "    code_writer_agent = ConversableAgent(\n",
    "        \"code_writer\",\n",
    "        system_message=code_writer_system_message,\n",
    "        llm_config={\"config_list\": config_list},\n",
    "        code_execution_config=False,  # Turn off code execution for this agent.\n",
    "        max_consecutive_auto_reply=2,\n",
    "        human_input_mode=\"NEVER\",\n",
    "    )\n",
    "\n",
    "    chat_result = code_executor_agent.initiate_chat(\n",
    "        code_writer_agent, message=\"Write Python code to calculate the 14th Fibonacci number.\"\n",
    "    )"
   ]
  }
 ],
 "metadata": {
  "kernelspec": {
   "display_name": "autogen",
   "language": "python",
   "name": "python3"
  },
  "language_info": {
   "codemirror_mode": {
    "name": "ipython",
    "version": 3
   },
   "file_extension": ".py",
   "mimetype": "text/x-python",
   "name": "python",
   "nbconvert_exporter": "python",
   "pygments_lexer": "ipython3",
   "version": "3.10.12"
  }
 },
 "nbformat": 4,
 "nbformat_minor": 2
}
