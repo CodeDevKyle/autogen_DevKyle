{
 "cells": [
  {
   "cell_type": "code",
   "execution_count": 1,
   "metadata": {},
   "outputs": [],
   "source": [
    "import os\n",
    "os.sys.path.insert(0, \"../../\")\n",
    "\n",
    "import utils\n",
    "from utils import ipython_handle_message\n",
    "        \n",
    "SIMULATED_DB_HISTORY = []\n",
    "\n",
    "config = { \n",
    "    \"utils_dir\": [\"./test_utils_dir\"],\n",
    "    \"work_dir\": \"./test_work_dir\",\n",
    "    \"ra_type\": utils.PLANNER_CODER,\n",
    "    \"history\": SIMULATED_DB_HISTORY,\n",
    "    \"path_to_config_list\": \"../../OAI_CONFIG_LIST\",\n",
    "    }\n",
    "\n",
    "def process(message):\n",
    "    return ipython_handle_message(message, **config)"
   ]
  },
  {
   "cell_type": "code",
   "execution_count": 2,
   "metadata": {},
   "outputs": [
    {
     "name": "stdout",
     "output_type": "stream",
     "text": [
      "{\n",
      "  \"role\": \"assistant\",\n",
      "  \"content\": \"Hello! How can I assist you today?\",\n",
      "  \"code\": null,\n",
      "  \"metadata\": {\n",
      "    \"scripts\": [],\n",
      "    \"images\": [],\n",
      "    \"files\": []\n",
      "  }\n",
      "}\n"
     ]
    }
   ],
   "source": [
    "process(\"Hi\")"
   ]
  },
  {
   "cell_type": "code",
   "execution_count": 3,
   "metadata": {},
   "outputs": [
    {
     "name": "stdout",
     "output_type": "stream",
     "text": [
      "{\n",
      "  \"role\": \"assistant\",\n",
      "  \"content\": \"The result of the operation 2 + 2 is 4.\",\n",
      "  \"code\": null,\n",
      "  \"metadata\": {\n",
      "    \"scripts\": [],\n",
      "    \"images\": [],\n",
      "    \"files\": []\n",
      "  }\n",
      "}\n"
     ]
    }
   ],
   "source": [
    "process(\"What is 2 + 2?\")"
   ]
  },
  {
   "cell_type": "code",
   "execution_count": 4,
   "metadata": {},
   "outputs": [
    {
     "name": "stdout",
     "output_type": "stream",
     "text": [
      "{\n",
      "  \"role\": \"assistant\",\n",
      "  \"content\": \"To save the result to a file named \\\"two.txt\\\", you can follow these steps:\\n\\n1. Open the file in write mode.\\n2. Write the result to the file.\\n3. Close the file.\\n\\nWould you like me to write the code for you?\",\n",
      "  \"code\": null,\n",
      "  \"metadata\": {\n",
      "    \"scripts\": [],\n",
      "    \"images\": [],\n",
      "    \"files\": []\n",
      "  }\n",
      "}\n"
     ]
    }
   ],
   "source": [
    "process(\"Save the result to two.txt\")"
   ]
  },
  {
   "cell_type": "code",
   "execution_count": 5,
   "metadata": {},
   "outputs": [
    {
     "name": "stdout",
     "output_type": "stream",
     "text": [
      "\u001b[31m\n",
      ">>>>>>>> EXECUTING CODE BLOCK 0 (inferred language is python)...\u001b[0m\n",
      "\u001b[31m\n",
      ">>>>>>>> EXECUTING CODE BLOCK 0 (inferred language is python)...\u001b[0m\n",
      "{\n",
      "  \"role\": \"assistant\",\n",
      "  \"content\": \"exitcode: 0 (execution succeeded)\\nCode output: \\n\",\n",
      "  \"code\": \"# Open the file in write mode\\nwith open('two.txt', 'w') as f:\\n    # Write the result to the file\\n    f.write(str(4))\",\n",
      "  \"metadata\": {\n",
      "    \"scripts\": [],\n",
      "    \"images\": [],\n",
      "    \"files\": [\n",
      "      \"./test_work_dir/two.txt\"\n",
      "    ]\n",
      "  }\n",
      "}\n",
      "./test_work_dir/two.txt\n"
     ]
    },
    {
     "data": {
      "text/markdown": [
       "```python\n",
       "4\n",
       "```"
      ],
      "text/plain": [
       "<IPython.core.display.Markdown object>"
      ]
     },
     "metadata": {},
     "output_type": "display_data"
    }
   ],
   "source": [
    "process(\"Yes please proceed!\")"
   ]
  },
  {
   "cell_type": "code",
   "execution_count": 6,
   "metadata": {},
   "outputs": [
    {
     "name": "stdout",
     "output_type": "stream",
     "text": [
      "{\n",
      "  \"role\": \"assistant\",\n",
      "  \"content\": \"To save the equation \\\"2 + 2 = 4\\\" as a PNG image, you can use a library like matplotlib to create an image with text. Here are the steps:\\n\\n1. Import the matplotlib library.\\n2. Create a figure with no axes.\\n3. Add the text \\\"2 + 2 = 4\\\" to the figure.\\n4. Save the figure as a PNG image.\\n\\nWould you like me to write the code for you?\",\n",
      "  \"code\": null,\n",
      "  \"metadata\": {\n",
      "    \"scripts\": [],\n",
      "    \"images\": [],\n",
      "    \"files\": []\n",
      "  }\n",
      "}\n",
      "\u001b[31m\n",
      ">>>>>>>> EXECUTING CODE BLOCK 0 (inferred language is python)...\u001b[0m\n",
      "{\n",
      "  \"role\": \"assistant\",\n",
      "  \"content\": \"exitcode: 0 (execution succeeded)\\nCode output: \\n\",\n",
      "  \"code\": \"import matplotlib.pyplot as plt\\n\\n# Create a new figure with no axes\\nfig = plt.figure(figsize=(3, 3))\\nplt.axis('off')\\n\\n# Add the text \\\"2 + 2 = 4\\\" to the figure\\nplt.text(0.5, 0.5, '2 + 2 = 4', fontsize=20, ha='center')\\n\\n# Save the figure as a PNG image\\nfig.savefig('two.png', dpi=300, bbox_inches='tight', pad_inches=0)\",\n",
      "  \"metadata\": {\n",
      "    \"scripts\": [],\n",
      "    \"images\": [\n",
      "      \"./test_work_dir/two.png\"\n",
      "    ],\n",
      "    \"files\": []\n",
      "  }\n",
      "}\n",
      "./test_work_dir/two.png\n"
     ]
    },
    {
     "data": {
      "image/png": "[encoded data removed]",
      "text/plain": [
       "<IPython.core.display.Image object>"
      ]
     },
     "metadata": {},
     "output_type": "display_data"
    }
   ],
   "source": [
    "process(\"Save the above equation as a png file called two.png\")\n",
    "process(\"Yes please proceed\")"
   ]
  }
 ],
 "metadata": {
  "kernelspec": {
   "display_name": "tinyra-backend",
   "language": "python",
   "name": "python3"
  },
  "language_info": {
   "codemirror_mode": {
    "name": "ipython",
    "version": 3
   },
   "file_extension": ".py",
   "mimetype": "text/x-python",
   "name": "python",
   "nbconvert_exporter": "python",
   "pygments_lexer": "ipython3",
   "version": "3.9.17"
  },
  "orig_nbformat": 4
 },
 "nbformat": 4,
 "nbformat_minor": 2
}
