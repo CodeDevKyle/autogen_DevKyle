{
 "cells": [
  {
   "cell_type": "code",
   "execution_count": 1,
   "metadata": {},
   "outputs": [],
   "source": [
    "import os\n",
    "os.sys.path.insert(0, \"../../\")\n",
    "\n",
    "import utils\n",
    "from utils import ipython_handle_message\n",
    "        \n",
    "SIMULATED_DB_HISTORY = []\n",
    "\n",
    "config = { \n",
    "    \"utils_dir\": [\"./test_utils_dir\"],\n",
    "    \"work_dir\": \"./test_work_dir\",\n",
    "    \"ra_type\": utils.CODER_ONLY,\n",
    "    \"history\": SIMULATED_DB_HISTORY,\n",
    "    \"path_to_config_list\": \"../../OAI_CONFIG_LIST\",\n",
    "    \"silent\": True\n",
    "    }\n",
    "\n",
    "def process(message):\n",
    "    return ipython_handle_message(message, **config)"
   ]
  },
  {
   "cell_type": "code",
   "execution_count": 2,
   "metadata": {},
   "outputs": [
    {
     "name": "stdout",
     "output_type": "stream",
     "text": [
      "{\n",
      "  \"role\": \"assistant\",\n",
      "  \"content\": \"Hello! How can I assist you today?\",\n",
      "  \"code\": null,\n",
      "  \"metadata\": {\n",
      "    \"images\": [],\n",
      "    \"scripts\": [],\n",
      "    \"files\": []\n",
      "  }\n",
      "}\n"
     ]
    }
   ],
   "source": [
    "process(\"Hi\")"
   ]
  },
  {
   "cell_type": "code",
   "execution_count": 3,
   "metadata": {},
   "outputs": [
    {
     "name": "stdout",
     "output_type": "stream",
     "text": [
      "{\n",
      "  \"role\": \"assistant\",\n",
      "  \"content\": \"Sure, I can help with that. Here is a Python code to calculate the sum of 2 and 2.\\n\\n```python\\nprint(2 + 2)\\n```\",\n",
      "  \"code\": null,\n",
      "  \"metadata\": {\n",
      "    \"images\": [],\n",
      "    \"scripts\": [],\n",
      "    \"files\": []\n",
      "  }\n",
      "}\n"
     ]
    }
   ],
   "source": [
    "process(\"What is 2 + 2?\")"
   ]
  },
  {
   "cell_type": "code",
   "execution_count": 4,
   "metadata": {},
   "outputs": [
    {
     "name": "stdout",
     "output_type": "stream",
     "text": [
      "\u001b[31m\n",
      ">>>>>>>> EXECUTING CODE BLOCK 0 (inferred language is python)...\u001b[0m\n",
      "{\n",
      "  \"role\": \"assistant\",\n",
      "  \"content\": \"exitcode: 0 (execution succeeded)\\nCode output: \\n4\\n\",\n",
      "  \"code\": \"print(2 + 2)\",\n",
      "  \"metadata\": {\n",
      "    \"images\": [],\n",
      "    \"scripts\": [],\n",
      "    \"files\": []\n",
      "  }\n",
      "}\n"
     ]
    }
   ],
   "source": [
    "process(\"@execute\")"
   ]
  },
  {
   "cell_type": "code",
   "execution_count": 5,
   "metadata": {},
   "outputs": [
    {
     "name": "stdout",
     "output_type": "stream",
     "text": [
      "{\n",
      "  \"role\": \"assistant\",\n",
      "  \"content\": \"Sure, here is a Python code that will save the output to a file named \\\"two.txt\\\".\\n\\n```python\\n# filename: save_to_file.py\\nwith open('two.txt', 'w') as f:\\n    f.write(str(2 + 2))\\n```\",\n",
      "  \"code\": null,\n",
      "  \"metadata\": {\n",
      "    \"images\": [],\n",
      "    \"scripts\": [],\n",
      "    \"files\": []\n",
      "  }\n",
      "}\n",
      "\u001b[31m\n",
      ">>>>>>>> EXECUTING CODE BLOCK 0 (inferred language is python)...\u001b[0m\n",
      "{\n",
      "  \"role\": \"assistant\",\n",
      "  \"content\": \"exitcode: 0 (execution succeeded)\\nCode output: \\n\",\n",
      "  \"code\": \"# filename: save_to_file.py\\nwith open('two.txt', 'w') as f:\\n    f.write(str(2 + 2))\",\n",
      "  \"metadata\": {\n",
      "    \"images\": [],\n",
      "    \"scripts\": [\n",
      "      \"./test_work_dir/save_to_file.py\"\n",
      "    ],\n",
      "    \"files\": [\n",
      "      \"./test_work_dir/two.txt\"\n",
      "    ]\n",
      "  }\n",
      "}\n",
      "./test_work_dir/save_to_file.py\n"
     ]
    },
    {
     "data": {
      "text/markdown": [
       "```python\n",
       "# filename: save_to_file.py\n",
       "with open('two.txt', 'w') as f:\n",
       "    f.write(str(2 + 2))\n",
       "```"
      ],
      "text/plain": [
       "<IPython.core.display.Markdown object>"
      ]
     },
     "metadata": {},
     "output_type": "display_data"
    },
    {
     "name": "stdout",
     "output_type": "stream",
     "text": [
      "./test_work_dir/two.txt\n"
     ]
    },
    {
     "data": {
      "text/markdown": [
       "```python\n",
       "4\n",
       "```"
      ],
      "text/plain": [
       "<IPython.core.display.Markdown object>"
      ]
     },
     "metadata": {},
     "output_type": "display_data"
    }
   ],
   "source": [
    "process(\"Save the output to a file called two.txt\")\n",
    "process(\"@execute\")"
   ]
  },
  {
   "cell_type": "code",
   "execution_count": 6,
   "metadata": {},
   "outputs": [
    {
     "name": "stdout",
     "output_type": "stream",
     "text": [
      "{\n",
      "  \"role\": \"assistant\",\n",
      "  \"content\": \"To save the equation as a PNG file, we can use the matplotlib library in Python. If you don't have it installed, you can install it using pip. Here is the Python code to create and save the equation as a PNG file.\\n\\n```python\\n# filename: save_equation_as_png.py\\nimport matplotlib.pyplot as plt\\n\\nfig, ax = plt.subplots()\\n\\n# Hide axes\\nax.axis('off')\\n\\n# Display equation\\nax.text(0.5, 0.5, '2 + 2 = 4', size=30, ha='center')\\n\\n# Save figure as PNG\\nfig.savefig('two.png')\\n```\",\n",
      "  \"code\": null,\n",
      "  \"metadata\": {\n",
      "    \"images\": [],\n",
      "    \"scripts\": [],\n",
      "    \"files\": []\n",
      "  }\n",
      "}\n",
      "\u001b[31m\n",
      ">>>>>>>> EXECUTING CODE BLOCK 0 (inferred language is python)...\u001b[0m\n",
      "{\n",
      "  \"role\": \"assistant\",\n",
      "  \"content\": \"exitcode: 0 (execution succeeded)\\nCode output: \\n\",\n",
      "  \"code\": \"# filename: save_equation_as_png.py\\nimport matplotlib.pyplot as plt\\n\\nfig, ax = plt.subplots()\\n\\n# Hide axes\\nax.axis('off')\\n\\n# Display equation\\nax.text(0.5, 0.5, '2 + 2 = 4', size=30, ha='center')\\n\\n# Save figure as PNG\\nfig.savefig('two.png')\",\n",
      "  \"metadata\": {\n",
      "    \"images\": [\n",
      "      \"./test_work_dir/two.png\"\n",
      "    ],\n",
      "    \"scripts\": [\n",
      "      \"./test_work_dir/save_equation_as_png.py\"\n",
      "    ],\n",
      "    \"files\": []\n",
      "  }\n",
      "}\n",
      "./test_work_dir/two.png\n"
     ]
    },
    {
     "data": {
      "image/png": "[encoded data removed]",
      "text/plain": [
       "<IPython.core.display.Image object>"
      ]
     },
     "metadata": {},
     "output_type": "display_data"
    },
    {
     "name": "stdout",
     "output_type": "stream",
     "text": [
      "./test_work_dir/save_equation_as_png.py\n"
     ]
    },
    {
     "data": {
      "text/markdown": [
       "```python\n",
       "# filename: save_equation_as_png.py\n",
       "import matplotlib.pyplot as plt\n",
       "\n",
       "fig, ax = plt.subplots()\n",
       "\n",
       "# Hide axes\n",
       "ax.axis('off')\n",
       "\n",
       "# Display equation\n",
       "ax.text(0.5, 0.5, '2 + 2 = 4', size=30, ha='center')\n",
       "\n",
       "# Save figure as PNG\n",
       "fig.savefig('two.png')\n",
       "```"
      ],
      "text/plain": [
       "<IPython.core.display.Markdown object>"
      ]
     },
     "metadata": {},
     "output_type": "display_data"
    }
   ],
   "source": [
    "process(\"Save the above equation as a png file called two.png\")\n",
    "process(\"@execute\")"
   ]
  },
  {
   "cell_type": "code",
   "execution_count": 7,
   "metadata": {},
   "outputs": [
    {
     "name": "stdout",
     "output_type": "stream",
     "text": [
      "{\n",
      "  \"role\": \"assistant\",\n",
      "  \"content\": \"Sure, here is a Python code that defines a function to print \\\"meow\\\" 5 times.\\n\\n```python\\n# filename: print_meow.py\\ndef print_meow():\\n    \\\"\\\"\\\"\\n    This function prints 'meow' 5 times.\\n    \\\"\\\"\\\"\\n    for _ in range(5):\\n        print(\\\"meow\\\")\\n\\n# Call the function\\nprint_meow()\\n```\",\n",
      "  \"code\": null,\n",
      "  \"metadata\": {\n",
      "    \"images\": [],\n",
      "    \"scripts\": [],\n",
      "    \"files\": []\n",
      "  }\n",
      "}\n"
     ]
    }
   ],
   "source": [
    "process(\"Create a new function that prints meow 5 times\")"
   ]
  },
  {
   "cell_type": "code",
   "execution_count": 8,
   "metadata": {},
   "outputs": [
    {
     "name": "stdout",
     "output_type": "stream",
     "text": [
      "\u001b[31m\n",
      ">>>>>>>> EXECUTING CODE BLOCK 0 (inferred language is python)...\u001b[0m\n",
      "{\n",
      "  \"role\": \"assistant\",\n",
      "  \"content\": \"exitcode: 0 (execution succeeded)\\nCode output: \\nmeow\\nmeow\\nmeow\\nmeow\\nmeow\\n\",\n",
      "  \"code\": \"# filename: print_meow.py\\ndef print_meow():\\n    \\\"\\\"\\\"\\n    This function prints 'meow' 5 times.\\n    \\\"\\\"\\\"\\n    for _ in range(5):\\n        print(\\\"meow\\\")\\n\\n# Call the function\\nprint_meow()\",\n",
      "  \"metadata\": {\n",
      "    \"images\": [],\n",
      "    \"scripts\": [\n",
      "      \"./test_work_dir/print_meow.py\"\n",
      "    ],\n",
      "    \"files\": []\n",
      "  }\n",
      "}\n",
      "./test_work_dir/print_meow.py\n"
     ]
    },
    {
     "data": {
      "text/markdown": [
       "```python\n",
       "# filename: print_meow.py\n",
       "def print_meow():\n",
       "    \"\"\"\n",
       "    This function prints 'meow' 5 times.\n",
       "    \"\"\"\n",
       "    for _ in range(5):\n",
       "        print(\"meow\")\n",
       "\n",
       "# Call the function\n",
       "print_meow()\n",
       "```"
      ],
      "text/plain": [
       "<IPython.core.display.Markdown object>"
      ]
     },
     "metadata": {},
     "output_type": "display_data"
    }
   ],
   "source": [
    "process(\"@execute\")"
   ]
  },
  {
   "cell_type": "code",
   "execution_count": 9,
   "metadata": {},
   "outputs": [
    {
     "name": "stdout",
     "output_type": "stream",
     "text": [
      "Last assistant message {'role': 'assistant', 'content': 'exitcode: 0 (execution succeeded)\\nCode output: \\nmeow\\nmeow\\nmeow\\nmeow\\nmeow\\n', 'code': '# filename: print_meow.py\\ndef print_meow():\\n    \"\"\"\\n    This function prints \\'meow\\' 5 times.\\n    \"\"\"\\n    for _ in range(5):\\n        print(\"meow\")\\n\\n# Call the function\\nprint_meow()', 'metadata': '{\"images\": [], \"scripts\": [\"./test_work_dir/print_meow.py\"], \"files\": [], \"code\": \"# filename: print_meow.py\\\\ndef print_meow():\\\\n    \\\\\"\\\\\"\\\\\"\\\\n    This function prints \\'meow\\' 5 times.\\\\n    \\\\\"\\\\\"\\\\\"\\\\n    for _ in range(5):\\\\n        print(\\\\\"meow\\\\\")\\\\n\\\\n# Call the function\\\\nprint_meow()\"}'}\n",
      "Last code # filename: print_meow.py\n",
      "def print_meow():\n",
      "    \"\"\"\n",
      "    This function prints 'meow' 5 times.\n",
      "    \"\"\"\n",
      "    for _ in range(5):\n",
      "        print(\"meow\")\n",
      "\n",
      "# Call the function\n",
      "print_meow()\n",
      "Messages [{'role': 'user', 'content': '\\n        Extract and return a python function from the following text.\\n        All import statements should be inside the function definitions.\\n        The function should have a doc string using triple quotes.\\n        Return the function as plain text without any code blocks.\\n        The function should not use hardcode values.\\n        Instead make them arguments.\\n        The function should be reusuable for future tasks\\n\\n        # filename: print_meow.py\\ndef print_meow():\\n    \"\"\"\\n    This function prints \\'meow\\' 5 times.\\n    \"\"\"\\n    for _ in range(5):\\n        print(\"meow\")\\n\\n# Call the function\\nprint_meow()\\n        '}]\n",
      "{\n",
      "  \"role\": \"assistant\",\n",
      "  \"content\": \"```\\nLearned a new skill called `print_meow`\\n```\",\n",
      "  \"code\": null,\n",
      "  \"metadata\": {\n",
      "    \"skill\": {\n",
      "      \"source_file\": \"./test_utils_dir/learned_skills.py\",\n",
      "      \"name\": \"print_meow\",\n",
      "      \"args\": [\n",
      "        \"times\"\n",
      "      ],\n",
      "      \"docstring\": \"This function prints 'meow' a specified number of times.\\n\\nArgs:\\ntimes (int): The number of times 'meow' should be printed.\",\n",
      "      \"code\": \"def print_meow(times):\\n    \\\"\\\"\\\"\\n    This function prints 'meow' a specified number of times.\\n    \\n    Args:\\n    times (int): The number of times 'meow' should be printed.\\n    \\\"\\\"\\\"\\n    for _ in range(times):\\n        print(\\\"meow\\\")\",\n",
      "      \"timestamp_created\": \"2023-09-01T11:47:58.969781\",\n",
      "      \"timestamp_modified\": \"2023-09-01T11:47:58.969797\"\n",
      "    },\n",
      "    \"images\": [],\n",
      "    \"scripts\": [],\n",
      "    \"files\": []\n",
      "  }\n",
      "}\n"
     ]
    }
   ],
   "source": [
    "process(\"@memorize\")"
   ]
  },
  {
   "cell_type": "code",
   "execution_count": null,
   "metadata": {},
   "outputs": [],
   "source": []
  }
 ],
 "metadata": {
  "kernelspec": {
   "display_name": "tinyra-backend",
   "language": "python",
   "name": "python3"
  },
  "language_info": {
   "codemirror_mode": {
    "name": "ipython",
    "version": 3
   },
   "file_extension": ".py",
   "mimetype": "text/x-python",
   "name": "python",
   "nbconvert_exporter": "python",
   "pygments_lexer": "ipython3",
   "version": "3.9.17"
  },
  "orig_nbformat": 4
 },
 "nbformat": 4,
 "nbformat_minor": 2
}
