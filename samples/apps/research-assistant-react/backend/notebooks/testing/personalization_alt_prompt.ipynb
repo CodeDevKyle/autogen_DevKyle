{
 "cells": [
  {
   "cell_type": "markdown",
   "metadata": {},
   "source": [
    "<img src=\"personalization.png\" alt=\"Personalization Agents\" width=\"600\"/>"
   ]
  },
  {
   "cell_type": "markdown",
   "metadata": {},
   "source": [
    "# Load the User Biography"
   ]
  },
  {
   "cell_type": "code",
   "execution_count": 1,
   "metadata": {},
   "outputs": [],
   "source": [
    "#import requests\n",
    "#\n",
    "## Replace with your user id\n",
    "#user_id = \"adamfo@microsoft.com\"\n",
    "#url = \"http://localhost:8000/api/profile?user_id=\" + user_id\n",
    "\n",
    "#response = requests.get(url)\n",
    "#user_profile = response.json()[\"data\"][\"profile\"]\n",
    "\n",
    "user_profile = \"\"\"\n",
    "Adam Fourney is a researcher at Microsoft Research, Redmond. Adam did his PhD at the University of Waterloo, studying problems at the intersection of HCI and information retrieval. His dissertation studied how people use web search to support their broader information work, such as using complex software, or programming. Since joining Microsoft, Adam has adapted his research to study similar questions, but about the use of large generative language models like GPT.\n",
    "\n",
    "In research, and at home, Adam is a builder: he builds and tests prototypes, is proficient in Python, C, SQL, web development, Linux, and other tools of the trade. \n",
    "\n",
    "When Adam creates visualizations or writes visualization code, he prefers visualization charts with no borders , no gridlines and a legible  bolded title in each chart. \n",
    "\n",
    "His prototypes are not limited to software and extend to physical prototyping with Arduinos, Raspberry Pis, etc. He often applies these skills to his other hobbies including photography, and outdoor activities such as biking, hiking and camping. As an example, building rigs for timelapse, stereo, and arial kite photography.\n",
    "\n",
    "When interacting with Adam, know that he prefers direct concise communication. In writing, this translates to using an active voice, and limiting run-on sentences. Important points should be called out visually such as via bullet points of other emphasis. In programming, this means that code should be well-documented, with appropriate in-line comments. Code should be written for readability, avoiding clever syntax tricks, deeply nested list comprehensions, etc. Since Adam frequently switches between machines and operating systems,  Adam values portability, preferring built-in libraries over complex external dependencies.\n",
    "\"\"\""
   ]
  },
  {
   "cell_type": "markdown",
   "metadata": {},
   "source": [
    "# Define the Agents"
   ]
  },
  {
   "cell_type": "code",
   "execution_count": 2,
   "metadata": {},
   "outputs": [],
   "source": [
    "import autogen\n",
    "\n",
    "llm_config={\n",
    "    \"request_timeout\": 600,\n",
    "    \"seed\": 44,  # change the seed for different trials\n",
    "    \"config_list\": autogen.config_list_from_json(\"../../OAI_CONFIG_LIST\"),\n",
    "    \"temperature\": 0.1,\n",
    "}"
   ]
  },
  {
   "cell_type": "code",
   "execution_count": 3,
   "metadata": {},
   "outputs": [],
   "source": [
    "# Personalization critic\n",
    "reviewer_sys_message = f\"\"\"\n",
    "You are expert in the interests and preferences of a USER with the follow biography:\n",
    "\n",
    "<biography>\n",
    "{user_profile}\n",
    "</biography>\n",
    "\n",
    "Upon recieving a message, evaluate how well the message adheres to USER's INTERESTS AND PREFERENCES\n",
    "IN THE BIOGRAPHY ABOVE.\n",
    "\n",
    "TO DO THIS,\n",
    "FIRST OUTLINE ASPECTS OF THE BIO THAT ARE RELEVANT TO THE ASSISTANT'S OUTPUT AND\n",
    "THEN PROVIDE SPECIFIC FEEDBACK (based on the bio) ON HOW THE ASSISTANT'S OUTPUT CAN BE IMPROVED.\n",
    "\n",
    "When no feedback is necessary respond with the word \"TERMINATE\".\n",
    "\"\"\""
   ]
  },
  {
   "cell_type": "code",
   "execution_count": 4,
   "metadata": {},
   "outputs": [],
   "source": [
    "from autogen import AssistantAgent\n",
    "\n",
    "########## Generic Agent\n",
    "generic_sys_message = \"\"\"\n",
    "You are a helpful assistant that will respond to any message.\n",
    "\"\"\"\n",
    "\n",
    "# create a UserProxyAgent instance named \"user\"\n",
    "agent_generic = AssistantAgent(\n",
    "    \"generic-GPT\",\n",
    "    llm_config=llm_config,\n",
    "    system_message=generic_sys_message,\n",
    "    is_termination_msg= lambda x: True if \"TERMINATE\" in x.get(\"content\") else False,\n",
    ")\n",
    "\n",
    "# create a UserProxyAgent instance named \"user\"\n",
    "agent_personalization = AssistantAgent(\n",
    "    \"personlization_critic\",\n",
    "    llm_config=llm_config,\n",
    "    system_message=reviewer_sys_message,\n",
    "    max_consecutive_auto_reply=20,\n",
    "    is_termination_msg= lambda x: True if \"TERMINATE\" in x.get(\"content\") else False,\n",
    ")"
   ]
  },
  {
   "cell_type": "markdown",
   "metadata": {},
   "source": [
    "# Get them to solve a task together"
   ]
  },
  {
   "cell_type": "code",
   "execution_count": 5,
   "metadata": {},
   "outputs": [
    {
     "name": "stdout",
     "output_type": "stream",
     "text": [
      "\u001b[33mpersonlization_critic\u001b[0m (to generic-GPT):\n",
      "\n",
      "What 3D printer should Adam buy?\n",
      "\n",
      "--------------------------------------------------------------------------------\n",
      "\u001b[33mgeneric-GPT\u001b[0m (to personlization_critic):\n",
      "\n",
      "To recommend a 3D printer for Adam, I would need to know more about his specific needs and budget. However, here are a few highly-rated options:\n",
      "\n",
      "1. Creality Ender 3 V2: This is a great budget option that doesn't compromise on quality. It's easy to assemble and use, making it perfect for beginners.\n",
      "\n",
      "2. Prusa i3 MK3: This is a high-quality printer that's well-loved in the 3D printing community. It's a bit more expensive, but it offers excellent print quality and a lot of features.\n",
      "\n",
      "3. Dremel Digilab 3D20: This is a good option for those who prioritize safety and reliability. It's fully enclosed, which helps with noise and heat management.\n",
      "\n",
      "4. Ultimaker S3: This is a professional-grade 3D printer with dual extrusion, a touchscreen interface, and a robust software. It's on the pricier side, but it's worth it for those who need high-quality prints.\n",
      "\n",
      "5. Anycubic Photon Mono: This is a resin 3D printer, which is different from the filament-based printers above. It's a good choice for those who need extremely detailed prints, like miniatures or jewelry.\n",
      "\n",
      "Remember, the best 3D printer for Adam will depend on his specific needs, budget, and level of experience with 3D printing.\n",
      "\n",
      "--------------------------------------------------------------------------------\n",
      "\u001b[33mpersonlization_critic\u001b[0m (to generic-GPT):\n",
      "\n",
      "Relevant aspects from the biography:\n",
      "1. Adam is a builder and enjoys prototyping, both in software and physical forms.\n",
      "2. He is proficient in using tools like Arduinos and Raspberry Pis.\n",
      "3. He values direct and concise communication.\n",
      "\n",
      "Feedback on the assistant's output:\n",
      "The assistant's response is informative and provides a good range of options for 3D printers. However, it could be improved by being more concise and directly addressing Adam's needs. For example, the assistant could have highlighted printers that are particularly good for prototyping or that are compatible with tools like Arduinos and Raspberry Pis. The assistant could also have used bullet points to make the information easier to digest.\n",
      "\n",
      "--------------------------------------------------------------------------------\n",
      "\u001b[33mgeneric-GPT\u001b[0m (to personlization_critic):\n",
      "\n",
      "Thank you for the feedback. Based on Adam's profile, here are three 3D printers that would suit his needs:\n",
      "\n",
      "1. **Creality Ender 3 V2**: Affordable, great for prototyping, and compatible with Raspberry Pi for remote control.\n",
      "\n",
      "2. **Prusa i3 MK3**: High-quality prints, perfect for detailed prototyping. It also has an open-source design, which could be beneficial for a builder like Adam.\n",
      "\n",
      "3. **Ultimaker S3**: Professional-grade with dual extrusion, ideal for complex prototypes. It's compatible with a wide range of materials and can be controlled via network with Cura software.\n",
      "\n",
      "Remember, the best choice depends on Adam's specific requirements and budget.\n",
      "\n",
      "--------------------------------------------------------------------------------\n",
      "\u001b[33mpersonlization_critic\u001b[0m (to generic-GPT):\n",
      "\n",
      "Relevant aspects from the biography:\n",
      "1. Adam is a builder and enjoys prototyping, both in software and physical forms.\n",
      "2. He is proficient in using tools like Arduinos and Raspberry Pis.\n",
      "3. He values direct and concise communication.\n",
      "\n",
      "Feedback on the assistant's output:\n",
      "The assistant's response is now more concise and directly addresses Adam's needs. The use of bullet points makes the information easier to digest, adhering to Adam's preference for visually called out points. The assistant also highlights features of the 3D printers that are relevant to Adam's interests, such as compatibility with Raspberry Pi and suitability for prototyping. This response is well-aligned with Adam's preferences and interests. No further feedback is necessary. \n",
      "\n",
      "TERMINATE\n",
      "\n",
      "--------------------------------------------------------------------------------\n"
     ]
    }
   ],
   "source": [
    "agent_generic.reset()\n",
    "agent_personalization.reset()\n",
    "\n",
    "agent_personalization.initiate_chat(\n",
    "    agent_generic,\n",
    "    message=\"\"\"What 3D printer should Adam buy?\"\"\"\n",
    ")"
   ]
  },
  {
   "cell_type": "markdown",
   "metadata": {},
   "source": [
    "# Get them to solve another related task together"
   ]
  },
  {
   "cell_type": "code",
   "execution_count": 6,
   "metadata": {},
   "outputs": [
    {
     "name": "stdout",
     "output_type": "stream",
     "text": [
      "\u001b[33mpersonlization_critic\u001b[0m (to generic-GPT):\n",
      "\n",
      "Ok, Adam bought a Prusa i3 MK3S. What should he print?\n",
      "\n",
      "--------------------------------------------------------------------------------\n",
      "\u001b[33mgeneric-GPT\u001b[0m (to personlization_critic):\n",
      "\n",
      "That's great! Adam can print a variety of things with his Prusa i3 MK3S. Here are a few suggestions:\n",
      "\n",
      "1. Household Items: He can print things like coasters, door stops, hooks, or even a toothpaste squeezer. \n",
      "\n",
      "2. Tools: He can print a variety of tools such as a wrench, screwdriver, or even a hammer.\n",
      "\n",
      "3. Toys: If he has kids or nephews, he can print toys like action figures, puzzles, or board game pieces.\n",
      "\n",
      "4. Personalized Items: He can print personalized items like phone cases, keychains, or even jewelry.\n",
      "\n",
      "5. Educational Models: He can print educational models like a DNA helix, solar system, or human anatomy models.\n",
      "\n",
      "6. Spare Parts: He can print spare parts for things that are broken in his house, like a knob for a dresser or a bracket for a shelf.\n",
      "\n",
      "7. Art: He can print sculptures, busts, or other pieces of art.\n",
      "\n",
      "8. Tech Gadgets: He can print things like a Raspberry Pi case, a drone body, or even a stand for his headphones.\n",
      "\n",
      "Remember, the possibilities are endless with 3D printing. He just needs to make sure the item he wants to print is within the build volume of the Prusa i3 MK3S, which is 25 x 21 x 21 cm.\n",
      "\n",
      "--------------------------------------------------------------------------------\n",
      "\u001b[33mpersonlization_critic\u001b[0m (to generic-GPT):\n",
      "\n",
      "Relevant aspects from the biography:\n",
      "1. Adam is a builder and enjoys prototyping, both in software and physical forms.\n",
      "2. He is proficient in using tools like Arduinos and Raspberry Pis.\n",
      "3. He has hobbies like photography and outdoor activities, and he often applies his building skills to these hobbies.\n",
      "\n",
      "Feedback:\n",
      "The assistant's output is generally in line with Adam's interests and preferences. It suggests a variety of things that Adam can print, which aligns with his interest in building and prototyping. However, the suggestions could be more tailored to Adam's specific interests. For example, the assistant could suggest that Adam print parts for a Raspberry Pi project, given his proficiency with such tools. Similarly, the assistant could suggest that Adam print equipment for his photography hobby, such as a tripod or a camera lens cap. The assistant could also suggest that Adam print outdoor equipment for his camping trips, such as a portable stove or a tent peg.\n",
      "\n",
      "--------------------------------------------------------------------------------\n",
      "\u001b[33mgeneric-GPT\u001b[0m (to personlization_critic):\n",
      "\n",
      "Thank you for the feedback. Given Adam's interests and skills, here are some more tailored suggestions for what he could print with his Prusa i3 MK3S:\n",
      "\n",
      "1. Prototyping Tools: Adam can print custom enclosures for his Arduino or Raspberry Pi projects. He can also print custom mounts or stands for his electronic components.\n",
      "\n",
      "2. Photography Equipment: He can print a tripod mount for his camera, lens caps, or even a panoramic head for capturing wide-angle shots.\n",
      "\n",
      "3. Outdoor Equipment: If he enjoys camping or hiking, he can print a portable stove, tent pegs, or even a custom multi-tool.\n",
      "\n",
      "4. Custom Parts: Given his building skills, he can design and print custom parts for any projects he's working on, whether they're related to his hobbies or his work.\n",
      "\n",
      "5. Drone Parts: If he's interested in drones, he can print parts like the body, propellers, or even a camera mount for aerial photography.\n",
      "\n",
      "Remember, the possibilities are endless with 3D printing. He just needs to make sure the item he wants to print is within the build volume of the Prusa i3 MK3S, which is 25 x 21 x 21 cm.\n",
      "\n",
      "--------------------------------------------------------------------------------\n",
      "\u001b[33mpersonlization_critic\u001b[0m (to generic-GPT):\n",
      "\n",
      "Relevant aspects from the biography:\n",
      "1. Adam is a builder and enjoys prototyping, both in software and physical forms.\n",
      "2. He is proficient in using tools like Arduinos and Raspberry Pis.\n",
      "3. He has hobbies like photography and outdoor activities, and he often applies his building skills to these hobbies.\n",
      "\n",
      "Feedback:\n",
      "The assistant's revised output is much more aligned with Adam's interests and preferences. The suggestions are now tailored to his specific hobbies and skills, such as prototyping tools for his Arduino or Raspberry Pi projects, photography equipment, outdoor equipment for camping or hiking, and drone parts for aerial photography. The assistant also maintains a concise and direct communication style, which Adam prefers. No further improvements are necessary. TERMINATE.\n",
      "\n",
      "--------------------------------------------------------------------------------\n"
     ]
    }
   ],
   "source": [
    "agent_generic.reset()\n",
    "agent_personalization.reset()\n",
    "\n",
    "agent_personalization.initiate_chat(\n",
    "    agent_generic,\n",
    "    message=\"\"\"Ok, Adam bought a Prusa i3 MK3S. What should he print?\"\"\"\n",
    ")"
   ]
  },
  {
   "cell_type": "code",
   "execution_count": null,
   "metadata": {},
   "outputs": [],
   "source": []
  }
 ],
 "metadata": {
  "kernelspec": {
   "display_name": "Python 3 (ipykernel)",
   "language": "python",
   "name": "python3"
  },
  "language_info": {
   "codemirror_mode": {
    "name": "ipython",
    "version": 3
   },
   "file_extension": ".py",
   "mimetype": "text/x-python",
   "name": "python",
   "nbconvert_exporter": "python",
   "pygments_lexer": "ipython3",
   "version": "3.9.17"
  }
 },
 "nbformat": 4,
 "nbformat_minor": 4
}
