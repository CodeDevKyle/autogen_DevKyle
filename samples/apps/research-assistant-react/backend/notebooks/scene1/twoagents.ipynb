{
 "cells": [
  {
   "cell_type": "code",
   "execution_count": 10,
   "metadata": {},
   "outputs": [],
   "source": [
    "import os\n",
    "os.sys.path.insert(0, \"../../\")\n",
    "\n",
    "import utils\n",
    "from utils import ipython_handle_message\n",
    "        \n",
    "SIMULATED_DB_HISTORY = []\n",
    "\n",
    "config = { \n",
    "    \"utils_dir\": [\"./utils_dir\"],\n",
    "    \"work_dir\": \"./work_dir\",\n",
    "    \"ra_type\": utils.CODER_ONLY,\n",
    "    \"history\": SIMULATED_DB_HISTORY,\n",
    "    \"path_to_config_list\": \"../../OAI_CONFIG_LIST\",\n",
    "    \"silent\": True,\n",
    "    }\n",
    "\n",
    "def process(message):\n",
    "    return ipython_handle_message(message, **config)"
   ]
  },
  {
   "cell_type": "code",
   "execution_count": 11,
   "metadata": {},
   "outputs": [
    {
     "name": "stdout",
     "output_type": "stream",
     "text": [
      "{\n",
      "  \"role\": \"assistant\",\n",
      "  \"content\": \"Hello! How can I assist you today?\",\n",
      "  \"code\": null,\n",
      "  \"metadata\": {\n",
      "    \"scripts\": [],\n",
      "    \"images\": [],\n",
      "    \"files\": []\n",
      "  }\n",
      "}\n"
     ]
    }
   ],
   "source": [
    "process(\"Hi\")"
   ]
  },
  {
   "cell_type": "code",
   "execution_count": 12,
   "metadata": {},
   "outputs": [
    {
     "name": "stdout",
     "output_type": "stream",
     "text": [
      "{\n",
      "  \"role\": \"assistant\",\n",
      "  \"content\": \"Sure, I can help with that. I will use the `find_papers_pmc` function from the `med.py` file to search for papers on \\\"generative AI in medicine\\\". Here is the Python code to do this:\\n\\n```python\\n# filename: find_papers.py\\n\\nimport med\\n\\nmed.find_papers_pmc(\\\"generative AI in medicine\\\")\\n```\\n\\nPlease save this code in a file named `find_papers.py` and run it.\",\n",
      "  \"code\": null,\n",
      "  \"metadata\": {\n",
      "    \"scripts\": [],\n",
      "    \"images\": [],\n",
      "    \"files\": []\n",
      "  }\n",
      "}\n"
     ]
    }
   ],
   "source": [
    "process(\"Find papers on generative AI in medicine\")"
   ]
  },
  {
   "cell_type": "code",
   "execution_count": 13,
   "metadata": {},
   "outputs": [
    {
     "name": "stdout",
     "output_type": "stream",
     "text": [
      "\u001b[31m\n",
      ">>>>>>>> EXECUTING CODE BLOCK 0 (inferred language is python)...\u001b[0m\n",
      "{\n",
      "  \"role\": \"assistant\",\n",
      "  \"content\": \"exitcode: 0 (execution succeeded)\\nCode output: \\n1. Use of Generative Artificial Intelligence, Including Large Language Models Such as ChatGPT, in Scientific Publications: Policies of <i>KJR</i> and Prominent Authorities.\\nURL: https://europepmc.org/article/MED/37500572\\nPublication Date: 2023-08-01\\nAbstract: No abstract available\\n\\n2. Editorial: Generative artificial intelligence and the ecology of human development.\\nURL: https://europepmc.org/article/MED/37528517\\nPublication Date: 2023-09-01\\nAbstract: Commercial applications of artificial intelligence (AI) in the form of Large Language Models (LLMs) and Generative AI have taken centre stage in the media sphere, business, public policy, and education. The ramifications for the field of child psychology and psychiatry are being debated and veer between LLMs as potential models for development and applications of generative AI becoming environmental factors for human development. This Editorial briefly discusses developmental research on generative AI and the potential impact of generative AI on the hybrid social world in which young people grow up. We end by considering that the rapid developments justify increasing attention in our field.\\n\\n3. The Utility of Language Models in Cardiology: A Narrative Review of the Benefits and Concerns of ChatGPT-4.\\nURL: https://europepmc.org/article/MED/37568980\\nPublication Date: 2023-07-25\\nAbstract: Artificial intelligence (AI) and language models such as ChatGPT-4 (Generative Pretrained Transformer) have made tremendous advances recently and are rapidly transforming the landscape of medicine. Cardiology is among many of the specialties that utilize AI with the intention of improving patient care. Generative AI, with the use of its advanced machine learning algorithms, has the potential to diagnose heart disease and recommend management options suitable for the patient. This may lead to improved patient outcomes not only by recommending the best treatment plan but also by increasing physician efficiency. Language models could assist physicians with administrative tasks, allowing them to spend more time on patient care. However, there are several concerns with the use of AI and language models in the field of medicine. These technologies may not be the most up-to-date with the latest research and could provide outdated information, which may lead to an adverse event. Secondly, AI tools can be expensive, leading to increased healthcare costs and reduced accessibility to the general population. There is also concern about the loss of the human touch and empathy as AI becomes more mainstream. Healthcare professionals would need to be adequately trained to utilize these tools. While AI and language models have many beneficial traits, all healthcare providers need to be involved and aware of generative AI so as to assure its optimal use and mitigate any potential risks and challenges associated with its implementation. In this review, we discuss the various uses of language models in the field of cardiology.\\n\\n4. Generative AI as a Tool for Environmental Health Research Translation.\\nURL: https://europepmc.org/article/MED/37502196\\nPublication Date: 2023-07-26\\nAbstract: One valuable application for generative artificial intelligence (AI) is summarizing research studies for non-academic readers. We submitted five articles to Chat Generative Pre-trained Transformer (ChatGPT) for summarization, and asked the article's author to rate the summaries. Higher ratings were assigned to more insight-oriented activities, such as the production of eighth-grade reading level summaries, and summaries highlighting the most important findings and real-world applications. The general summary request was rated lower. For the field of environmental health science, no-cost AI technology such as ChatGPT holds the promise to improve research translation, but it must continue to be improved (or improve itself) from its current capability.\\n\\n5. The Role of Quality Metrics in the Evolution of AI in Healthcare and Implications for Generative AI.\\nURL: https://europepmc.org/article/MED/37561139\\nPublication Date: 2023-08-10\\nAbstract: No abstract available\\n\\n6. The ChatGPT (Generative Artificial Intelligence) Revolution Has Made Artificial Intelligence Approachable for Medical Professionals.\\nURL: https://europepmc.org/article/MED/37347508\\nPublication Date: 2023-06-22\\nAbstract: In November 2022, OpenAI publicly launched its large language model (LLM), ChatGPT, and reached the milestone of having over 100 million users in only 2 months. LLMs have been shown to be useful in a myriad of health care-related tasks and processes. In this paper, I argue that attention to, public access to, and debate about LLMs have initiated a wave of products and services using generative artificial intelligence (AI), which had previously found it hard to attract physicians. This paper describes what AI tools have become available since the beginning of the ChatGPT revolution and contemplates how it they might change physicians' perceptions about this breakthrough technology.\\n\\n7. Can AI Mitigate Bias in Writing Letters of Recommendation?\\nURL: https://europepmc.org/article/MED/37610808\\nPublication Date: 2023-08-23\\nAbstract: Letters of recommendation play a significant role in higher education and career progression, particularly for women and underrepresented groups in medicine and science. Already, there is evidence to suggest that written letters of recommendation contain language that expresses implicit biases, or unconscious biases, and that these biases occur for all recommenders regardless of the recommender's sex. Given that all individuals have implicit biases that may influence language use, there may be opportunities to apply contemporary technologies, such as large language models or other forms of generative artificial intelligence (AI), to augment and potentially reduce implicit biases in the written language of letters of recommendation. In this editorial, we provide a brief overview of existing literature on the manifestations of implicit bias in letters of recommendation, with a focus on academia and medical education. We then highlight potential opportunities and drawbacks of applying this emerging technology in augmenting the focused, professional task of writing letters of recommendation. We also offer best practices for integrating their use into the routine writing of letters of recommendation and conclude with our outlook for the future of generative AI applications in supporting this task.\\n\\n8. Exploring the Clinical Translation of Generative Models Like ChatGPT: Promise and Pitfalls in Radiology, From Patients to Population Health.\\nURL: https://europepmc.org/article/MED/37467871\\nPublication Date: 2023-07-17\\nAbstract: Generative artificial intelligence (AI) tools such as GPT-4, and the chatbot interface ChatGPT, show promise for a variety of applications in radiology and health care. However, like other AI tools, ChatGPT has limitations and potential pitfalls that must be considered before adopting it for teaching, clinical practice, and beyond. We summarize five major emerging use cases for ChatGPT and generative AI in radiology across the levels of increasing data complexity, along with pitfalls associated with each. As the use of AI in health care continues to grow, it is crucial for radiologists (and all physicians) to stay informed and ensure the safe translation of these new technologies.\\n\\n9. Response to M. Trengove & coll regarding \\\"Attention is not all you need: the complicated case of ethically using large language models in healthcare and medicine\\\".\\nURL: https://europepmc.org/article/MED/37331162\\nPublication Date: 2023-06-16\\nAbstract: No abstract available\\n\\n10. Artificial Intelligence: The Next Blockbuster Drug in Critical Care?\\nURL: https://europepmc.org/article/MED/PMC10429614\\nPublication Date: 2023-08-21\\nAbstract: No abstract available\\n\\n\",\n",
      "  \"code\": \"# filename: find_papers.py\\n\\nimport med\\n\\nmed.find_papers_pmc(\\\"generative AI in medicine\\\")\",\n",
      "  \"metadata\": {\n",
      "    \"scripts\": [\n",
      "      \"./work_dir/find_papers.py\"\n",
      "    ],\n",
      "    \"images\": [],\n",
      "    \"files\": []\n",
      "  }\n",
      "}\n",
      "./work_dir/find_papers.py\n"
     ]
    },
    {
     "data": {
      "text/markdown": [
       "```python\n",
       "# filename: find_papers.py\n",
       "\n",
       "import med\n",
       "\n",
       "med.find_papers_pmc(\"generative AI in medicine\")\n",
       "```"
      ],
      "text/plain": [
       "<IPython.core.display.Markdown object>"
      ]
     },
     "metadata": {},
     "output_type": "display_data"
    }
   ],
   "source": [
    "process(\"@execute\")"
   ]
  },
  {
   "cell_type": "code",
   "execution_count": 14,
   "metadata": {},
   "outputs": [
    {
     "name": "stdout",
     "output_type": "stream",
     "text": [
      "{\n",
      "  \"role\": \"assistant\",\n",
      "  \"content\": \"Sure, I can help with that. Here is the Python code to categorize the papers into a markdown table with two columns. The first column will be the application category, and the second will be the citation with the URL as a hyperlink.\\n\\n```python\\n# filename: categorize_papers.py\\n\\nimport med\\n\\npapers = med.find_papers_pmc(\\\"generative AI in medicine\\\")\\n\\ncategories = {\\n    \\\"Policy and Editorial\\\": [],\\n    \\\"Cardiology\\\": [],\\n    \\\"Environmental Health\\\": [],\\n    \\\"Quality Metrics\\\": [],\\n    \\\"Bias Mitigation\\\": [],\\n    \\\"Radiology\\\": [],\\n    \\\"Critical Care\\\": [],\\n}\\n\\nfor paper in papers:\\n    title = paper['title']\\n    url = f\\\"https://europepmc.org/article/MED/{paper['id']}\\\"\\n    citation = f\\\"[{title}]({url})\\\"\\n    \\n    if \\\"policy\\\" in title.lower() or \\\"editorial\\\" in title.lower():\\n        categories[\\\"Policy and Editorial\\\"].append(citation)\\n    elif \\\"cardiology\\\" in title.lower():\\n        categories[\\\"Cardiology\\\"].append(citation)\\n    elif \\\"environmental health\\\" in title.lower():\\n        categories[\\\"Environmental Health\\\"].append(citation)\\n    elif \\\"quality metrics\\\" in title.lower():\\n        categories[\\\"Quality Metrics\\\"].append(citation)\\n    elif \\\"bias\\\" in title.lower():\\n        categories[\\\"Bias Mitigation\\\"].append(citation)\\n    elif \\\"radiology\\\" in title.lower():\\n        categories[\\\"Radiology\\\"].append(citation)\\n    elif \\\"critical care\\\" in title.lower():\\n        categories[\\\"Critical Care\\\"].append(citation)\\n\\nprint(\\\"| Application Category | Citation |\\\")\\nprint(\\\"| --- | --- |\\\")\\nfor category, citations in categories.items():\\n    for citation in citations:\\n        print(f\\\"| {category} | {citation} |\\\")\\n```\\n\\nPlease save this code in a file named `categorize_papers.py` and run it.\",\n",
      "  \"code\": null,\n",
      "  \"metadata\": {\n",
      "    \"scripts\": [],\n",
      "    \"images\": [],\n",
      "    \"files\": []\n",
      "  }\n",
      "}\n"
     ]
    }
   ],
   "source": [
    "process(\"\"\"Use these results to categorize the paper into a markdown table with \n",
    "two columns. The first column should be application category and the second \n",
    "should be citation with url as hyperlink\"\"\")"
   ]
  },
  {
   "cell_type": "code",
   "execution_count": 15,
   "metadata": {},
   "outputs": [
    {
     "name": "stdout",
     "output_type": "stream",
     "text": [
      "{\n",
      "  \"role\": \"assistant\",\n",
      "  \"content\": \"Sure, I can create a markdown table based on the results. Here it is:\\n\\n| Application Category | Citation |\\n| --- | --- |\\n| Policy and Editorial | [Use of Generative Artificial Intelligence, Including Large Language Models Such as ChatGPT, in Scientific Publications: Policies of <i>KJR</i> and Prominent Authorities](https://europepmc.org/article/MED/37500572) |\\n| Policy and Editorial | [Editorial: Generative artificial intelligence and the ecology of human development](https://europepmc.org/article/MED/37528517) |\\n| Cardiology | [The Utility of Language Models in Cardiology: A Narrative Review of the Benefits and Concerns of ChatGPT-4](https://europepmc.org/article/MED/37568980) |\\n| Environmental Health | [Generative AI as a Tool for Environmental Health Research Translation](https://europepmc.org/article/MED/37502196) |\\n| Quality Metrics | [The Role of Quality Metrics in the Evolution of AI in Healthcare and Implications for Generative AI](https://europepmc.org/article/MED/37561139) |\\n| Policy and Editorial | [The ChatGPT (Generative Artificial Intelligence) Revolution Has Made Artificial Intelligence Approachable for Medical Professionals](https://europepmc.org/article/MED/37347508) |\\n| Bias Mitigation | [Can AI Mitigate Bias in Writing Letters of Recommendation?](https://europepmc.org/article/MED/37610808) |\\n| Radiology | [Exploring the Clinical Translation of Generative Models Like ChatGPT: Promise and Pitfalls in Radiology, From Patients to Population Health](https://europepmc.org/article/MED/37467871) |\\n| Policy and Editorial | [Response to M. Trengove & coll regarding \\\"Attention is not all you need: the complicated case of ethically using large language models in healthcare and medicine\\\"](https://europepmc.org/article/MED/37331162) |\\n| Critical Care | [Artificial Intelligence: The Next Blockbuster Drug in Critical Care?](https://europepmc.org/article/MED/PMC10429614) |\\n\\nPlease note that the categorization is based on the title of the papers and may not perfectly reflect the content of the papers.\",\n",
      "  \"code\": null,\n",
      "  \"metadata\": {\n",
      "    \"scripts\": [],\n",
      "    \"images\": [],\n",
      "    \"files\": []\n",
      "  }\n",
      "}\n"
     ]
    }
   ],
   "source": [
    "process(\"Use your language ability to create the table I asked for.\")"
   ]
  },
  {
   "cell_type": "code",
   "execution_count": 16,
   "metadata": {},
   "outputs": [
    {
     "name": "stdout",
     "output_type": "stream",
     "text": [
      "{\n",
      "  \"role\": \"assistant\",\n",
      "  \"content\": \"Sure, here is the markdown table with the categories and the number of papers in each category:\\n\\n| Category | Number of Papers |\\n| --- | --- |\\n| Policy and Editorial | 3 |\\n| Cardiology | 1 |\\n| Environmental Health | 1 |\\n| Quality Metrics | 1 |\\n| Bias Mitigation | 1 |\\n| Radiology | 1 |\\n| Critical Care | 1 |\\n\\nPlease note that the numbers are based on the categorization of the papers from the previous table.\",\n",
      "  \"code\": null,\n",
      "  \"metadata\": {\n",
      "    \"scripts\": [],\n",
      "    \"images\": [],\n",
      "    \"files\": []\n",
      "  }\n",
      "}\n"
     ]
    }
   ],
   "source": [
    "process(\"\"\"Now create a new markdown table where the first column is category \n",
    "and the second is the number of papers in that category.\"\"\")"
   ]
  },
  {
   "cell_type": "code",
   "execution_count": 17,
   "metadata": {},
   "outputs": [
    {
     "name": "stdout",
     "output_type": "stream",
     "text": [
      "{\n",
      "  \"role\": \"assistant\",\n",
      "  \"content\": \"Sure, I can help with that. Here is the Python code to create a bar chart based on the table and save it as `genmedicine.png`. This code uses the matplotlib library to create the chart. \\n\\n```python\\n# filename: create_chart.py\\n\\nimport matplotlib.pyplot as plt\\n\\ncategories = [\\\"Policy and Editorial\\\", \\\"Cardiology\\\", \\\"Environmental Health\\\", \\\"Quality Metrics\\\", \\\"Bias Mitigation\\\", \\\"Radiology\\\", \\\"Critical Care\\\"]\\nnum_papers = [3, 1, 1, 1, 1, 1, 1]\\n\\nplt.figure(figsize=(10, 6))\\nplt.barh(categories, num_papers, color='skyblue')\\nplt.xlabel('Number of Papers')\\nplt.title('Number of Papers by Category')\\nplt.grid(axis='x')\\n\\n# Remove top and right borders\\nplt.gca().spines['top'].set_visible(False)\\nplt.gca().spines['right'].set_visible(False)\\n\\nplt.tight_layout()\\nplt.savefig('genmedicine.png')\\n```\\n\\nPlease save this code in a file named `create_chart.py` and run it. This will create a bar chart and save it as `genmedicine.png`. The chart is designed to be aesthetically pleasing and to maximize the data-ink ratio, following the principles of Edward Tufte.\",\n",
      "  \"code\": null,\n",
      "  \"metadata\": {\n",
      "    \"scripts\": [],\n",
      "    \"images\": [],\n",
      "    \"files\": []\n",
      "  }\n",
      "}\n"
     ]
    }
   ],
   "source": [
    "process(\"\"\"Now using this table, create a bar chart and save it to the disk as\n",
    "genmedicine.png. The graph should be aesthetically pleasing and use principles\n",
    "from Edward Tufte to maximize data-ink ratio.\"\"\")"
   ]
  },
  {
   "cell_type": "code",
   "execution_count": 18,
   "metadata": {},
   "outputs": [
    {
     "name": "stdout",
     "output_type": "stream",
     "text": [
      "\u001b[31m\n",
      ">>>>>>>> EXECUTING CODE BLOCK 0 (inferred language is python)...\u001b[0m\n",
      "{\n",
      "  \"role\": \"assistant\",\n",
      "  \"content\": \"exitcode: 0 (execution succeeded)\\nCode output: \\n\",\n",
      "  \"code\": \"# filename: create_chart.py\\n\\nimport matplotlib.pyplot as plt\\n\\ncategories = [\\\"Policy and Editorial\\\", \\\"Cardiology\\\", \\\"Environmental Health\\\", \\\"Quality Metrics\\\", \\\"Bias Mitigation\\\", \\\"Radiology\\\", \\\"Critical Care\\\"]\\nnum_papers = [3, 1, 1, 1, 1, 1, 1]\\n\\nplt.figure(figsize=(10, 6))\\nplt.barh(categories, num_papers, color='skyblue')\\nplt.xlabel('Number of Papers')\\nplt.title('Number of Papers by Category')\\nplt.grid(axis='x')\\n\\n# Remove top and right borders\\nplt.gca().spines['top'].set_visible(False)\\nplt.gca().spines['right'].set_visible(False)\\n\\nplt.tight_layout()\\nplt.savefig('genmedicine.png')\",\n",
      "  \"metadata\": {\n",
      "    \"scripts\": [\n",
      "      \"./work_dir/create_chart.py\"\n",
      "    ],\n",
      "    \"images\": [\n",
      "      \"./work_dir/genmedicine.png\"\n",
      "    ],\n",
      "    \"files\": []\n",
      "  }\n",
      "}\n",
      "./work_dir/genmedicine.png\n"
     ]
    },
    {
     "data": {
      "image/png": "[encoded data removed]",
      "text/plain": [
       "<IPython.core.display.Image object>"
      ]
     },
     "metadata": {},
     "output_type": "display_data"
    },
    {
     "name": "stdout",
     "output_type": "stream",
     "text": [
      "./work_dir/create_chart.py\n"
     ]
    },
    {
     "data": {
      "text/markdown": [
       "```python\n",
       "# filename: create_chart.py\n",
       "\n",
       "import matplotlib.pyplot as plt\n",
       "\n",
       "categories = [\"Policy and Editorial\", \"Cardiology\", \"Environmental Health\", \"Quality Metrics\", \"Bias Mitigation\", \"Radiology\", \"Critical Care\"]\n",
       "num_papers = [3, 1, 1, 1, 1, 1, 1]\n",
       "\n",
       "plt.figure(figsize=(10, 6))\n",
       "plt.barh(categories, num_papers, color='skyblue')\n",
       "plt.xlabel('Number of Papers')\n",
       "plt.title('Number of Papers by Category')\n",
       "plt.grid(axis='x')\n",
       "\n",
       "# Remove top and right borders\n",
       "plt.gca().spines['top'].set_visible(False)\n",
       "plt.gca().spines['right'].set_visible(False)\n",
       "\n",
       "plt.tight_layout()\n",
       "plt.savefig('genmedicine.png')\n",
       "```"
      ],
      "text/plain": [
       "<IPython.core.display.Markdown object>"
      ]
     },
     "metadata": {},
     "output_type": "display_data"
    }
   ],
   "source": [
    "process(\"@execute\")"
   ]
  }
 ],
 "metadata": {
  "kernelspec": {
   "display_name": "tinyra-backend",
   "language": "python",
   "name": "python3"
  },
  "language_info": {
   "codemirror_mode": {
    "name": "ipython",
    "version": 3
   },
   "file_extension": ".py",
   "mimetype": "text/x-python",
   "name": "python",
   "nbconvert_exporter": "python",
   "pygments_lexer": "ipython3",
   "version": "3.9.17"
  },
  "orig_nbformat": 4
 },
 "nbformat": 4,
 "nbformat_minor": 2
}
