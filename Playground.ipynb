{
 "cells": [
  {
   "cell_type": "code",
   "execution_count": 10,
   "metadata": {},
   "outputs": [],
   "source": [
    "import inspect\n",
    "from typing import (\n",
    "    Any,\n",
    "    Callable,\n",
    "    Coroutine,\n",
    "    Dict,\n",
    "    ForwardRef,\n",
    "    List,\n",
    "    Mapping,\n",
    "    Optional,\n",
    "    Sequence,\n",
    "    Tuple,\n",
    "    Type,\n",
    "    Union,\n",
    "    cast,\n",
    ")\n",
    "from typing_extensions import Annotated, get_args, get_origin\n",
    "\n",
    "if True:\n",
    "    from pydantic._internal._typing_extra import eval_type_lenient as evaluate_forwardref\n",
    "else:\n",
    "    from pydantic.typing import evaluate_forwardref as evaluate_forwardref\n",
    "\n",
    "\n",
    "def get_typed_annotation(annotation: Any, globalns: Dict[str, Any]) -> Any:\n",
    "    if isinstance(annotation, str):\n",
    "        annotation = ForwardRef(annotation)\n",
    "        annotation = evaluate_forwardref(annotation, globalns, globalns)\n",
    "    return annotation\n",
    "\n",
    "def get_typed_signature(call: Callable[..., Any]) -> inspect.Signature:\n",
    "    signature = inspect.signature(call)\n",
    "    globalns = getattr(call, \"__globals__\", {})\n",
    "    typed_params = [\n",
    "        inspect.Parameter(\n",
    "            name=param.name,\n",
    "            kind=param.kind,\n",
    "            default=param.default,\n",
    "            annotation=get_typed_annotation(param.annotation, globalns),\n",
    "        )\n",
    "        for param in signature.parameters.values()\n",
    "    ]\n",
    "    typed_signature = inspect.Signature(typed_params)\n",
    "    return typed_signature\n",
    "\n",
    "def get_typed_return_annotation(call: Callable[..., Any]) -> Any:\n",
    "    signature = inspect.signature(call)\n",
    "    annotation = signature.return_annotation\n",
    "\n",
    "    if annotation is inspect.Signature.empty:\n",
    "        return None\n",
    "\n",
    "    globalns = getattr(call, \"__globals__\", {})\n",
    "    return get_typed_annotation(annotation, globalns)\n"
   ]
  },
  {
   "cell_type": "code",
   "execution_count": 51,
   "metadata": {},
   "outputs": [],
   "source": [
    "def f(a: Annotated[str, \"param a\"], b: int, c: \"float\", d=2):\n",
    "    pass"
   ]
  },
  {
   "cell_type": "code",
   "execution_count": 52,
   "metadata": {},
   "outputs": [
    {
     "data": {
      "text/plain": [
       "mappingproxy({'a': <Parameter \"a: typing_extensions.Annotated[str, 'param a']\">,\n",
       "              'b': <Parameter \"b: int\">,\n",
       "              'c': <Parameter \"c: 'float'\">,\n",
       "              'd': <Parameter \"d=2\">})"
      ]
     },
     "execution_count": 52,
     "metadata": {},
     "output_type": "execute_result"
    }
   ],
   "source": [
    "inspect.signature(f).parameters"
   ]
  },
  {
   "cell_type": "code",
   "execution_count": 53,
   "metadata": {},
   "outputs": [
    {
     "data": {
      "text/plain": [
       "['d']"
      ]
     },
     "execution_count": 53,
     "metadata": {},
     "output_type": "execute_result"
    }
   ],
   "source": [
    "[k for k, v in get_typed_signature(f).parameters.items() if v.annotation is inspect.Signature.empty]"
   ]
  },
  {
   "cell_type": "code",
   "execution_count": 59,
   "metadata": {},
   "outputs": [
    {
     "name": "stdout",
     "output_type": "stream",
     "text": [
      "typed_signature=<Signature (a: typing_extensions.Annotated[str, 'param a'], b: int, c: float, d=2)>\n",
      "param_annotations={'a': typing_extensions.Annotated[str, 'param a'], 'b': <class 'int'>, 'c': <class 'float'>, 'd': <class 'inspect._empty'>}\n",
      "return_annotation=None\n",
      "missing_annotations=['d']\n"
     ]
    }
   ],
   "source": [
    "typed_signature = get_typed_signature(f)\n",
    "param_annotations = {k: v.annotation for k, v in typed_signature.parameters.items()}\n",
    "return_annotation = get_typed_return_annotation(f)\n",
    "missing_annotations = [k for k, v in param_annotations.items() if v is inspect.Signature.empty]\n",
    "print(f\"{typed_signature=}\")\n",
    "print(f\"{param_annotations=}\")\n",
    "print(f\"{return_annotation=}\")\n",
    "print(f\"{missing_annotations=}\")\n"
   ]
  },
  {
   "cell_type": "code",
   "execution_count": 65,
   "metadata": {},
   "outputs": [
    {
     "data": {
      "text/plain": [
       "['a', 'b', 'c']"
      ]
     },
     "execution_count": 65,
     "metadata": {},
     "output_type": "execute_result"
    }
   ],
   "source": [
    "def get_required_params(typed_signature: inspect.Signature) -> List[str]:\n",
    "    \"\"\"Get the required parameters of a function\n",
    "\n",
    "    Args:\n",
    "        signature: The signature of the function as returned by inspect.signature\n",
    "\n",
    "    Returns:\n",
    "        A list of the required parameters of the function\n",
    "    \"\"\"\n",
    "    return [k for k, v in typed_signature.parameters.items() if v.default == inspect.Signature.empty]\n",
    "\n",
    "\n",
    "required = get_required_params(typed_signature)\n",
    "required"
   ]
  },
  {
   "cell_type": "code",
   "execution_count": 66,
   "metadata": {},
   "outputs": [
    {
     "data": {
      "text/plain": [
       "{'properties': {'a': \"get_parameter_json_schema(a, typing_extensions.Annotated[str, 'param a'])\",\n",
       "  'b': \"get_parameter_json_schema(b, <class 'int'>)\",\n",
       "  'c': \"get_parameter_json_schema(c, <class 'float'>)\",\n",
       "  'd': \"get_parameter_json_schema(d, <class 'inspect._empty'>)\"},\n",
       " 'required': ['a', 'b', 'c']}"
      ]
     },
     "execution_count": 66,
     "metadata": {},
     "output_type": "execute_result"
    }
   ],
   "source": [
    "def get_parameters(required: List[str], param_annotations: Dict[str, Union[Annotated[Type, str], Type]]) -> \"Parameters\":\n",
    "    \"\"\"Get the parameters of a function as defined by the OpenAI API\n",
    "\n",
    "    Args:\n",
    "        required: The required parameters of the function\n",
    "        hints: The type hints of the function as returned by typing.get_type_hints\n",
    "\n",
    "    Returns:\n",
    "        A Pydantic model for the parameters of the function\n",
    "    \"\"\"\n",
    "    return dict(\n",
    "        properties={k: f\"get_parameter_json_schema({k}, {v})\" for k, v in param_annotations.items() if k != \"return\"}, required=required\n",
    "    )\n",
    "\n",
    "get_parameters(required, param_annotations)"
   ]
  },
  {
   "cell_type": "code",
   "execution_count": null,
   "metadata": {},
   "outputs": [],
   "source": []
  },
  {
   "cell_type": "code",
   "execution_count": 55,
   "metadata": {},
   "outputs": [
    {
     "ename": "AttributeError",
     "evalue": "type object 'str' has no attribute 'default'",
     "output_type": "error",
     "traceback": [
      "\u001b[0;31m---------------------------------------------------------------------------\u001b[0m",
      "\u001b[0;31mAttributeError\u001b[0m                            Traceback (most recent call last)",
      "Cell \u001b[0;32mIn[55], line 1\u001b[0m\n\u001b[0;32m----> 1\u001b[0m [k \u001b[38;5;28;01mfor\u001b[39;00m k, v \u001b[38;5;129;01min\u001b[39;00m param_annotations\u001b[38;5;241m.\u001b[39mitems() \u001b[38;5;28;01mif\u001b[39;00m v\u001b[38;5;241m.\u001b[39mdefault \u001b[38;5;241m==\u001b[39m inspect\u001b[38;5;241m.\u001b[39mSignature\u001b[38;5;241m.\u001b[39mempty]\n",
      "Cell \u001b[0;32mIn[55], line 1\u001b[0m, in \u001b[0;36m<listcomp>\u001b[0;34m(.0)\u001b[0m\n\u001b[0;32m----> 1\u001b[0m [k \u001b[38;5;28;01mfor\u001b[39;00m k, v \u001b[38;5;129;01min\u001b[39;00m param_annotations\u001b[38;5;241m.\u001b[39mitems() \u001b[38;5;28;01mif\u001b[39;00m \u001b[43mv\u001b[49m\u001b[38;5;241;43m.\u001b[39;49m\u001b[43mdefault\u001b[49m \u001b[38;5;241m==\u001b[39m inspect\u001b[38;5;241m.\u001b[39mSignature\u001b[38;5;241m.\u001b[39mempty]\n",
      "File \u001b[0;32m/usr/lib/python3.8/typing.py:759\u001b[0m, in \u001b[0;36m_GenericAlias.__getattr__\u001b[0;34m(self, attr)\u001b[0m\n\u001b[1;32m    755\u001b[0m \u001b[38;5;28;01mdef\u001b[39;00m \u001b[38;5;21m__getattr__\u001b[39m(\u001b[38;5;28mself\u001b[39m, attr):\n\u001b[1;32m    756\u001b[0m     \u001b[38;5;66;03m# We are careful for copy and pickle.\u001b[39;00m\n\u001b[1;32m    757\u001b[0m     \u001b[38;5;66;03m# Also for simplicity we just don't relay all dunder names\u001b[39;00m\n\u001b[1;32m    758\u001b[0m     \u001b[38;5;28;01mif\u001b[39;00m \u001b[38;5;124m'\u001b[39m\u001b[38;5;124m__origin__\u001b[39m\u001b[38;5;124m'\u001b[39m \u001b[38;5;129;01min\u001b[39;00m \u001b[38;5;28mself\u001b[39m\u001b[38;5;241m.\u001b[39m\u001b[38;5;18m__dict__\u001b[39m \u001b[38;5;129;01mand\u001b[39;00m \u001b[38;5;129;01mnot\u001b[39;00m _is_dunder(attr):\n\u001b[0;32m--> 759\u001b[0m         \u001b[38;5;28;01mreturn\u001b[39;00m \u001b[38;5;28;43mgetattr\u001b[39;49m\u001b[43m(\u001b[49m\u001b[38;5;28;43mself\u001b[39;49m\u001b[38;5;241;43m.\u001b[39;49m\u001b[43m__origin__\u001b[49m\u001b[43m,\u001b[49m\u001b[43m \u001b[49m\u001b[43mattr\u001b[49m\u001b[43m)\u001b[49m\n\u001b[1;32m    760\u001b[0m     \u001b[38;5;28;01mraise\u001b[39;00m \u001b[38;5;167;01mAttributeError\u001b[39;00m(attr)\n",
      "\u001b[0;31mAttributeError\u001b[0m: type object 'str' has no attribute 'default'"
     ]
    }
   ],
   "source": [
    "[k for k, v in param_annotations.items() if v.default == inspect.Signature.empty]"
   ]
  },
  {
   "cell_type": "code",
   "execution_count": 40,
   "metadata": {},
   "outputs": [
    {
     "data": {
      "text/plain": [
       "[\"'d'\"]"
      ]
     },
     "execution_count": 40,
     "metadata": {},
     "output_type": "execute_result"
    }
   ],
   "source": [
    "missing = [f\"'{k}'\" for k, v in param_annotations.items() if v is inspect.Signature.empty]\n",
    "missing"
   ]
  },
  {
   "cell_type": "code",
   "execution_count": null,
   "metadata": {},
   "outputs": [],
   "source": []
  },
  {
   "cell_type": "code",
   "execution_count": null,
   "metadata": {},
   "outputs": [],
   "source": []
  },
  {
   "cell_type": "code",
   "execution_count": null,
   "metadata": {},
   "outputs": [],
   "source": []
  },
  {
   "cell_type": "code",
   "execution_count": 27,
   "metadata": {},
   "outputs": [
    {
     "data": {
      "text/plain": [
       "{'a': typing_extensions.Annotated[str, 'param a'],\n",
       " 'b': int,\n",
       " 'c': float,\n",
       " 'd': inspect._empty}"
      ]
     },
     "execution_count": 27,
     "metadata": {},
     "output_type": "execute_result"
    }
   ],
   "source": [
    "{k: v.annotation for k, v in get_typed_signature(f).parameters.items()}"
   ]
  },
  {
   "cell_type": "code",
   "execution_count": 23,
   "metadata": {},
   "outputs": [],
   "source": []
  },
  {
   "cell_type": "code",
   "execution_count": 24,
   "metadata": {},
   "outputs": [
    {
     "data": {
      "text/plain": [
       "{'a': \"get_parameter_json_schema(a, a: typing_extensions.Annotated[str, 'param a'])\",\n",
       " 'b': 'get_parameter_json_schema(b, b: int)',\n",
       " 'c': 'get_parameter_json_schema(c, c: float)'}"
      ]
     },
     "execution_count": 24,
     "metadata": {},
     "output_type": "execute_result"
    }
   ],
   "source": [
    "{k: f\"get_parameter_json_schema({k}, {v})\" for k, v in get_typed_signature(f).parameters.items()}"
   ]
  },
  {
   "cell_type": "code",
   "execution_count": 68,
   "metadata": {},
   "outputs": [
    {
     "data": {
      "text/plain": [
       "(int, float)"
      ]
     },
     "execution_count": 68,
     "metadata": {},
     "output_type": "execute_result"
    }
   ],
   "source": [
    "get_args(Union[int, float])"
   ]
  },
  {
   "cell_type": "code",
   "execution_count": null,
   "metadata": {},
   "outputs": [],
   "source": []
  }
 ],
 "metadata": {
  "kernelspec": {
   "display_name": ".venv-3.8",
   "language": "python",
   "name": "python3"
  },
  "language_info": {
   "codemirror_mode": {
    "name": "ipython",
    "version": 3
   },
   "file_extension": ".py",
   "mimetype": "text/x-python",
   "name": "python",
   "nbconvert_exporter": "python",
   "pygments_lexer": "ipython3",
   "version": "3.8.18"
  }
 },
 "nbformat": 4,
 "nbformat_minor": 2
}
