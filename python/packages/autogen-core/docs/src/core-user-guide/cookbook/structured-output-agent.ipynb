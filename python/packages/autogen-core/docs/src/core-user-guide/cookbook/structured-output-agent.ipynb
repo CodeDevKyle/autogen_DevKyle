{
 "cells": [
  {
   "cell_type": "markdown",
   "metadata": {},
   "source": [
    "# Strcutured output using beta client\n",
    "\n",
    "This cookbook shows how to use beta client to get the structured output. This beta client provided a parse helper to provide your own Pydantic model instead of having to define the JSON schema and is recommended approach for supported models. Currently this supported only for gpt-4o-mini , gpt-4o-2024-08-06 models"
   ]
  },
  {
   "cell_type": "markdown",
   "metadata": {},
   "source": [
    "Let's define a simple message type that carries explanation and output"
   ]
  },
  {
   "cell_type": "code",
   "execution_count": 1,
   "metadata": {},
   "outputs": [],
   "source": [
    "from pydantic import BaseModel\n",
    "\n",
    "class MathReasoning(BaseModel):\n",
    "    class Step(BaseModel):\n",
    "        explanation: str\n",
    "        output: str\n",
    "\n",
    "    steps: list[Step]\n",
    "    final_answer: str"
   ]
  },
  {
   "cell_type": "markdown",
   "metadata": {},
   "source": [
    "Create client and specify you want to use the beta client by specifying `use_beta_client=True`"
   ]
  },
  {
   "cell_type": "code",
   "execution_count": 2,
   "metadata": {},
   "outputs": [],
   "source": [
    "import os\n",
    "# Set the environment variable\n",
    "os.environ['AZURE_OPENAI_ENDPOINT'] = \"https://YOUR_ENDPOINT_DETAILS.openai.azure.com/\"\n",
    "os.environ['AZURE_OPENAI_API_KEY'] = \"YOUR_API_KEY\"\n",
    "os.environ['AZURE_OPENAI_DEPLOYMENT_NAME'] = \"gpt-4o-2024-08-06\"\n",
    "os.environ['AZURE_OPENAI_API_VERSION'] = \"2024-08-01-preview\""
   ]
  },
  {
   "cell_type": "code",
   "execution_count": 3,
   "metadata": {},
   "outputs": [],
   "source": [
    "import os\n",
    "from autogen_core.components.models import AzureOpenAIChatCompletionClient, UserMessage\n",
    "import json\n",
    "client = AzureOpenAIChatCompletionClient(\n",
    "    model=os.getenv(\"AZURE_OPENAI_DEPLOYMENT_NAME\"),\n",
    "    api_version=os.getenv(\"AZURE_OPENAI_API_VERSION\"),\n",
    "    azure_endpoint=os.getenv(\"AZURE_OPENAI_ENDPOINT\"),\n",
    "    api_key=os.getenv(\"AZURE_OPENAI_API_KEY\"),\n",
    "    use_beta_client=True,\n",
    "    model_capabilities={\n",
    "        \"vision\": False,\n",
    "        \"function_calling\": True,\n",
    "        \"json_output\": True,\n",
    "    },\n",
    ")"
   ]
  },
  {
   "cell_type": "code",
   "execution_count": 6,
   "metadata": {},
   "outputs": [
    {
     "name": "stdout",
     "output_type": "stream",
     "text": [
      "{'steps': [{'explanation': 'We start with adding the numbers 16 and 32.', 'output': '16 + 32'}, {'explanation': 'Add the ones place: 6 + 2 = 8.', 'output': '8 (ones place)'}, {'explanation': 'Add the tens place: 1 + 3 = 4.', 'output': '4 (tens place)'}, {'explanation': 'Combine the results from ones and tens places: 48.', 'output': '48'}], 'final_answer': '48'}\n"
     ]
    },
    {
     "data": {
      "text/plain": [
       "MathReasoning(steps=[Step(explanation='We start with adding the numbers 16 and 32.', output='16 + 32'), Step(explanation='Add the ones place: 6 + 2 = 8.', output='8 (ones place)'), Step(explanation='Add the tens place: 1 + 3 = 4.', output='4 (tens place)'), Step(explanation='Combine the results from ones and tens places: 48.', output='48')], final_answer='48')"
      ]
     },
     "execution_count": 6,
     "metadata": {},
     "output_type": "execute_result"
    }
   ],
   "source": [
    "messages = [\n",
    "    UserMessage(content=\"What is the 16+32 ?\", source=\"user\"),\n",
    "]\n",
    "# Call the create method and pass the messages and extra_create_args as arguments \n",
    "\n",
    "response = await client.create(messages=messages, extra_create_args={\"response_format\": MathReasoning})\n",
    "\n",
    "# Print the response\n",
    "print(json.loads(response.content))\n",
    "\n",
    "# Validate the response with the model\n",
    "MathReasoning.model_validate(json.loads(response.content))"
   ]
  }
 ],
 "metadata": {
  "kernelspec": {
   "display_name": "pr-3_11",
   "language": "python",
   "name": "python3"
  },
  "language_info": {
   "codemirror_mode": {
    "name": "ipython",
    "version": 3
   },
   "file_extension": ".py",
   "mimetype": "text/x-python",
   "name": "python",
   "nbconvert_exporter": "python",
   "pygments_lexer": "ipython3",
   "version": "3.11.9"
  }
 },
 "nbformat": 4,
 "nbformat_minor": 2
}
