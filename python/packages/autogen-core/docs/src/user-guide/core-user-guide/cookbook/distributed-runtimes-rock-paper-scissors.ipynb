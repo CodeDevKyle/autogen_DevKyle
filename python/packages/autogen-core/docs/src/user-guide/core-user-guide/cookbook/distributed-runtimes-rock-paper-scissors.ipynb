{
 "cells": [
  {
   "cell_type": "code",
   "execution_count": 1,
   "metadata": {},
   "outputs": [],
   "source": [
    "import asyncio\n",
    "import random\n",
    "from collections import defaultdict\n",
    "from dataclasses import dataclass\n",
    "from typing import Dict, List\n",
    "\n",
    "from autogen_core.application import WorkerAgentRuntime, WorkerAgentRuntimeHost\n",
    "from autogen_core.base import MessageContext\n",
    "from autogen_core.base._serialization import try_get_known_serializers_for_type\n",
    "from autogen_core.components import (\n",
    "    DefaultTopicId,\n",
    "    RoutedAgent,\n",
    "    default_subscription,\n",
    "    message_handler,\n",
    ")\n",
    "from autogen_core.components._default_topic import DefaultTopicId\n",
    "\n",
    "\n",
    "@dataclass\n",
    "class GameAction:\n",
    "    player_name: str\n",
    "    action: str # Could be \"rock\", \"paper\" or \"scissors\"\n",
    "\n",
    "@dataclass\n",
    "class NewRound:\n",
    "    \"\"\"Moderator sends this message to ask players to play at the same time\"\"\"\n",
    "    round_id: int\n",
    "\n",
    "\n",
    "@default_subscription\n",
    "class GameModerator(RoutedAgent):\n",
    "    def __init__(self, name: str, num_players: int, max_rounds: int =3 ) -> None:\n",
    "        super().__init__(\"A Rock, Paper, Scissors game moderator\")\n",
    "        self.name:str = name\n",
    "        self._num_players:int = num_players\n",
    "        self._this_round_actions: List[GameAction] = []\n",
    "        self._num_played_rounds:int = 0\n",
    "        self._max_rounds:int = max_rounds\n",
    "        self._leaderboard: Dict[str, int] = defaultdict()\n",
    "\n",
    "    @message_handler\n",
    "    async def on_new_message(self, message: GameAction, ctx: MessageContext) -> None:\n",
    "        self._this_round_actions.append(message)\n",
    "        if len(self._this_round_actions) == self._num_players: # Time to see which agent has won?\n",
    "            winner = self.get_winner()\n",
    "            print(f\"Winner: {winner}\\n\",\"-\" * 50)\n",
    "            self._this_round_actions = []\n",
    "            self._num_played_rounds += 1\n",
    "\n",
    "            if self._num_played_rounds < self._max_rounds:\n",
    "                print(f\"Starting round {self._num_played_rounds + 1}\")\n",
    "                await asyncio.sleep(2)\n",
    "                await self.publish_message(NewRound(self._num_played_rounds), DefaultTopicId())\n",
    "            else:\n",
    "                print(\"=\"*50 + \"\\nFinal Results\\n\" + \"=\" * 50)\n",
    "                self._print_leaderboard(self._leaderboard)\n",
    "\n",
    "    def _wins(self, action1: str, action2: str) -> int:\n",
    "        \"\"\"Compares two actions to decide the winner\"\"\"\n",
    "        win_conditions = {\n",
    "            \"rock\": \"scissors\",\n",
    "            \"scissors\": \"paper\",\n",
    "            \"paper\": \"rock\"\n",
    "        }\n",
    "\n",
    "        if action1 == action2:\n",
    "            return 0  # Draw\n",
    "        elif win_conditions[action1] == action2:\n",
    "            return 1  # action1 wins\n",
    "        else:\n",
    "            return -1  # action2 wins\n",
    "\n",
    "    def get_winner(self) -> str:\n",
    "        \"\"\"This function checks the winner of this round and updates the scoreboard\"\"\"\n",
    "        # Assume the first player is the current winner\n",
    "        current_winner = self._this_round_actions[0]\n",
    "        draw = False\n",
    "\n",
    "        # Iterate through other players and compare their actions\n",
    "        for i in range(1, len(self._this_round_actions)):\n",
    "            res = self._wins(current_winner.action, self._this_round_actions[i].action)\n",
    "\n",
    "            if res == 0:  # If it's a draw, mark it\n",
    "                draw = True\n",
    "            elif res == -1:  # If the current player loses, update the winner\n",
    "                current_winner = self._this_round_actions[i]\n",
    "                draw = False  # Reset the draw status since we have a new potential winner\n",
    "\n",
    "        # Return draw if applicable or the name of the winning player\n",
    "        if draw:\n",
    "            res= \"draw\"\n",
    "        else:\n",
    "            res= current_winner.player_name\n",
    "            self._update_scoreboard(res)\n",
    "        return res\n",
    "\n",
    "    def _update_scoreboard(self, winner:str) -> None:\n",
    "        if winner in self._leaderboard:\n",
    "            self._leaderboard[winner] += 1\n",
    "        else:\n",
    "            self._leaderboard[winner] = 1\n",
    "\n",
    "    def _print_leaderboard(self, win_counts: Dict[str, int]) -> None:\n",
    "        # Sort the dictionary by win count in descending order\n",
    "        sorted_leaderboard = sorted(win_counts.items(), key=lambda item: item[1], reverse=True)\n",
    "\n",
    "        print(\"Leaderboard:\")\n",
    "        for rank, (player, wins) in enumerate(sorted_leaderboard, start=1):\n",
    "            print(f\"{rank}. {player}: {wins} wins\")\n",
    "\n",
    "@default_subscription\n",
    "class RockAgent(RoutedAgent):\n",
    "    \"\"\"This agent always plays rock ... strange strategy ...\"\"\"\n",
    "    def __init__(self, name: str) -> None:\n",
    "        super().__init__(\"A Player that always plays rock\")\n",
    "        self.name = name\n",
    "\n",
    "    @message_handler\n",
    "    async def on_new_message(self, message: NewRound, ctx: MessageContext) -> None:\n",
    "        action = \"rock\"\n",
    "        print(f\"{self.name}@round {message.round_id}: Playing {action}\")\n",
    "        return await self.publish_message(GameAction(self.name, action), DefaultTopicId())\n",
    "\n",
    "\n",
    "@default_subscription\n",
    "class RandomAgent(RoutedAgent):\n",
    "    \"\"\"This agent takes a random action\"\"\"\n",
    "    def __init__(self, name: str) -> None:\n",
    "        super().__init__(\"A Player that always plays rock\")\n",
    "        self.name = name\n",
    "\n",
    "    @message_handler\n",
    "    async def on_new_message(self, message: NewRound, ctx: MessageContext) -> None:\n",
    "        random_action = random.choice([\"rock\",\"paper\",\"scissors\"])\n",
    "        print(f\"{self.name}@round {message.round_id}: Playing {random_action}\")\n",
    "        return await self.publish_message(GameAction(self.name, random_action), DefaultTopicId())\n",
    "\n",
    "\n",
    "serializers = [try_get_known_serializers_for_type(GameAction), try_get_known_serializers_for_type(NewRound)]"
   ]
  },
  {
   "cell_type": "code",
   "execution_count": 2,
   "metadata": {},
   "outputs": [
    {
     "name": "stdout",
     "output_type": "stream",
     "text": [
      "Distributed Host is now running and listening for connection at localhost:50060\n"
     ]
    }
   ],
   "source": [
    "host_address = \"localhost:50060\"\n",
    "host = WorkerAgentRuntimeHost(address=host_address)\n",
    "host.start()\n",
    "print(f\"Distributed Host is now running and listening for connection at {host_address}\")"
   ]
  },
  {
   "cell_type": "code",
   "execution_count": 3,
   "metadata": {},
   "outputs": [
    {
     "name": "stdout",
     "output_type": "stream",
     "text": [
      "Player 1 joined host\n"
     ]
    },
    {
     "name": "stdout",
     "output_type": "stream",
     "text": [
      "player 1@round 0: Playing rock\n",
      "player 1@round 1: Playing rock\n",
      "player 1@round 2: Playing rock\n"
     ]
    }
   ],
   "source": [
    "player1 = WorkerAgentRuntime(host_address=host_address)\n",
    "player1.add_message_serializer(serializers)\n",
    "player1.start()\n",
    "await RockAgent.register(player1, \"player1\", lambda: RockAgent(\"player 1\"))\n",
    "print(\"Player 1 joined host\")"
   ]
  },
  {
   "cell_type": "code",
   "execution_count": 4,
   "metadata": {},
   "outputs": [
    {
     "name": "stdout",
     "output_type": "stream",
     "text": [
      "Player 2 joined host\n"
     ]
    },
    {
     "name": "stdout",
     "output_type": "stream",
     "text": [
      "player 2@round 0: Playing rock\n",
      "player 2@round 1: Playing rock\n",
      "player 2@round 2: Playing rock\n"
     ]
    }
   ],
   "source": [
    "player2 = WorkerAgentRuntime(host_address=host_address)\n",
    "player2.add_message_serializer(serializers)\n",
    "player2.start()\n",
    "await RandomAgent.register(player2, \"player2\", lambda: RandomAgent(\"player 2\"))\n",
    "print(\"Player 2 joined host\")"
   ]
  },
  {
   "cell_type": "code",
   "execution_count": 5,
   "metadata": {},
   "outputs": [
    {
     "name": "stdout",
     "output_type": "stream",
     "text": [
      "Player 3 joined host\n"
     ]
    },
    {
     "name": "stdout",
     "output_type": "stream",
     "text": [
      "player 3@round 0: Playing rock\n",
      "player 3@round 1: Playing paper\n",
      "player 3@round 2: Playing paper\n"
     ]
    }
   ],
   "source": [
    "player3 = WorkerAgentRuntime(host_address=host_address)\n",
    "player3.add_message_serializer(serializers)\n",
    "player3.start()\n",
    "await RandomAgent.register(player3, \"player3\", lambda: RandomAgent(\"player 3\"))\n",
    "print(\"Player 3 joined host\")"
   ]
  },
  {
   "cell_type": "code",
   "execution_count": 6,
   "metadata": {},
   "outputs": [
    {
     "name": "stdout",
     "output_type": "stream",
     "text": [
      "Moderator is ready to start the game ...\n",
      "Starting round 0\n"
     ]
    },
    {
     "name": "stdout",
     "output_type": "stream",
     "text": [
      "Winner: draw\n",
      " --------------------------------------------------\n",
      "Starting round 2\n",
      "Winner: player 3\n",
      " --------------------------------------------------\n",
      "Starting round 3\n",
      "Winner: player 3\n",
      " --------------------------------------------------\n",
      "==================================================\n",
      "Final Results\n",
      "==================================================\n",
      "Leaderboard:\n",
      "1. player 3: 2 wins\n"
     ]
    }
   ],
   "source": [
    "moderator = WorkerAgentRuntime(host_address=host_address)\n",
    "moderator.add_message_serializer(serializers)\n",
    "moderator.start()\n",
    "await GameModerator.register(moderator, \"moderator\", lambda: GameModerator(\"Moderator\", num_players= 3, max_rounds=3))\n",
    "print(\"Moderator is ready to start the game ...\\nStarting round 0\")\n",
    "await asyncio.sleep(3)\n",
    "await moderator.publish_message(NewRound(0), DefaultTopicId())"
   ]
  },
  {
   "cell_type": "code",
   "execution_count": null,
   "metadata": {},
   "outputs": [],
   "source": [
    "# Commenting to avoid accidental run, uncomment and stop\n",
    "# await host.stop()"
   ]
  }
 ],
 "metadata": {
  "kernelspec": {
   "display_name": ".venv",
   "language": "python",
   "name": "python3"
  },
  "language_info": {
   "codemirror_mode": {
    "name": "ipython",
    "version": 3
   },
   "file_extension": ".py",
   "mimetype": "text/x-python",
   "name": "python",
   "nbconvert_exporter": "python",
   "pygments_lexer": "ipython3",
   "version": "3.11.10"
  }
 },
 "nbformat": 4,
 "nbformat_minor": 2
}
