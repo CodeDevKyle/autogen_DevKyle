{
 "cells": [
  {
   "cell_type": "markdown",
   "metadata": {},
   "source": [
    "# Quickstart"
   ]
  },
  {
   "cell_type": "markdown",
   "metadata": {},
   "source": [
    ":::{note}\n",
    "For installation instructions, please refer to the [installation guide](./installation).\n",
    ":::\n",
    "\n",
    "\n",
    "An agent is a software entity that communicates via messages, maintains its own state, and performs actions in response to received messages or changes in its state. \n",
    "\n",
    "In AgentChat, agents can be rapidly implemented using preset agent configurations. To illustrate this, we will begin with creating an agent that can address tasks by responding to messages it receives. "
   ]
  },
  {
   "cell_type": "code",
   "execution_count": 1,
   "metadata": {},
   "outputs": [
    {
     "name": "stdout",
     "output_type": "stream",
     "text": [
      "\n",
      "--------------------------------------------------------------------------- \n",
      "\u001b[91m[2024-10-19T20:51:24.752274]:\u001b[0m\n",
      "\n",
      "Write a 5 line haiku on international space station\n",
      "--------------------------------------------------------------------------- \n",
      "\u001b[91m[2024-10-19T20:51:25.926555], writing_agent:\u001b[0m\n",
      "\n",
      "In orbit we glide,  \n",
      "A dance of earthbound nations,  \n",
      "Stars our common home.  \n",
      "\n",
      "Floating dreams connect,  \n",
      "Horizons without borders.  \n",
      "--------------------------------------------------------------------------- \n",
      "\u001b[91m[2024-10-19T20:51:25.926879], Termination:\u001b[0m\n",
      "\n",
      "Maximal number of messages 1 reached, current message count: 1\n",
      " TeamRunResult(messages=[TextMessage(source='user', content='Write a 5 line haiku on international space station'), TextMessage(source='writing_agent', content='In orbit we glide,  \\nA dance of earthbound nations,  \\nStars our common home.  \\n\\nFloating dreams connect,  \\nHorizons without borders.  ')])\n"
     ]
    }
   ],
   "source": [
    "import logging\n",
    "from autogen_agentchat import EVENT_LOGGER_NAME\n",
    "from autogen_agentchat.logging import ConsoleLogHandler\n",
    "from autogen_agentchat.agents import CodingAssistantAgent\n",
    "from autogen_agentchat.teams import RoundRobinGroupChat, MaxMessageTermination\n",
    "from autogen_core.components.models import OpenAIChatCompletionClient\n",
    "\n",
    "logger = logging.getLogger(EVENT_LOGGER_NAME)\n",
    "logger.addHandler(ConsoleLogHandler())\n",
    "logger.setLevel(logging.INFO)\n",
    "\n",
    "# define an agent\n",
    "writing_agent = CodingAssistantAgent(\n",
    "    name=\"writing_agent\",\n",
    "    system_message=\"You are a helpful assistant that can respond to questions\",\n",
    "    model_client=OpenAIChatCompletionClient(model=\"gpt-4o-2024-08-06\"),\n",
    ")\n",
    "\n",
    "# add the agent to a team\n",
    "agent_team = RoundRobinGroupChat([writing_agent])\n",
    "result = await agent_team.run(\n",
    "    task=\"Write a 5 line haiku on international space station\",\n",
    "    termination_condition=MaxMessageTermination(max_messages=1),\n",
    ")\n",
    "print(\"\\n\", result)"
   ]
  },
  {
   "cell_type": "markdown",
   "metadata": {},
   "source": [
    "The code snippet above introduces two high level concepts in AgentChat: `Agent` and `Team`. An Agent helps us define what actions are taken when a message is received, and a Team helps us define the rules for how agents interact with each other (e.g., the order in which agents are called, when the conversation ends)."
   ]
  },
  {
   "cell_type": "markdown",
   "metadata": {},
   "source": [
    "## What's Next?\n",
    "\n",
    "Now that you have a basic understanding of how to define an agent and a team, consider following the [tutorial](./tutorial/index) for a walkthrough on other features of AgentChat.\n",
    "\n"
   ]
  }
 ],
 "metadata": {
  "kernelspec": {
   "display_name": "agnext",
   "language": "python",
   "name": "python3"
  },
  "language_info": {
   "codemirror_mode": {
    "name": "ipython",
    "version": 3
   },
   "file_extension": ".py",
   "mimetype": "text/x-python",
   "name": "python",
   "nbconvert_exporter": "python",
   "pygments_lexer": "ipython3",
   "version": "3.11.9"
  }
 },
 "nbformat": 4,
 "nbformat_minor": 2
}
