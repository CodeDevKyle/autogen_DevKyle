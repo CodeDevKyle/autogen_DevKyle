{
 "cells": [
  {
   "cell_type": "markdown",
   "metadata": {},
   "source": [
    "\n",
    "\n",
    "# Agents\n",
    "\n",
    "An agent is a software entity that communicates via messages, maintains its own state, and performs actions in response to received messages or changes in its state. \n",
    "\n",
    "AgentChat provides a set of preset Agents, each with variations in how an agent might respond to received messages. \n",
    "\n",
    "Each agent inherits from a `BaseChatAgent` class with a few generic properties:\n",
    "\n",
    "- `name`: The name of the agent. This is used by the team to uniquely identify the agent. It should be unique within the team.\n",
    "- `description`: The description of the agent. This is used by the team to make decisions about which agents to use. The description should detail the agent's capabilities and how to interact with it.\n",
    " \n",
    "```{tip}\n",
    "How do agents send and receive messages? \n",
    "\n",
    "AgentChat is built on the `autogen-core` package, which handles the details of sending and receiving messages. `autogen-core` provides a runtime environment, which facilitates communication between agents (message sending and delivery), manages their identities and lifecycles, and enforces security and privacy boundaries. \n",
    "AgentChat handles the details of instantiating a runtime and registering agents with the runtime.\n",
    "\n",
    "To learn more about the runtime in `autogen-core`, see the [autogen-core documentation on agents and runtime](../../core-user-guide/framework/agent-and-agent-runtime.ipynb).\n",
    "```\n",
    "\n",
    "Each agent also implements an `on_message` method that defines the behavior of the agent in response to a message.\n",
    "\n",
    "## CodingAssistantAgent\n",
    "\n",
    "Generates responses (text and code) using an LLM upon receipt of a message. It takes a `system_message` argument that defines or sets the tone for how the agent's LLM should respond."
   ]
  },
  {
   "cell_type": "code",
   "execution_count": 1,
   "metadata": {},
   "outputs": [],
   "source": [
    "\n",
    "import logging\n",
    "from autogen_agentchat import EVENT_LOGGER_NAME\n",
    "from autogen_agentchat.logging import ConsoleLogHandler\n",
    "from autogen_agentchat.agents import  CodingAssistantAgent, ToolUseAssistantAgent, TextMessage\n",
    "from autogen_agentchat.teams import RoundRobinGroupChat, SelectorGroupChat, MaxMessageTermination\n",
    "from autogen_core.components.models import OpenAIChatCompletionClient\n",
    "from autogen_core.components.tools import FunctionTool\n",
    "\n",
    "logger = logging.getLogger(EVENT_LOGGER_NAME)\n",
    "logger.addHandler(ConsoleLogHandler())\n",
    "logger.setLevel(logging.INFO)\n",
    "\n",
    "\n",
    "# Create an OpenAI model client.\n",
    "model_client = OpenAIChatCompletionClient(\n",
    "    model=\"gpt-4o-2024-08-06\",\n",
    "    # api_key=\"sk-...\", # Optional if you have an OPENAI_API_KEY env variable set.\n",
    ")\n",
    "\n",
    "writing_assistant_agent = CodingAssistantAgent(\n",
    "    name=\"writing_assistant_agent\",\n",
    "    system_message=\"You are a helpful assistant that solve tasks by generating text responses and code.\" ,\n",
    "    model_client=model_client,\n",
    ")"
   ]
  },
  {
   "cell_type": "code",
   "execution_count": 2,
   "metadata": {},
   "outputs": [
    {
     "name": "stdout",
     "output_type": "stream",
     "text": [
      "source='writing_assistant_agent' content=\"I'm unable to provide real-time data, including current weather conditions. To find out the current weather in France, you can check a reliable weather website or use a weather app on your phone. Websites like the BBC Weather, Weather.com, or the French meteorological service Météo-France would have up-to-date information.\"\n"
     ]
    }
   ],
   "source": [
    "result = await writing_assistant_agent.on_messages(messages=[\n",
    "    TextMessage(content=\"What is the weather right now in France?\", source=\"user\"),\n",
    "], cancellation_token=None)\n",
    "print(result)"
   ]
  },
  {
   "cell_type": "markdown",
   "metadata": {},
   "source": [
    "\n",
    "\n",
    "## ToolUseAssistantAgent\n",
    "\n",
    "This agent responds to messages by making appropriate tool or function calls.\n",
    "\n",
    "```{tip}\n",
    "Understanding Tool Calling\n",
    "\n",
    "Large Language Models (LLMs) are typically limited to generating text or code responses. However, many complex tasks benefit from the ability to use external tools that perform specific actions, such as fetching data from APIs or databases.\n",
    "\n",
    "To address this limitation, modern LLMs can now accept a list of available tool schemas (descriptions of tools and their arguments) and generate a tool call message. This capability is known as **Tool Calling** or **Function Calling** and is becoming a popular pattern in building intelligent agent-based applications.\n",
    "\n",
    "For more information on tool calling, refer to the documentation from [OpenAI](https://platform.openai.com/docs/guides/function-calling) and [Anthropic](https://docs.anthropic.com/en/docs/build-with-claude/tool-use).\n",
    "```\n",
    "\n",
    "To set up a ToolUseAssistantAgent in AgentChat, follow these steps:\n",
    "\n",
    "1. Define the tool, typically as a Python function.\n",
    "2. Wrap the function in the `FunctionTool` class from the `autogen-core` package. This ensures the function schema can be correctly parsed and used for tool calling.\n",
    "3. Attach the tool to the agent.\n",
    " "
   ]
  },
  {
   "cell_type": "code",
   "execution_count": 3,
   "metadata": {},
   "outputs": [],
   "source": [
    "async def get_weather(city: str) -> str:\n",
    "    return f\"The weather in {city} is 72 degrees and Sunny.\"\n",
    "get_weather_tool = FunctionTool(get_weather, description=\"Get the weather for a city\")\n",
    "\n",
    "tool_use_agent = ToolUseAssistantAgent(\n",
    "    \"tool_use_agent\",\n",
    "    system_message=\"You are a helpful assistant that solves tasks by only using your tools.\",\n",
    "    model_client=model_client,\n",
    "    registered_tools=[get_weather_tool],\n",
    ")"
   ]
  },
  {
   "cell_type": "code",
   "execution_count": 4,
   "metadata": {},
   "outputs": [
    {
     "name": "stdout",
     "output_type": "stream",
     "text": [
      "source='tool_use_agent' content=\"France is a large country with various regions experiencing different weather conditions at any given time. Could you please specify a city in France for which you'd like to know the current weather?\"\n"
     ]
    }
   ],
   "source": [
    "tool_result = await tool_use_agent.on_messages(messages=[\n",
    "    TextMessage(content=\"What is the weather right now in France?\", source=\"user\"),\n",
    "], cancellation_token=None)\n",
    "print(tool_result)"
   ]
  },
  {
   "cell_type": "markdown",
   "metadata": {},
   "source": [
    "We can see that the response generated by the ToolUseAssistantAgent is a tool call message which can then be executed to get the right result. "
   ]
  },
  {
   "cell_type": "markdown",
   "metadata": {},
   "source": [
    "\n",
    "\n",
    "## CodeExecutionAgent \n",
    "\n",
    "This agent preset extracts and executes code snippets found in received messages and returns the output. It is typically used within a team where a `CodingAssistantAgent` is also present - the `CodingAssistantAgent` can generate code snippets, which the `CodeExecutionAgent` receives and executes to make progress on a task. \n",
    "\n",
    "```{note}\n",
    "It is recommended that the `CodeExecutionAgent` uses a Docker container to execute code snippets. This ensures that the code snippets are executed in a safe and isolated environment. \n",
    "\n",
    "To use Docker, your environment must have Docker installed and running.\n",
    "```\n",
    "\n",
    "In the code snippet below, we show how to set up a `CodeExecutionAgent` that uses the `DockerCommandLineCodeExecutor` class to execute code snippets in a Docker container. The `work_dir` parameter indicates where all executed files are first saved locally before being executed in the Docker container."
   ]
  },
  {
   "cell_type": "code",
   "execution_count": 5,
   "metadata": {},
   "outputs": [
    {
     "name": "stdout",
     "output_type": "stream",
     "text": [
      "source='code_executor' content='No code blocks found in the thread.'\n"
     ]
    }
   ],
   "source": [
    "from autogen_agentchat.agents import CodeExecutorAgent\n",
    "from autogen_ext.code_executors import DockerCommandLineCodeExecutor\n",
    "\n",
    "# type: ignore[syntax]\n",
    "async with DockerCommandLineCodeExecutor(work_dir=\"coding\") as code_executor:\n",
    "    code_executor_agent = CodeExecutorAgent(\n",
    "        \"code_executor\", code_executor=code_executor)\n",
    "    code_execution_result = await code_executor_agent.on_messages(messages=[\n",
    "        TextMessage(content=\"Here is some code \\n ```python print('Hello world') \\n``` \",\n",
    "                    source=\"user\"),\n",
    "    ], cancellation_token=None)\n",
    "    print(code_execution_result)"
   ]
  },
  {
   "cell_type": "markdown",
   "metadata": {},
   "source": [
    "## Summary\n",
    "So far, we have learned a few key concepts:\n",
    "\n",
    "- How to define agents and the types of agents supported in AgentChat \n",
    "- How to send messages to agents by calling the `on_message` method and viewing the agent's response \n",
    "\n",
    "However, the ability to address complex tasks is often best served by groups of agents that interact as a team. Let us review how to build these teams."
   ]
  },
  {
   "cell_type": "markdown",
   "metadata": {},
   "source": []
  }
 ],
 "metadata": {
  "kernelspec": {
   "display_name": "agnext",
   "language": "python",
   "name": "python3"
  },
  "language_info": {
   "codemirror_mode": {
    "name": "ipython",
    "version": 3
   },
   "file_extension": ".py",
   "mimetype": "text/x-python",
   "name": "python",
   "nbconvert_exporter": "python",
   "pygments_lexer": "ipython3",
   "version": "3.11.9"
  }
 },
 "nbformat": 4,
 "nbformat_minor": 2
}
