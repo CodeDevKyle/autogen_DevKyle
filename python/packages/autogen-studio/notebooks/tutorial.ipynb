{
 "cells": [
  {
   "cell_type": "markdown",
   "metadata": {},
   "source": [
    "## AutoGen Studio Agent Workflow API Example\n",
    "\n",
    "This notebook focuses on demonstrating capabilities of the autogen studio workflow python api.  \n",
    "\n",
    "- Declarative Specification of an Agent Team\n",
    "- Loading the specification and running the resulting agent\n",
    "\n",
    " "
   ]
  },
  {
   "cell_type": "code",
   "execution_count": 1,
   "metadata": {},
   "outputs": [],
   "source": [
    "# import logging\n",
    "# from autogen_agentchat.logging import ConsoleLogHandler\n",
    "# from autogen_agentchat import EVENT_LOGGER_NAME\n",
    "# logger = logging.getLogger(EVENT_LOGGER_NAME)\n",
    "# logger.handlers = [ConsoleLogHandler()]\n",
    "# logger.setLevel(logging.INFO)\n"
   ]
  },
  {
   "cell_type": "code",
   "execution_count": 2,
   "metadata": {},
   "outputs": [
    {
     "name": "stdout",
     "output_type": "stream",
     "text": [
      "{'name': 'weather_team', 'participants': [{'name': 'writing_agent', 'model_client': {'model': 'gpt-4o-2024-08-06', 'model_type': 'OpenAIChatCompletionClient'}, 'tools': [{'name': 'get_weather', 'description': 'Get the weather for a city', 'content': 'async def get_weather(city: str) -> str:\\n    return f\"The weather in {city} is 73 degrees and Sunny.\"'}], 'agent_type': 'AssistantAgent'}], 'termination_condition': {'termination_type': 'MaxMessageTermination', 'max_messages': 5}, 'team_type': 'RoundRobinGroupChat', 'model_client': None}\n"
     ]
    }
   ],
   "source": [
    "from autogenstudio.database import AgentFactory \n",
    "from autogenstudio.teammanager import TeamManager\n",
    "import json \n",
    "\n",
    "\n",
    "team_json_spec = json.load(open(\"team.json\")) \n",
    "wm = TeamManager() \n",
    "\n",
    "print(team_json_spec)"
   ]
  },
  {
   "cell_type": "code",
   "execution_count": 3,
   "metadata": {},
   "outputs": [
    {
     "name": "stdout",
     "output_type": "stream",
     "text": [
      "*** team config *** name='weather_team' participants=[AgentConfig(name='writing_agent', agent_type=<AgentTypes.assistant: 'AssistantAgent'>, system_message=None, model_client=ModelConfig(model='gpt-4o-2024-08-06', model_type=<ModelTypes.openai: 'OpenAIChatCompletionClient'>, api_key=None, base_url=None), tools=[ToolConfig(name='get_weather', description='Get the weather for a city', content='async def get_weather(city: str) -> str:\\n    return f\"The weather in {city} is 73 degrees and Sunny.\"')], description=None)] team_type=<TeamTypes.round_robin: 'RoundRobinGroupChat'> model_client=None termination_condition=TerminationConfig(termination_type=<TerminationTypes.max_messages: 'MaxMessageTermination'>, max_messages=5, text=None)\n"
     ]
    }
   ],
   "source": [
    "result = await wm.run(task=\"What is the weather in New York?\", team_config=team_json_spec)"
   ]
  },
  {
   "cell_type": "code",
   "execution_count": 4,
   "metadata": {},
   "outputs": [
    {
     "name": "stdout",
     "output_type": "stream",
     "text": [
      "*** team config *** name='weather_team' participants=[AgentConfig(name='writing_agent', agent_type=<AgentTypes.assistant: 'AssistantAgent'>, system_message=None, model_client=ModelConfig(model='gpt-4o-2024-08-06', model_type=<ModelTypes.openai: 'OpenAIChatCompletionClient'>, api_key=None, base_url=None), tools=[ToolConfig(name='get_weather', description='Get the weather for a city', content='async def get_weather(city: str) -> str:\\n    return f\"The weather in {city} is 73 degrees and Sunny.\"')], description=None)] team_type=<TeamTypes.round_robin: 'RoundRobinGroupChat'> model_client=None termination_condition=TerminationConfig(termination_type=<TerminationTypes.max_messages: 'MaxMessageTermination'>, max_messages=5, text=None)\n",
      "<class 'autogen_agentchat.messages.TextMessage'> source='user' models_usage=None content='What is the weather in New York?'\n",
      "<class 'autogen_agentchat.messages.ToolCallMessage'> source='writing_agent' models_usage=RequestUsage(prompt_tokens=86, completion_tokens=15) content=[FunctionCall(id='call_0838GR30Ip42Mgk47uTQcUh8', arguments='{\"city\":\"New York\"}', name='get_weather')]\n",
      "<class 'autogen_agentchat.messages.ToolCallResultMessage'> source='writing_agent' models_usage=None content=[FunctionExecutionResult(content='The weather in New York is 73 degrees and Sunny.', call_id='call_0838GR30Ip42Mgk47uTQcUh8')]\n",
      "<class 'autogen_agentchat.messages.TextMessage'> source='writing_agent' models_usage=RequestUsage(prompt_tokens=97, completion_tokens=14) content='The weather in New York is currently 73 degrees and sunny.'\n",
      "<class 'autogen_agentchat.messages.TextMessage'> source='writing_agent' models_usage=RequestUsage(prompt_tokens=144, completion_tokens=4) content='TERMINATE'\n",
      "<class 'autogen_agentchat.messages.TextMessage'> source='writing_agent' models_usage=RequestUsage(prompt_tokens=154, completion_tokens=4) content='TERMINATE'\n",
      "<class 'autogen_agentchat.messages.TextMessage'> source='writing_agent' models_usage=RequestUsage(prompt_tokens=164, completion_tokens=4) content='TERMINATE'\n",
      "<class 'autogenstudio.datamodel.types.TeamResult'> task_result=TaskResult(messages=[TextMessage(source='user', models_usage=None, content='What is the weather in New York?'), ToolCallMessage(source='writing_agent', models_usage=RequestUsage(prompt_tokens=86, completion_tokens=15), content=[FunctionCall(id='call_0838GR30Ip42Mgk47uTQcUh8', arguments='{\"city\":\"New York\"}', name='get_weather')]), ToolCallResultMessage(source='writing_agent', models_usage=None, content=[FunctionExecutionResult(content='The weather in New York is 73 degrees and Sunny.', call_id='call_0838GR30Ip42Mgk47uTQcUh8')]), TextMessage(source='writing_agent', models_usage=RequestUsage(prompt_tokens=97, completion_tokens=14), content='The weather in New York is currently 73 degrees and sunny.'), TextMessage(source='writing_agent', models_usage=RequestUsage(prompt_tokens=144, completion_tokens=4), content='TERMINATE'), TextMessage(source='writing_agent', models_usage=RequestUsage(prompt_tokens=154, completion_tokens=4), content='TERMINATE'), TextMessage(source='writing_agent', models_usage=RequestUsage(prompt_tokens=164, completion_tokens=4), content='TERMINATE')]) usage='' duration=3.0661981105804443\n"
     ]
    }
   ],
   "source": [
    "stream =  wm.run_stream(task=\"What is the weather in New York?\", team_config=team_json_spec) \n",
    "async for response in stream:\n",
    "    print(type(response), response)"
   ]
  },
  {
   "cell_type": "markdown",
   "metadata": {},
   "source": [
    "## Testing DB API"
   ]
  },
  {
   "cell_type": "code",
   "execution_count": 5,
   "metadata": {},
   "outputs": [
    {
     "name": "stderr",
     "output_type": "stream",
     "text": [
      "\u001b[32m2024-11-06 13:53:24.900\u001b[0m | \u001b[1mINFO    \u001b[0m | \u001b[36mautogenstudio.database.schema_manager\u001b[0m:\u001b[36m_ensure_alembic_setup\u001b[0m:\u001b[36m280\u001b[0m - \u001b[1mForce initialization requested. Cleaning up existing configuration...\u001b[0m\n",
      "\u001b[32m2024-11-06 13:53:24.900\u001b[0m | \u001b[1mINFO    \u001b[0m | \u001b[36mautogenstudio.database.schema_manager\u001b[0m:\u001b[36m_cleanup_existing_alembic\u001b[0m:\u001b[36m51\u001b[0m - \u001b[1mCleaning up existing Alembic configuration while preserving versions...\u001b[0m\n",
      "\u001b[32m2024-11-06 13:53:24.901\u001b[0m | \u001b[1mINFO    \u001b[0m | \u001b[36mautogenstudio.database.schema_manager\u001b[0m:\u001b[36m_cleanup_existing_alembic\u001b[0m:\u001b[36m56\u001b[0m - \u001b[1mPreserving existing versions directory\u001b[0m\n",
      "\u001b[32m2024-11-06 13:53:24.902\u001b[0m | \u001b[1mINFO    \u001b[0m | \u001b[36mautogenstudio.database.schema_manager\u001b[0m:\u001b[36m_cleanup_existing_alembic\u001b[0m:\u001b[36m68\u001b[0m - \u001b[1mRemoved file: /Users/victordibia/projects/hax/autogen/python/packages/autogen-studio/autogenstudio/database/alembic/env.py\u001b[0m\n",
      "\u001b[32m2024-11-06 13:53:24.903\u001b[0m | \u001b[1mINFO    \u001b[0m | \u001b[36mautogenstudio.database.schema_manager\u001b[0m:\u001b[36m_cleanup_existing_alembic\u001b[0m:\u001b[36m76\u001b[0m - \u001b[1mRemoved existing alembic.ini: /Users/victordibia/projects/hax/autogen/python/packages/autogen-studio/autogenstudio/database/alembic.ini\u001b[0m\n",
      "\u001b[32m2024-11-06 13:53:24.903\u001b[0m | \u001b[1mINFO    \u001b[0m | \u001b[36mautogenstudio.database.schema_manager\u001b[0m:\u001b[36m_initialize_alembic\u001b[0m:\u001b[36m106\u001b[0m - \u001b[1mInitializing Alembic configuration...\u001b[0m\n",
      "\u001b[32m2024-11-06 13:53:24.903\u001b[0m | \u001b[1mINFO    \u001b[0m | \u001b[36mautogenstudio.database.schema_manager\u001b[0m:\u001b[36m_initialize_alembic\u001b[0m:\u001b[36m110\u001b[0m - \u001b[1mExisting versions directory found: True\u001b[0m\n",
      "\u001b[32m2024-11-06 13:53:24.904\u001b[0m | \u001b[1mINFO    \u001b[0m | \u001b[36mautogenstudio.database.schema_manager\u001b[0m:\u001b[36m_initialize_alembic\u001b[0m:\u001b[36m121\u001b[0m - \u001b[1mCreated alembic.ini\u001b[0m\n",
      "\u001b[32m2024-11-06 13:53:24.905\u001b[0m | \u001b[1mINFO    \u001b[0m | \u001b[36mautogenstudio.database.schema_manager\u001b[0m:\u001b[36m_initialize_alembic\u001b[0m:\u001b[36m133\u001b[0m - \u001b[1mCreated minimal env.py\u001b[0m\n",
      "\u001b[32m2024-11-06 13:53:24.905\u001b[0m | \u001b[1mINFO    \u001b[0m | \u001b[36mautogenstudio.database.schema_manager\u001b[0m:\u001b[36m_initialize_alembic\u001b[0m:\u001b[36m139\u001b[0m - \u001b[1mAlembic setup completed at /Users/victordibia/projects/hax/autogen/python/packages/autogen-studio/autogenstudio/database\u001b[0m\n",
      "\u001b[32m2024-11-06 13:53:24.974\u001b[0m | \u001b[1mINFO    \u001b[0m | \u001b[36mautogenstudio.database.db_manager\u001b[0m:\u001b[36m__init__\u001b[0m:\u001b[36m38\u001b[0m - \u001b[1mSchema status: Database schema is up to date\u001b[0m\n",
      "\u001b[32m2024-11-06 13:53:24.978\u001b[0m | \u001b[1mINFO    \u001b[0m | \u001b[36mautogenstudio.database.db_manager\u001b[0m:\u001b[36mcreate_db_and_tables\u001b[0m:\u001b[36m110\u001b[0m - \u001b[1mDatabase tables created successfully\u001b[0m\n"
     ]
    }
   ],
   "source": [
    "from autogenstudio.database import DatabaseManager \n",
    "\n",
    "# create a database\n",
    "dbmanager = DatabaseManager(engine_uri=\"sqlite:///test.db\")\n",
    "dbmanager.create_db_and_tables() "
   ]
  },
  {
   "cell_type": "code",
   "execution_count": 6,
   "metadata": {},
   "outputs": [],
   "source": [
    "\n",
    "from sqlmodel import Session, text, select\n",
    "from autogenstudio.datamodel import Model, ModelConfig, ModelTypes, Team, TeamConfig, TeamTypes, Agent, AgentConfig, AgentTypes, Tool, ToolConfig, LinkTypes\n",
    "\n",
    "user_id = \"guestuser@gmail.com\"\n",
    "from autogenstudio.datamodel import ModelConfig, Model, TeamConfig, Team, Tool, Agent, AgentConfig, TerminationConfig, TerminationTypes, ModelTypes, TeamTypes, AgentTypes, ToolConfig, LinkTypes\n",
    "\n",
    "gpt4_model = Model(user_id=user_id, config= ModelConfig(model=\"gpt-4o-2024-08-06\", model_type=ModelTypes.openai).model_dump() )\n",
    "\n",
    "weather_tool = Tool(user_id=user_id, config=ToolConfig(name=\"get_weather\", description=\"Get the weather for a city\", content=\"async def get_weather(city: str) -> str:\\n    return f\\\"The weather in {city} is 73 degrees and Sunny.\\\"\").model_dump() )\n",
    "\n",
    "adding_tool = Tool(user_id=user_id, config=ToolConfig(name=\"add\", description=\"Add two numbers\", content=\"async def add(a: int, b: int) -> int:\\n    return a + b\").model_dump() )\n",
    "\n",
    "writing_agent = Agent(user_id=user_id, \n",
    "                      config=AgentConfig(\n",
    "                          name=\"writing_agent\", \n",
    "                          tools=[weather_tool.config], \n",
    "                          agent_type=AgentTypes.assistant,\n",
    "                          model_client=gpt4_model.config\n",
    "                          ).model_dump()\n",
    "                    )\n",
    "\n",
    "team = Team(user_id=user_id, config=TeamConfig(\n",
    "    name=\"weather_team\",\n",
    "    participants=[writing_agent.config],\n",
    "    termination_condition=TerminationConfig(termination_type=TerminationTypes.max_messages, max_messages=5).model_dump(),\n",
    "    team_type=TeamTypes.round_robin\n",
    "    ).model_dump()\n",
    ")\n",
    "\n",
    "with Session(dbmanager.engine) as session:\n",
    "    session.add(gpt4_model)\n",
    "    session.add(weather_tool)\n",
    "    session.add(adding_tool)\n",
    "    session.add(writing_agent)\n",
    "    session.add(team)\n",
    "    session.commit()\n",
    "\n",
    "    dbmanager.link(LinkTypes.AGENT_MODEL, writing_agent.id, gpt4_model.id)\n",
    "    dbmanager.link(LinkTypes.AGENT_TOOL, writing_agent.id, weather_tool.id)\n",
    "    dbmanager.link(LinkTypes.AGENT_TOOL, writing_agent.id, adding_tool.id)\n",
    "    dbmanager.link(LinkTypes.TEAM_AGENT, team.id, writing_agent.id)\n"
   ]
  },
  {
   "cell_type": "code",
   "execution_count": 7,
   "metadata": {},
   "outputs": [],
   "source": [
    "from autogenstudio.database import ConfigurationManager \n",
    "config_manager = ConfigurationManager(dbmanager)"
   ]
  },
  {
   "cell_type": "code",
   "execution_count": 8,
   "metadata": {},
   "outputs": [
    {
     "name": "stdout",
     "output_type": "stream",
     "text": [
      "*** team config *** name='weather_team' participants=[AgentConfig(name='writing_agent', agent_type=<AgentTypes.assistant: 'AssistantAgent'>, system_message=None, model_client=ModelConfig(model='gpt-4o-2024-08-06', model_type=<ModelTypes.openai: 'OpenAIChatCompletionClient'>, api_key=None, base_url=None), tools=[ToolConfig(name='get_weather', description='Get the weather for a city', content='async def get_weather(city: str) -> str:\\n    return f\"The weather in {city} is 73 degrees and Sunny.\"')], description=None)] team_type=<TeamTypes.round_robin: 'RoundRobinGroupChat'> model_client=None termination_condition=TerminationConfig(termination_type=<TerminationTypes.max_messages: 'MaxMessageTermination'>, max_messages=5, text=None)\n"
     ]
    }
   ],
   "source": [
    "result = config_manager.import_config(\"./team.json\", user_id=user_id)"
   ]
  },
  {
   "cell_type": "code",
   "execution_count": 9,
   "metadata": {},
   "outputs": [
    {
     "data": {
      "text/plain": [
       "Response(message='Team Created Successfully', status=True, data={'created_at': datetime.datetime(2024, 11, 6, 13, 53, 25, 101647), 'config': {'name': 'weather_team', 'participants': [{'name': 'writing_agent', 'agent_type': 'AssistantAgent', 'system_message': None, 'model_client': {'model': 'gpt-4o-2024-08-06', 'model_type': 'OpenAIChatCompletionClient', 'api_key': None, 'base_url': None}, 'tools': [{'name': 'get_weather', 'description': 'Get the weather for a city', 'content': 'async def get_weather(city: str) -> str:\\n    return f\"The weather in {city} is 73 degrees and Sunny.\"'}], 'description': None}], 'team_type': 'RoundRobinGroupChat', 'model_client': None, 'termination_condition': {'termination_type': 'MaxMessageTermination', 'max_messages': 5, 'text': None}}, 'user_id': 'guestuser@gmail.com', 'id': 9, 'updated_at': datetime.datetime(2024, 11, 6, 13, 53, 25, 101651), 'version': '0.0.1'})"
      ]
     },
     "execution_count": 9,
     "metadata": {},
     "output_type": "execute_result"
    }
   ],
   "source": [
    "result"
   ]
  },
  {
   "cell_type": "code",
   "execution_count": null,
   "metadata": {},
   "outputs": [],
   "source": []
  }
 ],
 "metadata": {
  "kernelspec": {
   "display_name": "agnext",
   "language": "python",
   "name": "python3"
  },
  "language_info": {
   "codemirror_mode": {
    "name": "ipython",
    "version": 3
   },
   "file_extension": ".py",
   "mimetype": "text/x-python",
   "name": "python",
   "nbconvert_exporter": "python",
   "pygments_lexer": "ipython3",
   "version": "3.11.9"
  }
 },
 "nbformat": 4,
 "nbformat_minor": 2
}
