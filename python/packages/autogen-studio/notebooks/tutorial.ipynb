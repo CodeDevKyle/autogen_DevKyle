{
 "cells": [
  {
   "cell_type": "markdown",
   "metadata": {},
   "source": [
    "## AutoGen Studio Agent Workflow API Example\n",
    "\n",
    "This notebook focuses on demonstrating capabilities of the autogen studio workflow python api.  \n",
    "\n",
    "- Declarative Specification of an Agent Team\n",
    "- Loading the specification and running the resulting agent\n",
    "\n",
    " "
   ]
  },
  {
   "cell_type": "code",
   "execution_count": 1,
   "metadata": {},
   "outputs": [],
   "source": [
    "import logging\n",
    "from autogen_agentchat.logging import ConsoleLogHandler\n",
    "from autogen_agentchat import EVENT_LOGGER_NAME\n",
    "logger = logging.getLogger(EVENT_LOGGER_NAME)\n",
    "logger.handlers = [ConsoleLogHandler()]\n",
    "logger.setLevel(logging.INFO)\n"
   ]
  },
  {
   "cell_type": "code",
   "execution_count": 2,
   "metadata": {},
   "outputs": [],
   "source": [
    "from autogenstudio.provider import Provider \n",
    "from autogenstudio.workflowmanager import WorkflowManager\n",
    "import json \n",
    "\n",
    "\n",
    "team_json_spec = json.load(open(\"team.json\")) \n",
    "wm = WorkflowManager(team_config=team_json_spec) "
   ]
  },
  {
   "cell_type": "code",
   "execution_count": 3,
   "metadata": {},
   "outputs": [
    {
     "name": "stdout",
     "output_type": "stream",
     "text": [
      "\n",
      "--------------------------------------------------------------------------- \n",
      "\u001b[91m[2024-10-31T09:54:09.574108]:\u001b[0m\n",
      "\n",
      "What is the weather in New York?\n",
      "--------------------------------------------------------------------------- \n",
      "\u001b[91m[2024-10-31T09:54:11.034840], writing_agent:\u001b[0m\n",
      "\n",
      "The weather in New York is currently 73 degrees and sunny.\n",
      "--------------------------------------------------------------------------- \n",
      "\u001b[91m[2024-10-31T09:54:11.436336], writing_agent:\u001b[0m\n",
      "\n",
      "TERMINATE\n",
      "--------------------------------------------------------------------------- \n",
      "\u001b[91m[2024-10-31T09:54:11.436681], Termination:\u001b[0m\n",
      "\n",
      "Stop message received"
     ]
    }
   ],
   "source": [
    "result = await wm.run(task=\"What is the weather in New York?\")"
   ]
  },
  {
   "cell_type": "code",
   "execution_count": 5,
   "metadata": {},
   "outputs": [
    {
     "data": {
      "text/plain": [
       "{'messages': [TextMessage(source='user', content='What is the weather in New York?'),\n",
       "  ToolCallMessage(source='writing_agent', content=[FunctionCall(id='call_YIA4GdhEi8lcDocytvSDhSz1', arguments='{\"city\":\"New York\"}', name='get_weather')]),\n",
       "  ToolCallResultMessages(source='writing_agent', content=[FunctionExecutionResult(content='The weather in New York is 73 degrees and Sunny.', call_id='call_YIA4GdhEi8lcDocytvSDhSz1')]),\n",
       "  TextMessage(source='writing_agent', content='The weather in New York is currently 73 degrees and sunny.'),\n",
       "  StopMessage(source='writing_agent', content='TERMINATE')],\n",
       " 'usage': '',\n",
       " 'duration': 1.8642640113830566}"
      ]
     },
     "execution_count": 5,
     "metadata": {},
     "output_type": "execute_result"
    }
   ],
   "source": [
    "result.mes"
   ]
  },
  {
   "cell_type": "code",
   "execution_count": null,
   "metadata": {},
   "outputs": [],
   "source": []
  }
 ],
 "metadata": {
  "kernelspec": {
   "display_name": "agnext",
   "language": "python",
   "name": "python3"
  },
  "language_info": {
   "codemirror_mode": {
    "name": "ipython",
    "version": 3
   },
   "file_extension": ".py",
   "mimetype": "text/x-python",
   "name": "python",
   "nbconvert_exporter": "python",
   "pygments_lexer": "ipython3",
   "version": "3.11.9"
  }
 },
 "nbformat": 4,
 "nbformat_minor": 2
}
