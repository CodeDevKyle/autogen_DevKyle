{
 "cells": [
  {
   "cell_type": "markdown",
   "metadata": {},
   "source": [
    "## AutoGen Studio Agent Workflow API Example\n",
    "\n",
    "This notebook focuses on demonstrating capabilities of the autogen studio workflow python api.  \n",
    "\n",
    "- Declarative Specification of an Agent Team\n",
    "- Loading the specification and running the resulting agent\n",
    "\n",
    " "
   ]
  },
  {
   "cell_type": "code",
   "execution_count": 1,
   "metadata": {},
   "outputs": [],
   "source": [
    "import logging\n",
    "from autogen_agentchat.logging import ConsoleLogHandler\n",
    "from autogen_agentchat import EVENT_LOGGER_NAME\n",
    "logger = logging.getLogger(EVENT_LOGGER_NAME)\n",
    "logger.handlers = [ConsoleLogHandler()]\n",
    "logger.setLevel(logging.INFO)\n"
   ]
  },
  {
   "cell_type": "code",
   "execution_count": 2,
   "metadata": {},
   "outputs": [
    {
     "name": "stdout",
     "output_type": "stream",
     "text": [
      "{'name': 'weather_team', 'participants': [{'name': 'writing_agent', 'model_client': {'model': 'gpt-4o-2024-08-06', 'model_type': 'OpenAIChatCompletionClient'}, 'tools': [{'name': 'get_weather', 'description': 'Get the weather for a city', 'content': 'async def get_weather(city: str) -> str:\\n    return f\"The weather in {city} is 73 degrees and Sunny.\"'}], 'agent_type': 'AssistantAgent'}], 'termination_condition': {'termination_type': 'StopMessageTermination'}, 'team_type': 'RoundRobinGroupChat', 'model_client': None}\n"
     ]
    }
   ],
   "source": [
    "from autogenstudio.provider import Provider \n",
    "from autogenstudio.teammanager import TeamManager\n",
    "import json \n",
    "\n",
    "\n",
    "team_json_spec = json.load(open(\"team.json\")) \n",
    "wm = TeamManager() \n",
    "\n",
    "print(team_json_spec)"
   ]
  },
  {
   "cell_type": "code",
   "execution_count": 3,
   "metadata": {},
   "outputs": [
    {
     "name": "stdout",
     "output_type": "stream",
     "text": [
      "*** team config *** name='weather_team' participants=[AgentConfig(name='writing_agent', agent_type=<AgentTypes.assistant: 'AssistantAgent'>, system_message=None, model_client=ModelConfig(model='gpt-4o-2024-08-06', model_type=<ModelTypes.openai: 'OpenAIChatCompletionClient'>, api_key=None, base_url=None), tools=[ToolConfig(name='get_weather', description='Get the weather for a city', content='async def get_weather(city: str) -> str:\\n    return f\"The weather in {city} is 73 degrees and Sunny.\"')], description=None)] team_type=<TeamTypes.round_robin: 'RoundRobinGroupChat'> model_client=None termination_condition=TerminationConfig(termination_type=<TerminationTypes.stop_message: 'StopMessageTermination'>, max_messages=None, text=None)\n",
      "\n",
      "--------------------------------------------------------------------------- \n",
      "\u001b[91m[2024-11-01T21:34:06.635996]:\u001b[0m\n",
      "\n",
      "What is the weather in New York?\n",
      "--------------------------------------------------------------------------- \n",
      "\u001b[91m[2024-11-01T21:34:07.613331], writing_agent:\u001b[0m\n",
      "\n",
      "The weather in New York is 73 degrees and sunny.\n",
      "--------------------------------------------------------------------------- \n",
      "\u001b[91m[2024-11-01T21:34:08.013631], writing_agent:\u001b[0m\n",
      "\n",
      "TERMINATE\n",
      "--------------------------------------------------------------------------- \n",
      "\u001b[91m[2024-11-01T21:34:08.013941], Termination:\u001b[0m\n",
      "\n",
      "Stop message received"
     ]
    }
   ],
   "source": [
    "result = await wm.run(task=\"What is the weather in New York?\", team_config=team_json_spec)"
   ]
  },
  {
   "cell_type": "code",
   "execution_count": 4,
   "metadata": {},
   "outputs": [
    {
     "data": {
      "text/plain": [
       "TeamResult(task_result=TaskResult(messages=[TextMessage(source='user', content='What is the weather in New York?'), ToolCallMessage(source='writing_agent', content=[FunctionCall(id='call_zHJJQKpzMB75O0mhymXzEZmQ', arguments='{\"city\":\"New York\"}', name='get_weather')]), ToolCallResultMessages(source='writing_agent', content=[FunctionExecutionResult(content='The weather in New York is 73 degrees and Sunny.', call_id='call_zHJJQKpzMB75O0mhymXzEZmQ')]), TextMessage(source='writing_agent', content='The weather in New York is 73 degrees and sunny.'), StopMessage(source='writing_agent', content='TERMINATE')]), usage='', duration=1.39534592628479)"
      ]
     },
     "execution_count": 4,
     "metadata": {},
     "output_type": "execute_result"
    }
   ],
   "source": [
    "result"
   ]
  },
  {
   "cell_type": "code",
   "execution_count": null,
   "metadata": {},
   "outputs": [],
   "source": []
  }
 ],
 "metadata": {
  "kernelspec": {
   "display_name": "agnext",
   "language": "python",
   "name": "python3"
  },
  "language_info": {
   "codemirror_mode": {
    "name": "ipython",
    "version": 3
   },
   "file_extension": ".py",
   "mimetype": "text/x-python",
   "name": "python",
   "nbconvert_exporter": "python",
   "pygments_lexer": "ipython3",
   "version": "3.11.9"
  }
 },
 "nbformat": 4,
 "nbformat_minor": 2
}
