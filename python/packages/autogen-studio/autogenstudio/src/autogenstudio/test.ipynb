{
 "cells": [
  {
   "cell_type": "code",
   "execution_count": 1,
   "metadata": {},
   "outputs": [],
   "source": [
    "# from autogenstudio.src.autogenstudio.workflowmanager import WorkflowManager"
   ]
  },
  {
   "cell_type": "code",
   "execution_count": 11,
   "metadata": {},
   "outputs": [
    {
     "name": "stdout",
     "output_type": "stream",
     "text": [
      "\n",
      "--------------------------------------------------------------------------- \n",
      "\u001b[91m[2024-10-25T11:19:16.206489]:\u001b[0m\n",
      "\n",
      "Write a Haiku about the weather in Paris\n",
      "--------------------------------------------------------------------------- \n",
      "\u001b[91m[2024-10-25T11:19:16.207659], User:\u001b[0m\n",
      "\n",
      "Hello world\n",
      "--------------------------------------------------------------------------- \n",
      "\u001b[91m[2024-10-25T11:19:16.209106], User:\u001b[0m\n",
      "\n",
      "Hello world\n",
      "--------------------------------------------------------------------------- \n",
      "\u001b[91m[2024-10-25T11:19:16.209419], Termination:\u001b[0m\n",
      "\n",
      "Maximal number of messages 2 reached, current message count: 2"
     ]
    }
   ],
   "source": [
    "import asyncio\n",
    "from typing import Sequence\n",
    "\n",
    "from autogen_agentchat.base import BaseChatAgent\n",
    "from autogen_agentchat.teams import MaxMessageTermination\n",
    "from autogen_agentchat.teams import RoundRobinGroupChat\n",
    "from autogen_agentchat.messages import (\n",
    "    ChatMessage,\n",
    "    StopMessage,\n",
    "    TextMessage,\n",
    ")\n",
    "from autogen_core.base import CancellationToken\n",
    "\n",
    "\n",
    "class CustomAgent(BaseChatAgent):\n",
    "    def __init__(self, name: str) -> None:\n",
    "        super().__init__(name, \"A human user.\")\n",
    "\n",
    "    async def on_messages(self, messages: Sequence[ChatMessage], cancellation_token: CancellationToken) -> ChatMessage: \n",
    "        return TextMessage(content=\"Hello world\", source=self.name)\n",
    "\n",
    "custom_agent = CustomAgent(\"User\")\n",
    "team = RoundRobinGroupChat([ custom_agent])\n",
    "round_robin_team_result = await team.run(\n",
    "    \"Write a Haiku about the weather in Paris\", termination_condition=MaxMessageTermination(max_messages=2)\n",
    ") "
   ]
  },
  {
   "cell_type": "code",
   "execution_count": 14,
   "metadata": {},
   "outputs": [
    {
     "data": {
      "text/plain": [
       "TaskResult(messages=[TextMessage(source='user', content='Write a Haiku about the weather in Paris'), TextMessage(source='User', content='Hello world'), TextMessage(source='User', content='Hello world')])"
      ]
     },
     "execution_count": 14,
     "metadata": {},
     "output_type": "execute_result"
    }
   ],
   "source": [
    "round_robin_team_result"
   ]
  },
  {
   "cell_type": "code",
   "execution_count": null,
   "metadata": {},
   "outputs": [],
   "source": [
    "class Provider():\n",
    "    def __init__(self):\n",
    "        self.workflow_manager = WorkflowManager()\n",
    "\n",
    "    async def run(self, message: str):\n",
    "        return await self.workflow_manager.run(message)"
   ]
  }
 ],
 "metadata": {
  "kernelspec": {
   "display_name": "agnext",
   "language": "python",
   "name": "python3"
  },
  "language_info": {
   "codemirror_mode": {
    "name": "ipython",
    "version": 3
   },
   "file_extension": ".py",
   "mimetype": "text/x-python",
   "name": "python",
   "nbconvert_exporter": "python",
   "pygments_lexer": "ipython3",
   "version": "3.11.9"
  }
 },
 "nbformat": 4,
 "nbformat_minor": 2
}
