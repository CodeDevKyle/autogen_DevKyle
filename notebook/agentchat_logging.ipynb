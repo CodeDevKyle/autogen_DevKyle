{
 "cells": [
  {
   "cell_type": "markdown",
   "metadata": {},
   "source": [
    "<!--\n",
    "tags: [\"runtime logging\", \"debugging\"]\n",
    "description: |\n",
    "    Provide capabilities of runtime logging for debugging and performance analysis.\n",
    "-->"
   ]
  },
  {
   "cell_type": "markdown",
   "metadata": {},
   "source": [
    "## Runtime Logging with AutoGen \n",
    "\n",
    "AutoGen offers utilities to log data for debugging and performance analysis. This notebook demonstrates how to use them. \n",
    "\n",
    "In general, users can initiate logging by calling `autogen.runtime_logging.start()` and stop logging by calling `autogen.runtime_logging.stop()`"
   ]
  },
  {
   "cell_type": "code",
   "execution_count": 9,
   "metadata": {},
   "outputs": [
    {
     "name": "stdout",
     "output_type": "stream",
     "text": [
      "Logging session ID: b04aa5ec-dbbc-4094-96ec-04418d6764bb\n",
      "\u001b[33muser_proxy\u001b[0m (to assistant):\n",
      "\n",
      "What is the height of the Eiffel Tower? Only respond with the answer and terminate\n",
      "\n",
      "--------------------------------------------------------------------------------\n",
      "\u001b[33massistant\u001b[0m (to user_proxy):\n",
      "\n",
      "The height of the Eiffel Tower is approximately 330 meters.\n",
      "\n",
      "TERMINATE\n",
      "\n",
      "--------------------------------------------------------------------------------\n"
     ]
    }
   ],
   "source": [
    "import os\n",
    "import json\n",
    "import autogen\n",
    "from autogen import AssistantAgent, UserProxyAgent\n",
    "\n",
    "# start logging\n",
    "logging_session_id = autogen.runtime_logging.start(config={\"dbname\": \"logs.db\"})\n",
    "print(\"Logging session ID: \" + str(logging_session_id))\n",
    "\n",
    "## Create an Agent Workflow and Run it\n",
    "llm_config = {\n",
    "    \"config_list\": [\n",
    "        {\n",
    "            \"model\": \"gpt-4\",\n",
    "            \"api_key\": os.environ[\"OPENAI_API_KEY\"],  # Note, add your own API key to environment variable\n",
    "        }\n",
    "    ],\n",
    "    \"temperature\": 0.9,\n",
    "}\n",
    "\n",
    "assistant = AssistantAgent(name=\"assistant\", llm_config=llm_config)\n",
    "user_proxy = UserProxyAgent(\n",
    "    name=\"user_proxy\",\n",
    "    code_execution_config=False,\n",
    "    human_input_mode=\"NEVER\",\n",
    "    is_termination_msg=lambda msg: \"TERMINATE\" in msg[\"content\"],\n",
    ")\n",
    "\n",
    "user_proxy.initiate_chat(\n",
    "    assistant, message=\"What is the height of the Eiffel Tower? Only respond with the answer and terminate\"\n",
    ")\n",
    "autogen.runtime_logging.stop()"
   ]
  },
  {
   "cell_type": "markdown",
   "metadata": {},
   "source": [
    "## Getting Data from the SQLite Database \n",
    "\n",
    "`logs.db` should be generated, by default it's using SQLite database. You can view the data with GUI tool like `sqlitebrowser`, using SQLite command line shell or using python script:\n",
    "\n"
   ]
  },
  {
   "cell_type": "code",
   "execution_count": 10,
   "metadata": {},
   "outputs": [],
   "source": [
    "def get_log(dbname=\"logs.db\", table=\"chat_completions\"):\n",
    "    import sqlite3\n",
    "\n",
    "    con = sqlite3.connect(dbname)\n",
    "    query = f\"SELECT * from {table}\"\n",
    "    cursor = con.execute(query)\n",
    "    rows = cursor.fetchall()\n",
    "    column_names = [description[0] for description in cursor.description]\n",
    "    data = [dict(zip(column_names, row)) for row in rows]\n",
    "    con.close()\n",
    "    return data"
   ]
  },
  {
   "cell_type": "code",
   "execution_count": 11,
   "metadata": {},
   "outputs": [
    {
     "data": {
      "text/html": [
       "<div>\n",
       "<style scoped>\n",
       "    .dataframe tbody tr th:only-of-type {\n",
       "        vertical-align: middle;\n",
       "    }\n",
       "\n",
       "    .dataframe tbody tr th {\n",
       "        vertical-align: top;\n",
       "    }\n",
       "\n",
       "    .dataframe thead th {\n",
       "        text-align: right;\n",
       "    }\n",
       "</style>\n",
       "<table border=\"1\" class=\"dataframe\">\n",
       "  <thead>\n",
       "    <tr style=\"text-align: right;\">\n",
       "      <th></th>\n",
       "      <th>id</th>\n",
       "      <th>invocation_id</th>\n",
       "      <th>client_id</th>\n",
       "      <th>wrapper_id</th>\n",
       "      <th>session_id</th>\n",
       "      <th>request</th>\n",
       "      <th>response</th>\n",
       "      <th>is_cached</th>\n",
       "      <th>cost</th>\n",
       "      <th>start_time</th>\n",
       "      <th>end_time</th>\n",
       "      <th>total_tokens</th>\n",
       "    </tr>\n",
       "  </thead>\n",
       "  <tbody>\n",
       "    <tr>\n",
       "      <th>0</th>\n",
       "      <td>1</td>\n",
       "      <td>6a6b8343-1e01-43a8-97fa-da06b84bc0e1</td>\n",
       "      <td>139932881966976</td>\n",
       "      <td>139936942273104</td>\n",
       "      <td>e5befd7d-d9ce-4b96-9c7f-ff4ee9356c7b</td>\n",
       "      <td>{\"messages\": [{\"content\": \"You are a helpful A...</td>\n",
       "      <td>{\\n    \"id\": \"chatcmpl-8rYbYJF9Vz68vgy1SlIPrJg...</td>\n",
       "      <td>1</td>\n",
       "      <td>0.01572</td>\n",
       "      <td>2024-02-12 22:48:53.551036</td>\n",
       "      <td>2024-02-12 22:48:53.553355</td>\n",
       "      <td>507</td>\n",
       "    </tr>\n",
       "    <tr>\n",
       "      <th>1</th>\n",
       "      <td>2</td>\n",
       "      <td>8ee67268-2d4e-4fa3-852d-ffbdd4d82532</td>\n",
       "      <td>139936942266144</td>\n",
       "      <td>139932882206576</td>\n",
       "      <td>13a337bc-87e2-467c-9aa8-abde5676c179</td>\n",
       "      <td>{\"messages\": [{\"content\": \"You are a helpful A...</td>\n",
       "      <td>{\\n    \"id\": \"chatcmpl-8rYbYJF9Vz68vgy1SlIPrJg...</td>\n",
       "      <td>1</td>\n",
       "      <td>0.01572</td>\n",
       "      <td>2024-02-12 22:48:55.078977</td>\n",
       "      <td>2024-02-12 22:48:55.079256</td>\n",
       "      <td>507</td>\n",
       "    </tr>\n",
       "    <tr>\n",
       "      <th>2</th>\n",
       "      <td>3</td>\n",
       "      <td>253362f4-5561-4817-a565-0d266c684790</td>\n",
       "      <td>139932882335440</td>\n",
       "      <td>139932882794576</td>\n",
       "      <td>b04aa5ec-dbbc-4094-96ec-04418d6764bb</td>\n",
       "      <td>{\"messages\": [{\"content\": \"You are a helpful A...</td>\n",
       "      <td>{\\n    \"id\": \"chatcmpl-8rYbYJF9Vz68vgy1SlIPrJg...</td>\n",
       "      <td>1</td>\n",
       "      <td>0.01572</td>\n",
       "      <td>2024-02-12 22:48:56.486242</td>\n",
       "      <td>2024-02-12 22:48:56.486545</td>\n",
       "      <td>507</td>\n",
       "    </tr>\n",
       "  </tbody>\n",
       "</table>\n",
       "</div>"
      ],
      "text/plain": [
       "   id                         invocation_id        client_id       wrapper_id  \\\n",
       "0   1  6a6b8343-1e01-43a8-97fa-da06b84bc0e1  139932881966976  139936942273104   \n",
       "1   2  8ee67268-2d4e-4fa3-852d-ffbdd4d82532  139936942266144  139932882206576   \n",
       "2   3  253362f4-5561-4817-a565-0d266c684790  139932882335440  139932882794576   \n",
       "\n",
       "                             session_id  \\\n",
       "0  e5befd7d-d9ce-4b96-9c7f-ff4ee9356c7b   \n",
       "1  13a337bc-87e2-467c-9aa8-abde5676c179   \n",
       "2  b04aa5ec-dbbc-4094-96ec-04418d6764bb   \n",
       "\n",
       "                                             request  \\\n",
       "0  {\"messages\": [{\"content\": \"You are a helpful A...   \n",
       "1  {\"messages\": [{\"content\": \"You are a helpful A...   \n",
       "2  {\"messages\": [{\"content\": \"You are a helpful A...   \n",
       "\n",
       "                                            response  is_cached     cost  \\\n",
       "0  {\\n    \"id\": \"chatcmpl-8rYbYJF9Vz68vgy1SlIPrJg...          1  0.01572   \n",
       "1  {\\n    \"id\": \"chatcmpl-8rYbYJF9Vz68vgy1SlIPrJg...          1  0.01572   \n",
       "2  {\\n    \"id\": \"chatcmpl-8rYbYJF9Vz68vgy1SlIPrJg...          1  0.01572   \n",
       "\n",
       "                   start_time                    end_time  total_tokens  \n",
       "0  2024-02-12 22:48:53.551036  2024-02-12 22:48:53.553355           507  \n",
       "1  2024-02-12 22:48:55.078977  2024-02-12 22:48:55.079256           507  \n",
       "2  2024-02-12 22:48:56.486242  2024-02-12 22:48:56.486545           507  "
      ]
     },
     "execution_count": 11,
     "metadata": {},
     "output_type": "execute_result"
    }
   ],
   "source": [
    "import pandas as pd\n",
    "\n",
    "def str_to_dict(s):\n",
    "    return json.loads(s)\n",
    "\n",
    "\n",
    "log_data = get_log()\n",
    "log_data_df = pd.DataFrame(log_data)\n",
    "log_data_df[\"total_tokens\"] = log_data_df.apply(\n",
    "    lambda row: str_to_dict(row[\"response\"])[\"usage\"][\"total_tokens\"], axis=1\n",
    ")\n",
    "log_data_df"
   ]
  },
  {
   "cell_type": "markdown",
   "metadata": {},
   "source": [
    "## Computing Cost \n",
    "\n",
    "One use case of telemetry data is to compute the cost of a session."
   ]
  },
  {
   "cell_type": "code",
   "execution_count": 12,
   "metadata": {},
   "outputs": [
    {
     "name": "stdout",
     "output_type": "stream",
     "text": [
      "Total tokens for all sessions: 1521, total cost: 0.0472\n",
      "Total tokens for session b04aa5ec-dbbc-4094-96ec-04418d6764bb: 507, cost: 0.0157\n"
     ]
    }
   ],
   "source": [
    "# sum totoal tokens for all sessions\n",
    "total_tokens = log_data_df[\"total_tokens\"].sum()\n",
    "\n",
    "# sum total cost for all sessions\n",
    "total_cost = log_data_df[\"cost\"].sum()\n",
    "\n",
    "# total tokens for specific session telemetry_session_id\n",
    "session_tokens = log_data_df[log_data_df[\"session_id\"] == logging_session_id][\"total_tokens\"].sum()\n",
    "session_cost = log_data_df[log_data_df[\"session_id\"] == logging_session_id][\"cost\"].sum()\n",
    "\n",
    "print(\"Total tokens for all sessions: \" + str(total_tokens) + \", total cost: \" + str(round(total_cost, 4)))\n",
    "print(\"Total tokens for session \" + str(logging_session_id) + \": \" + str(session_tokens) + \", cost: \" + str(round(session_cost, 4)))"
   ]
  }
 ],
 "metadata": {
  "kernelspec": {
   "display_name": "autog",
   "language": "python",
   "name": "python3"
  },
  "language_info": {
   "codemirror_mode": {
    "name": "ipython",
    "version": 3
   },
   "file_extension": ".py",
   "mimetype": "text/x-python",
   "name": "python",
   "nbconvert_exporter": "python",
   "pygments_lexer": "ipython3",
   "version": "3.10.13"
  }
 },
 "nbformat": 4,
 "nbformat_minor": 2
}
