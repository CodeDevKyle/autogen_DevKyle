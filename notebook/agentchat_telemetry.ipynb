{
 "cells": [
  {
   "cell_type": "markdown",
   "metadata": {},
   "source": [
    "## Telemetry Logging with AutoGen \n",
    "\n",
    "AutoGen offers some utilities to log telemetry data, useful for debugging and performance analysis. This notebook demonstrates how to use these utilities. \n",
    "\n",
    "In general, users can initiate logging by calling `autogen.telemetry.start_logging` and stop logging by calling `autogen.telemetry.stop_logging`, and get logged data by calling `autogen.telemetry.get_log`."
   ]
  },
  {
   "cell_type": "code",
   "execution_count": 1,
   "metadata": {},
   "outputs": [
    {
     "name": "stdout",
     "output_type": "stream",
     "text": [
      "Telemetry session ID: 2502ff49-ffbf-4ab3-888b-77dbba663f44\n",
      "\u001b[33muser_proxy\u001b[0m (to assistant):\n",
      "\n",
      "What is the height of the Eiffel Tower? Only respond with the answer and terminate\n",
      "\n",
      "--------------------------------------------------------------------------------\n",
      "\u001b[33massistant\u001b[0m (to user_proxy):\n",
      "\n",
      "The height of the Eiffel Tower is 330 meters (1,083 feet).\n",
      "\n",
      "TERMINATE\n",
      "\n",
      "--------------------------------------------------------------------------------\n"
     ]
    }
   ],
   "source": [
    "import os\n",
    "import json\n",
    "import autogen\n",
    "from autogen import AssistantAgent, UserProxyAgent\n",
    "import pandas as pd  ## install pandas if not installed\n",
    "\n",
    "# start logging telemetry data\n",
    "telemetry_session_id = autogen.telemetry.start_logging(dbpath=\"telemetry.db\")\n",
    "print(\"Telemetry session ID: \" + str(telemetry_session_id))\n",
    "\n",
    "## Create an Agent Workflow and Run it\n",
    "llm_config = {\n",
    "    \"config_list\": [\n",
    "        {\n",
    "            \"model\": \"gpt-4-turbo-preview\",\n",
    "            \"api_key\": os.environ[\"OPENAI_API_KEY\"],  # Note, add your own API key here\n",
    "        }\n",
    "    ],\n",
    "    \"temperature\": 0.9,\n",
    "}\n",
    "\n",
    "## start_logging\n",
    "assistant = AssistantAgent(name=\"assistant\", llm_config=llm_config)\n",
    "user_proxy = UserProxyAgent(\n",
    "    name=\"user_proxy\",\n",
    "    code_execution_config=False,\n",
    "    human_input_mode=\"NEVER\",\n",
    "    is_termination_msg=lambda msg: \"TERMINATE\" in msg[\"content\"],\n",
    ")\n",
    "\n",
    "user_proxy.initiate_chat(\n",
    "    assistant, message=\"What is the height of the Eiffel Tower? Only respond with the answer and terminate\"\n",
    ")\n",
    "autogen.telemetry.stop_logging()"
   ]
  },
  {
   "cell_type": "markdown",
   "metadata": {},
   "source": [
    "## Getting Data from the SQL Lite Database \n",
    "\n",
    "We can get data from the database by calling `autogen.telemetry.get_log`. This function returns a pandas dataframe with the logged data. \n",
    "\n"
   ]
  },
  {
   "cell_type": "code",
   "execution_count": 2,
   "metadata": {},
   "outputs": [
    {
     "data": {
      "text/html": [
       "<div>\n",
       "<style scoped>\n",
       "    .dataframe tbody tr th:only-of-type {\n",
       "        vertical-align: middle;\n",
       "    }\n",
       "\n",
       "    .dataframe tbody tr th {\n",
       "        vertical-align: top;\n",
       "    }\n",
       "\n",
       "    .dataframe thead th {\n",
       "        text-align: right;\n",
       "    }\n",
       "</style>\n",
       "<table border=\"1\" class=\"dataframe\">\n",
       "  <thead>\n",
       "    <tr style=\"text-align: right;\">\n",
       "      <th></th>\n",
       "      <th>id</th>\n",
       "      <th>invocation_id</th>\n",
       "      <th>client_id</th>\n",
       "      <th>wrapper_id</th>\n",
       "      <th>session_id</th>\n",
       "      <th>request</th>\n",
       "      <th>response</th>\n",
       "      <th>is_cached</th>\n",
       "      <th>cost</th>\n",
       "      <th>start_time</th>\n",
       "      <th>end_time</th>\n",
       "      <th>total_tokens</th>\n",
       "    </tr>\n",
       "  </thead>\n",
       "  <tbody>\n",
       "    <tr>\n",
       "      <th>0</th>\n",
       "      <td>1</td>\n",
       "      <td>962a7e9d-e0d0-48e9-a0f1-bfa380c75724</td>\n",
       "      <td>140127801634544</td>\n",
       "      <td>140127742324752</td>\n",
       "      <td>2dae4d47-79f4-4fbb-8ffc-69c2e6213799</td>\n",
       "      <td>{\"messages\": [{\"content\": \"You are a helpful A...</td>\n",
       "      <td>{\\n    \"id\": \"chatcmpl-8nBekDzT58BHYVz8KeVcgtv...</td>\n",
       "      <td>1</td>\n",
       "      <td>0.0</td>\n",
       "      <td>2024-01-31 21:31:35.475838</td>\n",
       "      <td>2024-01-31 21:31:35.475989</td>\n",
       "      <td>511</td>\n",
       "    </tr>\n",
       "    <tr>\n",
       "      <th>1</th>\n",
       "      <td>2</td>\n",
       "      <td>ae038fc5-00de-48e3-b18f-f54bc6b9bdea</td>\n",
       "      <td>140292698273392</td>\n",
       "      <td>140292698272000</td>\n",
       "      <td>8695ecc6-eac4-4a1e-b147-d317416e64ed</td>\n",
       "      <td>{\"messages\": [{\"content\": \"You are a helpful A...</td>\n",
       "      <td>{\\n    \"id\": \"chatcmpl-8nBekDzT58BHYVz8KeVcgtv...</td>\n",
       "      <td>1</td>\n",
       "      <td>0.0</td>\n",
       "      <td>2024-01-31 21:37:40.485350</td>\n",
       "      <td>2024-01-31 21:37:40.485631</td>\n",
       "      <td>511</td>\n",
       "    </tr>\n",
       "    <tr>\n",
       "      <th>2</th>\n",
       "      <td>3</td>\n",
       "      <td>6b849f31-95b5-47f1-b1cf-49a3bd9746f9</td>\n",
       "      <td>140292724011792</td>\n",
       "      <td>140292724245216</td>\n",
       "      <td>22fe9e28-c889-49b2-a100-89b61d93d092</td>\n",
       "      <td>{\"messages\": [{\"content\": \"You are a helpful A...</td>\n",
       "      <td>{\\n    \"id\": \"chatcmpl-8nBekDzT58BHYVz8KeVcgtv...</td>\n",
       "      <td>1</td>\n",
       "      <td>0.0</td>\n",
       "      <td>2024-01-31 21:37:46.964779</td>\n",
       "      <td>2024-01-31 21:37:46.964931</td>\n",
       "      <td>511</td>\n",
       "    </tr>\n",
       "    <tr>\n",
       "      <th>3</th>\n",
       "      <td>4</td>\n",
       "      <td>bb06d6e4-d1d8-43a0-9ab4-ce56037dd0f1</td>\n",
       "      <td>139864741475808</td>\n",
       "      <td>139864741476048</td>\n",
       "      <td>2502ff49-ffbf-4ab3-888b-77dbba663f44</td>\n",
       "      <td>{\"messages\": [{\"content\": \"You are a helpful A...</td>\n",
       "      <td>{\\n    \"id\": \"chatcmpl-8nBekDzT58BHYVz8KeVcgtv...</td>\n",
       "      <td>1</td>\n",
       "      <td>0.0</td>\n",
       "      <td>2024-01-31 21:37:54.907778</td>\n",
       "      <td>2024-01-31 21:37:54.907935</td>\n",
       "      <td>511</td>\n",
       "    </tr>\n",
       "  </tbody>\n",
       "</table>\n",
       "</div>"
      ],
      "text/plain": [
       "   id                         invocation_id        client_id       wrapper_id  \\\n",
       "0   1  962a7e9d-e0d0-48e9-a0f1-bfa380c75724  140127801634544  140127742324752   \n",
       "1   2  ae038fc5-00de-48e3-b18f-f54bc6b9bdea  140292698273392  140292698272000   \n",
       "2   3  6b849f31-95b5-47f1-b1cf-49a3bd9746f9  140292724011792  140292724245216   \n",
       "3   4  bb06d6e4-d1d8-43a0-9ab4-ce56037dd0f1  139864741475808  139864741476048   \n",
       "\n",
       "                             session_id  \\\n",
       "0  2dae4d47-79f4-4fbb-8ffc-69c2e6213799   \n",
       "1  8695ecc6-eac4-4a1e-b147-d317416e64ed   \n",
       "2  22fe9e28-c889-49b2-a100-89b61d93d092   \n",
       "3  2502ff49-ffbf-4ab3-888b-77dbba663f44   \n",
       "\n",
       "                                             request  \\\n",
       "0  {\"messages\": [{\"content\": \"You are a helpful A...   \n",
       "1  {\"messages\": [{\"content\": \"You are a helpful A...   \n",
       "2  {\"messages\": [{\"content\": \"You are a helpful A...   \n",
       "3  {\"messages\": [{\"content\": \"You are a helpful A...   \n",
       "\n",
       "                                            response  is_cached  cost  \\\n",
       "0  {\\n    \"id\": \"chatcmpl-8nBekDzT58BHYVz8KeVcgtv...          1   0.0   \n",
       "1  {\\n    \"id\": \"chatcmpl-8nBekDzT58BHYVz8KeVcgtv...          1   0.0   \n",
       "2  {\\n    \"id\": \"chatcmpl-8nBekDzT58BHYVz8KeVcgtv...          1   0.0   \n",
       "3  {\\n    \"id\": \"chatcmpl-8nBekDzT58BHYVz8KeVcgtv...          1   0.0   \n",
       "\n",
       "                   start_time                    end_time  total_tokens  \n",
       "0  2024-01-31 21:31:35.475838  2024-01-31 21:31:35.475989           511  \n",
       "1  2024-01-31 21:37:40.485350  2024-01-31 21:37:40.485631           511  \n",
       "2  2024-01-31 21:37:46.964779  2024-01-31 21:37:46.964931           511  \n",
       "3  2024-01-31 21:37:54.907778  2024-01-31 21:37:54.907935           511  "
      ]
     },
     "execution_count": 2,
     "metadata": {},
     "output_type": "execute_result"
    }
   ],
   "source": [
    "def str_to_dict(s):\n",
    "    return json.loads(s)\n",
    "\n",
    "\n",
    "telemetry_data = autogen.telemetry.get_log(table=\"chat_completions\")\n",
    "telemetry_df = pd.DataFrame(telemetry_data)\n",
    "telemetry_df[\"total_tokens\"] = telemetry_df.apply(\n",
    "    lambda row: str_to_dict(row[\"response\"])[\"usage\"][\"total_tokens\"], axis=1\n",
    ")\n",
    "telemetry_df"
   ]
  },
  {
   "cell_type": "markdown",
   "metadata": {},
   "source": [
    "## Computing Cost \n",
    "\n",
    "One use case of telemetry data is to compute the cost of a session."
   ]
  },
  {
   "cell_type": "code",
   "execution_count": 4,
   "metadata": {},
   "outputs": [
    {
     "name": "stdout",
     "output_type": "stream",
     "text": [
      "Total tokens for all sessions: 2044\n",
      "Total tokens for session 2502ff49-ffbf-4ab3-888b-77dbba663f44: 511\n"
     ]
    }
   ],
   "source": [
    "# total tokens for all sessions .. sum totoal tokens for all sessions\n",
    "total_tokens = telemetry_df[\"total_tokens\"].sum()\n",
    "# total tokens for specific session telemetry_session_id\n",
    "session_tokens = telemetry_df[telemetry_df[\"session_id\"] == telemetry_session_id][\"total_tokens\"].sum()\n",
    "\n",
    "print(\"Total tokens for all sessions: \" + str(total_tokens))\n",
    "print(\"Total tokens for session \" + str(telemetry_session_id) + \": \" + str(session_tokens))"
   ]
  },
  {
   "cell_type": "code",
   "execution_count": null,
   "metadata": {},
   "outputs": [],
   "source": []
  }
 ],
 "metadata": {
  "kernelspec": {
   "display_name": "autog",
   "language": "python",
   "name": "python3"
  },
  "language_info": {
   "codemirror_mode": {
    "name": "ipython",
    "version": 3
   },
   "file_extension": ".py",
   "mimetype": "text/x-python",
   "name": "python",
   "nbconvert_exporter": "python",
   "pygments_lexer": "ipython3",
   "version": "3.10.13"
  }
 },
 "nbformat": 4,
 "nbformat_minor": 2
}
