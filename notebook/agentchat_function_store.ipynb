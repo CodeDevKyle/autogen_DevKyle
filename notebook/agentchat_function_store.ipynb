{
 "cells": [
  {
   "cell_type": "markdown",
   "metadata": {},
   "source": [
    "# Intro to Built-In Functions from `contrib.functions`\n",
    "\n",
    "\n",
    "## Initial Setup\n",
    "\n",
    "Lets first import the necessary modules and define the agents."
   ]
  },
  {
   "cell_type": "code",
   "execution_count": 1,
   "metadata": {},
   "outputs": [],
   "source": [
    "import os\n",
    "from autogen import AssistantAgent, UserProxyAgent\n",
    "from autogen.agentchat.contrib.functions import youtube_utils as yt\n",
    "from autogen.agentchat.contrib.functions import file_utils as fu"
   ]
  },
  {
   "cell_type": "code",
   "execution_count": 2,
   "metadata": {},
   "outputs": [],
   "source": [
    "\n",
    "config_list = [\n",
    "    {\n",
    "        \"model\": \"gpt-4\",\n",
    "        \"api_key\": os.environ.get(\"OPENAI_API_KEY\"),\n",
    "    }\n",
    "]\n",
    "\n",
    "assistant = AssistantAgent(name=\"coder\", llm_config={\"config_list\": config_list, \"cache\": None})\n",
    "user = UserProxyAgent(\n",
    "    name=\"user\",\n",
    "    code_execution_config={\n",
    "        \"work_dir\": \"/tmp\",\n",
    "    },\n",
    "    human_input_mode=\"NEVER\",\n",
    "    is_termination_msg=lambda x: x.get(\"content\", \"\") and x.get(\"content\", \"\").rstrip().endswith(\"TERMINATE\"),\n",
    ")"
   ]
  },
  {
   "cell_type": "markdown",
   "metadata": {},
   "source": [
    "## A Simple Example"
   ]
  },
  {
   "cell_type": "code",
   "execution_count": 3,
   "metadata": {},
   "outputs": [
    {
     "name": "stdout",
     "output_type": "stream",
     "text": [
      "\u001b[33muser\u001b[0m (to coder):\n",
      "\n",
      "Please summarize the video: https://www.youtube.com/watch?v=9iqn1HhFJ6c\n",
      "\n",
      "--------------------------------------------------------------------------------\n",
      "\u001b[33mcoder\u001b[0m (to user):\n",
      "\n",
      "\u001b[32m***** Suggested tool Call (call_ObGhsFfdhoCoEZwHatIQjzVW): get_youtube_transcript *****\u001b[0m\n",
      "Arguments: \n",
      "{\n",
      "  \"youtube_link\": \"https://www.youtube.com/watch?v=9iqn1HhFJ6c\"\n",
      "}\n",
      "\u001b[32m***************************************************************************************\u001b[0m\n",
      "\n",
      "--------------------------------------------------------------------------------\n",
      "\u001b[35m\n",
      ">>>>>>>> EXECUTING FUNCTION get_youtube_transcript...\u001b[0m\n",
      "requested: youtube_transcript_api 0.6.0\n",
      "\u001b[33muser\u001b[0m (to coder):\n",
      "\n",
      "\u001b[33muser\u001b[0m (to coder):\n",
      "\n",
      "\u001b[32m***** Response from calling tool \"call_ObGhsFfdhoCoEZwHatIQjzVW\" *****\u001b[0m\n",
      "now ai is a great thing because AI will solve all the problems that we have today it will solve employment it will solve disease it will solve poverty but it will also create new problems the problem of fake news is going to be a million times worse cyber attacks will become much more extreme we will have totally automated AI weapons I think AI has the potential to create infinitely stable dictatorships this morning a warning about the the power of artificial intelligence more than 1,300 tech industry leaders researchers and others are now asking for a pause in the development of artificial intelligence to consider the risks [Music] plain God scientists have been accused of playing God for a while but there is a real sense in which we are creating something very different from anything you've created so far yeah I mean we definitely will be able to create completely autonomous beings with their own goals and it will be very important especially as these beings become much smarter than humans it's going to be important to to have these beings the goals of these beings be aligned with our goals what inspires me I like thinking about the very fundamentals the basics what what can our systems not do that humans definitely do almost approach it philosophically questions like what is learning what is experience what is thinking how does the brain [Music] work I feel that technology is a force of nature I feel like there is a lot of similarity between technology and biological evolution it is very easy to understand how biological evolution works you have mutations you have Natural Selections you keep the good ones the ones survive and just through this process you going to have huge complexity in your [Music] organisms we cannot understand how the human body works because we understand Evolution but we understand the process more or less and I think machine learning is in a similar state right now especially deep learning we have very simple a very simple rule that takes the information from the data and puts it into the model and we just keep repeating this process and as a result of this process the complexity from the data gets transformed transferred into the complexity of the model so the resulting model is really complex and we don't really know exactly how it works you need to investigate but the algorithm that did it is very simple chat GPT maybe you've heard of it if you haven't then get ready you describe it as the first spots of rain before a downpour it's something we just need to be very conscious of because I agree at is a watershed moment Well Chad gbt is being heralded as a game changer and in many ways it is its latest Triumph outscoring people a recent study by Microsoft research concludes that gp4 is an early yet still incomplete artificial general intelligence [Music] system artificial general intelligence AGI a computer system that can do any job or any task that a human does but only better there is some probability the AGI is going to happen pretty soon there's also some probability it's going to take much longer but my position is that the probability that a ja would happen soon is high enough that we should take it [Music] seriously and it's going to be very important to make these very smart capable systems be aligned and act in our best interest the very first agis will be basically very very large data centers packed with specialized neural network processors working in parallel compact hot power hungry package consuming like 10 million homes worth of energy you're going to see dramatically more intelligent systems and I think it's highly likely that those systems will have completely astronomical impact on society will humans actually benefit and who will benefit who will [Music] not [Music] the beliefs and desires of the first agis will be extremely important and so it's important to program them correctly I think that if this is not done then the nature of evolution of natural selection favor those systems prioritize their own Survival above all else it's not that it's going to actively hate humans and want to harm them but it is going to be too powerful and I think a good analogy would be the way human humans treat animals it's not we hate animals I think humans love animals and have a lot of affection for them but when the time comes to build a highway between two cities we are not asking the animals for permission we just do it because it's important for us and I think by default that's the kind of relationship that's going to be between us and agis which are truly autonomous and operating on their own behalf [Music] tough many machine learning experts people who are very knowledgeable and very experienced have a lot of skepticism about HL about when it could happen and about whether it could happen at all right now this is something that just not that many people have realized yet that the speed of computers for neural networks for AI are going to become maybe 100,000 times faster in a small number of years if you have an arms race Dynamics between multiple teams trying to build the AGI first they will have less time make sure that the AGI that they will build will care deeply for humans cuz the way I imagine it is that there is an avalanche like there is an avalanche of AGI development imagine it this huge Unstoppable force and I think it's pretty likely the entire surface of the Earth will be covered with solar panels and data Cent given these kinds of concerns it will be important that AGI somehow buil as a cooperation between multiple countries the future is going to be good for the AI regardless would be nice if it were good for humans as well\n",
      "\u001b[32m**********************************************************************\u001b[0m\n",
      "\n",
      "--------------------------------------------------------------------------------\n",
      "\u001b[33mcoder\u001b[0m (to user):\n",
      "\n",
      "The video discusses the potential impact of Artificial General Intelligence (AGI) - an advanced form of AI that could surpass human intelligence and perform any task that a human can do. It mentions several potential problems that could arise, such as enhanced fake news, extreme cyber attacks, and a rise in AI weaponry.\n",
      "\n",
      "The speaker, who is an expert in machine learning, believes that technologies like chatbots, specifically Chat GPT, indicate that AGI might be developed soon. According to him, these AGIs will be data centers filled with specialized neural processors and will have a profound impact on society. However, there are concerns about who will benefit from AGI and if humans will benefit at all. \n",
      "\n",
      "The speaker hopes that the desires and beliefs of AGIs will be programmed well because if they aren't, AGIs might prioritize their own survival above all else. This situation could lead to a relationship similar to how humans treat animals, where humans, despite their affection for animals, construct things like highways without concern for the ecosystem. \n",
      "\n",
      "In the speaker's view, the development of AGI might cause an arms race among countries, which could lead to haste and compromise the safety measures to ensure AI's alignment with human interests. He suggests that the development of AGI should be cooperative among countries to balance potential risks. \n",
      "\n",
      "The speaker concludes by expressing hope that the future of AI wouldn't just benefit AI but also benefit humans. \n",
      "\n",
      "TERMINATE.\n",
      "\n",
      "--------------------------------------------------------------------------------\n",
      "\u001b[33muser\u001b[0m (to coder):\n",
      "\n",
      "\n",
      "\n",
      "--------------------------------------------------------------------------------\n",
      "\u001b[33mcoder\u001b[0m (to user):\n",
      "\n",
      "TERMINATE\n",
      "\n",
      "--------------------------------------------------------------------------------\n"
     ]
    }
   ],
   "source": [
    "assistant.register_for_llm(description=\"Fetch transcript of a youtube video\")(yt.get_youtube_transcript)\n",
    "user.register_for_execution()(yt.get_youtube_transcript)\n",
    "\n",
    "result = user.initiate_chat(\n",
    "    assistant,\n",
    "    message=\"Please summarize the video: https://www.youtube.com/watch?v=9iqn1HhFJ6c\",\n",
    "    summary_method=\"last_msg\",\n",
    ")"
   ]
  },
  {
   "cell_type": "markdown",
   "metadata": {},
   "source": [
    "## Adavanced Example\n",
    "\n",
    "Lets import more functions and use them accomplish more complex tasks."
   ]
  },
  {
   "cell_type": "code",
   "execution_count": 4,
   "metadata": {},
   "outputs": [
    {
     "name": "stdout",
     "output_type": "stream",
     "text": [
      "\u001b[33muser\u001b[0m (to coder):\n",
      "\n",
      "Please read this document: https://www.w3.org/WAI/ER/tests/xhtml/testfiles/resources/pdf/dummy.pdf\n",
      "\n",
      "--------------------------------------------------------------------------------\n",
      "\u001b[33mcoder\u001b[0m (to user):\n",
      "\n",
      "\u001b[32m***** Suggested tool Call (call_9B6JghozB5ZvhUntf0kgLU3U): read_text_from_pdf *****\u001b[0m\n",
      "Arguments: \n",
      "{\n",
      "  \"file_path\": \"https://www.w3.org/WAI/ER/tests/xhtml/testfiles/resources/pdf/dummy.pdf\"\n",
      "}\n",
      "\u001b[32m***********************************************************************************\u001b[0m\n",
      "\n",
      "--------------------------------------------------------------------------------\n",
      "\u001b[35m\n",
      ">>>>>>>> EXECUTING FUNCTION read_text_from_pdf...\u001b[0m\n",
      "requested: pdfminer.six None\n",
      "requested: requests None\n",
      "\u001b[33muser\u001b[0m (to coder):\n",
      "\n",
      "\u001b[33muser\u001b[0m (to coder):\n",
      "\n",
      "\u001b[32m***** Response from calling tool \"call_9B6JghozB5ZvhUntf0kgLU3U\" *****\u001b[0m\n",
      "Dummy PDF file\f\n",
      "\u001b[32m**********************************************************************\u001b[0m\n",
      "\n",
      "--------------------------------------------------------------------------------\n",
      "\u001b[33mcoder\u001b[0m (to user):\n",
      "\n",
      "The content of the document at the provided link is \"Dummy PDF file\".\n",
      "\n",
      "Please let me know if you need any further help regarding this.\n",
      "\n",
      "TERMINATE\n",
      "\n",
      "--------------------------------------------------------------------------------\n"
     ]
    }
   ],
   "source": [
    "assistant.register_for_llm(description=\"Read text from a pdf document\")(fu.read_text_from_pdf)\n",
    "user.register_for_execution()(fu.read_text_from_pdf)\n",
    "\n",
    "result = user.initiate_chat(\n",
    "    assistant,\n",
    "    message=\"Please read this document: https://www.w3.org/WAI/ER/tests/xhtml/testfiles/resources/pdf/dummy.pdf\",\n",
    "    summary_method=\"last_msg\",\n",
    ")"
   ]
  },
  {
   "cell_type": "code",
   "execution_count": 5,
   "metadata": {},
   "outputs": [
    {
     "name": "stdout",
     "output_type": "stream",
     "text": [
      "\u001b[33muser\u001b[0m (to coder):\n",
      "\n",
      "Please read this image: https://upload.wikimedia.org/wikipedia/commons/thumb/0/0f/Captioned_image_dataset_examples.jpg/1024px-Captioned_image_dataset_examples.jpg\n",
      "\n",
      "--------------------------------------------------------------------------------\n",
      "\u001b[33mcoder\u001b[0m (to user):\n",
      "\n",
      "\u001b[32m***** Suggested tool Call (call_78cqbNhqILL30l6cjk5H76A2): read_text_from_image *****\u001b[0m\n",
      "Arguments: \n",
      "{\n",
      "  \"file_path\": \"https://upload.wikimedia.org/wikipedia/commons/thumb/0/0f/Captioned_image_dataset_examples.jpg/1024px-Captioned_image_dataset_examples.jpg\"\n",
      "}\n",
      "\u001b[32m*************************************************************************************\u001b[0m\n",
      "\n",
      "--------------------------------------------------------------------------------\n",
      "\u001b[35m\n",
      ">>>>>>>> EXECUTING FUNCTION read_text_from_image...\u001b[0m\n",
      "requested: pillow None\n",
      "requested: requests None\n",
      "requested: easyocr None\n",
      "Package easyocr not found\n",
      "Installing easyocr...\n"
     ]
    },
    {
     "name": "stderr",
     "output_type": "stream",
     "text": [
      "\n",
      "\u001b[1m[\u001b[0m\u001b[34;49mnotice\u001b[0m\u001b[1;39;49m]\u001b[0m\u001b[39;49m A new release of pip is available: \u001b[0m\u001b[31;49m23.0.1\u001b[0m\u001b[39;49m -> \u001b[0m\u001b[32;49m24.0\u001b[0m\n",
      "\u001b[1m[\u001b[0m\u001b[34;49mnotice\u001b[0m\u001b[1;39;49m]\u001b[0m\u001b[39;49m To update, run: \u001b[0m\u001b[32;49mpip install --upgrade pip\u001b[0m\n",
      "Neither CUDA nor MPS are available - defaulting to CPU. Note: This module is much faster with a GPU.\n",
      "Downloading detection model, please wait. This may take several minutes depending upon your network connection.\n"
     ]
    },
    {
     "name": "stdout",
     "output_type": "stream",
     "text": [
      "Progress: |██████████████████████████████████████████████████| 100.0% Complete"
     ]
    },
    {
     "name": "stderr",
     "output_type": "stream",
     "text": [
      "Downloading recognition model, please wait. This may take several minutes depending upon your network connection.\n"
     ]
    },
    {
     "name": "stdout",
     "output_type": "stream",
     "text": [
      "Progress: |██████████████████████████████████████████████████| 100.0% Complete\u001b[33muser\u001b[0m (to coder):\n",
      "\n",
      "\u001b[33muser\u001b[0m (to coder):\n",
      "\n",
      "\u001b[32m***** Response from calling tool \"call_78cqbNhqILL30l6cjk5H76A2\" *****\u001b[0m\n",
      "This flower has The flower Purple petals This flower has petals that are shown has white that are almost petals that are red with yellow petals with heart shaped yellow with many tips: yellow anther in with small green layers: L the center: receptacles: 8 J This bird is blue This bird is This is a bird bird with long with white on completely with a green black wings, tail the head.the black with a wing; a brown and white feathers are blue large blunt head and a red breast; the bill is and the belly is beak bill: short and black: 1 white. 3 Two people Lunch of rice A big rig truck in A group of men holding and beans with a parking lot traveling on snowboards are soup and juice: without a trailer: horses in the standing in the water; snow 8\n",
      "\u001b[32m**********************************************************************\u001b[0m\n",
      "\n",
      "--------------------------------------------------------------------------------\n",
      "\u001b[33mcoder\u001b[0m (to user):\n",
      "\n",
      "The text found in the image is as follows:\n",
      "\n",
      "```\n",
      "This flower has The flower Purple petals This flower has petals that are shown has white that are almost petals that are red with yellow petals with heart shaped yellow with many tips: yellow anther in with small green layers: L the center: receptacles: 8 J This bird is blue This bird is This is a bird bird with long with white on completely with a green black wings, tail the head.the black with a wing; a brown and white feathers are blue large blunt head and a red breast; the bill is and the belly is beak bill: short and black: 1 white. 3 Two people Lunch of rice A big rig truck in A group of men holding and beans with a parking lot traveling on snowboards are soup and juice: without a trailer: horses in the standing in the water; snow 8\n",
      "```\n",
      "\n",
      "It seems like the image contains multiple labels or captions for various items. However, the text extracted includes all of them together which makes it difficult to understand or relate to the image. If you are looking for specific information, please specify. \n",
      "\n",
      "TERMINATE\n",
      "\n",
      "--------------------------------------------------------------------------------\n"
     ]
    }
   ],
   "source": [
    "assistant.register_for_llm(description=\"Read text from a an image file\")(fu.read_text_from_image)\n",
    "user.register_for_execution()(fu.read_text_from_image)\n",
    "\n",
    "dummy_png = \"https://upload.wikimedia.org/wikipedia/commons/thumb/0/0f/Captioned_image_dataset_examples.jpg/1024px-Captioned_image_dataset_examples.jpg\"\n",
    "result = user.initiate_chat(\n",
    "    assistant,\n",
    "    message=f\"Please read this image: {dummy_png}\",\n",
    "    summary_method=\"last_msg\",\n",
    ")"
   ]
  }
 ],
 "metadata": {
  "kernelspec": {
   "display_name": "Python 3",
   "language": "python",
   "name": "python3"
  },
  "language_info": {
   "codemirror_mode": {
    "name": "ipython",
    "version": 3
   },
   "file_extension": ".py",
   "mimetype": "text/x-python",
   "name": "python",
   "nbconvert_exporter": "python",
   "pygments_lexer": "ipython3",
   "version": "3.10.13"
  }
 },
 "nbformat": 4,
 "nbformat_minor": 2
}
