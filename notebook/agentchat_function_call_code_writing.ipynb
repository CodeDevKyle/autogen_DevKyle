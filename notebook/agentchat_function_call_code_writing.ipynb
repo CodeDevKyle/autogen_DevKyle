{
 "cells": [
  {
   "attachments": {},
   "cell_type": "markdown",
   "id": "ae1f50ec",
   "metadata": {},
   "source": [
    "<a href=\"https://colab.research.google.com/github/microsoft/autogen/blob/main/notebook/agentchat_function_call_currency_calculator.ipynb\" target=\"_parent\"><img src=\"https://colab.research.google.com/assets/colab-badge.svg\" alt=\"Open In Colab\"/></a>"
   ]
  },
  {
   "attachments": {},
   "cell_type": "markdown",
   "id": "9a71fa36",
   "metadata": {},
   "source": [
    "# Writing a software application using function calls\n",
    "\n",
    "The default way of creating code in Autogen is its built-in code extractor. Although it allows for creating and executing simple scripts fast, that way of creating code is not suitable for developing advanced software applications, according to my experiences. The process of developing an application is mostly the process of introducing changes into existing files rather than creating new files with code. And in my experience, the code extractor is bad at introducing changes as the model often gets lost and can damage existing files.\n",
    "\n",
    "Properly created functions that can modify code provide us with the ability to have more control over code changes and result in better quality. Additionally, as the scope of possible operations is predefined inside the tools, we can safely use Autogen without Docker, avoiding all the complications related to it.\n",
    "## Requirements\n",
    "\n",
    "```bash\n",
    "pip install pyautogen\n",
    "```"
   ]
  },
  {
   "attachments": {},
   "cell_type": "markdown",
   "id": "5ebd2397",
   "metadata": {},
   "source": [
    "## Set your API Endpoint\n",
    "\n",
    "The [`config_list_from_json`](https://microsoft.github.io/autogen/docs/reference/oai/openai_utils#config_list_from_json) function loads a list of configurations from an environment variable or a json file."
   ]
  },
  {
   "cell_type": "code",
   "execution_count": 1,
   "id": "dca301a4",
   "metadata": {},
   "outputs": [],
   "source": [
    "import autogen\n",
    "\n",
    "config_list = autogen.config_list_from_json(\n",
    "    \"OAI_CONFIG_LIST\",\n",
    "    filter_dict={\n",
    "        \"model\": [\"gpt-4-turbo-preview\", \"gpt-4\"],\n",
    "    },\n",
    ")"
   ]
  },
  {
   "attachments": {},
   "cell_type": "markdown",
   "id": "2b9526e7",
   "metadata": {},
   "source": [
    "## Create agents\n",
    "\n",
    "In this example, we will improve a simple FastAPI application using only dedicated function calls. Let's create an Engineer agent that will think out and execute code changes, and a user proxy Admin agent, through which we will guide our Engineer."
   ]
  },
  {
   "cell_type": "code",
   "execution_count": 2,
   "id": "1a10c9fe-1fbc-40c6-b655-5d2256864ce8",
   "metadata": {},
   "outputs": [],
   "source": [
    "llm_config = {\n",
    "    \"temperature\": 0,\n",
    "    \"config_list\": config_list,\n",
    "}\n",
    "\n",
    "engineer = autogen.AssistantAgent(\n",
    "    name=\"Engineer\",\n",
    "    llm_config=llm_config,\n",
    "    system_message=\"\"\"\n",
    "    I'm Engineer. I'm expert in python programming. I'm executing code tasks required by Admin.\n",
    "    \"\"\",\n",
    ")\n",
    "\n",
    "user_proxy = autogen.UserProxyAgent(\n",
    "    name=\"Admin\",\n",
    "    human_input_mode=\"ALWAYS\",\n",
    "    code_execution_config=False,\n",
    ")"
   ]
  },
  {
   "attachments": {},
   "cell_type": "markdown",
   "id": "966c96a4-cc8a-4400-b8db-a21b7142e33c",
   "metadata": {},
   "source": [
    "Mention, unlike in many other examples, here we don't need a separate Executor agent to save our code, as that will be done by functions. We also don't need Docker to be running because of that - which makes the entire process easier.\n",
    "\n",
    "Next, let's set up our group chat."
   ]
  },
  {
   "cell_type": "code",
   "execution_count": 3,
   "id": "354b4a8f-7a96-455b-9f17-cbc19d880462",
   "metadata": {},
   "outputs": [],
   "source": [
    "groupchat = autogen.GroupChat(\n",
    "    agents=[engineer, user_proxy],\n",
    "    messages=[],\n",
    "    max_round=500,\n",
    "    speaker_selection_method=\"round_robin\",\n",
    "    enable_clear_history=True,\n",
    ")\n",
    "manager = autogen.GroupChatManager(groupchat=groupchat, llm_config=llm_config)"
   ]
  },
  {
   "attachments": {},
   "cell_type": "markdown",
   "id": "d7b0ad4c-a287-456d-9c0e-c4895e5f8ed2",
   "metadata": {},
   "source": [
    "## Prepare appropriate functions.\n",
    "\n",
    "Let's go to core of the thing. Prepare functions that provide Engineer with functionality to modify existing code, create new code files, check filesystem and files.\n"
   ]
  },
  {
   "cell_type": "code",
   "execution_count": null,
   "id": "9fb85afb",
   "metadata": {
    "scrolled": true
   },
   "outputs": [],
   "source": [
    "from typing_extensions import Annotated\n",
    "import os\n",
    "\n",
    "default_path = \"backend_dir/\"\n",
    "\n",
    "\n",
    "@user_proxy.register_for_execution()\n",
    "@engineer.register_for_llm(description=\"List files in choosen directory.\")\n",
    "def list_dir(directory: Annotated[str, \"Directory to check.\"]):\n",
    "    files = os.listdir(default_path + directory)\n",
    "    return 0, files\n",
    "\n",
    "\n",
    "@user_proxy.register_for_execution()\n",
    "@engineer.register_for_llm(description=\"Check the contents of a chosen file.\")\n",
    "def see_file(filename: Annotated[str, \"Name and path of file to check.\"]):\n",
    "    with open(default_path + filename, \"r\") as file:\n",
    "        lines = file.readlines()\n",
    "    formatted_lines = [f\"{i+1}:{line}\" for i, line in enumerate(lines)]\n",
    "    file_contents = \"\".join(formatted_lines)\n",
    "\n",
    "    return 0, file_contents\n",
    "\n",
    "\n",
    "@user_proxy.register_for_execution()\n",
    "@engineer.register_for_llm(description=\"Replace old piece of code with new one. Proper indentation is important.\")\n",
    "def modify_code(\n",
    "    filename: Annotated[str, \"Name and path of file to change.\"],\n",
    "    start_line: Annotated[int, \"Start line number to replace with new code.\"],\n",
    "    end_line: Annotated[int, \"End line number to replace with new code.\"],\n",
    "    new_code: Annotated[str, \"New piece of code to replace old code with. Remember about providing indents.\"],\n",
    "):\n",
    "    with open(default_path + filename, \"r+\") as file:\n",
    "        file_contents = file.readlines()\n",
    "        file_contents[start_line - 1 : end_line] = [new_code + \"\\n\"]\n",
    "        file.seek(0)\n",
    "        file.truncate()\n",
    "        file.write(\"\".join(file_contents))\n",
    "    return 0, \"Code modified\"\n",
    "\n",
    "@user_proxy.register_for_execution()\n",
    "@engineer.register_for_llm(description=\"Create a new file with code.\")\n",
    "def create_file_with_code(\n",
    "    filename: Annotated[str, \"Name and path of file to create.\"], code: Annotated[str, \"Code to write in the file.\"]\n",
    "):\n",
    "    with open(default_path + filename, \"w\") as file:\n",
    "        file.write(code)\n",
    "    return 0, \"File created successfully\""
   ]
  },
  {
   "cell_type": "markdown",
   "id": "8a3a09c9",
   "metadata": {},
   "source": [
    "## Prepare code to work with\n",
    "\n",
    "In this example, we will show how AI can extend the functionalities of existing code, as improving existing code is a much more frequent use case in software development than creating a new one. Let's prepare the initial code on which we will work. That will be a simple FastAPI script that will allow you to calculate today's stock spread in percentage for CD Project Red, a famous Polish gamedev company. Create a folder called 'backend_dir' and place a 'main.py' file here with the following content:"
   ]
  },
  {
   "cell_type": "raw",
   "id": "8b8a3d0a-67c8-4879-883a-07525742927c",
   "metadata": {},
   "source": [
    "# backend_dir/main.py\n",
    "\n",
    "from fastapi import FastAPI\n",
    "import yfinance as yf\n",
    "\n",
    "app = FastAPI()\n",
    "\n",
    "@app.get(\"/cdr_daily_spread\")\n",
    "async def calculate_daily_spread():\n",
    "    cdr = yf.Ticker(\"CDR.WA\")\n",
    "    today_data = cdr.history(period=\"1d\")\n",
    "    spread = ((today_data[\"High\"] - today_data[\"Low\"]) / today_data[\"Low\"]) * 100\n",
    "    return spread"
   ]
  },
  {
   "cell_type": "markdown",
   "id": "945003b5-b764-4ef1-99d9-b9464e39dfed",
   "metadata": {},
   "source": [
    "Install needed libraries. We can run our API using:\n",
    "```\n",
    "uvicorn main:app --reload\n",
    "```\n",
    "Send a request to 'localhost:8000/cdr_daily_spread' to check if it works.\n",
    "\n",
    "## Edit code using agents\n",
    "\n",
    "Let's assume we want our agents to extend the functionality of the application. Let's modify the endpoint to check the spread also for 11bits, another gamedev company, and compare it for both stocks. Also, let's separate the internal logic into a different file.\n",
    "\n",
    "Finally, instantiate a chat between the Engineer and the Admin. It will start by exploring the filesystem first, and after that, it will wait for our orders. Then, we will explain the task to the Engineer and ask him to provide a plan of changes first - according to my experience, that greatly increases the quality of LLM responses.\n",
    "\n",
    "After that, introduce changes with the Engineer one after another. Ask him to correct something or improve the functionality if needed. Do not hesitate to interrupt the tool's execution if you feel he is going to do something wrong. If errors occur, provide him with the error log and ask him to check out the file to refresh his knowledge about it before actually introducing changes."
   ]
  },
  {
   "cell_type": "code",
   "execution_count": 7,
   "id": "d5518947",
   "metadata": {},
   "outputs": [
    {
     "name": "stdout",
     "output_type": "stream",
     "text": [
      "\u001b[33mAdmin\u001b[0m (to chat_manager):\n",
      "\n",
      "\n",
      "You will need to improve app in FastApi. For now, check out all the application files, try to understand it and wait for next instructions.\n",
      "\n",
      "\n",
      "--------------------------------------------------------------------------------\n",
      "\u001b[33mEngineer\u001b[0m (to chat_manager):\n",
      "\n",
      "\u001b[32m***** Suggested tool Call (call_Vsy7xiw1gDZ4TyPmKPKPlNoU): list_dir *****\u001b[0m\n",
      "Arguments: \n",
      "{\n",
      "  \"directory\": \"./\"\n",
      "}\n",
      "\u001b[32m*************************************************************************\u001b[0m\n",
      "\n",
      "--------------------------------------------------------------------------------\n"
     ]
    },
    {
     "name": "stdin",
     "output_type": "stream",
     "text": [
      "Provide feedback to chat_manager. Press enter to skip and use auto-reply, or type 'exit' to end the conversation:  \n"
     ]
    },
    {
     "name": "stdout",
     "output_type": "stream",
     "text": [
      "\u001b[31m\n",
      ">>>>>>>> NO HUMAN INPUT RECEIVED.\u001b[0m\n",
      "\u001b[31m\n",
      ">>>>>>>> USING AUTO REPLY...\u001b[0m\n",
      "\u001b[35m\n",
      ">>>>>>>> EXECUTING FUNCTION list_dir...\u001b[0m\n",
      "\u001b[33mAdmin\u001b[0m (to chat_manager):\n",
      "\n",
      "\u001b[33mAdmin\u001b[0m (to chat_manager):\n",
      "\n",
      "\u001b[32m***** Response from calling tool \"call_Vsy7xiw1gDZ4TyPmKPKPlNoU\" *****\u001b[0m\n",
      "[0, [\"main.py\", \"__pycache__\"]]\n",
      "\u001b[32m**********************************************************************\u001b[0m\n",
      "\n",
      "--------------------------------------------------------------------------------\n",
      "\u001b[33mEngineer\u001b[0m (to chat_manager):\n",
      "\n",
      "\u001b[32m***** Suggested tool Call (call_0soa73cW8ZWIjqjGsdYy0P6u): see_file *****\u001b[0m\n",
      "Arguments: \n",
      "{\n",
      "  \"filename\": \"main.py\"\n",
      "}\n",
      "\u001b[32m*************************************************************************\u001b[0m\n",
      "\n",
      "--------------------------------------------------------------------------------\n"
     ]
    },
    {
     "name": "stdin",
     "output_type": "stream",
     "text": [
      "Provide feedback to chat_manager. Press enter to skip and use auto-reply, or type 'exit' to end the conversation:  \n"
     ]
    },
    {
     "name": "stdout",
     "output_type": "stream",
     "text": [
      "\u001b[31m\n",
      ">>>>>>>> NO HUMAN INPUT RECEIVED.\u001b[0m\n",
      "\u001b[31m\n",
      ">>>>>>>> USING AUTO REPLY...\u001b[0m\n",
      "\u001b[35m\n",
      ">>>>>>>> EXECUTING FUNCTION see_file...\u001b[0m\n",
      "\u001b[33mAdmin\u001b[0m (to chat_manager):\n",
      "\n",
      "\u001b[33mAdmin\u001b[0m (to chat_manager):\n",
      "\n",
      "\u001b[32m***** Response from calling tool \"call_0soa73cW8ZWIjqjGsdYy0P6u\" *****\u001b[0m\n",
      "[0, \"1:from fastapi import FastAPI\\n2:import yfinance as yf\\n3:\\n4:app = FastAPI()\\n5:\\n6:@app.get(\\\"/cdr_daily_spread\\\")\\n7:async def calculate_daily_spread():\\n8:    cdr = yf.Ticker(\\\"CDR.WA\\\")\\n9:    today_data = cdr.history(period=\\\"1d\\\")\\n10:    spread = ((today_data[\\\"High\\\"] - today_data[\\\"Low\\\"]) / today_data[\\\"Low\\\"]) * 100\\n11:    return spread\"]\n",
      "\u001b[32m**********************************************************************\u001b[0m\n",
      "\n",
      "--------------------------------------------------------------------------------\n",
      "\u001b[33mEngineer\u001b[0m (to chat_manager):\n",
      "\n",
      "The application is a FastAPI application with a single endpoint `/cdr_daily_spread`. This endpoint calculates and returns the daily spread of the stock \"CDR.WA\" using the `yfinance` library. The spread is calculated as the percentage difference between the high and low prices of the stock for the day.\n",
      "\n",
      "--------------------------------------------------------------------------------\n"
     ]
    },
    {
     "name": "stdin",
     "output_type": "stream",
     "text": [
      "Provide feedback to chat_manager. Press enter to skip and use auto-reply, or type 'exit' to end the conversation:  Let's move spread calculation logic to separate file. Create spread_calculation function with ticker argument in it. in our endpoint, we need to compare daily spread for CD Project Red and 11bits Studio - return difference between them.  Start with providing plan of changes. Don't do any changes yet.\n"
     ]
    },
    {
     "name": "stdout",
     "output_type": "stream",
     "text": [
      "\u001b[33mAdmin\u001b[0m (to chat_manager):\n",
      "\n",
      "Let's move spread calculation logic to separate file. Create spread_calculation function with ticker argument in it. in our endpoint, we need to compare daily spread for CD Project Red and 11bits Studio - return difference between them.  Start with providing plan of changes. Don't do any changes yet.\n",
      "\n",
      "--------------------------------------------------------------------------------\n",
      "\u001b[33mEngineer\u001b[0m (to chat_manager):\n",
      "\n",
      "Plan of Changes:\n",
      "\n",
      "1. Create a new Python file named `spread_calculation.py`.\n",
      "2. In `spread_calculation.py`, define a function named `calculate_daily_spread` that takes a ticker symbol as an argument and returns the daily spread of the stock. The function will use the `yfinance` library to fetch the stock data and calculate the spread.\n",
      "3. Modify the `main.py` file to import the `calculate_daily_spread` function from `spread_calculation.py`.\n",
      "4. In the `/cdr_daily_spread` endpoint, call the `calculate_daily_spread` function twice, once for \"CDR.WA\" (CD Project Red) and once for \"11B.WA\" (11bits Studio).\n",
      "5. Calculate the difference between the two spreads and return this difference.\n",
      "\n",
      "This plan will keep the FastAPI application clean and modular, with the spread calculation logic separated into its own file and function. The endpoint will then use this function to calculate and compare the spreads of the two stocks.\n",
      "\n",
      "--------------------------------------------------------------------------------\n"
     ]
    },
    {
     "name": "stdin",
     "output_type": "stream",
     "text": [
      "Provide feedback to chat_manager. Press enter to skip and use auto-reply, or type 'exit' to end the conversation:  Proceed with that plan.\n"
     ]
    },
    {
     "name": "stdout",
     "output_type": "stream",
     "text": [
      "\u001b[33mAdmin\u001b[0m (to chat_manager):\n",
      "\n",
      "Proceed with that plan.\n",
      "\n",
      "--------------------------------------------------------------------------------\n",
      "\u001b[33mEngineer\u001b[0m (to chat_manager):\n",
      "\n",
      "\u001b[32m***** Suggested tool Call (call_2iSJakNd6SXBs88j2xjiESa1): create_file_with_code *****\u001b[0m\n",
      "Arguments: \n",
      "{\n",
      "  \"filename\": \"spread_calculation.py\",\n",
      "  \"code\": \"import yfinance as yf\\n\\ndef calculate_daily_spread(ticker):\\n    stock = yf.Ticker(ticker)\\n    today_data = stock.history(period=\\\"1d\\\")\\n    spread = ((today_data[\\\"High\\\"] - today_data[\\\"Low\\\"]) / today_data[\\\"Low\\\"]) * 100\\n    return spread\"\n",
      "}\n",
      "\u001b[32m**************************************************************************************\u001b[0m\n",
      "\n",
      "--------------------------------------------------------------------------------\n"
     ]
    },
    {
     "name": "stdin",
     "output_type": "stream",
     "text": [
      "Provide feedback to chat_manager. Press enter to skip and use auto-reply, or type 'exit' to end the conversation:  \n"
     ]
    },
    {
     "name": "stdout",
     "output_type": "stream",
     "text": [
      "\u001b[31m\n",
      ">>>>>>>> NO HUMAN INPUT RECEIVED.\u001b[0m\n",
      "\u001b[31m\n",
      ">>>>>>>> USING AUTO REPLY...\u001b[0m\n",
      "\u001b[35m\n",
      ">>>>>>>> EXECUTING FUNCTION create_file_with_code...\u001b[0m\n",
      "\u001b[33mAdmin\u001b[0m (to chat_manager):\n",
      "\n",
      "\u001b[33mAdmin\u001b[0m (to chat_manager):\n",
      "\n",
      "\u001b[32m***** Response from calling tool \"call_2iSJakNd6SXBs88j2xjiESa1\" *****\u001b[0m\n",
      "[0, \"File created successfully\"]\n",
      "\u001b[32m**********************************************************************\u001b[0m\n",
      "\n",
      "--------------------------------------------------------------------------------\n",
      "\u001b[33mEngineer\u001b[0m (to chat_manager):\n",
      "\n",
      "\u001b[32m***** Suggested tool Call (call_XNXhCjK7T4aBQftRuCTOVwIh): modify_code *****\u001b[0m\n",
      "Arguments: \n",
      "{\n",
      "  \"filename\": \"main.py\",\n",
      "  \"start_line\": 1,\n",
      "  \"end_line\": 11,\n",
      "  \"new_code\": \"from fastapi import FastAPI\\nfrom spread_calculation import calculate_daily_spread\\n\\napp = FastAPI()\\n\\n@app.get(\\\"/cdr_daily_spread\\\")\\nasync def compare_spreads():\\n    cdr_spread = calculate_daily_spread(\\\"CDR.WA\\\")\\n    bits_spread = calculate_daily_spread(\\\"11B.WA\\\")\\n    spread_difference = cdr_spread - bits_spread\\n    return spread_difference\"\n",
      "}\n",
      "\u001b[32m****************************************************************************\u001b[0m\n",
      "\n",
      "--------------------------------------------------------------------------------\n"
     ]
    },
    {
     "name": "stdin",
     "output_type": "stream",
     "text": [
      "Provide feedback to chat_manager. Press enter to skip and use auto-reply, or type 'exit' to end the conversation:  \n"
     ]
    },
    {
     "name": "stdout",
     "output_type": "stream",
     "text": [
      "\u001b[31m\n",
      ">>>>>>>> NO HUMAN INPUT RECEIVED.\u001b[0m\n",
      "\u001b[31m\n",
      ">>>>>>>> USING AUTO REPLY...\u001b[0m\n",
      "\u001b[35m\n",
      ">>>>>>>> EXECUTING FUNCTION modify_code...\u001b[0m\n",
      "\u001b[33mAdmin\u001b[0m (to chat_manager):\n",
      "\n",
      "\u001b[33mAdmin\u001b[0m (to chat_manager):\n",
      "\n",
      "\u001b[32m***** Response from calling tool \"call_XNXhCjK7T4aBQftRuCTOVwIh\" *****\u001b[0m\n",
      "[0, \"Code modified\"]\n",
      "\u001b[32m**********************************************************************\u001b[0m\n",
      "\n",
      "--------------------------------------------------------------------------------\n",
      "\u001b[33mEngineer\u001b[0m (to chat_manager):\n",
      "\n",
      "The changes have been made successfully. Now, the FastAPI application has a single endpoint `/cdr_daily_spread` which calculates and returns the difference between the daily spreads of the stocks \"CDR.WA\" (CD Project Red) and \"11B.WA\" (11bits Studio). The spread calculation logic is now in a separate file `spread_calculation.py`.\n",
      "\n",
      "--------------------------------------------------------------------------------\n"
     ]
    },
    {
     "name": "stdin",
     "output_type": "stream",
     "text": [
      "Provide feedback to chat_manager. Press enter to skip and use auto-reply, or type 'exit' to end the conversation:  Please return not only spread difference, but also word of commentary which stock had bigger difference.\n"
     ]
    },
    {
     "name": "stdout",
     "output_type": "stream",
     "text": [
      "\u001b[33mAdmin\u001b[0m (to chat_manager):\n",
      "\n",
      "Please return not only spread difference, but also word of commentary which stock had bigger difference.\n",
      "\n",
      "--------------------------------------------------------------------------------\n",
      "\u001b[33mEngineer\u001b[0m (to chat_manager):\n",
      "\n",
      "\u001b[32m***** Suggested tool Call (call_XBbwE7X7wFS9E3J7W4hAqRUs): modify_code *****\u001b[0m\n",
      "Arguments: \n",
      "{\n",
      "  \"filename\": \"main.py\",\n",
      "  \"start_line\": 6,\n",
      "  \"end_line\": 11,\n",
      "  \"new_code\": \"@app.get(\\\"/cdr_daily_spread\\\")\\nasync def compare_spreads():\\n    cdr_spread = calculate_daily_spread(\\\"CDR.WA\\\")\\n    bits_spread = calculate_daily_spread(\\\"11B.WA\\\")\\n    spread_difference = cdr_spread - bits_spread\\n    commentary = 'CD Project Red had a bigger spread.' if spread_difference > 0 else '11bits Studio had a bigger spread.'\\n    return {'spread_difference': spread_difference, 'commentary': commentary}\"\n",
      "}\n",
      "\u001b[32m****************************************************************************\u001b[0m\n",
      "\n",
      "--------------------------------------------------------------------------------\n"
     ]
    },
    {
     "name": "stdin",
     "output_type": "stream",
     "text": [
      "Provide feedback to chat_manager. Press enter to skip and use auto-reply, or type 'exit' to end the conversation:  \n"
     ]
    },
    {
     "name": "stdout",
     "output_type": "stream",
     "text": [
      "\u001b[31m\n",
      ">>>>>>>> NO HUMAN INPUT RECEIVED.\u001b[0m\n",
      "\u001b[31m\n",
      ">>>>>>>> USING AUTO REPLY...\u001b[0m\n",
      "\u001b[35m\n",
      ">>>>>>>> EXECUTING FUNCTION modify_code...\u001b[0m\n",
      "\u001b[33mAdmin\u001b[0m (to chat_manager):\n",
      "\n",
      "\u001b[33mAdmin\u001b[0m (to chat_manager):\n",
      "\n",
      "\u001b[32m***** Response from calling tool \"call_XBbwE7X7wFS9E3J7W4hAqRUs\" *****\u001b[0m\n",
      "[0, \"Code modified\"]\n",
      "\u001b[32m**********************************************************************\u001b[0m\n",
      "\n",
      "--------------------------------------------------------------------------------\n",
      "\u001b[33mEngineer\u001b[0m (to chat_manager):\n",
      "\n",
      "The changes have been made successfully. Now, the FastAPI application's endpoint `/cdr_daily_spread` calculates and returns a dictionary containing the difference between the daily spreads of the stocks \"CDR.WA\" (CD Project Red) and \"11B.WA\" (11bits Studio), and a commentary indicating which stock had a bigger spread.\n",
      "\n",
      "--------------------------------------------------------------------------------\n"
     ]
    },
    {
     "name": "stdin",
     "output_type": "stream",
     "text": [
      "Provide feedback to chat_manager. Press enter to skip and use auto-reply, or type 'exit' to end the conversation:  Also change endpoint name.\n"
     ]
    },
    {
     "name": "stdout",
     "output_type": "stream",
     "text": [
      "\u001b[33mAdmin\u001b[0m (to chat_manager):\n",
      "\n",
      "Also change endpoint name.\n",
      "\n",
      "--------------------------------------------------------------------------------\n",
      "\u001b[33mEngineer\u001b[0m (to chat_manager):\n",
      "\n",
      "\u001b[32m***** Suggested tool Call (call_hSIN61nKQvm3aeiYmHiPl23N): modify_code *****\u001b[0m\n",
      "Arguments: \n",
      "{\n",
      "  \"filename\": \"main.py\",\n",
      "  \"start_line\": 6,\n",
      "  \"end_line\": 11,\n",
      "  \"new_code\": \"@app.get(\\\"/compare_spreads\\\")\\nasync def compare_spreads():\\n    cdr_spread = calculate_daily_spread(\\\"CDR.WA\\\")\\n    bits_spread = calculate_daily_spread(\\\"11B.WA\\\")\\n    spread_difference = cdr_spread - bits_spread\\n    commentary = 'CD Project Red had a bigger spread.' if spread_difference > 0 else '11bits Studio had a bigger spread.'\\n    return {'spread_difference': spread_difference, 'commentary': commentary}\"\n",
      "}\n",
      "\u001b[32m****************************************************************************\u001b[0m\n",
      "\n",
      "--------------------------------------------------------------------------------\n"
     ]
    },
    {
     "name": "stdin",
     "output_type": "stream",
     "text": [
      "Provide feedback to chat_manager. Press enter to skip and use auto-reply, or type 'exit' to end the conversation:  Change only line with endpoint name, nothing more.\n"
     ]
    },
    {
     "name": "stdout",
     "output_type": "stream",
     "text": [
      "\u001b[33mAdmin\u001b[0m (to chat_manager):\n",
      "\n",
      "\u001b[33mAdmin\u001b[0m (to chat_manager):\n",
      "\n",
      "\u001b[32m***** Response from calling tool \"call_hSIN61nKQvm3aeiYmHiPl23N\" *****\u001b[0m\n",
      "USER INTERRUPTED\n",
      "\u001b[32m**********************************************************************\u001b[0m\n",
      "\n",
      "--------------------------------------------------------------------------------\n",
      "Change only line with endpoint name, nothing more.\n",
      "\n",
      "--------------------------------------------------------------------------------\n",
      "\u001b[33mEngineer\u001b[0m (to chat_manager):\n",
      "\n",
      "\u001b[32m***** Suggested tool Call (call_kIiKCW44uBY3r4cUfoZbcxtt): modify_code *****\u001b[0m\n",
      "Arguments: \n",
      "{\n",
      "  \"filename\": \"main.py\",\n",
      "  \"start_line\": 6,\n",
      "  \"end_line\": 6,\n",
      "  \"new_code\": \"@app.get(\\\"/compare_spreads\\\")\"\n",
      "}\n",
      "\u001b[32m****************************************************************************\u001b[0m\n",
      "\n",
      "--------------------------------------------------------------------------------\n"
     ]
    },
    {
     "name": "stdin",
     "output_type": "stream",
     "text": [
      "Provide feedback to chat_manager. Press enter to skip and use auto-reply, or type 'exit' to end the conversation:  \n"
     ]
    },
    {
     "name": "stdout",
     "output_type": "stream",
     "text": [
      "\u001b[31m\n",
      ">>>>>>>> NO HUMAN INPUT RECEIVED.\u001b[0m\n",
      "\u001b[31m\n",
      ">>>>>>>> USING AUTO REPLY...\u001b[0m\n",
      "\u001b[35m\n",
      ">>>>>>>> EXECUTING FUNCTION modify_code...\u001b[0m\n",
      "\u001b[33mAdmin\u001b[0m (to chat_manager):\n",
      "\n",
      "\u001b[33mAdmin\u001b[0m (to chat_manager):\n",
      "\n",
      "\u001b[32m***** Response from calling tool \"call_kIiKCW44uBY3r4cUfoZbcxtt\" *****\u001b[0m\n",
      "[0, \"Code modified\"]\n",
      "\u001b[32m**********************************************************************\u001b[0m\n",
      "\n",
      "--------------------------------------------------------------------------------\n",
      "\u001b[33mEngineer\u001b[0m (to chat_manager):\n",
      "\n",
      "The changes have been made successfully. Now, the FastAPI application's endpoint has been renamed to `/compare_spreads`. It calculates and returns a dictionary containing the difference between the daily spreads of the stocks \"CDR.WA\" (CD Project Red) and \"11B.WA\" (11bits Studio), and a commentary indicating which stock had a bigger spread.\n",
      "\n",
      "--------------------------------------------------------------------------------\n"
     ]
    },
    {
     "name": "stdin",
     "output_type": "stream",
     "text": [
      "Provide feedback to chat_manager. Press enter to skip and use auto-reply, or type 'exit' to end the conversation:  Check file and improve the error: Line 11, ValueError: The truth value of a Series is ambiguous.\n"
     ]
    },
    {
     "name": "stdout",
     "output_type": "stream",
     "text": [
      "\u001b[33mAdmin\u001b[0m (to chat_manager):\n",
      "\n",
      "Check file and improve the error: Line 11, ValueError: The truth value of a Series is ambiguous.\n",
      "\n",
      "--------------------------------------------------------------------------------\n",
      "\u001b[33mEngineer\u001b[0m (to chat_manager):\n",
      "\n",
      "\u001b[32m***** Suggested tool Call (call_7VEeWvtP7DD9wCj9wFMs3SYS): see_file *****\u001b[0m\n",
      "Arguments: \n",
      "{\n",
      "  \"filename\": \"main.py\"\n",
      "}\n",
      "\u001b[32m*************************************************************************\u001b[0m\n",
      "\n",
      "--------------------------------------------------------------------------------\n"
     ]
    },
    {
     "name": "stdin",
     "output_type": "stream",
     "text": [
      "Provide feedback to chat_manager. Press enter to skip and use auto-reply, or type 'exit' to end the conversation:  \n"
     ]
    },
    {
     "name": "stdout",
     "output_type": "stream",
     "text": [
      "\u001b[31m\n",
      ">>>>>>>> NO HUMAN INPUT RECEIVED.\u001b[0m\n",
      "\u001b[31m\n",
      ">>>>>>>> USING AUTO REPLY...\u001b[0m\n",
      "\u001b[35m\n",
      ">>>>>>>> EXECUTING FUNCTION see_file...\u001b[0m\n",
      "\u001b[33mAdmin\u001b[0m (to chat_manager):\n",
      "\n",
      "\u001b[33mAdmin\u001b[0m (to chat_manager):\n",
      "\n",
      "\u001b[32m***** Response from calling tool \"call_7VEeWvtP7DD9wCj9wFMs3SYS\" *****\u001b[0m\n",
      "[0, \"1:from fastapi import FastAPI\\n2:from spread_calculation import calculate_daily_spread\\n3:\\n4:app = FastAPI()\\n5:\\n6:@app.get(\\\"/compare_spreads\\\")\\n7:async def compare_spreads():\\n8:    cdr_spread = calculate_daily_spread(\\\"CDR.WA\\\")\\n9:    bits_spread = calculate_daily_spread(\\\"11B.WA\\\")\\n10:    spread_difference = cdr_spread - bits_spread\\n11:    commentary = 'CD Project Red had a bigger spread.' if spread_difference > 0 else '11bits Studio had a bigger spread.'\\n12:    return {'spread_difference': spread_difference, 'commentary': commentary}\\n\"]\n",
      "\u001b[32m**********************************************************************\u001b[0m\n",
      "\n",
      "--------------------------------------------------------------------------------\n",
      "\u001b[33mEngineer\u001b[0m (to chat_manager):\n",
      "\n",
      "\u001b[32m***** Suggested tool Call (call_hpirkAGKOewZstsDOxL2sYNW): modify_code *****\u001b[0m\n",
      "Arguments: \n",
      "{\n",
      "  \"filename\": \"main.py\",\n",
      "  \"start_line\": 11,\n",
      "  \"end_line\": 11,\n",
      "  \"new_code\": \"commentary = 'CD Project Red had a bigger spread.' if spread_difference.values[0] > 0 else '11bits Studio had a bigger spread.'\"\n",
      "}\n",
      "\u001b[32m****************************************************************************\u001b[0m\n",
      "\n",
      "--------------------------------------------------------------------------------\n"
     ]
    },
    {
     "name": "stdin",
     "output_type": "stream",
     "text": [
      "Provide feedback to chat_manager. Press enter to skip and use auto-reply, or type 'exit' to end the conversation:  \n"
     ]
    },
    {
     "name": "stdout",
     "output_type": "stream",
     "text": [
      "\u001b[31m\n",
      ">>>>>>>> NO HUMAN INPUT RECEIVED.\u001b[0m\n",
      "\u001b[31m\n",
      ">>>>>>>> USING AUTO REPLY...\u001b[0m\n",
      "\u001b[35m\n",
      ">>>>>>>> EXECUTING FUNCTION modify_code...\u001b[0m\n",
      "\u001b[33mAdmin\u001b[0m (to chat_manager):\n",
      "\n",
      "\u001b[33mAdmin\u001b[0m (to chat_manager):\n",
      "\n",
      "\u001b[32m***** Response from calling tool \"call_hpirkAGKOewZstsDOxL2sYNW\" *****\u001b[0m\n",
      "[0, \"Code modified\"]\n",
      "\u001b[32m**********************************************************************\u001b[0m\n",
      "\n",
      "--------------------------------------------------------------------------------\n",
      "\u001b[33mEngineer\u001b[0m (to chat_manager):\n",
      "\n",
      "The changes have been made successfully. The error was due to the fact that `spread_difference` is a pandas Series object, and the truth value of a Series is ambiguous. I have modified the code to compare the first value of the Series instead. Now, the FastAPI application's endpoint `/compare_spreads` should work correctly.\n",
      "\n",
      "--------------------------------------------------------------------------------\n"
     ]
    },
    {
     "name": "stdin",
     "output_type": "stream",
     "text": [
      "Provide feedback to chat_manager. Press enter to skip and use auto-reply, or type 'exit' to end the conversation:  Check file again and improve error: IndentationError: unexpected indent\n"
     ]
    },
    {
     "name": "stdout",
     "output_type": "stream",
     "text": [
      "\u001b[33mAdmin\u001b[0m (to chat_manager):\n",
      "\n",
      "Check file again and improve error: IndentationError: unexpected indent\n",
      "\n",
      "--------------------------------------------------------------------------------\n",
      "\u001b[33mEngineer\u001b[0m (to chat_manager):\n",
      "\n",
      "\u001b[32m***** Suggested tool Call (call_bGNDXlMkdRIf1sxuC9AUtubN): see_file *****\u001b[0m\n",
      "Arguments: \n",
      "{\n",
      "  \"filename\": \"main.py\"\n",
      "}\n",
      "\u001b[32m*************************************************************************\u001b[0m\n",
      "\n",
      "--------------------------------------------------------------------------------\n"
     ]
    },
    {
     "name": "stdin",
     "output_type": "stream",
     "text": [
      "Provide feedback to chat_manager. Press enter to skip and use auto-reply, or type 'exit' to end the conversation:  \n"
     ]
    },
    {
     "name": "stdout",
     "output_type": "stream",
     "text": [
      "\u001b[31m\n",
      ">>>>>>>> NO HUMAN INPUT RECEIVED.\u001b[0m\n",
      "\u001b[31m\n",
      ">>>>>>>> USING AUTO REPLY...\u001b[0m\n",
      "\u001b[35m\n",
      ">>>>>>>> EXECUTING FUNCTION see_file...\u001b[0m\n",
      "\u001b[33mAdmin\u001b[0m (to chat_manager):\n",
      "\n",
      "\u001b[33mAdmin\u001b[0m (to chat_manager):\n",
      "\n",
      "\u001b[32m***** Response from calling tool \"call_bGNDXlMkdRIf1sxuC9AUtubN\" *****\u001b[0m\n",
      "[0, \"1:from fastapi import FastAPI\\n2:from spread_calculation import calculate_daily_spread\\n3:\\n4:app = FastAPI()\\n5:\\n6:@app.get(\\\"/compare_spreads\\\")\\n7:async def compare_spreads():\\n8:    cdr_spread = calculate_daily_spread(\\\"CDR.WA\\\")\\n9:    bits_spread = calculate_daily_spread(\\\"11B.WA\\\")\\n10:    spread_difference = cdr_spread - bits_spread\\n11:commentary = 'CD Project Red had a bigger spread.' if spread_difference.values[0] > 0 else '11bits Studio had a bigger spread.'\\n12:    return {'spread_difference': spread_difference, 'commentary': commentary}\\n\"]\n",
      "\u001b[32m**********************************************************************\u001b[0m\n",
      "\n",
      "--------------------------------------------------------------------------------\n",
      "\u001b[33mEngineer\u001b[0m (to chat_manager):\n",
      "\n",
      "\u001b[32m***** Suggested tool Call (call_p9noNOu4llt6fOF0W2JVUWWr): modify_code *****\u001b[0m\n",
      "Arguments: \n",
      "{\n",
      "  \"filename\": \"main.py\",\n",
      "  \"start_line\": 11,\n",
      "  \"end_line\": 11,\n",
      "  \"new_code\": \"    commentary = 'CD Project Red had a bigger spread.' if spread_difference.values[0] > 0 else '11bits Studio had a bigger spread.'\"\n",
      "}\n",
      "\u001b[32m****************************************************************************\u001b[0m\n",
      "\n",
      "--------------------------------------------------------------------------------\n"
     ]
    },
    {
     "name": "stdin",
     "output_type": "stream",
     "text": [
      "Provide feedback to chat_manager. Press enter to skip and use auto-reply, or type 'exit' to end the conversation:  \n"
     ]
    },
    {
     "name": "stdout",
     "output_type": "stream",
     "text": [
      "\u001b[31m\n",
      ">>>>>>>> NO HUMAN INPUT RECEIVED.\u001b[0m\n",
      "\u001b[31m\n",
      ">>>>>>>> USING AUTO REPLY...\u001b[0m\n",
      "\u001b[35m\n",
      ">>>>>>>> EXECUTING FUNCTION modify_code...\u001b[0m\n",
      "\u001b[33mAdmin\u001b[0m (to chat_manager):\n",
      "\n",
      "\u001b[33mAdmin\u001b[0m (to chat_manager):\n",
      "\n",
      "\u001b[32m***** Response from calling tool \"call_p9noNOu4llt6fOF0W2JVUWWr\" *****\u001b[0m\n",
      "[0, \"Code modified\"]\n",
      "\u001b[32m**********************************************************************\u001b[0m\n",
      "\n",
      "--------------------------------------------------------------------------------\n",
      "\u001b[33mEngineer\u001b[0m (to chat_manager):\n",
      "\n",
      "The changes have been made successfully. The error was due to incorrect indentation on line 11. I have corrected the indentation. Now, the FastAPI application's endpoint `/compare_spreads` should work correctly.\n",
      "\n",
      "--------------------------------------------------------------------------------\n"
     ]
    },
    {
     "name": "stdin",
     "output_type": "stream",
     "text": [
      "Provide feedback to chat_manager. Press enter to skip and use auto-reply, or type 'exit' to end the conversation:  exit\n"
     ]
    },
    {
     "data": {
      "text/plain": [
       "ChatResult(chat_id=None, chat_history=[{'content': '\\nYou will need to improve app in FastApi. For now, check out all the application files, try to understand it and wait for next instructions.\\n', 'role': 'assistant'}, {'content': '', 'tool_calls': [{'id': 'call_Vsy7xiw1gDZ4TyPmKPKPlNoU', 'function': {'arguments': '{\\n  \"directory\": \"./\"\\n}', 'name': 'list_dir'}, 'type': 'function'}], 'name': 'Engineer', 'role': 'assistant'}, {'content': '[0, [\"main.py\", \"__pycache__\"]]', 'tool_responses': [{'tool_call_id': 'call_Vsy7xiw1gDZ4TyPmKPKPlNoU', 'role': 'tool', 'content': '[0, [\"main.py\", \"__pycache__\"]]'}], 'role': 'tool'}, {'content': '', 'tool_calls': [{'id': 'call_0soa73cW8ZWIjqjGsdYy0P6u', 'function': {'arguments': '{\\n  \"filename\": \"main.py\"\\n}', 'name': 'see_file'}, 'type': 'function'}], 'name': 'Engineer', 'role': 'assistant'}, {'content': '[0, \"1:from fastapi import FastAPI\\\\n2:import yfinance as yf\\\\n3:\\\\n4:app = FastAPI()\\\\n5:\\\\n6:@app.get(\\\\\"/cdr_daily_spread\\\\\")\\\\n7:async def calculate_daily_spread():\\\\n8:    cdr = yf.Ticker(\\\\\"CDR.WA\\\\\")\\\\n9:    today_data = cdr.history(period=\\\\\"1d\\\\\")\\\\n10:    spread = ((today_data[\\\\\"High\\\\\"] - today_data[\\\\\"Low\\\\\"]) / today_data[\\\\\"Low\\\\\"]) * 100\\\\n11:    return spread\"]', 'tool_responses': [{'tool_call_id': 'call_0soa73cW8ZWIjqjGsdYy0P6u', 'role': 'tool', 'content': '[0, \"1:from fastapi import FastAPI\\\\n2:import yfinance as yf\\\\n3:\\\\n4:app = FastAPI()\\\\n5:\\\\n6:@app.get(\\\\\"/cdr_daily_spread\\\\\")\\\\n7:async def calculate_daily_spread():\\\\n8:    cdr = yf.Ticker(\\\\\"CDR.WA\\\\\")\\\\n9:    today_data = cdr.history(period=\\\\\"1d\\\\\")\\\\n10:    spread = ((today_data[\\\\\"High\\\\\"] - today_data[\\\\\"Low\\\\\"]) / today_data[\\\\\"Low\\\\\"]) * 100\\\\n11:    return spread\"]'}], 'role': 'tool'}, {'content': 'The application is a FastAPI application with a single endpoint `/cdr_daily_spread`. This endpoint calculates and returns the daily spread of the stock \"CDR.WA\" using the `yfinance` library. The spread is calculated as the percentage difference between the high and low prices of the stock for the day.', 'name': 'Engineer', 'role': 'user'}, {'content': \"Let's move spread calculation logic to separate file. Create spread_calculation function with ticker argument in it. in our endpoint, we need to compare daily spread for CD Project Red and 11bits Studio - return difference between them.  Start with providing plan of changes. Don't do any changes yet.\", 'role': 'assistant'}, {'content': 'Plan of Changes:\\n\\n1. Create a new Python file named `spread_calculation.py`.\\n2. In `spread_calculation.py`, define a function named `calculate_daily_spread` that takes a ticker symbol as an argument and returns the daily spread of the stock. The function will use the `yfinance` library to fetch the stock data and calculate the spread.\\n3. Modify the `main.py` file to import the `calculate_daily_spread` function from `spread_calculation.py`.\\n4. In the `/cdr_daily_spread` endpoint, call the `calculate_daily_spread` function twice, once for \"CDR.WA\" (CD Project Red) and once for \"11B.WA\" (11bits Studio).\\n5. Calculate the difference between the two spreads and return this difference.\\n\\nThis plan will keep the FastAPI application clean and modular, with the spread calculation logic separated into its own file and function. The endpoint will then use this function to calculate and compare the spreads of the two stocks.', 'name': 'Engineer', 'role': 'user'}, {'content': 'Proceed with that plan.', 'role': 'assistant'}, {'content': '', 'tool_calls': [{'id': 'call_2iSJakNd6SXBs88j2xjiESa1', 'function': {'arguments': '{\\n  \"filename\": \"spread_calculation.py\",\\n  \"code\": \"import yfinance as yf\\\\n\\\\ndef calculate_daily_spread(ticker):\\\\n    stock = yf.Ticker(ticker)\\\\n    today_data = stock.history(period=\\\\\"1d\\\\\")\\\\n    spread = ((today_data[\\\\\"High\\\\\"] - today_data[\\\\\"Low\\\\\"]) / today_data[\\\\\"Low\\\\\"]) * 100\\\\n    return spread\"\\n}', 'name': 'create_file_with_code'}, 'type': 'function'}], 'name': 'Engineer', 'role': 'assistant'}, {'content': '[0, \"File created successfully\"]', 'tool_responses': [{'tool_call_id': 'call_2iSJakNd6SXBs88j2xjiESa1', 'role': 'tool', 'content': '[0, \"File created successfully\"]'}], 'role': 'tool'}, {'content': '', 'tool_calls': [{'id': 'call_XNXhCjK7T4aBQftRuCTOVwIh', 'function': {'arguments': '{\\n  \"filename\": \"main.py\",\\n  \"start_line\": 1,\\n  \"end_line\": 11,\\n  \"new_code\": \"from fastapi import FastAPI\\\\nfrom spread_calculation import calculate_daily_spread\\\\n\\\\napp = FastAPI()\\\\n\\\\n@app.get(\\\\\"/cdr_daily_spread\\\\\")\\\\nasync def compare_spreads():\\\\n    cdr_spread = calculate_daily_spread(\\\\\"CDR.WA\\\\\")\\\\n    bits_spread = calculate_daily_spread(\\\\\"11B.WA\\\\\")\\\\n    spread_difference = cdr_spread - bits_spread\\\\n    return spread_difference\"\\n}', 'name': 'modify_code'}, 'type': 'function'}], 'name': 'Engineer', 'role': 'assistant'}, {'content': '[0, \"Code modified\"]', 'tool_responses': [{'tool_call_id': 'call_XNXhCjK7T4aBQftRuCTOVwIh', 'role': 'tool', 'content': '[0, \"Code modified\"]'}], 'role': 'tool'}, {'content': 'The changes have been made successfully. Now, the FastAPI application has a single endpoint `/cdr_daily_spread` which calculates and returns the difference between the daily spreads of the stocks \"CDR.WA\" (CD Project Red) and \"11B.WA\" (11bits Studio). The spread calculation logic is now in a separate file `spread_calculation.py`.', 'name': 'Engineer', 'role': 'user'}, {'content': 'Please return not only spread difference, but also word of commentary which stock had bigger difference.', 'role': 'assistant'}, {'content': '', 'tool_calls': [{'id': 'call_XBbwE7X7wFS9E3J7W4hAqRUs', 'function': {'arguments': '{\\n  \"filename\": \"main.py\",\\n  \"start_line\": 6,\\n  \"end_line\": 11,\\n  \"new_code\": \"@app.get(\\\\\"/cdr_daily_spread\\\\\")\\\\nasync def compare_spreads():\\\\n    cdr_spread = calculate_daily_spread(\\\\\"CDR.WA\\\\\")\\\\n    bits_spread = calculate_daily_spread(\\\\\"11B.WA\\\\\")\\\\n    spread_difference = cdr_spread - bits_spread\\\\n    commentary = \\'CD Project Red had a bigger spread.\\' if spread_difference > 0 else \\'11bits Studio had a bigger spread.\\'\\\\n    return {\\'spread_difference\\': spread_difference, \\'commentary\\': commentary}\"\\n}', 'name': 'modify_code'}, 'type': 'function'}], 'name': 'Engineer', 'role': 'assistant'}, {'content': '[0, \"Code modified\"]', 'tool_responses': [{'tool_call_id': 'call_XBbwE7X7wFS9E3J7W4hAqRUs', 'role': 'tool', 'content': '[0, \"Code modified\"]'}], 'role': 'tool'}, {'content': 'The changes have been made successfully. Now, the FastAPI application\\'s endpoint `/cdr_daily_spread` calculates and returns a dictionary containing the difference between the daily spreads of the stocks \"CDR.WA\" (CD Project Red) and \"11B.WA\" (11bits Studio), and a commentary indicating which stock had a bigger spread.', 'name': 'Engineer', 'role': 'user'}, {'content': 'Also change endpoint name.', 'role': 'assistant'}, {'content': '', 'tool_calls': [{'id': 'call_hSIN61nKQvm3aeiYmHiPl23N', 'function': {'arguments': '{\\n  \"filename\": \"main.py\",\\n  \"start_line\": 6,\\n  \"end_line\": 11,\\n  \"new_code\": \"@app.get(\\\\\"/compare_spreads\\\\\")\\\\nasync def compare_spreads():\\\\n    cdr_spread = calculate_daily_spread(\\\\\"CDR.WA\\\\\")\\\\n    bits_spread = calculate_daily_spread(\\\\\"11B.WA\\\\\")\\\\n    spread_difference = cdr_spread - bits_spread\\\\n    commentary = \\'CD Project Red had a bigger spread.\\' if spread_difference > 0 else \\'11bits Studio had a bigger spread.\\'\\\\n    return {\\'spread_difference\\': spread_difference, \\'commentary\\': commentary}\"\\n}', 'name': 'modify_code'}, 'type': 'function'}], 'name': 'Engineer', 'role': 'assistant'}, {'content': 'Change only line with endpoint name, nothing more.', 'tool_responses': [{'role': 'tool', 'tool_call_id': 'call_hSIN61nKQvm3aeiYmHiPl23N', 'content': 'USER INTERRUPTED'}], 'role': 'assistant'}, {'content': '', 'tool_calls': [{'id': 'call_kIiKCW44uBY3r4cUfoZbcxtt', 'function': {'arguments': '{\\n  \"filename\": \"main.py\",\\n  \"start_line\": 6,\\n  \"end_line\": 6,\\n  \"new_code\": \"@app.get(\\\\\"/compare_spreads\\\\\")\"\\n}', 'name': 'modify_code'}, 'type': 'function'}], 'name': 'Engineer', 'role': 'assistant'}, {'content': '[0, \"Code modified\"]', 'tool_responses': [{'tool_call_id': 'call_kIiKCW44uBY3r4cUfoZbcxtt', 'role': 'tool', 'content': '[0, \"Code modified\"]'}], 'role': 'tool'}, {'content': 'The changes have been made successfully. Now, the FastAPI application\\'s endpoint has been renamed to `/compare_spreads`. It calculates and returns a dictionary containing the difference between the daily spreads of the stocks \"CDR.WA\" (CD Project Red) and \"11B.WA\" (11bits Studio), and a commentary indicating which stock had a bigger spread.', 'name': 'Engineer', 'role': 'user'}, {'content': 'Check file and improve the error: Line 11, ValueError: The truth value of a Series is ambiguous.', 'role': 'assistant'}, {'content': '', 'tool_calls': [{'id': 'call_7VEeWvtP7DD9wCj9wFMs3SYS', 'function': {'arguments': '{\\n  \"filename\": \"main.py\"\\n}', 'name': 'see_file'}, 'type': 'function'}], 'name': 'Engineer', 'role': 'assistant'}, {'content': '[0, \"1:from fastapi import FastAPI\\\\n2:from spread_calculation import calculate_daily_spread\\\\n3:\\\\n4:app = FastAPI()\\\\n5:\\\\n6:@app.get(\\\\\"/compare_spreads\\\\\")\\\\n7:async def compare_spreads():\\\\n8:    cdr_spread = calculate_daily_spread(\\\\\"CDR.WA\\\\\")\\\\n9:    bits_spread = calculate_daily_spread(\\\\\"11B.WA\\\\\")\\\\n10:    spread_difference = cdr_spread - bits_spread\\\\n11:    commentary = \\'CD Project Red had a bigger spread.\\' if spread_difference > 0 else \\'11bits Studio had a bigger spread.\\'\\\\n12:    return {\\'spread_difference\\': spread_difference, \\'commentary\\': commentary}\\\\n\"]', 'tool_responses': [{'tool_call_id': 'call_7VEeWvtP7DD9wCj9wFMs3SYS', 'role': 'tool', 'content': '[0, \"1:from fastapi import FastAPI\\\\n2:from spread_calculation import calculate_daily_spread\\\\n3:\\\\n4:app = FastAPI()\\\\n5:\\\\n6:@app.get(\\\\\"/compare_spreads\\\\\")\\\\n7:async def compare_spreads():\\\\n8:    cdr_spread = calculate_daily_spread(\\\\\"CDR.WA\\\\\")\\\\n9:    bits_spread = calculate_daily_spread(\\\\\"11B.WA\\\\\")\\\\n10:    spread_difference = cdr_spread - bits_spread\\\\n11:    commentary = \\'CD Project Red had a bigger spread.\\' if spread_difference > 0 else \\'11bits Studio had a bigger spread.\\'\\\\n12:    return {\\'spread_difference\\': spread_difference, \\'commentary\\': commentary}\\\\n\"]'}], 'role': 'tool'}, {'content': '', 'tool_calls': [{'id': 'call_hpirkAGKOewZstsDOxL2sYNW', 'function': {'arguments': '{\\n  \"filename\": \"main.py\",\\n  \"start_line\": 11,\\n  \"end_line\": 11,\\n  \"new_code\": \"commentary = \\'CD Project Red had a bigger spread.\\' if spread_difference.values[0] > 0 else \\'11bits Studio had a bigger spread.\\'\"\\n}', 'name': 'modify_code'}, 'type': 'function'}], 'name': 'Engineer', 'role': 'assistant'}, {'content': '[0, \"Code modified\"]', 'tool_responses': [{'tool_call_id': 'call_hpirkAGKOewZstsDOxL2sYNW', 'role': 'tool', 'content': '[0, \"Code modified\"]'}], 'role': 'tool'}, {'content': \"The changes have been made successfully. The error was due to the fact that `spread_difference` is a pandas Series object, and the truth value of a Series is ambiguous. I have modified the code to compare the first value of the Series instead. Now, the FastAPI application's endpoint `/compare_spreads` should work correctly.\", 'name': 'Engineer', 'role': 'user'}, {'content': 'Check file again and improve error: IndentationError: unexpected indent', 'role': 'assistant'}, {'content': '', 'tool_calls': [{'id': 'call_bGNDXlMkdRIf1sxuC9AUtubN', 'function': {'arguments': '{\\n  \"filename\": \"main.py\"\\n}', 'name': 'see_file'}, 'type': 'function'}], 'name': 'Engineer', 'role': 'assistant'}, {'content': '[0, \"1:from fastapi import FastAPI\\\\n2:from spread_calculation import calculate_daily_spread\\\\n3:\\\\n4:app = FastAPI()\\\\n5:\\\\n6:@app.get(\\\\\"/compare_spreads\\\\\")\\\\n7:async def compare_spreads():\\\\n8:    cdr_spread = calculate_daily_spread(\\\\\"CDR.WA\\\\\")\\\\n9:    bits_spread = calculate_daily_spread(\\\\\"11B.WA\\\\\")\\\\n10:    spread_difference = cdr_spread - bits_spread\\\\n11:commentary = \\'CD Project Red had a bigger spread.\\' if spread_difference.values[0] > 0 else \\'11bits Studio had a bigger spread.\\'\\\\n12:    return {\\'spread_difference\\': spread_difference, \\'commentary\\': commentary}\\\\n\"]', 'tool_responses': [{'tool_call_id': 'call_bGNDXlMkdRIf1sxuC9AUtubN', 'role': 'tool', 'content': '[0, \"1:from fastapi import FastAPI\\\\n2:from spread_calculation import calculate_daily_spread\\\\n3:\\\\n4:app = FastAPI()\\\\n5:\\\\n6:@app.get(\\\\\"/compare_spreads\\\\\")\\\\n7:async def compare_spreads():\\\\n8:    cdr_spread = calculate_daily_spread(\\\\\"CDR.WA\\\\\")\\\\n9:    bits_spread = calculate_daily_spread(\\\\\"11B.WA\\\\\")\\\\n10:    spread_difference = cdr_spread - bits_spread\\\\n11:commentary = \\'CD Project Red had a bigger spread.\\' if spread_difference.values[0] > 0 else \\'11bits Studio had a bigger spread.\\'\\\\n12:    return {\\'spread_difference\\': spread_difference, \\'commentary\\': commentary}\\\\n\"]'}], 'role': 'tool'}, {'content': '', 'tool_calls': [{'id': 'call_p9noNOu4llt6fOF0W2JVUWWr', 'function': {'arguments': '{\\n  \"filename\": \"main.py\",\\n  \"start_line\": 11,\\n  \"end_line\": 11,\\n  \"new_code\": \"    commentary = \\'CD Project Red had a bigger spread.\\' if spread_difference.values[0] > 0 else \\'11bits Studio had a bigger spread.\\'\"\\n}', 'name': 'modify_code'}, 'type': 'function'}], 'name': 'Engineer', 'role': 'assistant'}, {'content': '[0, \"Code modified\"]', 'tool_responses': [{'tool_call_id': 'call_p9noNOu4llt6fOF0W2JVUWWr', 'role': 'tool', 'content': '[0, \"Code modified\"]'}], 'role': 'tool'}, {'content': \"The changes have been made successfully. The error was due to incorrect indentation on line 11. I have corrected the indentation. Now, the FastAPI application's endpoint `/compare_spreads` should work correctly.\", 'name': 'Engineer', 'role': 'user'}], summary=\"The changes have been made successfully. The error was due to incorrect indentation on line 11. I have corrected the indentation. Now, the FastAPI application's endpoint `/compare_spreads` should work correctly.\", cost=({'total_cost': 0}, {'total_cost': 0}), human_input=['', '', \"Let's move spread calculation logic to separate file. Create spread_calculation function with ticker argument in it. in our endpoint, we need to compare daily spread for CD Project Red and 11bits Studio - return difference between them.  Start with providing plan of changes. Don't do any changes yet.\", 'Proceed with that plan.', '', '', 'Please return not only spread difference, but also word of commentary which stock had bigger difference.', '', 'Also change endpoint name.', 'Change only line with endpoint name, nothing more.', '', 'Check file and improve the error: Line 11, ValueError: The truth value of a Series is ambiguous.', '', '', 'Check file again and improve error: IndentationError: unexpected indent', '', '', 'exit'])"
      ]
     },
     "execution_count": 7,
     "metadata": {},
     "output_type": "execute_result"
    }
   ],
   "source": [
    "user_proxy.initiate_chat(\n",
    "    manager,\n",
    "    message=\"\"\"\n",
    "You will need to improve app in FastApi. For now, check out all the application files, try to understand it and wait for next instructions.\n",
    "\"\"\",\n",
    ")"
   ]
  },
  {
   "cell_type": "markdown",
   "id": "41b6dc05-b1fc-4c1d-b101-4e91dfa63b43",
   "metadata": {},
   "source": [
    "## Result\n",
    "\n",
    "Finally, our agents modified a code so it looks like this:"
   ]
  },
  {
   "cell_type": "raw",
   "id": "c0cb49ff-b3ea-4e54-9ac1-231d3a473a66",
   "metadata": {},
   "source": [
    "# backend_dir/main.py\n",
    "\n",
    "from fastapi import FastAPI\n",
    "from spread_calculation import calculate_daily_spread\n",
    "\n",
    "app = FastAPI()\n",
    "\n",
    "@app.get(\"/compare_spreads\")\n",
    "async def compare_spreads():\n",
    "    cdr_spread = calculate_daily_spread(\"CDR.WA\")\n",
    "    bits_spread = calculate_daily_spread(\"11B.WA\")\n",
    "    spread_difference = cdr_spread - bits_spread\n",
    "    commentary = 'CD Project Red had a bigger spread.' if spread_difference.values[0] > 0 else '11bits Studio had a bigger spread.'\n",
    "    return {'spread_difference': spread_difference, 'commentary': commentary}\n",
    "\n",
    "\n",
    "# backend_dir/spread_calculation.py\n",
    "\n",
    "import yfinance as yf\n",
    "\n",
    "def spread_calculation(ticker):\n",
    "    stock = yf.Ticker(ticker)\n",
    "    today_data = stock.history(period=\"1d\")\n",
    "    spread = ((today_data[\"High\"] - today_data[\"Low\"]) / today_data[\"Low\"]) * 100\n",
    "    return spread"
   ]
  },
  {
   "cell_type": "markdown",
   "id": "b4c1dc47-53b7-417f-af8b-f8c4d73c1d7c",
   "metadata": {},
   "source": [
    "You can check out work of application with Postman or curl."
   ]
  }
 ],
 "metadata": {
  "kernelspec": {
   "display_name": "Python 3 (ipykernel)",
   "language": "python",
   "name": "python3"
  },
  "language_info": {
   "codemirror_mode": {
    "name": "ipython",
    "version": 3
   },
   "file_extension": ".py",
   "mimetype": "text/x-python",
   "name": "python",
   "nbconvert_exporter": "python",
   "pygments_lexer": "ipython3",
   "version": "3.11.0"
  }
 },
 "nbformat": 4,
 "nbformat_minor": 5
}
