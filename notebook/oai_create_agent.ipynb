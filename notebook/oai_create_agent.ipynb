{
 "cells": [
  {
   "cell_type": "markdown",
   "source": [
    "# Set up an Open-source Agent via vLLM"
   ],
   "metadata": {
    "collapsed": false
   },
   "id": "c1004af6a7fbfcd8"
  },
  {
   "cell_type": "markdown",
   "source": [
    "### Requirement\n",
    "\n",
    "Auto Agent setup need `vllm>=0.2.0`, you can use the following command to install the latest version of [vLLM](https://github.com/vllm-project/vllm).\n",
    "```\n",
    "pip install vllm\n",
    "```"
   ],
   "metadata": {
    "collapsed": false
   },
   "id": "ec78dda8e3826d8a"
  },
  {
   "cell_type": "code",
   "execution_count": null,
   "outputs": [],
   "source": [
    "!pip install vllm"
   ],
   "metadata": {
    "collapsed": false
   },
   "id": "e8e9ae50658be975"
  },
  {
   "cell_type": "code",
   "execution_count": null,
   "outputs": [],
   "source": [
    "import autogen\n",
    "import os"
   ],
   "metadata": {
    "collapsed": false
   },
   "id": "8d06a99bd05026bb"
  },
  {
   "cell_type": "code",
   "execution_count": null,
   "outputs": [],
   "source": [
    "def auto_agent_generation(\n",
    "    model_name_or_hf_repo: str,\n",
    "    world_size: int = 4,\n",
    "    host: str = \"127.0.0.1\",\n",
    "    port: str = \"8000\",\n",
    "    logging_path: str = \"logs/\",\n",
    "    seed: int = 42,\n",
    "    temperature: int = 0,\n",
    "):\n",
    "    if \"gpt-\" in model_name_or_hf_repo:\n",
    "        config = autogen.config_list_from_json(\n",
    "            \"OAI_CONFIG_LIST\",\n",
    "            filter_dict={\n",
    "                \"model\": [model_name_or_hf_repo]\n",
    "            },\n",
    "        )\n",
    "    else:\n",
    "        model_name = model_name_or_hf_repo.split('/')[-1]\n",
    "        config = [autogen.get_config_list(\n",
    "            api_keys = [\"EMPTY\"],\n",
    "            api_bases = [f\"{host}:{port}\"],\n",
    "        )]\n",
    "        # Use vllm to create a server with OpenAI API support\n",
    "        os.system(f'nohup /root/miniconda3/envs/LLM/bin/python -m vllm.entrypoints.openai.api_server'\n",
    "                  f' --host {host}'\n",
    "                  f' --port {port}'\n",
    "                  f' --model {model_name_or_hf_repo}'\n",
    "                  f' --tensor-parallel-size {world_size} > \"{logging_path}/serving_{model_name}.log\" &')\n",
    "    \n",
    "    agent = autogen.AssistantAgent(\n",
    "        name=\"assistant\",\n",
    "        llm_config={\n",
    "            \"seed\": seed,  # seed for caching and reproducibility\n",
    "            \"config_list\": config,  # a list of OpenAI API configurations\n",
    "            \"temperature\": temperature,  # temperature for sampling\n",
    "        },  # configuration for autogen's enhanced inference API which is compatible with OpenAI API\n",
    "    )\n",
    "    return agent"
   ],
   "metadata": {
    "collapsed": false
   },
   "id": "d729233c9524f875"
  }
 ],
 "metadata": {
  "kernelspec": {
   "display_name": "Python 3",
   "language": "python",
   "name": "python3"
  },
  "language_info": {
   "codemirror_mode": {
    "name": "ipython",
    "version": 2
   },
   "file_extension": ".py",
   "mimetype": "text/x-python",
   "name": "python",
   "nbconvert_exporter": "python",
   "pygments_lexer": "ipython2",
   "version": "2.7.6"
  }
 },
 "nbformat": 4,
 "nbformat_minor": 5
}
