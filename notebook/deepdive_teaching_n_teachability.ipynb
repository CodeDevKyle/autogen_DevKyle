{
 "cells": [
  {
   "cell_type": "markdown",
   "metadata": {},
   "source": [
    "#### Notebook looks at the inner-workings of the Teacheable agent, and understand how it solves the problem of retaining its teachings\n",
    "\n",
    "Teachable Agent required ChromaDB, which requires a long list of dependencies. So moving the notebook to Linux environment, and explore from there. \n",
    "\n",
    "As this notebook requires the linux environment, it will test the AssistantAgent execution with local \"Codellama2\" or \"llama2\" models\n",
    "\n",
    "Steps Followed:\n",
    "\n",
    "- Setting up the Gradio endpoints in Kali Server, and test the generation end point in this notebook. (This did not Work.. So parked it)\n",
    "\n",
    "- Create the config_list to only work on the Teachable agent and undrestand it"
   ]
  },
  {
   "cell_type": "code",
   "execution_count": null,
   "metadata": {},
   "outputs": [],
   "source": []
  }
 ],
 "metadata": {
  "kernelspec": {
   "display_name": "autogenv",
   "language": "python",
   "name": "python3"
  },
  "language_info": {
   "name": "python",
   "version": "3.11.4"
  }
 },
 "nbformat": 4,
 "nbformat_minor": 2
}
