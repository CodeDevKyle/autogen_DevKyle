{
 "cells": [
  {
   "cell_type": "markdown",
   "metadata": {},
   "source": [
    "### Long Context Handling Capability\n",
    "\n",
    "This notebook illustrates how you can use `capabilities` to give any `Conversable` agent an ability to handle long contexts."
   ]
  },
  {
   "cell_type": "code",
   "execution_count": 1,
   "metadata": {},
   "outputs": [],
   "source": [
    "## Uncomment to install pyautogen if you don't have it already\n",
    "#! pip install pyautogen"
   ]
  },
  {
   "cell_type": "code",
   "execution_count": 2,
   "metadata": {},
   "outputs": [],
   "source": [
    "import autogen\n",
    "from autogen.agentchat.contrib.capabilities.context_handling import LongContextCapability"
   ]
  },
  {
   "cell_type": "code",
   "execution_count": 3,
   "metadata": {},
   "outputs": [
    {
     "name": "stdout",
     "output_type": "stream",
     "text": [
      "\u001b[33muser_proxy\u001b[0m (to assistant):\n",
      "\n",
      "plot and save a graph of x^2 from -10 to 10\n",
      "\n",
      "--------------------------------------------------------------------------------\n",
      "\u001b[33massistant\u001b[0m (to user_proxy):\n",
      "\n",
      "To plot and save a graph of the function x^2 from -10 to 10, we can use Python with libraries such as matplotlib. First, I will provide you with the code to perform this task. Then you will need to run this code on your machine. The code will generate and save the plot in the current directory as an image file.\n",
      "\n",
      "Please execute the following Python code:\n",
      "\n",
      "```python\n",
      "# filename: plot_x_squared.py\n",
      "import matplotlib.pyplot as plt\n",
      "import numpy as np\n",
      "\n",
      "# Create an array of x values from -10 to 10\n",
      "x = np.linspace(-10, 10, 400)\n",
      "# Calculate the square of x values\n",
      "y = x ** 2\n",
      "\n",
      "# Create the plot\n",
      "plt.figure(figsize=(8, 6))\n",
      "plt.plot(x, y, '-r', label='y = x^2')\n",
      "plt.title('Graph of y = x^2')\n",
      "plt.xlabel('x', fontsize=14)\n",
      "plt.ylabel('y', fontsize=14)\n",
      "plt.legend(loc='upper right')\n",
      "plt.grid(True)\n",
      "\n",
      "# Save the plot as a png file\n",
      "plt.savefig('graph_of_x_squared.png')\n",
      "\n",
      "# Show the plot\n",
      "plt.show()\n",
      "```\n",
      "\n",
      "Save the code to a file named `plot_x_squared.py` and execute it in your Python environment. The code will generate a window displaying the graph, and it will save the image as `graph_of_x_squared.png` in the current directory.\n",
      "\n",
      "--------------------------------------------------------------------------------\n",
      "\u001b[31m\n",
      ">>>>>>>> EXECUTING CODE BLOCK 0 (inferred language is python)...\u001b[0m\n"
     ]
    },
    {
     "name": "stdout",
     "output_type": "stream",
     "text": [
      "\u001b[33muser_proxy\u001b[0m (to assistant):\n",
      "\n",
      "exitcode: 0 (execution succeeded)\n",
      "Code output: \n",
      "Figure(800x600)\n",
      "\n",
      "\n",
      "--------------------------------------------------------------------------------\n",
      "Truncated 1 messages.\n",
      "\u001b[33massistant\u001b[0m (to user_proxy):\n",
      "\n",
      "The execution of the code was successful, and the plot should have been displayed on your screen. Additionally, the graph should now be saved as `graph_of_x_squared.png` in the current directory where the script was run.\n",
      "\n",
      "Since the task has been carried out and no issues were reported, it seems everything is done.\n",
      "\n",
      "TERMINATE\n",
      "\n",
      "--------------------------------------------------------------------------------\n"
     ]
    }
   ],
   "source": [
    "config_list = autogen.config_list_from_json(\"OAI_CONFIG_LIST\")\n",
    "\n",
    "assistant = autogen.AssistantAgent(\n",
    "    \"assistant\",\n",
    "    llm_config={\n",
    "        \"config_list\": config_list,\n",
    "    },\n",
    ")\n",
    "long_context_capability = LongContextCapability(max_messages=2)\n",
    "long_context_capability.add_to_agent(assistant)\n",
    "\n",
    "user_proxy = autogen.UserProxyAgent(\n",
    "    \"user_proxy\",\n",
    "    human_input_mode=\"NEVER\",\n",
    "    is_termination_msg=lambda x: \"TERMINATE\" in x.get(\"content\", \"\"),\n",
    "    code_execution_config={\n",
    "        \"work_dir\": \"coding\",\n",
    "        \"use_docker\": False,\n",
    "    },\n",
    "    max_consecutive_auto_reply=10,\n",
    ")\n",
    "\n",
    "user_proxy.initiate_chat(assistant, message=\"plot and save a graph of x^2 from -10 to 10\")"
   ]
  }
 ],
 "metadata": {
  "kernelspec": {
   "display_name": "Python 3",
   "language": "python",
   "name": "python3"
  },
  "language_info": {
   "codemirror_mode": {
    "name": "ipython",
    "version": 3
   },
   "file_extension": ".py",
   "mimetype": "text/x-python",
   "name": "python",
   "nbconvert_exporter": "python",
   "pygments_lexer": "ipython3",
   "version": "3.10.13"
  }
 },
 "nbformat": 4,
 "nbformat_minor": 2
}
