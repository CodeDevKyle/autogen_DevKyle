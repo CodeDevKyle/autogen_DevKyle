{
 "cells": [
  {
   "attachments": {},
   "cell_type": "markdown",
   "metadata": {},
   "source": [
    "# Using RetrieveChat Powered by MongoDB Atlas for RAG\n",
    "\n",
    "AutoGen offers conversable agents powered by LLM, tool or human, which can be used to perform tasks collectively via automated chat. This framework allows tool use and human participation through multi-agent conversation.\n",
    "Please find documentation about this feature [here](https://microsoft.github.io/autogen/docs/Use-Cases/agent_chat).\n",
    "\n",
    ".......\n",
    "\n",
    "\n",
    "## Table of Contents\n",
    "........\n",
    "\n",
    "\n",
    "````{=mdx}\n",
    ":::info Requirements\n",
    "Some extra dependencies are needed for this notebook, which can be installed via pip:\n",
    "\n",
    "```bash\n",
    "pip install pyautogen[retrievechat-mongodb]\n",
    "```\n",
    "\n",
    "For more information, please refer to the [installation guide](/docs/installation/).\n",
    ":::\n",
    "````\n",
    "\n",
    "Ensure you have a MongoDB Atlas instance. \n",
    "\n",
    "If not, a test version can quickly be deployed using Docker.\n",
    "\n",
    "`docker-compose.yml`\n",
    "```yml\n",
    "version: '3.9'\n",
    "\n",
    "services:\n",
    "  mongodb:\n",
    "    image: mongodb/mongodb-atlas-local:latest\n",
    "    restart: unless-stopped\n",
    "    ports:\n",
    "      - \"27017:27017\"\n",
    "    environment:\n",
    "      MONGODB_INITDB_ROOT_USERNAME: <mongodb-root-user>\n",
    "      MONGODB_INITDB_ROOT_PASSWORD: <mongodb-root-password>\n",
    "```\n"
   ]
  }
 ],
 "metadata": {
  "front_matter": {
   "description": "Explore the use of AutoGen's RetrieveChat for tasks like code generation from docstrings, answering complex questions with human feedback, and exploiting features like Update Context, custom prompts, and few-shot learning.",
   "tags": [
    "RAG"
   ]
  },
  "kernelspec": {
   "display_name": "Python 3 (ipykernel)",
   "language": "python",
   "name": "python3"
  },
  "language_info": {
   "codemirror_mode": {
    "name": "ipython",
    "version": 3
   },
   "file_extension": ".py",
   "mimetype": "text/x-python",
   "name": "python",
   "nbconvert_exporter": "python",
   "pygments_lexer": "ipython3",
   "version": "3.10.13"
  },
  "skip_test": "Requires interactive usage"
 },
 "nbformat": 4,
 "nbformat_minor": 4
}
