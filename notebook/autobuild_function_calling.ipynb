{
 "cells": [
  {
   "cell_type": "markdown",
   "metadata": {},
   "source": [
    "# AutoBuild Agents function calling\n",
    "By: [Krishna Shedbalkar](https://github.com/krishnashed/)\n",
    "\n",
    "In this notebook, we introduce a way for Agents created using `Autobuild` to do function calling. Developers can specify a function, function name and function description which will thereafter be assigned and executed by the most suitable agent created using AutoBuild."
   ]
  },
  {
   "cell_type": "markdown",
   "metadata": {},
   "source": [
    "## Requirement\n",
    "\n",
    "AutoBuild require `pyautogen[autobuild]`, which can be installed by the following command:"
   ]
  },
  {
   "cell_type": "code",
   "execution_count": null,
   "metadata": {},
   "outputs": [],
   "source": [
    "%pip install pyautogen[autobuild]"
   ]
  },
  {
   "cell_type": "markdown",
   "metadata": {},
   "source": [
    "## Step 1: Prepare configuration and some useful functions\n",
    "\n",
    "Prepare a `config_file_or_env` for assistant agent to limit the choice of LLM you want to use in this task. This config can be a path of json file or a name of environment variable. A `default_llm_config` is also required for initialize the specific config of LLMs like seed, temperature, etc. Preventing UserProxy agent being called multiple times by adding `allow_repeat_speaker=agent_list[:-1]`"
   ]
  },
  {
   "cell_type": "code",
   "execution_count": 4,
   "metadata": {},
   "outputs": [],
   "source": [
    "import autogen\n",
    "from autogen.agentchat.contrib.agent_builder import AgentBuilder\n",
    "\n",
    "config_file_or_env = \"OAI_CONFIG_LIST\"\n",
    "config_list = autogen.config_list_from_json(config_file_or_env, filter_dict={\"model\": [\"gpt-4-1106-preview\", \"gpt-4\"]})\n",
    "llm_config = {\n",
    "    \"config_list\": config_list,\n",
    "    \"timeout\": 120,\n",
    "}\n",
    "\n",
    "\n",
    "def start_task(execution_task: str, agent_list: list):\n",
    "    group_chat = autogen.GroupChat(agents=agent_list, messages=[], allow_repeat_speaker=agent_list[:-1], max_round=12)\n",
    "    manager = autogen.GroupChatManager(groupchat=group_chat, llm_config={\"config_list\": config_list})\n",
    "    agent_list[0].initiate_chat(manager, message=execution_task)"
   ]
  },
  {
   "cell_type": "markdown",
   "metadata": {},
   "source": [
    "## Step 2: Create a AgentBuilder\n",
    "\n",
    "Create a `AgentBuilder` with the specified `config_path_or_env`. AgentBuilder will use `gpt-4` in default to complete the whole process, you can specify the `builder_model` and `agent_model` to other OpenAI model to match your task. You can also specify an open-source LLM supporting by vLLM and FastChat, see blog for more details."
   ]
  },
  {
   "cell_type": "code",
   "execution_count": 5,
   "metadata": {},
   "outputs": [],
   "source": [
    "builder = AgentBuilder(\n",
    "    config_file_or_env=config_file_or_env, builder_model=\"gpt-4-1106-preview\", agent_model=\"gpt-4-1106-preview\"\n",
    ")"
   ]
  },
  {
   "cell_type": "markdown",
   "metadata": {},
   "source": [
    "## Step 3: Specify a building task\n",
    "\n",
    "Specify a building task with a general description. Building task will help build manager (a LLM) decide what agents should be built."
   ]
  },
  {
   "cell_type": "code",
   "execution_count": 6,
   "metadata": {},
   "outputs": [],
   "source": [
    "building_task = \"Get arxiv papers published in last 24 hours\""
   ]
  },
  {
   "cell_type": "markdown",
   "metadata": {},
   "source": [
    "## Step 4: Define functions\n",
    "\n",
    "Define functions to be executed by the Agents of AutoBuild, further specify details like `name`, `description` and `function` of all the functions in an array called `list_of_functions` which will be passed to `builder.build()`"
   ]
  },
  {
   "cell_type": "code",
   "execution_count": 7,
   "metadata": {},
   "outputs": [],
   "source": [
    "import time\n",
    "from datetime import datetime, timedelta\n",
    "from typing import Dict\n",
    "\n",
    "import feedparser\n",
    "\n",
    "\n",
    "def get_arxiv_papers() -> Dict:\n",
    "    # arXiv API endpoint\n",
    "    url = \"http://export.arxiv.org/api/query?\"\n",
    "\n",
    "    # Search parameters\n",
    "    max_results = 10\n",
    "\n",
    "    query = f\"{url}search_query=all&max_results={max_results}&sortBy=lastUpdatedDate&sortOrder=descending\"\n",
    "\n",
    "    # Parse the feed\n",
    "    feed = feedparser.parse(query)\n",
    "\n",
    "    now = datetime.now()\n",
    "    twenty_four_hours_ago = now - timedelta(hours=24)\n",
    "\n",
    "    papers = []\n",
    "\n",
    "    # # Print papers from last 24 hours\n",
    "    for entry in feed.entries:\n",
    "        published_time = datetime.strptime(entry.published, \"%Y-%m-%dT%H:%M:%SZ\")\n",
    "        if published_time > twenty_four_hours_ago:\n",
    "            list_of_authors = \", \".join(author.name for author in entry.authors)\n",
    "\n",
    "            papers.append(\n",
    "                {\n",
    "                    \"title\": entry.title,\n",
    "                    \"authors\": list_of_authors,\n",
    "                    \"published_on\": time.strftime(\"%B %d, %Y\", entry.published_parsed),\n",
    "                    \"summary\": entry.summary,\n",
    "                    \"link\": entry.link,\n",
    "                }\n",
    "            )\n",
    "\n",
    "    return papers\n",
    "\n",
    "\n",
    "list_of_functions = [\n",
    "    {\n",
    "        \"name\": \"get_arxiv_papers\",\n",
    "        \"description\": \"Get arxiv papers published in last 24 hours\",\n",
    "        \"function\": get_arxiv_papers,\n",
    "    }\n",
    "]"
   ]
  },
  {
   "cell_type": "markdown",
   "metadata": {},
   "source": [
    "## Step 5: build group chat agents\n",
    "\n",
    "Use `build()` to let build manager (the specified `builder_model`) complete the group chat agents generation. Specify `list_of_functions` to be used by the Agents"
   ]
  },
  {
   "cell_type": "code",
   "execution_count": 8,
   "metadata": {},
   "outputs": [
    {
     "name": "stdout",
     "output_type": "stream",
     "text": [
      "\u001b[32m==> Generating agents...\u001b[0m\n",
      "['ArxivAPI_Expert', 'WebScraping_Expert', 'DataMining_Expert', 'Python_Expert', 'ResearchAnalysis_Expert'] are generated.\n",
      "\u001b[32m==> Generating system message...\u001b[0m\n",
      "Preparing system message for ArxivAPI_Expert\n",
      "Preparing system message for WebScraping_Expert\n",
      "Preparing system message for DataMining_Expert\n",
      "Preparing system message for Python_Expert\n",
      "Preparing system message for ResearchAnalysis_Expert\n",
      "\u001b[32m==> Generating description...\u001b[0m\n",
      "Preparing description for ArxivAPI_Expert\n",
      "Preparing description for WebScraping_Expert\n",
      "Preparing description for DataMining_Expert\n",
      "Preparing description for Python_Expert\n",
      "Preparing description for ResearchAnalysis_Expert\n",
      "\u001b[32m==> Creating agents...\u001b[0m\n",
      "Creating agent ArxivAPI_Expert...\n",
      "Creating agent WebScraping_Expert...\n",
      "Creating agent DataMining_Expert...\n",
      "Creating agent Python_Expert...\n",
      "Creating agent ResearchAnalysis_Expert...\n",
      "Adding user console proxy...\n",
      "Function get_arxiv_papers is registered to agent ArxivAPI_Expert.\n"
     ]
    }
   ],
   "source": [
    "agent_list, agent_configs = builder.build(building_task, llm_config, list_of_functions)"
   ]
  },
  {
   "cell_type": "markdown",
   "metadata": {},
   "source": [
    "Here you can see that Function `exec_python` has been associated with `ArxivAPI_Expert` Agent."
   ]
  },
  {
   "cell_type": "markdown",
   "metadata": {},
   "source": [
    "## Step 6: execute task\n",
    "\n",
    "Let agents generated in `build()` to complete the task collaboratively in a group chat."
   ]
  },
  {
   "cell_type": "code",
   "execution_count": 10,
   "metadata": {},
   "outputs": [
    {
     "name": "stdout",
     "output_type": "stream",
     "text": [
      "\u001b[33mArxivAPI_Expert\u001b[0m (to chat_manager):\n",
      "\n",
      "Get arxiv papers published in last 24 hours\n",
      "\n",
      "--------------------------------------------------------------------------------\n",
      "\u001b[32m\n",
      "Next speaker: ArxivAPI_Expert\n",
      "\u001b[0m\n",
      "\u001b[35m\n",
      ">>>>>>>> EXECUTING FUNCTION get_arxiv_papers...\u001b[0m\n",
      "\u001b[33mArxivAPI_Expert\u001b[0m (to chat_manager):\n",
      "\n",
      "\u001b[32m***** Response from calling tool (call_UekuKwwqAsR5nOEAfkJK750f) *****\u001b[0m\n",
      "[{\"title\": \"All Teichmuller spaces are not starlike\", \"authors\": \"Samuel L. Krushkal\", \"published_on\": \"July 25, 2024\", \"summary\": \"This paper is the final step in solving the problem of starlikeness of\\nTeichmuller spaces in Bers' embedding. This step concerns the case of finite\\ndimensional Teichmuller spaces ${\\\\mathbf T}(g, n)$ of positive dimension\\n(corresponding to punctured Riemann surfaces of finite conformal type $(g, n)$\\nwith $2g - 2 + n > 0$).\", \"link\": \"http://arxiv.org/abs/2407.18239v1\"}, {\"title\": \"Dust and Power: Unravelling the merger -- AGN connection in the second\\n  half of the cosmic history\", \"authors\": \"A. La Marca, B. Margalef-Bentabol, L. Wang, F. Gao, A. D. Goulding, G. Martin, V. Rodriguez-Gomez, S. C. Trager, G. Yang, R. Davé, Y. Dubois\", \"published_on\": \"July 25, 2024\", \"summary\": \"Galaxy mergers represent a fundamental physical process under hierarchical\\nstructure formation, but their role in triggering AGNs is still unclear. We aim\\nto investigate the merger-AGN connection using state-of-the-art observations\\nand novel methods in detecting mergers and AGNs. We selected stellar\\nmass-limited samples at redshift z<1 from KiDS, focusing on the KiDS-N-W2 field\\nwith a wide range of multi-wavelength data. Three AGN types, selected in the\\nMIR, X-ray, and via SED modelling, were analysed. To identify mergers, we used\\nconvolutional neural networks trained on two cosmological simulations. We\\ncreated mass and redshift-matched control samples of non-mergers and non-AGNs.\\nWe observe a clear AGN excess (a factor of 2-3) in mergers with respect to\\nnon-mergers for the MIR AGNs, and a mild excess for the X-ray and SED AGNs,\\nindicating that mergers could trigger all 3 types but are more connected with\\nthe MIR AGNs. About half of the MIR AGNs are in mergers but it is unclear\\nwhether mergers are the main trigger. For the X-ray and SED AGNs, mergers are\\nunlikely to be the dominant trigger. We also explore the relation using the\\ncontinuous AGN fraction $f_{AGN}$ parameter. Mergers exhibit a clear excess of\\nhigh $f_{AGN}$ values relative to non-mergers, for all AGNs. We unveil the\\nfirst merger fraction $f_{merg}-f_{AGN}$ relation with two distinct regimes.\\nWhen the AGN is not dominant, the relation is only mildly increasing or even\\nflat, with the MIR AGNs showing the highest $f_{merg}$. In the regime of very\\ndominant AGNs ($f_{AGN}\\\\geq0.8$), $f_{merg}$ shows a steeply rising trend with\\nincreasing $f_{AGN}$ for all AGN types. These trends are also seen when plotted\\nagainst AGN bolometric luminosity. We conclude that mergers are most connected\\nwith dust-obscured AGNs (linked to a fast-growing phase of the SMBH) and are\\nthe main or even the sole fuelling mechanism of the most powerful AGNs.\", \"link\": \"http://arxiv.org/abs/2407.18238v1\"}, {\"title\": \"Heterogeneous model for superdiffusive movement of dense-core vesicles\\n  in C. elegans\", \"authors\": \"Anna Gavrilova, Nickolay Korabel, Victoria J. Allan, Sergei Fedotov\", \"published_on\": \"July 25, 2024\", \"summary\": \"Transport of dense core vesicles (DCVs) in neurons is crucial for\\ndistributing molecules like neuropeptides and growth factors. We studied the\\nexperimental trajectories of dynein-driven directed movement of DCVs in the ALA\\nneuron C. elegans over a duration of up to 6 seconds. We analysed the DCV\\nmovement in three strains of C. elegans: 1) with normal kinesin-1 function, 2)\\nwith reduced function in kinesin light chain 2 (KLC-2), and 3) a null mutation\\nin kinesin light chain 1 (KLC-1). We find that DCVs move superdiffusively with\\ndisplacement variance $var(x) \\\\sim t^2$ in all three strains with low reversal\\nrates and frequent immobilization of DCVs. The distribution of DCV\\ndisplacements fits a beta-binomial distribution with the mean and the variance\\nfollowing linear and quadratic growth patterns, respectively. We propose a\\nsimple heterogeneous random walk model to explain the observed superdiffusive\\nretrograde transport behaviour of DCV movement. This model involves a random\\nprobability with the beta density for a DCV to resume its movement or remain in\\nthe same position.\", \"link\": \"http://arxiv.org/abs/2407.18237v1\"}, {\"title\": \"Stability analysis of periodic orbits in nonlinear dynamical systems\\n  using Chebyshev polynomials\", \"authors\": \"Artur Gesla, Yohann Duguet, Patrick Le Quéré, Laurent Martin Witkowski\", \"published_on\": \"July 25, 2024\", \"summary\": \"We propose an algorithm to identify numerically periodic solutions of\\nhigh-dimensional dynamical systems and their local stability properties. One of\\nthe most popular approaches is the Harmonic Balance Method (HBM), which\\nexpresses the cycle as a sum of Fourier modes and analyses its stability using\\nthe Hill's method. A drawback of Hill's method is that the relevant Floquet\\nexponents have to be chosen from all the computed exponents. To overcome this\\nproblem the current work discusses the application of Chebyshev polynomials to\\nthe description of the time dependence of the periodic dynamics. The stability\\ncharacteristics of the periodic orbit are directly extracted from the\\nlinearisation around the periodic orbit. The method is compared with the HBM\\nwith examples from Lorenz and Langford systems. The main advantage of the\\npresent method is that, unlike HBM, it allows for an unambiguous determination\\nof the Floquet exponents. The method is applied to natural convection in a\\ndifferentially heated cavity which demonstrates its potential for large scale\\nproblems arising from the discretisation of the incompressible Navier-Stokes\\nequations.\", \"link\": \"http://arxiv.org/abs/2407.18230v1\"}, {\"title\": \"Osterwalder-Schrader axioms for unitary full vertex operator algebras\", \"authors\": \"Maria Stella Adamo, Yuto Moriwaki, Yoh Tanimoto\", \"published_on\": \"July 25, 2024\", \"summary\": \"Full Vertex Operator Algebras (full VOA) are extensions of two commuting\\nVertex Operator Algebras, introduced to formulate compact two-dimensional\\nconformal field theory. We define unitarity, polynomial energy bounds and\\npolynomial spectral density for full VOA. Under these conditions and local\\n$C_1$-cofiniteness of the simple full VOA, we show that the correlation\\nfunctions of quasi-primary fields define tempered distributions and satisfy a\\nconformal version of the Osterwalder-Schrader axioms, including the linear\\ngrowth condition.\\n  As an example, we show that a family of full extensions of the Heisenberg VOA\\nsatisfies all these assumptions.\", \"link\": \"http://arxiv.org/abs/2407.18222v1\"}, {\"title\": \"Catalog of Proper Orbits for 1.25 Million Main Belt Asteroids and\\n  Discovery of 136 New Collisional Families\", \"authors\": \"David Nesvorny, Fernando Roig, David Vokrouhlicky, Miroslav Broz\", \"published_on\": \"July 25, 2024\", \"summary\": \"The proper elements of asteroids are obtained from the instantaneous orbital\\nelements by removing periodic oscillations produced by gravitational\\ninteractions with planets. They are unchanging in time, at least if chaotic\\ndynamics and non-gravitational forces could be ignored, and can therefore be\\nused to identify fragments of major collisions (asteroid families) that\\nhappened eons ago. Here we present a new catalog of proper elements for 1.25\\nmillion main belt asteroids. We explain the methodology, evaluate\\nuncertainties, and discuss how the new catalog can be used to identify asteroid\\nfamilies. A systematic search for families yielded 153 cases not reported in\\nNesvorn\\\\'y at al. (2015) -- 17 of these cases were identified in various other\\npublications, 136 cases are new discoveries. There are now 274 families in the\\nasteroid belt in total (plus a handful of families in the resonant Hilda\\npopulation). We analyzed several compact families in detail. The new family\\naround the middle belt asteroid (9332) 1990SB1 (9 members) is the youngest\\nfamily found so far (estimated formation only 16-17 kyr ago). New families\\n(1217) Maximiliana, (6084) Bascom, (10164) Akusekijima and (70208) 1999RX33 all\\nformed 0.5-2.5 Myr ago. The (2110) Moore-Sitterly family is a close pair of\\nrelatively large bodies, 2110 and 44612, and 15 small members all located\\nsunwards from 2110 and 44612, presumably a consequence of the Yarkovsky drift\\nover the estimated family age (1.2-1.5 Myr). A systematic characterization of\\nthe new asteroid families is left for future work.\", \"link\": \"http://arxiv.org/abs/2407.18221v1\"}]\n",
      "\u001b[32m**********************************************************************\u001b[0m\n",
      "\n",
      "--------------------------------------------------------------------------------\n",
      "\u001b[32m\n",
      "Next speaker: ResearchAnalysis_Expert\n",
      "\u001b[0m\n",
      "\u001b[33mResearchAnalysis_Expert\u001b[0m (to chat_manager):\n",
      "\n",
      "The retrieved arXiv papers published within the last 24 hours are as follows:\n",
      "\n",
      "1. **Title**: All Teichmuller spaces are not starlike\n",
      "   - **Authors**: Samuel L. Krushkal\n",
      "   - **Published On**: July 25, 2024\n",
      "   - **Summary**: This research provides the final step in addressing the starlikeness problem for Teichmuller spaces through Bers' embedding. It focuses on finite-dimensional Teichmuller spaces that correspond to punctured Riemann surfaces, with specific attention to cases where the dimensions are positive.\n",
      "   - **Link**: [http://arxiv.org/abs/2407.18239v1](http://arxiv.org/abs/2407.18239v1)\n",
      "\n",
      "2. **Title**: Dust and Power: Unravelling the merger -- AGN connection in the second half of the cosmic history\n",
      "   - **Authors**: A. La Marca et al.\n",
      "   - **Published On**: July 25, 2024\n",
      "   - **Summary**: The paper aims to explore the connection between galaxy mergers and AGN activation, using state-of-the-art observations and novel methods. An analysis of three AGN types in combination with advanced machine learning techniques suggests that mergers more likely trigger MIR AGNs and may play a main role in fuelling powerful AGNs.\n",
      "   - **Link**: [http://arxiv.org/abs/2407.18238v1](http://arxiv.org/abs/2407.18238v1)\n",
      "\n",
      "3. **Title**: Heterogeneous model for superdiffusive movement of dense-core vesicles in C. elegans\n",
      "   - **Authors**: Anna Gavrilova et al.\n",
      "   - **Published On**: July 25, 2024\n",
      "   - **Summary**: This study presents a model for the superdiffusive retrograde transport of dense core vesicles in C. elegans' neurons. Analyzing the movement of these vesicles, a simple heterogeneous random walk model is proposed to explain the observed behavior, which is significant for understanding the distribution mechanisms in neurons.\n",
      "   - **Link**: [http://arxiv.org/abs/2407.18237v1](http://arxiv.org/abs/2407.18237v1)\n",
      "\n",
      "4. **Title**: Stability analysis of periodic orbits in nonlinear dynamical systems using Chebyshev polynomials\n",
      "   - **Authors**: Artur Gesla et al.\n",
      "   - **Published On**: July 25, 2024\n",
      "   - **Summary**: The paper proposes a novel algorithm using Chebyshev polynomials to identify and analyze the stability of periodic solutions in high-dimensional dynamical systems. It is asserted to provide a clear advantage over the Harmonic Balance Method by allowing unambiguous determination of Floquet exponents.\n",
      "   - **Link**: [http://arxiv.org/abs/2407.18230v1](http://arxiv.org/abs/2407.18230v1)\n",
      "\n",
      "5. **Title**: Osterwalder-Schrader axioms for unitary full vertex operator algebras\n",
      "   - **Authors**: Maria Stella Adamo et al.\n",
      "   - **Published On**: July 25, 2024\n",
      "   - **Summary**: The research discusses unitary full Vertex Operator Algebras (VOAs) and defines certain conditions such as unitarity and polynomial energy bounds. Under these conditions, it shows that quasi-primary fields' correlation functions satisfy a conformal version of the Osterwalder-Schrader axioms.\n",
      "   - **Link**: [http://arxiv.org/abs/2407.18222v1](http://arxiv.org/abs/2407.18222v1)\n",
      "\n",
      "6. **Title**: Catalog of Proper Orbits for 1.25 Million Main Belt Asteroids and Discovery of 136 New Collisional Families\n",
      "   - **Authors**: David Nesvorny et al.\n",
      "   - **Published On**: July 25, 2024\n",
      "   - **Summary**: This paper introduces a new catalog of proper orbital elements for over 1.25 million main belt asteroids and details the discovery of 136 new collisional asteroid families. It provides insights into proper elements and their application in identifying asteroid families, including a detailed analysis of several new families.\n",
      "   - **Link**: [http://arxiv.org/abs/2407.18221v1](http://arxiv.org/abs/2407.18221v1)\n",
      "\n",
      "Bear in mind that the publication dates mentioned are in the future, which seems like an error in the retrieved data. ArxivAPI_Expert, could you confirm the correctness of these details, especially the dates? If this information is accurate, then something might be wrong with the sources or the data extraction process.\n",
      "\n",
      "--------------------------------------------------------------------------------\n",
      "\u001b[32m\n",
      "Next speaker: ArxivAPI_Expert\n",
      "\u001b[0m\n",
      "\u001b[33mArxivAPI_Expert\u001b[0m (to chat_manager):\n",
      "\n",
      "I apologize for the confusion. The dates provided do indeed appear to be in the future, which is not possible given the current year is 2023. This likely indicates a flaw in the data retrieval or presentation process, and I will need to verify the correctness of these details with the arXiv API. Please hold on while I perform this verification.\n",
      "\n",
      "--------------------------------------------------------------------------------\n"
     ]
    }
   ],
   "source": [
    "start_task(execution_task=building_task, agent_list=agent_list)"
   ]
  },
  {
   "cell_type": "markdown",
   "metadata": {},
   "source": [
    "## Step 7 (Optional): clear all agents and prepare for the next task\n",
    "\n",
    "You can clear all agents generated in this task by the following code if your task is completed or the next task is largely different from the current task. If the agent's backbone is an open-source LLM, this process will also shut down the endpoint server. If necessary, you can use `recycle_endpoint=False` to retain the previous open-source LLMs' endpoint server."
   ]
  },
  {
   "cell_type": "code",
   "execution_count": 11,
   "metadata": {},
   "outputs": [
    {
     "name": "stdout",
     "output_type": "stream",
     "text": [
      "\u001b[33mAll agents have been cleared.\u001b[0m\n"
     ]
    }
   ],
   "source": [
    "builder.clear_all_agents(recycle_endpoint=True)"
   ]
  },
  {
   "cell_type": "markdown",
   "metadata": {},
   "source": [
    "## Save & load configs\n",
    "\n",
    "You can save all necessary information of the built group chat agents. Here is a case for those agents generated in the above task:"
   ]
  },
  {
   "cell_type": "code",
   "execution_count": 12,
   "metadata": {},
   "outputs": [
    {
     "name": "stdout",
     "output_type": "stream",
     "text": [
      "\u001b[32mBuilding config saved to ./save_config_aadaa359b8adfb7d4845a5f8bf407c78.json\u001b[0m\n"
     ]
    }
   ],
   "source": [
    "saved_path = builder.save()"
   ]
  },
  {
   "cell_type": "code",
   "execution_count": null,
   "metadata": {},
   "outputs": [],
   "source": []
  }
 ],
 "metadata": {
  "kernelspec": {
   "display_name": "Python 3",
   "language": "python",
   "name": "python3"
  },
  "language_info": {
   "codemirror_mode": {
    "name": "ipython",
    "version": 3
   },
   "file_extension": ".py",
   "mimetype": "text/x-python",
   "name": "python",
   "nbconvert_exporter": "python",
   "pygments_lexer": "ipython3",
   "version": "3.10.14"
  },
  "orig_nbformat": 4,
  "vscode": {
   "interpreter": {
    "hash": "e7370f93d1d0cde622a1f8e1c04877d8463912d04d973331ad4851f04de6915a"
   }
  }
 },
 "nbformat": 4,
 "nbformat_minor": 2
}
