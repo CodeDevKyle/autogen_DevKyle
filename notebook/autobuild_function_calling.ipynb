{
 "cells": [
  {
   "cell_type": "markdown",
   "metadata": {},
   "source": [
    "# AutoBuild Agents function calling\n",
    "By: [Krishna Shedbalkar](https://github.com/krishnashed/)\n",
    "\n",
    "In this notebook, we introduce a way for Agents created using `Autobuild` to do function calling. Developers can specify a function, function name and function description which will thereafter be assigned and executed by the most suitable agent created using AutoBuild."
   ]
  },
  {
   "cell_type": "markdown",
   "metadata": {},
   "source": [
    "## Requirement\n",
    "\n",
    "AutoBuild require `pyautogen[autobuild]`, which can be installed by the following command:"
   ]
  },
  {
   "cell_type": "code",
   "execution_count": null,
   "metadata": {},
   "outputs": [],
   "source": [
    "%pip install pyautogen[autobuild]"
   ]
  },
  {
   "cell_type": "markdown",
   "metadata": {},
   "source": [
    "## Step 1: Prepare configuration and some useful functions\n",
    "\n",
    "Prepare a `config_file_or_env` for assistant agent to limit the choice of LLM you want to use in this task. This config can be a path of json file or a name of environment variable. A `default_llm_config` is also required for initialize the specific config of LLMs like seed, temperature, etc..."
   ]
  },
  {
   "cell_type": "code",
   "execution_count": 1,
   "metadata": {},
   "outputs": [],
   "source": [
    "import autogen\n",
    "from autogen.agentchat.contrib.agent_builder import AgentBuilder\n",
    "\n",
    "config_file_or_env = \"OAI_CONFIG_LIST\"\n",
    "config_list = autogen.config_list_from_json(config_file_or_env, filter_dict={\"model\": [\"gpt-4-1106-preview\", \"gpt-4\"]})\n",
    "llm_config = {\n",
    "    \"config_list\": config_list,\n",
    "    \"timeout\": 120,\n",
    "}\n",
    "\n",
    "\n",
    "def start_task(execution_task: str, agent_list: list):\n",
    "    group_chat = autogen.GroupChat(agents=agent_list, messages=[], max_round=12)\n",
    "    manager = autogen.GroupChatManager(groupchat=group_chat, llm_config={\"config_list\": config_list})\n",
    "    agent_list[0].initiate_chat(manager, message=execution_task)"
   ]
  },
  {
   "cell_type": "markdown",
   "metadata": {},
   "source": [
    "## Step 2: Create a AgentBuilder\n",
    "\n",
    "Create a `AgentBuilder` with the specified `config_path_or_env`. AgentBuilder will use `gpt-4` in default to complete the whole process, you can specify the `builder_model` and `agent_model` to other OpenAI model to match your task. You can also specify an open-source LLM supporting by vLLM and FastChat, see blog for more details."
   ]
  },
  {
   "cell_type": "code",
   "execution_count": 2,
   "metadata": {},
   "outputs": [],
   "source": [
    "builder = AgentBuilder(\n",
    "    config_file_or_env=config_file_or_env, builder_model=\"gpt-4-1106-preview\", agent_model=\"gpt-4-1106-preview\"\n",
    ")"
   ]
  },
  {
   "cell_type": "markdown",
   "metadata": {},
   "source": [
    "## Step 3: Specify a building task\n",
    "\n",
    "Specify a building task with a general description. Building task will help build manager (a LLM) decide what agents should be built."
   ]
  },
  {
   "cell_type": "code",
   "execution_count": 3,
   "metadata": {},
   "outputs": [],
   "source": [
    "building_task = \"Draw two agents chatting with each other with an example dialog using matplotlib.\""
   ]
  },
  {
   "cell_type": "markdown",
   "metadata": {},
   "source": [
    "## Step 4: Define functions\n",
    "\n",
    "Define functions to be executed by the Agents of AutoBuild, further specify details like `name`, `description` and `function` of all the functions in an array called `list_of_functions` which will be passed to `builder.build()`"
   ]
  },
  {
   "cell_type": "code",
   "execution_count": 4,
   "metadata": {},
   "outputs": [],
   "source": [
    "from IPython import get_ipython\n",
    "from typing_extensions import Annotated\n",
    "\n",
    "\n",
    "def exec_python(cell: Annotated[str, \"Valid Python cell to execute.\"]) -> str:\n",
    "    ipython = get_ipython()\n",
    "    result = ipython.run_cell(cell)\n",
    "    log = str(result.result)\n",
    "    if result.error_before_exec is not None:\n",
    "        log += f\"\\n{result.error_before_exec}\"\n",
    "    if result.error_in_exec is not None:\n",
    "        log += f\"\\n{result.error_in_exec}\"\n",
    "    return log\n",
    "\n",
    "\n",
    "list_of_functions = [\n",
    "    {\n",
    "        \"name\": \"exec_python\",\n",
    "        \"description\": \"run cell in ipython and return the execution result.\",\n",
    "        \"function\": exec_python,\n",
    "    }\n",
    "]"
   ]
  },
  {
   "cell_type": "markdown",
   "metadata": {},
   "source": [
    "## Step 5: build group chat agents\n",
    "\n",
    "Use `build()` to let build manager (the specified `builder_model`) complete the group chat agents generation. Specify `list_of_functions` to be used by the Agents"
   ]
  },
  {
   "cell_type": "code",
   "execution_count": 5,
   "metadata": {},
   "outputs": [
    {
     "name": "stdout",
     "output_type": "stream",
     "text": [
      "==> Generating agents...\n",
      "['matplotlib_visualization_designer', 'dialogue_content_creator', 'python_matplotlib_developer'] are generated.\n",
      "==> Generating system message...\n",
      "Preparing system message for matplotlib_visualization_designer\n",
      "Preparing system message for dialogue_content_creator\n",
      "Preparing system message for python_matplotlib_developer\n",
      "==> Generating description...\n",
      "Preparing description for matplotlib_visualization_designer\n",
      "Preparing description for dialogue_content_creator\n",
      "Preparing description for python_matplotlib_developer\n",
      "==> Creating agents...\n",
      "Creating agent matplotlib_visualization_designer with backbone gpt-4-1106-preview...\n",
      "Creating agent dialogue_content_creator with backbone gpt-4-1106-preview...\n",
      "Creating agent python_matplotlib_developer with backbone gpt-4-1106-preview...\n",
      "Adding user console proxy...\n",
      "Function exec_python is registered to agent python_matplotlib_developer.\n"
     ]
    }
   ],
   "source": [
    "agent_list, agent_configs = builder.build(building_task, llm_config, list_of_functions)"
   ]
  },
  {
   "cell_type": "markdown",
   "metadata": {},
   "source": [
    "Here you can see that Function `exec_python` has been associated with `python_matplotlib_developer` Agent."
   ]
  },
  {
   "cell_type": "markdown",
   "metadata": {},
   "source": [
    "## Step 6: execute task\n",
    "\n",
    "Let agents generated in `build()` to complete the task collaboratively in a group chat."
   ]
  },
  {
   "cell_type": "code",
   "execution_count": 6,
   "metadata": {},
   "outputs": [
    {
     "name": "stdout",
     "output_type": "stream",
     "text": [
      "\u001b[33mUser_console_and_code_interpreter\u001b[0m (to chat_manager):\n",
      "\n",
      "Draw two agents chatting with each other with an example dialog using matplotlib.\n",
      "\n",
      "--------------------------------------------------------------------------------\n",
      "\u001b[32m\n",
      "Next speaker: python_matplotlib_developer\n",
      "\u001b[0m\n",
      "\u001b[33mpython_matplotlib_developer\u001b[0m (to chat_manager):\n",
      "\n",
      "\u001b[32m***** Suggested tool call (call_3NA4ghbmsGrw7y8Liua3ibWH): exec_python *****\u001b[0m\n",
      "Arguments: \n",
      "{\n",
      "  \"cell\": \"import matplotlib.pyplot as plt\\n\\n# Draw two agents with a dialog\\nfig, ax = plt.subplots(figsize=(6, 4))\\n\\n# Agent A\\nax.text(0.2, 0.6, \\\"Agent A\\\", ha='center', va='center', fontsize=12)\\ncircle_a = plt.Circle((0.2, 0.5), 0.1, color='blue', fill=True)\\nax.add_artist(circle_a)\\n\\n# Agent B\\nax.text(0.8, 0.6, \\\"Agent B\\\", ha='center', va='center', fontsize=12)\\ncircle_b = plt.Circle((0.8, 0.5), 0.1, color='green', fill=True)\\nax.add_artist(circle_b)\\n\\n# Example dialog\\nax.annotate(\\\"Hello!\\\", xy=(0.2, 0.5), xytext=(0.4, 0.7), arrowprops=dict(arrowstyle=\\\"->\\\"), fontsize=10)\\nax.annotate(\\\"Hi there!\\\", xy=(0.8, 0.5), xytext=(0.6, 0.7), arrowprops=dict(arrowstyle=\\\"->\\\"), fontsize=10)\\n\\n# Hide axes\\nax.axis('off')\\n\\nplt.show()\"\n",
      "}\n",
      "\u001b[32m****************************************************************************\u001b[0m\n",
      "\n",
      "--------------------------------------------------------------------------------\n",
      "\u001b[32m\n",
      "Next speaker: User_console_and_code_interpreter\n",
      "\u001b[0m\n",
      "\u001b[35m\n",
      ">>>>>>>> EXECUTING FUNCTION exec_python...\u001b[0m\n"
     ]
    },
    {
     "data": {
      "image/png": "[encoded data removed]",
      "text/plain": [
       "<Figure size 600x400 with 1 Axes>"
      ]
     },
     "metadata": {},
     "output_type": "display_data"
    },
    {
     "name": "stdout",
     "output_type": "stream",
     "text": [
      "\u001b[33mUser_console_and_code_interpreter\u001b[0m (to chat_manager):\n",
      "\n",
      "\u001b[33mUser_console_and_code_interpreter\u001b[0m (to chat_manager):\n",
      "\n",
      "\u001b[32m***** Response from calling tool (call_3NA4ghbmsGrw7y8Liua3ibWH) *****\u001b[0m\n",
      "None\n",
      "\u001b[32m**********************************************************************\u001b[0m\n",
      "\n",
      "--------------------------------------------------------------------------------\n",
      "\u001b[32m\n",
      "Next speaker: User_console_and_code_interpreter\n",
      "\u001b[0m\n",
      "\u001b[33mUser_console_and_code_interpreter\u001b[0m (to chat_manager):\n",
      "\n",
      "\n",
      "\n",
      "--------------------------------------------------------------------------------\n",
      "\u001b[32m\n",
      "Next speaker: matplotlib_visualization_designer\n",
      "\u001b[0m\n",
      "\u001b[33mmatplotlib_visualization_designer\u001b[0m (to chat_manager):\n",
      "\n",
      "It seems that there might have been an issue as the expected visualization was not displayed. Let me try executing the code snippet again to generate the visual representation of the two agents chatting with an example dialog using matplotlib. Please wait a moment while I process this.\n",
      "\n",
      "--------------------------------------------------------------------------------\n",
      "\u001b[32m\n",
      "Next speaker: User_console_and_code_interpreter\n",
      "\u001b[0m\n",
      "\u001b[33mUser_console_and_code_interpreter\u001b[0m (to chat_manager):\n",
      "\n",
      "\n",
      "\n",
      "--------------------------------------------------------------------------------\n",
      "\u001b[32m\n",
      "Next speaker: matplotlib_visualization_designer\n",
      "\u001b[0m\n",
      "\u001b[33mmatplotlib_visualization_designer\u001b[0m (to chat_manager):\n",
      "\n",
      "I apologize for the confusion. Unfortunately, I cannot directly display images or execute code as a part of this text-based platform. However, I provided you with a Python code snippet that uses matplotlib to create a visualization of two agents chatting with an example dialog. \n",
      "\n",
      "To visualize the output, you need to run this code in your own Python environment. Here is the code for your reference:\n",
      "\n",
      "```python\n",
      "import matplotlib.pyplot as plt\n",
      "\n",
      "# Draw two agents with a dialog\n",
      "fig, ax = plt.subplots(figsize=(6, 4))\n",
      "\n",
      "# Agent A\n",
      "ax.text(0.2, 0.6, \"Agent A\", ha='center', va='center', fontsize=12)\n",
      "circle_a = plt.Circle((0.2, 0.5), 0.1, color='blue', fill=True)\n",
      "ax.add_artist(circle(Content): # Agent B\n",
      "ax.text(0.8, 0.6, \"Agent B\", ha='center', va='center', fontsize=12)\n",
      "circle_b = plt.Circle((0.8, 0.5), 0.1, color='green', fill=True)\n",
      "ax.add_artist(circle_b)\n",
      "\n",
      "# Example dialog\n",
      "ax.annotate(\"Hello!\", xy=(0.2, 0.5), xytext=(0.4, 0.7),\n",
      "            arrowprops=dict(arrowstyle=\"->\"), fontsize=10)\n",
      "ax.annotate(\"Hi there!\", xy=(0.8, 0.5), xytext=(0.6, 0.7),\n",
      "            arrowprops=dict(arrowstyle=\"->\"), fontsize=10)\n",
      "\n",
      "# Hide axes\n",
      "ax.axis('off')\n",
      "\n",
      "plt.show()\n",
      "```\n",
      "\n",
      "When you run this code, it will display a simple visualization of two characters represented by circles, labeled as Agent A and Agent B, and text annotations simulating a conversation between them. If you need further assistance or modifications to the visualization, feel free to ask!\n",
      "\n",
      "--------------------------------------------------------------------------------\n",
      "\u001b[32m\n",
      "Next speaker: dialogue_content_creator\n",
      "\u001b[0m\n",
      "\u001b[33mdialogue_content_creator\u001b[0m (to chat_manager):\n",
      "\n",
      "It appears there have been a few misunderstandings here. If you're aiming to execute the provided code in your own Python environment, such as a Jupyter notebook or a script in an IDE like PyCharm or Visual Studio Code, the matplotlib library should render the visualization in a pop-up window or inline, depending on your configuration.\n",
      "\n",
      "If you are not familiar with Python or matplotlib and need further information on how to set up and run this snippet, please let me know, and I can guide you through the process or provide additional explanations as needed. Remember that you need to have Python and matplotlib installed on your machine to run this code.\n",
      "\n",
      "--------------------------------------------------------------------------------\n",
      "\u001b[32m\n",
      "Next speaker: python_matplotlib_developer\n",
      "\u001b[0m\n",
      "\u001b[33mpython_matplotlib_developer\u001b[0m (to chat_manager):\n",
      "\n",
      "\u001b[32m***** Suggested tool call (call_vMx8Xy370lKjaKQlMsiSOKav): exec_python *****\u001b[0m\n",
      "Arguments: \n",
      "{\"cell\":\"import matplotlib.pyplot as plt\\n\\n# Canvas setup\\nfig, ax = plt.subplots(figsize=(12, 6))\\n\\n# Draw two agents represented as circles\\nagent_a = plt.Circle((0.3, 0.5), 0.05, color='blue')\\nagent_b = plt.Circle((0.7, 0.5), 0.05, color='orange')\\n\\n# Example dialog\\nconversation = [\\n    (\\\"Hello, Agent B!\\\", (0.3, 0.5), (0.5, 0.6)),\\n    (\\\"Hi, Agent A! How are you?\\\", (0.7, 0.5), (0.5, 0.7)),\\n    (\\\"I'm doing well, thanks for asking!\\\", (0.3, 0.5), (0.5, 0.8)),\\n]\\n\\n# Draw the conversation lines\\nfor text, from_pos, to_pos in conversation:\\n    ax.annotate(text, xy=from_pos, xytext=to_pos,\\n                arrowprops=dict(facecolor='black', arrowstyle='->'),\\n                bbox=dict(boxstyle='round,pad=0.2', fc='yellow', alpha=0.3),\\n                horizontalalignment='center', verticalalignment='center')\\n\\n# Add agents to the plot\\nax.add_artist(agent_a)\\nax.add_artist(agent_b)\\n\\n# Agent labels\\nax.text(0.3, 0.45, 'Agent A', ha='center')\\nax.text(0.7, 0.45, 'Agent B', ha='center')\\n\\n# Remove axes\\nax.set_xlim(0, 1)\\nax.set_ylim(0, 1)\\nax.axis('off')\\n\\n# Display the plot\\nplt.show()\"}\n",
      "\u001b[32m****************************************************************************\u001b[0m\n",
      "\n",
      "--------------------------------------------------------------------------------\n",
      "\u001b[32m\n",
      "Next speaker: User_console_and_code_interpreter\n",
      "\u001b[0m\n",
      "\u001b[35m\n",
      ">>>>>>>> EXECUTING FUNCTION exec_python...\u001b[0m\n"
     ]
    },
    {
     "data": {
      "image/png": "[encoded data removed]",
      "text/plain": [
       "<Figure size 1200x600 with 1 Axes>"
      ]
     },
     "metadata": {},
     "output_type": "display_data"
    },
    {
     "name": "stdout",
     "output_type": "stream",
     "text": [
      "\u001b[33mUser_console_and_code_interpreter\u001b[0m (to chat_manager):\n",
      "\n",
      "\u001b[33mUser_console_and_code_interpreter\u001b[0m (to chat_manager):\n",
      "\n",
      "\u001b[32m***** Response from calling tool (call_vMx8Xy370lKjaKQlMsiSOKav) *****\u001b[0m\n",
      "None\n",
      "\u001b[32m**********************************************************************\u001b[0m\n",
      "\n",
      "--------------------------------------------------------------------------------\n",
      "\u001b[32m\n",
      "Next speaker: User_console_and_code_interpreter\n",
      "\u001b[0m\n",
      "\u001b[33mUser_console_and_code_interpreter\u001b[0m (to chat_manager):\n",
      "\n",
      "\n",
      "\n",
      "--------------------------------------------------------------------------------\n",
      "\u001b[32m\n",
      "Next speaker: matplotlib_visualization_designer\n",
      "\u001b[0m\n",
      "\u001b[33mmatplotlib_visualization_designer\u001b[0m (to chat_manager):\n",
      "\n",
      "It seems that once again we can't view the visualization directly in our chat. However, I have updated the Python code snippet to provide a more detailed dialog between two agents. If you run this code in your local Python environment, it will create a plot featuring two agents engaged in a conversation.\n",
      "\n",
      "Here's the updated version of the code that you should run in a Python environment with matplotlib installed:\n",
      "\n",
      "```python\n",
      "import matplotlib.pyplot asplt\n",
      "\n",
      "# Canvas setup\n",
      "fig, ax = plt.subplots(figsize=(12, 6))\n",
      "\n",
      "# Draw two agents represented as circles\n",
      "agent_a = plt.Circle((0.3, 0.5), 0.05, color='blue')\n",
      "agent_b = plt.Circle((0.7, 0.5), 0.05, color='orange')\n",
      "\n",
      "# Example dialog\n",
      "conversation = [\n",
      "    (\"Hello, Agent B!\", (0.3, 0.5), (0.5, 0.6)),\n",
      "    (\"Hi, Agent A! How are you?\", (0.7, 0.5), (0.5, 0.7)),\n",
      "    (\"I'm doing well, thanks for asking!\", (0.3, 0.5), (0.5, 0.8)),\n",
      "]\n",
      "\n",
      "# Draw the conversation lines\n",
      "for text, from_pos, to_pos in conversation:\n",
      "    ax.annotate(text, xy=from_pos, xytext=to_pos,\n",
      "                arrowprops=dict(facecolor='black', arrowstyle='->'),\n",
      "                bbox=dict(boxstyle='round,pad=0.2', fc='yellow', alpha=0.3),\n",
      "                horizontalalignment='center', verticalalignment='center')\n",
      "\n",
      "# Add agents to the plot\n",
      "ax.add_artist(agent_a)\n",
      "ax.add_artist(agent_b)\n",
      "\n",
      "# Agent labels\n",
      "ax.text(0.3, 0.45, 'Agent A', ha='center')\n",
      "ax.text(0.7, 0.45, 'Agent B', ha='center')\n",
      "\n",
      "# Remove axes\n",
      "ax.set_xlim(0, 1)\n",
      "ax.set_ylim(0, 1)\n",
      "ax.axis('off')\n",
      "\n",
      "# Display the plot\n",
      "plt.show()\n",
      "```\n",
      "\n",
      "Make sure to copy the code correctly into your Python environment and execute it. It should display a plot with the two agents and a sample conversation annotated on the canvas. If you experience any issues or need further assistance, let me know!\n",
      "\n",
      "--------------------------------------------------------------------------------\n"
     ]
    }
   ],
   "source": [
    "start_task(execution_task=building_task, agent_list=agent_list)"
   ]
  },
  {
   "cell_type": "markdown",
   "metadata": {},
   "source": [
    "## Step 7 (Optional): clear all agents and prepare for the next task\n",
    "\n",
    "You can clear all agents generated in this task by the following code if your task is completed or the next task is largely different from the current task. If the agent's backbone is an open-source LLM, this process will also shut down the endpoint server. If necessary, you can use `recycle_endpoint=False` to retain the previous open-source LLMs' endpoint server."
   ]
  },
  {
   "cell_type": "code",
   "execution_count": 7,
   "metadata": {},
   "outputs": [
    {
     "name": "stdout",
     "output_type": "stream",
     "text": [
      "All agents have been cleared.\n"
     ]
    }
   ],
   "source": [
    "builder.clear_all_agents(recycle_endpoint=True)"
   ]
  },
  {
   "cell_type": "markdown",
   "metadata": {},
   "source": [
    "## Save & load configs\n",
    "\n",
    "You can save all necessary information of the built group chat agents. Here is a case for those agents generated in the above task:"
   ]
  },
  {
   "cell_type": "code",
   "execution_count": 8,
   "metadata": {},
   "outputs": [
    {
     "name": "stdout",
     "output_type": "stream",
     "text": [
      "Building config saved to ./save_config_673a2266713feeb3b23fbd5a9b1c714f.json\n"
     ]
    }
   ],
   "source": [
    "saved_path = builder.save()"
   ]
  },
  {
   "cell_type": "code",
   "execution_count": null,
   "metadata": {},
   "outputs": [],
   "source": []
  }
 ],
 "metadata": {
  "kernelspec": {
   "display_name": "Python 3",
   "language": "python",
   "name": "python3"
  },
  "language_info": {
   "codemirror_mode": {
    "name": "ipython",
    "version": 3
   },
   "file_extension": ".py",
   "mimetype": "text/x-python",
   "name": "python",
   "nbconvert_exporter": "python",
   "pygments_lexer": "ipython3",
   "version": "3.10.14"
  },
  "orig_nbformat": 4,
  "vscode": {
   "interpreter": {
    "hash": "e7370f93d1d0cde622a1f8e1c04877d8463912d04d973331ad4851f04de6915a"
   }
  }
 },
 "nbformat": 4,
 "nbformat_minor": 2
}
