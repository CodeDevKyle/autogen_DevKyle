{
 "cells": [
  {
   "attachments": {},
   "cell_type": "markdown",
   "id": "9a71fa36",
   "metadata": {
    "editable": true,
    "slideshow": {
     "slide_type": ""
    },
    "tags": []
   },
   "source": [
    "# Groupchat with Llamaindex agents\n",
    "\n",
    "(Llamaindex agents)[https://docs.llamaindex.ai/en/stable/optimizing/agentic_strategies/agentic_strategies/] have the ability to use planning strategies to answer user questions. They can be integrated in Autogen in easy ways\n",
    "\n",
    "## Requirements"
   ]
  },
  {
   "cell_type": "code",
   "execution_count": null,
   "id": "c528cd6d",
   "metadata": {},
   "outputs": [],
   "source": [
    "! pip install pyautogen\n",
    "! pip install llama-index\n",
    "! pip install llama-index-tools-wikipedia\n",
    "! pip install llama-index-readers-wikipedia\n",
    "! pip install wikipedia"
   ]
  },
  {
   "attachments": {},
   "cell_type": "markdown",
   "id": "5ebd2397",
   "metadata": {
    "editable": true,
    "slideshow": {
     "slide_type": ""
    },
    "tags": []
   },
   "source": [
    "## Set your API Endpoint"
   ]
  },
  {
   "cell_type": "code",
   "execution_count": 2,
   "id": "dca301a4",
   "metadata": {
    "editable": true,
    "slideshow": {
     "slide_type": ""
    },
    "tags": []
   },
   "outputs": [],
   "source": [
    "import os\n",
    "\n",
    "import autogen\n",
    "\n",
    "config_list = [{\"model\": \"gpt-3.5-turbo-0125\", \"api_key\": os.getenv(\"OPENAI_API_KEY\")}]"
   ]
  },
  {
   "cell_type": "markdown",
   "id": "76c11ea8",
   "metadata": {},
   "source": [
    "## Set Llamaindex"
   ]
  },
  {
   "cell_type": "code",
   "execution_count": 3,
   "id": "2d3d298e",
   "metadata": {},
   "outputs": [],
   "source": [
    "from llama_index.core import Settings\n",
    "from llama_index.core.agent import ReActAgent\n",
    "from llama_index.embeddings.openai import OpenAIEmbedding\n",
    "from llama_index.llms.openai import OpenAI\n",
    "from llama_index.tools.wikipedia import WikipediaToolSpec\n",
    "\n",
    "llm = OpenAI(\n",
    "    model= \"gpt-3.5-turbo-0125\",\n",
    "    temperature=0.0,\n",
    "    api_key= os.environ.get(\"OPENAPI_API_KEY\", \"\"),\n",
    "    )\n",
    "\n",
    "embed_model = OpenAIEmbedding(\n",
    "                model= \"text-embedding-ada-002\",\n",
    "                temperature=0.0,\n",
    "                api_key= os.environ.get(\"OPENAPI_API_KEY\", \"\"),\n",
    "                )\n",
    "\n",
    "Settings.llm = llm\n",
    "Settings.embed_model = embed_model\n",
    "\n",
    "# create a react agent to use wikipedia tool\n",
    "wiki_spec = WikipediaToolSpec()\n",
    "# Get the search wikipedia tool\n",
    "wikipedia_tool = wiki_spec.to_tool_list()[1]\n",
    "\n",
    "location_specialist = ReActAgent.from_tools(\n",
    "    tools=[wikipedia_tool], \n",
    "    llm=llm,\n",
    "    max_iterations=10,\n",
    "    verbose=True)"
   ]
  },
  {
   "attachments": {},
   "cell_type": "markdown",
   "id": "2b9526e7",
   "metadata": {},
   "source": [
    "## Create agents\n",
    "\n",
    "In this example, we will create a Llamaindex agent to answer questions fecting data from wikipedia and a user proxy agent."
   ]
  },
  {
   "cell_type": "code",
   "execution_count": null,
   "id": "1a10c9fe-1fbc-40c6-b655-5d2256864ce8",
   "metadata": {},
   "outputs": [],
   "source": [
    "from llamaindex_conversable_agent import LLamaIndexConversableAgent\n",
    "\n",
    "llm_config = {\n",
    "    \"temperature\": 0,\n",
    "    \"config_list\": config_list,\n",
    "}\n",
    "\n",
    "trip_assistant = LLamaIndexConversableAgent(\n",
    "    \"trip_specialist\",\n",
    "    llama_index_agent=  location_specialist,\n",
    "    system_message=\"You help customers finding more about places they would like to visit. You can use external resources to provide mroe details as you engage with the customer.\",\n",
    "    description=\"This agents helps customers discover locations to visit, things to do, and other details about a location. It can use external resources to provide more details. This agent helps in finding attractions, history and all that there si to know abotu a place\",\n",
    ")\n",
    "\n",
    "user_proxy = autogen.UserProxyAgent(\n",
    "    name=\"Admin\",\n",
    "    human_input_mode=\"ALWAYS\",\n",
    "    code_execution_config=False,\n",
    ")"
   ]
  },
  {
   "attachments": {},
   "cell_type": "markdown",
   "id": "966c96a4-cc8a-4400-b8db-a21b7142e33c",
   "metadata": {},
   "source": [
    "Next, let's set up our group chat."
   ]
  },
  {
   "cell_type": "code",
   "execution_count": 3,
   "id": "354b4a8f-7a96-455b-9f17-cbc19d880462",
   "metadata": {},
   "outputs": [],
   "source": [
    "groupchat = autogen.GroupChat(\n",
    "    agents=[trip_assistant, user_proxy],\n",
    "    messages=[],\n",
    "    max_round=500,\n",
    "    speaker_selection_method=\"round_robin\",\n",
    "    enable_clear_history=True,\n",
    ")\n",
    "manager = autogen.GroupChatManager(groupchat=groupchat, llm_config=llm_config)"
   ]
  },
  {
   "cell_type": "code",
   "execution_count": 5,
   "id": "d5518947",
   "metadata": {},
   "outputs": [
    {
     "name": "stdout",
     "output_type": "stream",
     "text": [
      "\u001b[33mAdmin\u001b[0m (to chat_manager):\n",
      "\n",
      "\n",
      "You will need to improve app in FastApi. For now, check out all the application files, try to understand it and wait for next instructions.\n",
      "\n",
      "\n",
      "--------------------------------------------------------------------------------\n",
      "\u001b[33mEngineer\u001b[0m (to chat_manager):\n",
      "\n",
      "\u001b[32m***** Suggested tool Call (call_SA61u9yCLhyXfd9NCV9TAIiM): list_dir *****\u001b[0m\n",
      "Arguments: \n",
      "\n",
      "{\n",
      "  \"directory\": \"./\"\n",
      "}\n",
      "\u001b[32m*************************************************************************\u001b[0m\n",
      "\n",
      "--------------------------------------------------------------------------------\n"
     ]
    },
    {
     "name": "stdout",
     "output_type": "stream",
     "text": [
      "Provide feedback to chat_manager. Press enter to skip and use auto-reply, or type 'exit' to end the conversation:  \n"
     ]
    },
    {
     "name": "stdout",
     "output_type": "stream",
     "text": [
      "\u001b[31m\n",
      ">>>>>>>> NO HUMAN INPUT RECEIVED.\u001b[0m\n",
      "\u001b[31m\n",
      ">>>>>>>> USING AUTO REPLY...\u001b[0m\n",
      "\u001b[35m\n",
      ">>>>>>>> EXECUTING FUNCTION list_dir...\u001b[0m\n",
      "\u001b[33mAdmin\u001b[0m (to chat_manager):\n",
      "\n",
      "\u001b[33mAdmin\u001b[0m (to chat_manager):\n",
      "\n",
      "\u001b[32m***** Response from calling tool \"call_SA61u9yCLhyXfd9NCV9TAIiM\" *****\u001b[0m\n",
      "[0, [\"main.py\", \"__pycache__\"]]\n",
      "\u001b[32m**********************************************************************\u001b[0m\n",
      "\n",
      "--------------------------------------------------------------------------------\n",
      "\u001b[33mEngineer\u001b[0m (to chat_manager):\n",
      "\n",
      "\u001b[32m***** Suggested tool Call (call_IVJNPI12s4fCzysnWjExZjL2): see_file *****\u001b[0m\n",
      "Arguments: \n",
      "\n",
      "{\n",
      "  \"filename\": \"main.py\"\n",
      "}\n",
      "\u001b[32m*************************************************************************\u001b[0m\n",
      "\n",
      "--------------------------------------------------------------------------------\n"
     ]
    },
    {
     "name": "stdout",
     "output_type": "stream",
     "text": [
      "Provide feedback to chat_manager. Press enter to skip and use auto-reply, or type 'exit' to end the conversation:  \n"
     ]
    },
    {
     "name": "stdout",
     "output_type": "stream",
     "text": [
      "\u001b[31m\n",
      ">>>>>>>> NO HUMAN INPUT RECEIVED.\u001b[0m\n",
      "\u001b[31m\n",
      ">>>>>>>> USING AUTO REPLY...\u001b[0m\n",
      "\u001b[35m\n",
      ">>>>>>>> EXECUTING FUNCTION see_file...\u001b[0m\n",
      "\u001b[33mAdmin\u001b[0m (to chat_manager):\n",
      "\n",
      "\u001b[33mAdmin\u001b[0m (to chat_manager):\n",
      "\n",
      "\u001b[32m***** Response from calling tool \"call_IVJNPI12s4fCzysnWjExZjL2\" *****\u001b[0m\n",
      "[0, \"1:from fastapi import FastAPI\\n2:import yfinance as yf\\n3:\\n4:app = FastAPI()\\n5:\\n6:@app.get(\\\"/cdr_daily_spread\\\")\\n7:async def calculate_daily_spread():\\n8:    cdr = yf.Ticker(\\\"CDR.WA\\\")\\n9:    today_data = cdr.history(period=\\\"1d\\\")\\n10:    spread = ((today_data[\\\"High\\\"] - today_data[\\\"Low\\\"]) / today_data[\\\"Low\\\"]) * 100\\n11:    return spread\"]\n",
      "\u001b[32m**********************************************************************\u001b[0m\n",
      "\n",
      "--------------------------------------------------------------------------------\n",
      "\u001b[33mEngineer\u001b[0m (to chat_manager):\n",
      "\n",
      "The application is a FastAPI application with a single endpoint `/cdr_daily_spread`. This endpoint calculates the daily spread of the stock \"CDR.WA\" using the `yfinance` library. The spread is calculated as the percentage difference between the high and low prices of the stock for the day.\n",
      "\n",
      "--------------------------------------------------------------------------------\n"
     ]
    },
    {
     "name": "stdout",
     "output_type": "stream",
     "text": [
      "Provide feedback to chat_manager. Press enter to skip and use auto-reply, or type 'exit' to end the conversation:  Let's move spread calculation logic to separate file. Create spread_calculation function with ticker argument in it. in our endpoint, we need to compare daily spread for CD Project Red and 11bits Studio - return difference between them.  Start with providing plan of changes. Don't do any changes yet.\n"
     ]
    },
    {
     "name": "stdout",
     "output_type": "stream",
     "text": [
      "\u001b[33mAdmin\u001b[0m (to chat_manager):\n",
      "\n",
      "Let's move spread calculation logic to separate file. Create spread_calculation function with ticker argument in it. in our endpoint, we need to compare daily spread for CD Project Red and 11bits Studio - return difference between them.  Start with providing plan of changes. Don't do any changes yet.\n",
      "\n",
      "--------------------------------------------------------------------------------\n",
      "\u001b[33mEngineer\u001b[0m (to chat_manager):\n",
      "\n",
      "Sure, here is the plan of changes:\n",
      "\n",
      "1. Create a new Python file named `spread_calculation.py`.\n",
      "2. In this file, define a function named `calculate_daily_spread` that takes a `ticker` as an argument. This function will contain the logic to calculate the daily spread of a given stock.\n",
      "3. Modify the `main.py` file to import the `calculate_daily_spread` function from `spread_calculation.py`.\n",
      "4. Modify the `/cdr_daily_spread` endpoint in `main.py` to calculate the daily spread for both \"CDR.WA\" (CD Project Red) and \"11B.WA\" (11bits Studio) by calling the `calculate_daily_spread` function with the respective ticker as argument.\n",
      "5. The endpoint will then return the difference between the daily spreads of the two stocks.\n",
      "\n",
      "Please confirm if this plan is correct and I can proceed with the changes.\n",
      "\n",
      "--------------------------------------------------------------------------------\n"
     ]
    },
    {
     "name": "stdout",
     "output_type": "stream",
     "text": [
      "Provide feedback to chat_manager. Press enter to skip and use auto-reply, or type 'exit' to end the conversation:  go with the plan\n"
     ]
    },
    {
     "name": "stdout",
     "output_type": "stream",
     "text": [
      "\u001b[33mAdmin\u001b[0m (to chat_manager):\n",
      "\n",
      "go with the plan\n",
      "\n",
      "--------------------------------------------------------------------------------\n",
      "\u001b[33mEngineer\u001b[0m (to chat_manager):\n",
      "\n",
      "\u001b[32m***** Suggested tool Call (call_cqaVQJ6VQjR7lh114bxJGVfi): create_file_with_code *****\u001b[0m\n",
      "Arguments: \n",
      "\n",
      "{\n",
      "  \"filename\": \"spread_calculation.py\",\n",
      "  \"code\": \"import yfinance as yf\\n\\ndef calculate_daily_spread(ticker):\\n    stock = yf.Ticker(ticker)\\n    today_data = stock.history(period=\\\"1d\\\")\\n    spread = ((today_data[\\\"High\\\"] - today_data[\\\"Low\\\"]) / today_data[\\\"Low\\\"]) * 100\\n    return spread\"\n",
      "}\n",
      "\u001b[32m**************************************************************************************\u001b[0m\n",
      "\n",
      "--------------------------------------------------------------------------------\n"
     ]
    },
    {
     "name": "stdout",
     "output_type": "stream",
     "text": [
      "Provide feedback to chat_manager. Press enter to skip and use auto-reply, or type 'exit' to end the conversation:  \n"
     ]
    },
    {
     "name": "stdout",
     "output_type": "stream",
     "text": [
      "\u001b[31m\n",
      ">>>>>>>> NO HUMAN INPUT RECEIVED.\u001b[0m\n",
      "\u001b[31m\n",
      ">>>>>>>> USING AUTO REPLY...\u001b[0m\n",
      "\u001b[35m\n",
      ">>>>>>>> EXECUTING FUNCTION create_file_with_code...\u001b[0m\n",
      "\u001b[33mAdmin\u001b[0m (to chat_manager):\n",
      "\n",
      "\u001b[33mAdmin\u001b[0m (to chat_manager):\n",
      "\n",
      "\u001b[32m***** Response from calling tool \"call_cqaVQJ6VQjR7lh114bxJGVfi\" *****\u001b[0m\n",
      "[0, \"File created successfully\"]\n",
      "\u001b[32m**********************************************************************\u001b[0m\n",
      "\n",
      "--------------------------------------------------------------------------------\n",
      "\u001b[33mEngineer\u001b[0m (to chat_manager):\n",
      "\n",
      "\u001b[32m***** Suggested tool Call (call_qcoMK0RO5bXdY4yQz5RCh4mp): modify_code *****\u001b[0m\n",
      "Arguments: \n",
      "\n",
      "{\n",
      "  \"filename\": \"main.py\",\n",
      "  \"start_line\": 1,\n",
      "  \"end_line\": 11,\n",
      "  \"new_code\": \"from fastapi import FastAPI\\nfrom spread_calculation import calculate_daily_spread\\n\\napp = FastAPI()\\n\\n@app.get(\\\"/cdr_daily_spread\\\")\\nasync def compare_daily_spread():\\n    cdr_spread = calculate_daily_spread(\\\"CDR.WA\\\")\\n    bits_spread = calculate_daily_spread(\\\"11B.WA\\\")\\n    return cdr_spread - bits_spread\"\n",
      "}\n",
      "\u001b[32m****************************************************************************\u001b[0m\n",
      "\n",
      "--------------------------------------------------------------------------------\n"
     ]
    },
    {
     "name": "stdout",
     "output_type": "stream",
     "text": [
      "Provide feedback to chat_manager. Press enter to skip and use auto-reply, or type 'exit' to end the conversation:  Do not change whole the file. concentrate on the concrete lines.\n"
     ]
    },
    {
     "name": "stdout",
     "output_type": "stream",
     "text": [
      "\u001b[33mAdmin\u001b[0m (to chat_manager):\n",
      "\n",
      "\u001b[33mAdmin\u001b[0m (to chat_manager):\n",
      "\n",
      "\u001b[32m***** Response from calling tool \"call_qcoMK0RO5bXdY4yQz5RCh4mp\" *****\u001b[0m\n",
      "USER INTERRUPTED\n",
      "\u001b[32m**********************************************************************\u001b[0m\n",
      "\n",
      "--------------------------------------------------------------------------------\n",
      "Do not change whole the file. concentrate on the concrete lines.\n",
      "\n",
      "--------------------------------------------------------------------------------\n",
      "\u001b[33mEngineer\u001b[0m (to chat_manager):\n",
      "\n",
      "\u001b[32m***** Suggested tool Call (call_hz1v2vEPPxKHeygjqs2lc8ii): modify_code *****\u001b[0m\n",
      "Arguments: \n",
      "\n",
      "{\n",
      "  \"filename\": \"main.py\",\n",
      "  \"start_line\": 1,\n",
      "  \"end_line\": 2,\n",
      "  \"new_code\": \"from fastapi import FastAPI\\nfrom spread_calculation import calculate_daily_spread\\nimport yfinance as yf\"\n",
      "}\n",
      "\u001b[32m****************************************************************************\u001b[0m\n",
      "\n",
      "--------------------------------------------------------------------------------\n"
     ]
    },
    {
     "name": "stdout",
     "output_type": "stream",
     "text": [
      "Provide feedback to chat_manager. Press enter to skip and use auto-reply, or type 'exit' to end the conversation:  \n"
     ]
    },
    {
     "name": "stdout",
     "output_type": "stream",
     "text": [
      "\u001b[31m\n",
      ">>>>>>>> NO HUMAN INPUT RECEIVED.\u001b[0m\n",
      "\u001b[31m\n",
      ">>>>>>>> USING AUTO REPLY...\u001b[0m\n",
      "\u001b[35m\n",
      ">>>>>>>> EXECUTING FUNCTION modify_code...\u001b[0m\n",
      "\u001b[33mAdmin\u001b[0m (to chat_manager):\n",
      "\n",
      "\u001b[33mAdmin\u001b[0m (to chat_manager):\n",
      "\n",
      "\u001b[32m***** Response from calling tool \"call_hz1v2vEPPxKHeygjqs2lc8ii\" *****\u001b[0m\n",
      "[0, \"Code modified\"]\n",
      "\u001b[32m**********************************************************************\u001b[0m\n",
      "\n",
      "--------------------------------------------------------------------------------\n",
      "\u001b[33mEngineer\u001b[0m (to chat_manager):\n",
      "\n",
      "\u001b[32m***** Suggested tool Call (call_1ABNdk6AATaVvn8UqLKBD5ZR): modify_code *****\u001b[0m\n",
      "Arguments: \n",
      "\n",
      "{\n",
      "  \"filename\": \"main.py\",\n",
      "  \"start_line\": 6,\n",
      "  \"end_line\": 11,\n",
      "  \"new_code\": \"@app.get(\\\"/cdr_daily_spread\\\")\\nasync def compare_daily_spread():\\n    cdr_spread = calculate_daily_spread(\\\"CDR.WA\\\")\\n    bits_spread = calculate_daily_spread(\\\"11B.WA\\\")\\n    return cdr_spread - bits_spread\"\n",
      "}\n",
      "\u001b[32m****************************************************************************\u001b[0m\n",
      "\n",
      "--------------------------------------------------------------------------------\n"
     ]
    },
    {
     "name": "stdout",
     "output_type": "stream",
     "text": [
      "Provide feedback to chat_manager. Press enter to skip and use auto-reply, or type 'exit' to end the conversation:  Check out file first to get actual lines position. Also, change endpoint name.\n"
     ]
    },
    {
     "name": "stdout",
     "output_type": "stream",
     "text": [
      "\u001b[33mAdmin\u001b[0m (to chat_manager):\n",
      "\n",
      "\u001b[33mAdmin\u001b[0m (to chat_manager):\n",
      "\n",
      "\u001b[32m***** Response from calling tool \"call_1ABNdk6AATaVvn8UqLKBD5ZR\" *****\u001b[0m\n",
      "USER INTERRUPTED\n",
      "\u001b[32m**********************************************************************\u001b[0m\n",
      "\n",
      "--------------------------------------------------------------------------------\n",
      "Check out file first to get actual lines position. Also, change endpoint name.\n",
      "\n",
      "--------------------------------------------------------------------------------\n",
      "\u001b[33mEngineer\u001b[0m (to chat_manager):\n",
      "\n",
      "\u001b[32m***** Suggested tool Call (call_2vlnu0RJ11qg6ygGT6l2tS3Q): see_file *****\u001b[0m\n",
      "Arguments: \n",
      "\n",
      "{\n",
      "  \"filename\": \"main.py\"\n",
      "}\n",
      "\u001b[32m*************************************************************************\u001b[0m\n",
      "\n",
      "--------------------------------------------------------------------------------\n"
     ]
    },
    {
     "name": "stdout",
     "output_type": "stream",
     "text": [
      "Provide feedback to chat_manager. Press enter to skip and use auto-reply, or type 'exit' to end the conversation:  \n"
     ]
    },
    {
     "name": "stdout",
     "output_type": "stream",
     "text": [
      "\u001b[31m\n",
      ">>>>>>>> NO HUMAN INPUT RECEIVED.\u001b[0m\n",
      "\u001b[31m\n",
      ">>>>>>>> USING AUTO REPLY...\u001b[0m\n",
      "\u001b[35m\n",
      ">>>>>>>> EXECUTING FUNCTION see_file...\u001b[0m\n",
      "\u001b[33mAdmin\u001b[0m (to chat_manager):\n",
      "\n",
      "\u001b[33mAdmin\u001b[0m (to chat_manager):\n",
      "\n",
      "\u001b[32m***** Response from calling tool \"call_2vlnu0RJ11qg6ygGT6l2tS3Q\" *****\u001b[0m\n",
      "[0, \"1:from fastapi import FastAPI\\n2:from spread_calculation import calculate_daily_spread\\n3:import yfinance as yf\\n4:\\n5:app = FastAPI()\\n6:\\n7:@app.get(\\\"/cdr_daily_spread\\\")\\n8:async def calculate_daily_spread():\\n9:    cdr = yf.Ticker(\\\"CDR.WA\\\")\\n10:    today_data = cdr.history(period=\\\"1d\\\")\\n11:    spread = ((today_data[\\\"High\\\"] - today_data[\\\"Low\\\"]) / today_data[\\\"Low\\\"]) * 100\\n12:    return spread\"]\n",
      "\u001b[32m**********************************************************************\u001b[0m\n",
      "\n",
      "--------------------------------------------------------------------------------\n",
      "\u001b[33mEngineer\u001b[0m (to chat_manager):\n",
      "\n",
      "\u001b[32m***** Suggested tool Call (call_gNwVSM2u33Ej89Yc2IkSAovu): modify_code *****\u001b[0m\n",
      "Arguments: \n",
      "\n",
      "{\n",
      "  \"filename\": \"main.py\",\n",
      "  \"start_line\": 7,\n",
      "  \"end_line\": 12,\n",
      "  \"new_code\": \"@app.get(\\\"/compare_daily_spread\\\")\\nasync def compare_daily_spread():\\n    cdr_spread = calculate_daily_spread(\\\"CDR.WA\\\")\\n    bits_spread = calculate_daily_spread(\\\"11B.WA\\\")\\n    return cdr_spread - bits_spread\"\n",
      "}\n",
      "\u001b[32m****************************************************************************\u001b[0m\n",
      "\n",
      "--------------------------------------------------------------------------------\n"
     ]
    },
    {
     "name": "stdout",
     "output_type": "stream",
     "text": [
      "Provide feedback to chat_manager. Press enter to skip and use auto-reply, or type 'exit' to end the conversation:  \n"
     ]
    },
    {
     "name": "stdout",
     "output_type": "stream",
     "text": [
      "\u001b[31m\n",
      ">>>>>>>> NO HUMAN INPUT RECEIVED.\u001b[0m\n",
      "\u001b[31m\n",
      ">>>>>>>> USING AUTO REPLY...\u001b[0m\n",
      "\u001b[35m\n",
      ">>>>>>>> EXECUTING FUNCTION modify_code...\u001b[0m\n",
      "\u001b[33mAdmin\u001b[0m (to chat_manager):\n",
      "\n",
      "\u001b[33mAdmin\u001b[0m (to chat_manager):\n",
      "\n",
      "\u001b[32m***** Response from calling tool \"call_gNwVSM2u33Ej89Yc2IkSAovu\" *****\u001b[0m\n",
      "[0, \"Code modified\"]\n",
      "\u001b[32m**********************************************************************\u001b[0m\n",
      "\n",
      "--------------------------------------------------------------------------------\n",
      "\u001b[33mEngineer\u001b[0m (to chat_manager):\n",
      "\n",
      "The changes have been made successfully. Now, the FastAPI application has an endpoint `/compare_daily_spread` which calculates and returns the difference between the daily spreads of \"CDR.WA\" (CD Project Red) and \"11B.WA\" (11bits Studio). The calculation logic is now in a separate file `spread_calculation.py`.\n",
      "\n",
      "--------------------------------------------------------------------------------\n"
     ]
    },
    {
     "name": "stdout",
     "output_type": "stream",
     "text": [
      "Provide feedback to chat_manager. Press enter to skip and use auto-reply, or type 'exit' to end the conversation:  Good. But add in return some addition description to be understandable which stock change is bigger. Remember to check out main.py first to actualize your knowledge.\n"
     ]
    },
    {
     "name": "stdout",
     "output_type": "stream",
     "text": [
      "\u001b[33mAdmin\u001b[0m (to chat_manager):\n",
      "\n",
      "Good. But add in return some addition description to be understandable which stock change is bigger. Remember to check out main.py first to actualize your knowledge.\n",
      "\n",
      "--------------------------------------------------------------------------------\n",
      "\u001b[33mEngineer\u001b[0m (to chat_manager):\n",
      "\n",
      "\u001b[32m***** Suggested tool Call (call_1Clo7beP49gWm1oXQXK7W6RH): see_file *****\u001b[0m\n",
      "Arguments: \n",
      "\n",
      "{\n",
      "  \"filename\": \"main.py\"\n",
      "}\n",
      "\u001b[32m*************************************************************************\u001b[0m\n",
      "\n",
      "--------------------------------------------------------------------------------\n"
     ]
    },
    {
     "name": "stdout",
     "output_type": "stream",
     "text": [
      "Provide feedback to chat_manager. Press enter to skip and use auto-reply, or type 'exit' to end the conversation:  \n"
     ]
    },
    {
     "name": "stdout",
     "output_type": "stream",
     "text": [
      "\u001b[31m\n",
      ">>>>>>>> NO HUMAN INPUT RECEIVED.\u001b[0m\n",
      "\u001b[31m\n",
      ">>>>>>>> USING AUTO REPLY...\u001b[0m\n",
      "\u001b[35m\n",
      ">>>>>>>> EXECUTING FUNCTION see_file...\u001b[0m\n",
      "\u001b[33mAdmin\u001b[0m (to chat_manager):\n",
      "\n",
      "\u001b[33mAdmin\u001b[0m (to chat_manager):\n",
      "\n",
      "\u001b[32m***** Response from calling tool \"call_1Clo7beP49gWm1oXQXK7W6RH\" *****\u001b[0m\n",
      "[0, \"1:from fastapi import FastAPI\\n2:from spread_calculation import calculate_daily_spread\\n3:import yfinance as yf\\n4:\\n5:app = FastAPI()\\n6:\\n7:@app.get(\\\"/compare_daily_spread\\\")\\n8:async def compare_daily_spread():\\n9:    cdr_spread = calculate_daily_spread(\\\"CDR.WA\\\")\\n10:    bits_spread = calculate_daily_spread(\\\"11B.WA\\\")\\n11:    return cdr_spread - bits_spread\\n\"]\n",
      "\u001b[32m**********************************************************************\u001b[0m\n",
      "\n",
      "--------------------------------------------------------------------------------\n",
      "\u001b[33mEngineer\u001b[0m (to chat_manager):\n",
      "\n",
      "\u001b[32m***** Suggested tool Call (call_Cl6jBUwvfa8JGbyldfrzYfiB): modify_code *****\u001b[0m\n",
      "Arguments: \n",
      "\n",
      "{\n",
      "  \"filename\": \"main.py\",\n",
      "  \"start_line\": 7,\n",
      "  \"end_line\": 11,\n",
      "  \"new_code\": \"@app.get(\\\"/compare_daily_spread\\\")\\nasync def compare_daily_spread():\\n    cdr_spread = calculate_daily_spread(\\\"CDR.WA\\\")\\n    bits_spread = calculate_daily_spread(\\\"11B.WA\\\")\\n    spread_difference = cdr_spread - bits_spread\\n    if spread_difference > 0:\\n        return {'message': 'CD Project Red has a larger daily spread', 'difference': spread_difference}\\n    elif spread_difference < 0:\\n        return {'message': '11bits Studio has a larger daily spread', 'difference': -spread_difference}\\n    else:\\n        return {'message': 'Both stocks have the same daily spread', 'difference': 0}\"\n",
      "}\n",
      "\u001b[32m****************************************************************************\u001b[0m\n",
      "\n",
      "--------------------------------------------------------------------------------\n"
     ]
    },
    {
     "name": "stdout",
     "output_type": "stream",
     "text": [
      "Provide feedback to chat_manager. Press enter to skip and use auto-reply, or type 'exit' to end the conversation:  \n"
     ]
    },
    {
     "name": "stdout",
     "output_type": "stream",
     "text": [
      "\u001b[31m\n",
      ">>>>>>>> NO HUMAN INPUT RECEIVED.\u001b[0m\n",
      "\u001b[31m\n",
      ">>>>>>>> USING AUTO REPLY...\u001b[0m\n",
      "\u001b[35m\n",
      ">>>>>>>> EXECUTING FUNCTION modify_code...\u001b[0m\n",
      "\u001b[33mAdmin\u001b[0m (to chat_manager):\n",
      "\n",
      "\u001b[33mAdmin\u001b[0m (to chat_manager):\n",
      "\n",
      "\u001b[32m***** Response from calling tool \"call_Cl6jBUwvfa8JGbyldfrzYfiB\" *****\u001b[0m\n",
      "[0, \"Code modified\"]\n",
      "\u001b[32m**********************************************************************\u001b[0m\n",
      "\n",
      "--------------------------------------------------------------------------------\n",
      "\u001b[33mEngineer\u001b[0m (to chat_manager):\n",
      "\n",
      "The changes have been made successfully. Now, the `/compare_daily_spread` endpoint returns a dictionary with a message indicating which stock (CD Project Red or 11bits Studio) has a larger daily spread and the absolute difference between the daily spreads. If both stocks have the same daily spread, the message will indicate this and the difference will be 0.\n",
      "\n",
      "--------------------------------------------------------------------------------\n"
     ]
    },
    {
     "name": "stdout",
     "output_type": "stream",
     "text": [
      "Provide feedback to chat_manager. Press enter to skip and use auto-reply, or type 'exit' to end the conversation:  ValueError: The truth value of a Series is ambiguous.\n"
     ]
    },
    {
     "name": "stdout",
     "output_type": "stream",
     "text": [
      "\u001b[33mAdmin\u001b[0m (to chat_manager):\n",
      "\n",
      "ValueError: The truth value of a Series is ambiguous.\n",
      "\n",
      "--------------------------------------------------------------------------------\n",
      "\u001b[33mEngineer\u001b[0m (to chat_manager):\n",
      "\n",
      "The error message indicates that the comparison operation is being performed on a pandas Series object, which is ambiguous. This is likely because the `calculate_daily_spread` function is returning a Series object instead of a single value.\n",
      "\n",
      "To fix this, we need to ensure that the `calculate_daily_spread` function returns a single value. We can do this by taking the first (and only) value from the Series object. \n",
      "\n",
      "Here is the plan of changes:\n",
      "\n",
      "1. Modify the `calculate_daily_spread` function in `spread_calculation.py` to return only the first value from the `spread` Series.\n",
      "2. No changes are required in `main.py` as the returned value from `calculate_daily_spread` function will now be a single value.\n",
      "\n",
      "Please confirm if this plan is correct and I can proceed with the changes.\n",
      "\n",
      "--------------------------------------------------------------------------------\n"
     ]
    },
    {
     "name": "stdout",
     "output_type": "stream",
     "text": [
      "Provide feedback to chat_manager. Press enter to skip and use auto-reply, or type 'exit' to end the conversation:  Cool. Remember to check out file before introducing modifications.\n"
     ]
    },
    {
     "name": "stdout",
     "output_type": "stream",
     "text": [
      "\u001b[33mAdmin\u001b[0m (to chat_manager):\n",
      "\n",
      "Cool. Remember to check out file before introducing modifications.\n",
      "\n",
      "--------------------------------------------------------------------------------\n",
      "\u001b[33mEngineer\u001b[0m (to chat_manager):\n",
      "\n",
      "\u001b[32m***** Suggested tool Call (call_4wPhGFFW8pt8B28nVhVvWztN): see_file *****\u001b[0m\n",
      "Arguments: \n",
      "\n",
      "{\n",
      "  \"filename\": \"spread_calculation.py\"\n",
      "}\n",
      "\u001b[32m*************************************************************************\u001b[0m\n",
      "\n",
      "--------------------------------------------------------------------------------\n"
     ]
    },
    {
     "name": "stdout",
     "output_type": "stream",
     "text": [
      "Provide feedback to chat_manager. Press enter to skip and use auto-reply, or type 'exit' to end the conversation:  \n"
     ]
    },
    {
     "name": "stdout",
     "output_type": "stream",
     "text": [
      "\u001b[31m\n",
      ">>>>>>>> NO HUMAN INPUT RECEIVED.\u001b[0m\n",
      "\u001b[31m\n",
      ">>>>>>>> USING AUTO REPLY...\u001b[0m\n",
      "\u001b[35m\n",
      ">>>>>>>> EXECUTING FUNCTION see_file...\u001b[0m\n",
      "\u001b[33mAdmin\u001b[0m (to chat_manager):\n",
      "\n",
      "\u001b[33mAdmin\u001b[0m (to chat_manager):\n",
      "\n",
      "\u001b[32m***** Response from calling tool \"call_4wPhGFFW8pt8B28nVhVvWztN\" *****\u001b[0m\n",
      "[0, \"1:import yfinance as yf\\n2:\\n3:def calculate_daily_spread(ticker):\\n4:    stock = yf.Ticker(ticker)\\n5:    today_data = stock.history(period=\\\"1d\\\")\\n6:    spread = ((today_data[\\\"High\\\"] - today_data[\\\"Low\\\"]) / today_data[\\\"Low\\\"]) * 100\\n7:    return spread\"]\n",
      "\u001b[32m**********************************************************************\u001b[0m\n",
      "\n",
      "--------------------------------------------------------------------------------\n",
      "\u001b[33mEngineer\u001b[0m (to chat_manager):\n",
      "\n",
      "\u001b[32m***** Suggested tool Call (call_DL0p37GzppRSmoqFaOOLSNaI): modify_code *****\u001b[0m\n",
      "Arguments: \n",
      "\n",
      "{\n",
      "  \"filename\": \"spread_calculation.py\",\n",
      "  \"start_line\": 3,\n",
      "  \"end_line\": 7,\n",
      "  \"new_code\": \"def calculate_daily_spread(ticker):\\n    stock = yf.Ticker(ticker)\\n    today_data = stock.history(period=\\\"1d\\\")\\n    spread = ((today_data[\\\"High\\\"] - today_data[\\\"Low\\\"]) / today_data[\\\"Low\\\"]) * 100\\n    return spread.values[0]\"\n",
      "}\n",
      "\u001b[32m****************************************************************************\u001b[0m\n",
      "\n",
      "--------------------------------------------------------------------------------\n"
     ]
    },
    {
     "name": "stdout",
     "output_type": "stream",
     "text": [
      "Provide feedback to chat_manager. Press enter to skip and use auto-reply, or type 'exit' to end the conversation:  \n"
     ]
    },
    {
     "name": "stdout",
     "output_type": "stream",
     "text": [
      "\u001b[31m\n",
      ">>>>>>>> NO HUMAN INPUT RECEIVED.\u001b[0m\n",
      "\u001b[31m\n",
      ">>>>>>>> USING AUTO REPLY...\u001b[0m\n",
      "\u001b[35m\n",
      ">>>>>>>> EXECUTING FUNCTION modify_code...\u001b[0m\n",
      "\u001b[33mAdmin\u001b[0m (to chat_manager):\n",
      "\n",
      "\u001b[33mAdmin\u001b[0m (to chat_manager):\n",
      "\n",
      "\u001b[32m***** Response from calling tool \"call_DL0p37GzppRSmoqFaOOLSNaI\" *****\u001b[0m\n",
      "[0, \"Code modified\"]\n",
      "\u001b[32m**********************************************************************\u001b[0m\n",
      "\n",
      "--------------------------------------------------------------------------------\n",
      "\u001b[33mEngineer\u001b[0m (to chat_manager):\n",
      "\n",
      "The changes have been made successfully. Now, the `calculate_daily_spread` function in `spread_calculation.py` returns a single value instead of a pandas Series. This should resolve the ValueError you were encountering.\n",
      "\n",
      "--------------------------------------------------------------------------------\n"
     ]
    },
    {
     "name": "stdout",
     "output_type": "stream",
     "text": [
      "Provide feedback to chat_manager. Press enter to skip and use auto-reply, or type 'exit' to end the conversation:  exit\n"
     ]
    }
   ],
   "source": [
    "chat_result = user_proxy.initiate_chat(\n",
    "    manager,\n",
    "    message=\"\"\"\n",
    "What can i find in Tokyo related to Hayao Miyazaki and its moveis like Spirited Away?.\n",
    "\"\"\",\n",
    ")"
   ]
  }
 ],
 "metadata": {
  "front_matter": {
   "description": "Equip your agent with functions that can efficiently implement features into your software application.",
   "tags": [
    "function call",
    "code generation",
    "tool use",
    "software engineering"
   ]
  },
  "kernelspec": {
   "display_name": "Python 3 (ipykernel)",
   "language": "python",
   "name": "python3"
  },
  "language_info": {
   "codemirror_mode": {
    "name": "ipython",
    "version": 3
   },
   "file_extension": ".py",
   "mimetype": "text/x-python",
   "name": "python",
   "nbconvert_exporter": "python",
   "pygments_lexer": "ipython3",
   "version": "3.11.9"
  }
 },
 "nbformat": 4,
 "nbformat_minor": 5
}
