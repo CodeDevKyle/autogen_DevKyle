{
 "cells": [
  {
   "cell_type": "markdown",
   "metadata": {
    "front_matter": {
     "description": "Use conversable language learning model agents to solve tasks and provide automatic feedback through a comprehensive example of writing, executing, and debugging Python code to connect with Outlook and Dynamics and provide sales data.",
     "tags": [
      "autogen",
      "outlook",
      "dynamics365",
      "azure",
      "python"
     ]
    }
   },
   "source": [
    "# Accessing Dynamics365 and Outlook365 With Autogen\n",
    "\n",
    "Prerequisites\n",
    "- Access to Dynamics365 with Service Principles and appropriate access. Refer to [Microsoft AAD with Dynamics](https://learn.microsoft.com/en-us/power-apps/developer/data-platform/)walkthrough-register-app-azure-active-directory for connection details.\n",
    "- Access to Outlook 365 with Service principle [Microsoft AAD with Outlook][Microsoft AAD with Dynamics](https://learn.microsoft.com/en-us/outlook/rest/get-started)\n",
    "- Autogen : [installation guide](/docs/installation/). \n",
    "- Read through Task Decomposition for understanding how to work with function calls in Agentic Architecture\n",
    "\n",
    "### Note : This is a sample approach and may not store the relevent details for Service Principles securily. Please follow your organization's guideline to handle secrets and enviroment variables. \n",
    "\n",
    "Author Prateek Dhiman Steve Vassallo \n",
    "\n",
    "Microsoft "
   ]
  },
  {
   "cell_type": "code",
   "execution_count": null,
   "metadata": {},
   "outputs": [],
   "source": [
    "import time\n",
    "import os \n",
    "from autogen import AssistantAgent, UserProxyAgent, config_list_from_json\n",
    "from autogen.cache import Cache\n",
    "from autogen.coding import DockerCommandLineCodeExecutor, LocalCommandLineCodeExecutor\n",
    "from typing_extensions import Annotated\n",
    "import autogen\n",
    "from autogen.cache import Cache\n",
    "from dotenv import load_dotenv"
   ]
  },
  {
   "cell_type": "code",
   "execution_count": 8,
   "metadata": {},
   "outputs": [],
   "source": [
    "# Lets fetch the environment variables. Make sure you have a .env file in same directory as this file\n",
    "# Load the .env file\n",
    "load_dotenv('.env')\n",
    "api_key = os.getenv('api_key')\n",
    "api_base = os.getenv('api_base')\n",
    "api_version = os.getenv('api_version')"
   ]
  },
  {
   "cell_type": "markdown",
   "metadata": {},
   "source": [
    "### LLM Configuations "
   ]
  },
  {
   "cell_type": "code",
   "execution_count": 9,
   "metadata": {},
   "outputs": [],
   "source": [
    "# If the config list is small, example for this excerise, we can define it here. Else its recommended to use a json file.\n",
    "\n",
    "#config_list = autogen.config_list_from_json(env_or_file=\"OAI_CONFIG_LIST\", filter_dict={\"tags\": [\"tool\"]})\n",
    "# Dont need filter as the model we are going to use models that support function calling.\n",
    "\n",
    "config_list = [\n",
    "  {\n",
    "    \"model\": \"gpt-4o\",\n",
    "    \"api_type\": \"azure\",\n",
    "    \"api_key\": api_key,\n",
    "    \"base_url\": api_base,\n",
    "    \"api_version\": api_version\n",
    "  },\n",
    "  {\n",
    "    \"model\": \"gpt-35-turbo\",\n",
    "    \"api_type\": \"azure\",\n",
    "    \"api_key\": api_key,\n",
    "    \"base_url\": api_base,\n",
    "    \"api_version\": api_version\n",
    "  }\n",
    "]\n",
    "\n",
    "llm_config = {\n",
    "    \"config_list\": config_list,\n",
    "}"
   ]
  },
  {
   "cell_type": "markdown",
   "metadata": {},
   "source": [
    "````{=mdx}\n",
    ":::tip\n",
    "Learn more about configuring LLMs for agents [here](/docs/topics/llm_configuration).\n",
    ":::\n",
    "````"
   ]
  },
  {
   "cell_type": "markdown",
   "metadata": {},
   "source": [
    "### Agent Definition "
   ]
  },
  {
   "cell_type": "code",
   "execution_count": 10,
   "metadata": {},
   "outputs": [],
   "source": [
    "# Agent that has access to only two functions. \n",
    "\n",
    "coder = autogen.AssistantAgent(\n",
    "    name=\"chatbot\",\n",
    "    system_message=\"For coding tasks, only use the functions you have been provided with. You have a dynamics365_call and a office365_call function, these functions can and should be used in parallel. Reply TERMINATE when the task is done.\",\n",
    "    llm_config=llm_config,\n",
    ")\n",
    "\n",
    "# an agent that is intended to be used as a code executor.\n",
    "\n",
    "os.makedirs(\"coding\", exist_ok=True)\n",
    "# Use DockerCommandLineCodeExecutor if docker is available to run the generated code.\n",
    "# Using docker is safer than running the generated code directly.\n",
    "# code_executor = DockerCommandLineCodeExecutor(work_dir=\"coding\")\n",
    "code_executor = LocalCommandLineCodeExecutor(work_dir=\"coding\")\n",
    "\n",
    "# create a UserProxyAgent instance named \"user_proxy\"\n",
    "user_proxy = autogen.UserProxyAgent(\n",
    "    name=\"user_proxy\",\n",
    "    system_message=\"A proxy for the user for executing code.\",\n",
    "    is_termination_msg=lambda x: x.get(\"content\", \"\") and x.get(\"content\", \"\").rstrip().endswith(\"TERMINATE\"),\n",
    "    human_input_mode=\"NEVER\",\n",
    "    max_consecutive_auto_reply=10,\n",
    "    code_execution_config={\"executor\": code_executor},\n",
    ")"
   ]
  },
  {
   "cell_type": "markdown",
   "metadata": {},
   "source": [
    "### Function Definitions \n",
    "1) A function to call dynamics 365\n",
    "2) A function to call office 365\n"
   ]
  },
  {
   "cell_type": "code",
   "execution_count": 11,
   "metadata": {},
   "outputs": [],
   "source": [
    "# define functions according to the function description\n",
    "# An example async function registered using register_for_llm and register_for_execution decorators\n",
    "\n",
    "# Dynamics 365 function\n",
    "\n",
    "@user_proxy.register_for_execution()\n",
    "@coder.register_for_llm(description=\"Get the details associated with the given account name from dynamics 365 using WebAPI.\")\n",
    "async def dynamics365_call(account_name: Annotated[str, \"Account Details .\"]) -> str:\n",
    "\n",
    "    from dotenv import load_dotenv\n",
    "    import requests\n",
    "    # Get the token and call service principle for Dynamics 365\n",
    "    load_dotenv('.env')\n",
    "    tenant_id = os.getenv('dynamicsSP_tenant_id')\n",
    "    client_id = os.getenv('dynamicsSP_client_id')\n",
    "    client_secret = os.getenv('dynamicsSP_client_secret')\n",
    "    resource = os.getenv('dynamicsSP_resource')\n",
    "\n",
    "    # OAuth 2.0 token endpoint  \n",
    "    token_url = f'https://login.microsoftonline.com/{tenant_id}/oauth2/v2.0/token'  \n",
    "\n",
    "    # Prepare the data for the token request  \n",
    "    data = {  \n",
    "        'grant_type': 'client_credentials',  \n",
    "        'client_id': client_id,  \n",
    "        'client_secret': client_secret,  \n",
    "        'scope': f'{resource}.default'  \n",
    "    } \n",
    "\n",
    "    # Request the token  \n",
    "    response = requests.post(token_url, data=data)  \n",
    "    response_data = response.json()  \n",
    "\n",
    "    if 'access_token' in response_data:  \n",
    "        access_token = response_data['access_token']  \n",
    "        #print(\"Access token retrieved successfully.\")  \n",
    "    else:  \n",
    "        print(\"Error retrieving access token:\", response_data) \n",
    "    \n",
    "        # Set the API endpoint for retrieving accounts  \n",
    "    #api_url = f'{resource}/api/data/v9.0/accounts'  \n",
    "    api_url = f'{resource}/api/data/v9.0/accounts?$select=name,accountid&$filter=contains(name,\\'{account_name}\\')'\n",
    "\n",
    "\n",
    "    # Set the headers for the request  \n",
    "    headers = {  \n",
    "        'Authorization': f'Bearer {access_token}',  \n",
    "        'Content-Type': 'application/json',  \n",
    "        'OData-MaxVersion': '4.0',  \n",
    "        'OData-Version': '4.0',  \n",
    "    }  \n",
    "    \n",
    "    # Make the request to retrieve account details  \n",
    "    response = requests.get(api_url, headers=headers)  \n",
    "    #accounts = response.json()  \n",
    "    \n",
    "    return response.json()"
   ]
  },
  {
   "cell_type": "code",
   "execution_count": null,
   "metadata": {},
   "outputs": [],
   "source": [
    "@user_proxy.register_for_execution()\n",
    "@coder.register_for_llm(description=\"Get the emails associated with the given user and account name from outlook365.\")\n",
    "async def outlook365_call(account_name: Annotated[str, \"Emails Details .\"]) -> str:\n",
    "\n",
    "    import requests\n",
    "    from dotenv import load_dotenv\n",
    "    load_dotenv('.env')\n",
    "\n",
    "    client_id = os.getenv('outlookSP_client_id')\n",
    "    tenant_id = os.getenv('outlookSP_tenant_id')\n",
    "    client_secret = os.getenv('outlookSP_client_secret')\n",
    "    scope = os.getenv('outlookSP_scope')\n",
    " \n",
    "    # Get the access token\n",
    "    url = f'https://login.microsoftonline.com/{tenant_id}/oauth2/v2.0/token'\n",
    "    data = {\n",
    "        'grant_type': 'client_credentials',\n",
    "        'client_id': client_id,\n",
    "        'client_secret': client_secret,\n",
    "        'scope': scope\n",
    "    }\n",
    "    response = requests.post(url, data=data)\n",
    "    access_token = response.json().get('access_token')\n",
    "    \n",
    "    # print(response)\n",
    "    # print(access_token)\n",
    "\n",
    "    user_id = 'a user id'  # Replace with the actual user ID\n",
    "    url = f\"https://graph.microsoft.com/v1.0/users/{user_id}/mailFolders/inbox/messages\"\n",
    "    headers = {\n",
    "        'Authorization': f'Bearer {access_token}',\n",
    "        'Content-Type': 'application/json'\n",
    "    }\n",
    "    params = {\n",
    "        #'$search': 'Alpine',\n",
    "        '$search': f'\"{account_name}\"',\n",
    "        '$select': 'subject,body,receivedDateTime'\n",
    "    }\n",
    "    \n",
    "    response = requests.get(url, headers=headers, params=params)\n",
    "    #print(response.status_code)\n",
    "    #print(response.json())\n",
    "    return response.json()\n"
   ]
  },
  {
   "cell_type": "markdown",
   "metadata": {},
   "source": [
    "### Initiate a simple chat for testing the above agents"
   ]
  },
  {
   "cell_type": "code",
   "execution_count": null,
   "metadata": {},
   "outputs": [],
   "source": [
    "with Cache.disk() as cache:\n",
    "    await user_proxy.a_initiate_chat(  # noqa: F704\n",
    "        coder,\n",
    "        message=\"Find the details for account Alpine Ski House and associated emails .\",\n",
    "        cache=cache,\n",
    "    )"
   ]
  },
  {
   "cell_type": "markdown",
   "metadata": {},
   "source": [
    "#### Lets make the responses well formatted by using a formating / markdown agent."
   ]
  },
  {
   "cell_type": "code",
   "execution_count": null,
   "metadata": {},
   "outputs": [],
   "source": [
    "markdownagent = autogen.AssistantAgent(\n",
    "    name=\"Markdown_agent\",\n",
    "    system_message=\"Respond in markdown only\",\n",
    "    llm_config=llm_config,\n",
    ")\n",
    "\n",
    "# Add a function for robust group chat termination\n",
    "\n",
    "\n",
    "@user_proxy.register_for_execution()\n",
    "@markdownagent.register_for_llm()\n",
    "@coder.register_for_llm(description=\"terminate the group chat\")\n",
    "def terminate_group_chat(message: Annotated[str, \"Message to be sent to the group chat.\"]) -> str:\n",
    "    return f\"[GROUPCHAT_TERMINATE] {message}\"\n",
    "\n",
    "\n",
    "groupchat = autogen.GroupChat(agents=[user_proxy, coder, markdownagent], messages=[], max_round=12)\n",
    "\n",
    "llm_config_manager = llm_config.copy()\n",
    "llm_config_manager.pop(\"functions\", None)\n",
    "llm_config_manager.pop(\"tools\", None)\n",
    "\n",
    "manager = autogen.GroupChatManager(\n",
    "    groupchat=groupchat,\n",
    "    llm_config=llm_config_manager,\n",
    "    is_termination_msg=lambda x: \"GROUPCHAT_TERMINATE\" in x.get(\"content\", \"\"),\n",
    ")"
   ]
  },
  {
   "cell_type": "markdown",
   "metadata": {},
   "source": [
    "#### Initiating a agent conversation."
   ]
  },
  {
   "cell_type": "code",
   "execution_count": null,
   "metadata": {},
   "outputs": [],
   "source": [
    "message = \"\"\"\n",
    "1) Find the details for account Alpine Ski House and associated emails.\n",
    "2) Pretty print the result as md.\n",
    "3) Based on the email and account information, what should be the sales strategy for upcoming call.\n",
    "4) when 1,2 and 3 are done, terminate the group chat\n",
    "\"\"\"\n",
    "\n",
    "with Cache.disk() as cache:\n",
    "    await user_proxy.a_initiate_chat(  # noqa: F704\n",
    "        manager,\n",
    "        message=message,\n",
    "        cache=cache,\n",
    "    )"
   ]
  }
 ],
 "metadata": {
  "front_matter": {
   "description": "Use conversable language learning model agents to solve tasks and provide automatic feedback through a comprehensive example of writing, executing, and debugging Python code to connect with Outlook and Dynamics and provide sales data.",
   "tags": [
    "autogen",
    "outlook",
    "dynamics365",
    "azure",
    "python"
   ]
  },
  "kernelspec": {
   "display_name": "pimco",
   "language": "python",
   "name": "python3"
  },
  "language_info": {
   "codemirror_mode": {
    "name": "ipython",
    "version": 3
   },
   "file_extension": ".py",
   "mimetype": "text/x-python",
   "name": "python",
   "nbconvert_exporter": "python",
   "pygments_lexer": "ipython3",
   "version": "3.10.14"
  }
 },
 "nbformat": 4,
 "nbformat_minor": 2
}
