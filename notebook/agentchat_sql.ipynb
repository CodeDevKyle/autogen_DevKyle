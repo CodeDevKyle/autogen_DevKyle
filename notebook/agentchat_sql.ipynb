{
 "cells": [
  {
   "cell_type": "markdown",
   "metadata": {},
   "source": [
    "# SQL Agent"
   ]
  },
  {
   "cell_type": "code",
   "execution_count": null,
   "metadata": {},
   "outputs": [],
   "source": [
    "from autogen import AssistantAgent, UserProxyAgent, ConversableAgent, config_list_from_json\n",
    "from spider_env import SpiderEnv\n",
    "from typing import Annotated, Dict\n",
    "import json\n",
    "\n",
    "# Load LLM inference endpoints from an env variable or a file\n",
    "# See https://microsoft.github.io/autogen/docs/FAQ#set-your-api-endpoints\n",
    "# and OAI_CONFIG_LIST_sample\n",
    "config_list = config_list_from_json(env_or_file=\"OAI_CONFIG_LIST\")\n",
    "\n",
    "\n",
    "def check_termination(msg: Dict):\n",
    "    if \"tool_responses\" not in msg:\n",
    "        return False\n",
    "    json_str = msg[\"tool_responses\"][0][\"content\"]\n",
    "    obj = json.loads(json_str)\n",
    "    return \"error\" not in obj or obj[\"error\"] is None and obj[\"reward\"] == 1\n",
    "\n",
    "\n",
    "sql_writer = ConversableAgent(\n",
    "    \"sql_writer\",\n",
    "    llm_config={\"config_list\": config_list},\n",
    "    system_message=\"You are good at writing SQL queries. Always respond with a function call to execute_sql().\",\n",
    "    is_termination_msg=check_termination,\n",
    ")\n",
    "user_proxy = UserProxyAgent(\"user_proxy\", human_input_mode=\"NEVER\", max_consecutive_auto_reply=5)\n",
    "spider = SpiderEnv()\n",
    "\n",
    "\n",
    "@sql_writer.register_for_llm(description=\"Function for executing SQL query and returning a response\")\n",
    "@user_proxy.register_for_execution()\n",
    "def execute_sql(\n",
    "    reflection: Annotated[str, \"Think about what to do\"], sql: Annotated[str, \"SQL query\"]\n",
    ") -> Annotated[Dict[str, str], \"Dictionary with keys 'result' and 'error'\"]:\n",
    "    observation, reward, terminated, truncated, info = spider.step(sql)\n",
    "    error = observation[\"feedback\"][\"error\"]\n",
    "    if not error and reward == 0:\n",
    "        error = \"The SQL query returned an incorrect result\"\n",
    "    if error:\n",
    "        return {\n",
    "            \"error\": error,\n",
    "            \"wrong_result\": observation[\"feedback\"][\"result\"],\n",
    "            \"correct_result\": info[\"gold_result\"],\n",
    "        }\n",
    "    else:\n",
    "        return {\n",
    "            \"result\": observation[\"feedback\"][\"result\"],\n",
    "        }\n",
    "\n",
    "\n",
    "for i in range(100):\n",
    "    observation, info = spider.reset()\n",
    "    question = observation[\"instruction\"]\n",
    "    schema = info[\"schema\"]\n",
    "    message = f\"\"\"Below is the schema for a SQL database:\n",
    "    {schema}\n",
    "    Generate a SQL query to answer the following question:\n",
    "    {question}\n",
    "    \"\"\"\n",
    "    user_proxy.initiate_chat(sql_writer, message=message)"
   ]
  }
 ],
 "metadata": {
  "kernelspec": {
   "display_name": ".venv",
   "language": "python",
   "name": "python3"
  },
  "language_info": {
   "codemirror_mode": {
    "name": "ipython",
    "version": 3
   },
   "file_extension": ".py",
   "mimetype": "text/x-python",
   "name": "python",
   "nbconvert_exporter": "python",
   "pygments_lexer": "ipython3",
   "version": "3.10.12"
  }
 },
 "nbformat": 4,
 "nbformat_minor": 2
}
