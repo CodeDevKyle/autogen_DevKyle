{
 "cells": [
  {
   "cell_type": "code",
   "execution_count": 2,
   "metadata": {},
   "outputs": [],
   "source": [
    "import json\n",
    "import random\n",
    "\n",
    "market_region_list = [\n",
    "    {'region':'华北大区', 'manager':'李建国'}, \n",
    "    {'region':'东北大区', 'manager':'王卫国'},\n",
    "    {'region':'华东大区', 'manager':'张红兵'}\n",
    "]\n",
    "\n",
    "sales_agent_list= [\n",
    "    {'name':'李建国', 'age':40, 'gender':'男', 'salary':20000},\n",
    "    {'name':'王卫国', 'age':35, 'gender':'男', 'salary':30000},\n",
    "    {'name':'张红兵', 'age':42, 'gender':'男', 'salary':25000},\n",
    "    {'name':'赵红梅', 'age':38, 'gender':'女', 'salary':28000},\n",
    "    {'name':'高保国', 'age':45, 'gender':'男', 'salary':35000},\n",
    "    {'name':'丁春秋', 'age':42, 'gender':'男', 'salary':20000}\n",
    "]\n",
    "\n"
   ]
  },
  {
   "cell_type": "markdown",
   "metadata": {},
   "source": [
    "## 定义function的schema"
   ]
  },
  {
   "cell_type": "markdown",
   "metadata": {},
   "source": [
    "### 查询公司销售市场区域列表的接口"
   ]
  },
  {
   "cell_type": "code",
   "execution_count": 3,
   "metadata": {},
   "outputs": [],
   "source": [
    "list_market_region_schema = {\n",
    "    \"name\": \"list_market_region_api\",\n",
    "    \"parameters\": {\n",
    "        \"type\": \"object\",\n",
    "        \"properties\": {\n",
    "        },\n",
    "        \"required\": [\n",
    "        ]\n",
    "    },\n",
    "  \"description\": \"查询公司销售市场区域列表的接口\"\n",
    "}\n",
    "\n",
    "def list_market_region():\n",
    "    print(\"list_market_region called:\")\n",
    "    return \"\\n\\n\" + json.dumps(market_region_list,ensure_ascii=False)\n"
   ]
  },
  {
   "cell_type": "markdown",
   "metadata": {},
   "source": [
    "### 查询指定市场区域在指定时间范围内的销售总额接口"
   ]
  },
  {
   "cell_type": "code",
   "execution_count": 4,
   "metadata": {},
   "outputs": [],
   "source": [
    "get_region_sales_data_schema = {\n",
    "    \"name\": \"get_region_sales_data_api\",\n",
    "    \"parameters\": {\n",
    "        \"type\": \"object\",\n",
    "        \"properties\": {\n",
    "            \"region\": {\n",
    "                \"type\": \"string\",\n",
    "                \"description\": \"市场区域名称。具体区域名称的值可以通过查询市场区域列表接口获取到。\"\n",
    "            },\n",
    "            \"startDate\": {\n",
    "                \"type\": \"string\",\n",
    "                \"description\": \"查询时间范围的开始日期，例如，2023-11-20\"\n",
    "            },\n",
    "            \"endDate\": {\n",
    "                \"type\": \"string\",\n",
    "                \"description\": \"查询时间范围的结束日期，例如，2023-11-20\"\n",
    "            }\n",
    "        },\n",
    "        \"required\": [\n",
    "            \"region\", \"startDate\", \"endDate\"\n",
    "        ]\n",
    "    },\n",
    "  \"description\": \"查询指定市场区域在指定时间范围内的销售总额\"\n",
    "}\n",
    "\n",
    "def get_region_sales_data(region, startDate, endDate):\n",
    "    print(\"get_region_sales_data called:\", region, startDate, endDate)\n",
    "    obj = {\n",
    "        'amount': random.randint(10000,50000)\n",
    "    }\n",
    "    return \"\\n\\n\" + json.dumps(obj,ensure_ascii=False)"
   ]
  },
  {
   "cell_type": "markdown",
   "metadata": {},
   "source": [
    "### 查询指定销售代理在指定时间范围内的销售总额接口"
   ]
  },
  {
   "cell_type": "code",
   "execution_count": 5,
   "metadata": {},
   "outputs": [],
   "source": [
    "get_agent_sales_data_schema = {\n",
    "    \"name\": \"get_agent_sales_data_api\",\n",
    "    \"parameters\": {\n",
    "        \"type\": \"object\",\n",
    "        \"properties\": {\n",
    "            \"agent\": {\n",
    "                \"type\": \"string\",\n",
    "                \"description\": \"销售代理的名字\"\n",
    "            },\n",
    "            \"startDate\": {\n",
    "                \"type\": \"string\",\n",
    "                \"description\": \"查询时间范围的开始日期，例如，2023-11-20\"\n",
    "            },\n",
    "            \"endDate\": {\n",
    "                \"type\": \"string\",\n",
    "                \"description\": \"查询时间范围的结束日期，例如，2023-11-20\"\n",
    "            }\n",
    "        },\n",
    "        \"required\": [\n",
    "            \"agent\", \"startDate\", \"endDate\"\n",
    "        ]\n",
    "    },\n",
    "  \"description\": \"查询指定销售代理在指定时间范围内的销售总额\"\n",
    "}\n",
    "\n",
    "def get_agent_sales_data(agent, startDate, endDate):\n",
    "    print(\"get_agent_sales_data called:\", agent, startDate, endDate)\n",
    "    obj = {\n",
    "        'amount': random.randint(10000,50000)\n",
    "    }\n",
    "    return \"\\n\\n\" + json.dumps(obj,ensure_ascii=False)\n",
    "\n"
   ]
  },
  {
   "cell_type": "markdown",
   "metadata": {},
   "source": [
    "### 查询公司销售代理列表的接口"
   ]
  },
  {
   "cell_type": "code",
   "execution_count": 6,
   "metadata": {},
   "outputs": [],
   "source": [
    "list_sales_agent_schema = {\n",
    "    \"name\": \"list_sales_agent_api\",\n",
    "    \"parameters\": {\n",
    "        \"type\": \"object\",\n",
    "        \"properties\": {\n",
    "        },\n",
    "        \"required\": [\n",
    "        ]\n",
    "    },\n",
    "  \"description\": \"查询公司销售代理列表的接口\"\n",
    "}\n",
    "\n",
    "def list_sales_agent():\n",
    "    print(\"list_sales_agent called:\")\n",
    "    return \"\\n\\n\" + json.dumps([agent['name'] for agent in sales_agent_list],ensure_ascii=False)\n",
    "\n"
   ]
  },
  {
   "cell_type": "markdown",
   "metadata": {},
   "source": [
    "### 查询指定销售代理基本信息，包括年龄、性别、基本工资月薪接口"
   ]
  },
  {
   "cell_type": "code",
   "execution_count": 7,
   "metadata": {},
   "outputs": [],
   "source": [
    "get_agent_info_schema = {\n",
    "    \"name\": \"get_agent_info_api\",\n",
    "    \"parameters\": {\n",
    "        \"type\": \"object\",\n",
    "        \"properties\": {\n",
    "            \"agent\": {\n",
    "                \"type\": \"string\",\n",
    "                \"description\": \"销售代理的名字\"\n",
    "            }\n",
    "        },\n",
    "        \"required\": [\n",
    "            \"agent\"\n",
    "        ]\n",
    "    },\n",
    "  \"description\": \"查询指定销售代理基本信息，包括年龄、性别、基本工资月薪\"\n",
    "}\n",
    "\n",
    "def get_agent_info(agent):\n",
    "    print(\"get_agent_info called:\", agent)\n",
    "    result = list(filter(lambda a:a['name'] == agent, sales_agent_list))\n",
    "    return \"\\n\\n\" + json.dumps(result,ensure_ascii=False)"
   ]
  },
  {
   "cell_type": "markdown",
   "metadata": {},
   "source": [
    "### 修改市场区域的负责人接口"
   ]
  },
  {
   "cell_type": "code",
   "execution_count": 8,
   "metadata": {},
   "outputs": [],
   "source": [
    "update_region_manager_schema = {\n",
    "    \"name\": \"update_region_manager_api\",\n",
    "    \"parameters\": {\n",
    "        \"type\": \"object\",\n",
    "        \"properties\": {\n",
    "            \"region\": {\n",
    "                \"type\": \"string\",\n",
    "                \"description\": \"市场区域名称。具体区域名称的值可以通过查询市场区域列表接口获取到。\"\n",
    "            },\n",
    "            \"agent\": {\n",
    "                \"type\": \"string\",\n",
    "                \"description\": \"销售代理的名字\"\n",
    "            }\n",
    "        },\n",
    "        \"required\": [\n",
    "            \"region\", \"agent\"\n",
    "        ]\n",
    "    },\n",
    "  \"description\": \"修改指定市场区域的经理为指定的销售代理\"\n",
    "}\n",
    "\n",
    "def update_region_manager(region, agent):\n",
    "    print(\"update_region_manager called:\", region, agent)\n",
    "    success = False\n",
    "    for r in market_region_list:\n",
    "        if r['region'] == region:\n",
    "            r['manager'] = agent\n",
    "            success = True\n",
    "    if success:\n",
    "        ret = {'result':'success'}\n",
    "    else:\n",
    "        ret = {'result': 'Invalid region name'}\n",
    "    return \"\\n\\n\" + json.dumps(ret,ensure_ascii=False)"
   ]
  },
  {
   "cell_type": "markdown",
   "metadata": {},
   "source": [
    "### 修改员工的薪酬接口"
   ]
  },
  {
   "cell_type": "code",
   "execution_count": 9,
   "metadata": {},
   "outputs": [],
   "source": [
    "update_agent_salary_schema = {\n",
    "    \"name\": \"update_agent_salary_api\",\n",
    "    \"parameters\": {\n",
    "        \"type\": \"object\",\n",
    "        \"properties\": {\n",
    "            \"agent\": {\n",
    "                \"type\": \"string\",\n",
    "                \"description\": \"销售代理的名字\"\n",
    "            },\n",
    "            \"salary\": {\n",
    "                \"type\": \"integer\",\n",
    "                \"description\": \"工资数额\"\n",
    "            }\n",
    "        },\n",
    "        \"required\": [\n",
    "            \"agent\",\"salary\"\n",
    "        ]\n",
    "    },\n",
    "  \"description\": \"修改指定销售代理的基本工资月薪为指定数额\"\n",
    "}\n",
    "\n",
    "def update_agent_salary(agent, salary):\n",
    "    print(\"update_agent_salary called:\", agent, salary)\n",
    "    success = False\n",
    "    for r in sales_agent_list:\n",
    "        if r['name'] == agent:\n",
    "            r['salary'] = salary\n",
    "            success = True\n",
    "    if success:\n",
    "        ret = {'result':'success'}\n",
    "    else:\n",
    "        ret = {'result': 'Invalid agent name'}\n",
    "    return \"\\n\\n\" + json.dumps(ret,ensure_ascii=False)"
   ]
  },
  {
   "cell_type": "markdown",
   "metadata": {},
   "source": [
    "## 通过Assistants API定义Agent"
   ]
  },
  {
   "cell_type": "code",
   "execution_count": 10,
   "metadata": {},
   "outputs": [
    {
     "name": "stderr",
     "output_type": "stream",
     "text": [
      "GPT Assistant only supports one OpenAI client. Using the first client in the list.\n",
      "overwrite_instructions is False. Provided instructions will be used without permanently modifying the assistant in the API.\n"
     ]
    }
   ],
   "source": [
    "from autogen import config_list_from_json\n",
    "from autogen.agentchat.contrib.gpt_assistant_agent import GPTAssistantAgent\n",
    "from autogen import UserProxyAgent\n",
    "import logging\n",
    "import os\n",
    "import requests\n",
    "\n",
    "#assistant_id = os.environ.get(\"ASSISTANT_ID\", None)\n",
    "assistant_id = 'asst_VZlR2v4A8XZgQ523SbKPRW1J'\n",
    "config_list = config_list_from_json(\"../OAI_CONFIG_LIST\")\n",
    "llm_config = {\n",
    "    \"config_list\": config_list,\n",
    "    \"assistant_id\": assistant_id,\n",
    "     \"tools\": [\n",
    "        {\n",
    "            \"type\": \"function\",\n",
    "            \"function\": list_market_region_schema,\n",
    "        },\n",
    "        {\n",
    "            \"type\": \"function\",\n",
    "            \"function\": get_region_sales_data_schema,\n",
    "        },\n",
    "        {\n",
    "            \"type\": \"function\",\n",
    "            \"function\": get_agent_sales_data_schema,\n",
    "        },\n",
    "        {\n",
    "            \"type\": \"function\",\n",
    "            \"function\": list_sales_agent_schema,\n",
    "        },\n",
    "        {\n",
    "            \"type\": \"function\",\n",
    "            \"function\": get_agent_info_schema,\n",
    "        },\n",
    "        {\n",
    "            \"type\": \"function\",\n",
    "            \"function\": update_region_manager_schema,\n",
    "        },\n",
    "        {\n",
    "            \"type\": \"function\",\n",
    "            \"function\": update_agent_salary_schema,\n",
    "        }\n",
    "    ]\n",
    "}\n",
    "\n",
    "boss_assistant = GPTAssistantAgent(\n",
    "    name=\"boss_assistant\",                            \n",
    "    instructions=(\n",
    "        \"你是糖果公司的老板助理，可以通过使用工具来帮助老板查询销售市场、销售代理的信息。当工具所需信息不完全时，可以通过对话的方式来询问。回复中包含\\\"TERMINATE\\\"字符串，当任务处理结束时。\"\n",
    "    ),\n",
    "    llm_config=llm_config,\n",
    ")\n",
    "\n",
    "boss_assistant.register_function(\n",
    "    function_map = {\n",
    "        \"list_market_region_api\": list_market_region,\n",
    "        \"get_region_sales_data_api\": get_region_sales_data,\n",
    "        \"get_agent_sales_data_api\": get_agent_sales_data,\n",
    "        \"list_sales_agent_api\": list_sales_agent,\n",
    "        \"get_agent_info_api\": get_agent_info,\n",
    "        \"update_region_manager_api\": update_region_manager,\n",
    "        \"update_agent_salary_api\":update_agent_salary\n",
    "    }\n",
    ")\n",
    "\n",
    "user_proxy = UserProxyAgent(name=\"user_proxy\",\n",
    "    code_execution_config={\n",
    "        \"work_dir\": \"coding\"\n",
    "    },\n",
    "    is_termination_msg=lambda msg: \"TERMINATE\" in msg[\"content\"],\n",
    "    human_input_mode=\"ALWAYS\",\n",
    "    max_consecutive_auto_reply=1)"
   ]
  },
  {
   "cell_type": "code",
   "execution_count": 12,
   "metadata": {},
   "outputs": [
    {
     "name": "stdout",
     "output_type": "stream",
     "text": [
      "\u001b[33muser_proxy\u001b[0m (to boss_assistant):\n",
      "\n",
      "我想给赵红梅涨工资\n",
      "\n",
      "--------------------------------------------------------------------------------\n",
      "Assistants API决定要调用以下function:  ['list_sales_agent_api']\n",
      "\u001b[35m\n",
      ">>>>>>>> EXECUTING FUNCTION list_sales_agent_api...\u001b[0m\n",
      "list_sales_agent called:\n",
      "Assistants API决定要调用以下function:  ['get_agent_info_api']\n",
      "\u001b[35m\n",
      ">>>>>>>> EXECUTING FUNCTION get_agent_info_api...\u001b[0m\n",
      "get_agent_info called: 赵红梅\n",
      "\u001b[33mboss_assistant\u001b[0m (to user_proxy):\n",
      "\n",
      "赵红梅目前的基本工资月薪是28000元。您希望调整到多少呢？\n",
      "\n",
      "\n",
      "--------------------------------------------------------------------------------\n",
      "\u001b[33muser_proxy\u001b[0m (to boss_assistant):\n",
      "\n",
      "涨到3.5W吧\n",
      "\n",
      "--------------------------------------------------------------------------------\n",
      "Assistants API决定要调用以下function:  ['update_agent_salary_api']\n",
      "\u001b[35m\n",
      ">>>>>>>> EXECUTING FUNCTION update_agent_salary_api...\u001b[0m\n",
      "update_agent_salary called: 赵红梅 35000\n",
      "\u001b[33mboss_assistant\u001b[0m (to user_proxy):\n",
      "\n",
      "赵红梅的工资已经成功调整到35000元。需要我帮您处理其他事情吗？ TERMINATE\n",
      "\n",
      "\n",
      "--------------------------------------------------------------------------------\n"
     ]
    }
   ],
   "source": [
    "user_proxy.initiate_chat(boss_assistant, message=\"我想给赵红梅涨工资\")"
   ]
  }
 ],
 "metadata": {
  "kernelspec": {
   "display_name": "Python 3",
   "language": "python",
   "name": "python3"
  },
  "language_info": {
   "codemirror_mode": {
    "name": "ipython",
    "version": 3
   },
   "file_extension": ".py",
   "mimetype": "text/x-python",
   "name": "python",
   "nbconvert_exporter": "python",
   "pygments_lexer": "ipython3",
   "version": "3.10.12"
  }
 },
 "nbformat": 4,
 "nbformat_minor": 2
}
