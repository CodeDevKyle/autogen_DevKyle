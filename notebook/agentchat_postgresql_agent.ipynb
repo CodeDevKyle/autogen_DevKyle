{
  "cells": [
    {
      "cell_type": "markdown",
      "metadata": {},
      "source": [
        "# PostgreSQL Agent\n",
        "\n",
        "This notebook demonstrate an alternative approach to run SQL queries by extending `CodeExecutor`.\n",
        "\n",
        "This approach is particularly useful if your model can generate SQL query but does not support function calling.\n",
        "\n",
        "Currently there is only one implementation for PostgreSQL, but similar approach can be used for other databases too."
      ]
    },
    {
      "cell_type": "markdown",
      "metadata": {},
      "source": [
        "#### Prepare imports and configuration"
      ]
    },
    {
      "cell_type": "code",
      "execution_count": 8,
      "metadata": {},
      "outputs": [],
      "source": [
        "from textwrap import dedent\n",
        "\n",
        "from autogen import AssistantAgent, config_list_from_json\n",
        "from autogen.agentchat.contrib.postgresql_agent import PostgreSqlAgent\n",
        "\n",
        "config_list = config_list_from_json(\n",
        "    env_or_file=\"OAI_CONFIG_LIST\",\n",
        ")\n",
        "\n",
        "llm_config = {\"config_list\": config_list, \"cache_seed\": None}"
      ]
    },
    {
      "cell_type": "markdown",
      "metadata": {},
      "source": [
        "#### Prepare DSN for the database\n",
        "This notebook uses example database from postgresqltutorial.com.\n",
        "\n",
        "Please prepare your database first before running this notebook.\n",
        "You can find the example database [here](https://www.postgresqltutorial.com/postgresql-getting-started/postgresql-sample-database/)\n",
        "\n",
        "After the database is all set, adjust the dsn string accordingly."
      ]
    },
    {
      "cell_type": "code",
      "execution_count": 9,
      "metadata": {},
      "outputs": [],
      "source": [
        "dsn = \"postgresql://text2sql@localhost/dvdrental\" # Adjust this to match your setup"
      ]
    },
    {
      "cell_type": "markdown",
      "metadata": {},
      "source": [
        "#### Prepare Instruction for Assistant Agent\n",
        "Different model might need different prompt. Currently `PostgreSqlAgent` only runs `SELECT` statements, `DROP`, `DELETE`, `INSERT` and `UPDATE` statement will not run.\n",
        "\n",
        "For this notebook, not all tables are included."
      ]
    },
    {
      "cell_type": "code",
      "execution_count": 10,
      "metadata": {},
      "outputs": [],
      "source": [
        "ASSISTANT_SYSTEM_MESSAGE = \"\"\"\n",
        "You are a polite, smart and helpful AI assistant which also an expert in SQL with PostgreSQL dialect.\n",
        "Your tasks is assist user to query data from a database with the following DDL:\n",
        "\n",
        "CREATE TABLE customer (\n",
        "        customer_id SERIAL NOT NULL,\n",
        "        store_id SMALLINT NOT NULL,\n",
        "        first_name VARCHAR(45) NOT NULL,\n",
        "        last_name VARCHAR(45) NOT NULL,\n",
        "        email VARCHAR(50),\n",
        "        address_id SMALLINT NOT NULL,\n",
        "        activebool BOOLEAN DEFAULT true NOT NULL,\n",
        "        create_date DATE DEFAULT ('now'::text)::date NOT NULL,\n",
        "        last_update TIMESTAMP WITHOUT TIME ZONE DEFAULT now(),\n",
        "        active INTEGER,\n",
        "        CONSTRAINT customer_pkey PRIMARY KEY (customer_id),\n",
        "        CONSTRAINT customer_address_id_fkey FOREIGN KEY(address_id) REFERENCES address (address_id) ON DELETE RESTRICT ON UPDATE CASCADE\n",
        ")\n",
        "\n",
        "CREATE TABLE address (\n",
        "        address_id SERIAL NOT NULL,\n",
        "        address VARCHAR(50) NOT NULL,\n",
        "        address2 VARCHAR(50),\n",
        "        district VARCHAR(20) NOT NULL,\n",
        "        city_id SMALLINT NOT NULL,\n",
        "        postal_code VARCHAR(10),\n",
        "        phone VARCHAR(20) NOT NULL,\n",
        "        last_update TIMESTAMP WITHOUT TIME ZONE DEFAULT now() NOT NULL,\n",
        "        CONSTRAINT address_pkey PRIMARY KEY (address_id),\n",
        "        CONSTRAINT fk_address_city FOREIGN KEY(city_id) REFERENCES city (city_id)\n",
        ")\n",
        "\n",
        "CREATE TABLE city (\n",
        "        city_id SERIAL NOT NULL,\n",
        "        city VARCHAR(50) NOT NULL,\n",
        "        country_id SMALLINT NOT NULL,\n",
        "        last_update TIMESTAMP WITHOUT TIME ZONE DEFAULT now() NOT NULL,\n",
        "        CONSTRAINT city_pkey PRIMARY KEY (city_id),\n",
        "        CONSTRAINT fk_city FOREIGN KEY(country_id) REFERENCES country (country_id)\n",
        ")\n",
        "\n",
        "CREATE TABLE country (\n",
        "        country_id SERIAL NOT NULL,\n",
        "        country VARCHAR(50) NOT NULL,\n",
        "        last_update TIMESTAMP WITHOUT TIME ZONE DEFAULT now() NOT NULL,\n",
        "        CONSTRAINT country_pkey PRIMARY KEY (country_id)\n",
        ")\n",
        "\n",
        "### RULES\n",
        "When generating sql query always follow these rules:\n",
        "1. The database is a PostgreSQL database.\n",
        "2. Always limit the result to less than 20 records.\n",
        "3. Only generate sql query to retrieve data, never update data or the database structure.\n",
        "4. Never make query to retrieve all columns, i.e., do not use asterisks. Always specify the intended columns.\n",
        "\n",
        "In this conversation following applies:\n",
        "1. Reply with sql query blocks if you want to query data.\n",
        "2. The sql bot cannot provide any other feedback or perform any other action beyond executing the sql query.\n",
        "3. The sql bot also can't modify your sql query. So, do not give incomplete SQL statement which requires the bot to modify.\n",
        "4. Do not use a sql query block if it's not intended to be executed by the sql bot.\n",
        "5. When using sql query, you must indicate the script type in the sql query block.\n",
        "6. The sql query block must indicate it's a sql query by adding a language hint like the following:\n",
        "        ```sql\n",
        "        [replace this text including the square brackets with your sql query]\n",
        "        ```\n",
        "7. Only one sql query block is for one sql query. Do not put multiple sql queries in one sql query block.\n",
        "\"\"\""
      ]
    },
    {
      "cell_type": "markdown",
      "metadata": {},
      "source": [
        "#### Construct Agents\n",
        "We can use `PostgreSqlAgent` in a similar way with `UserProxyAgent`."
      ]
    },
    {
      "cell_type": "code",
      "execution_count": 11,
      "metadata": {},
      "outputs": [],
      "source": [
        "def termination_msg(x):\n",
        "    return isinstance(x, dict) and \"TERMINATE\" == str(x.get(\"content\", \"\"))[-9:].upper()\n",
        "\n",
        "admin = PostgreSqlAgent(\n",
        "    \"admin\",\n",
        "    is_termination_msg=termination_msg,\n",
        "    max_consecutive_auto_reply=5,\n",
        "    human_input_mode=\"NEVER\",\n",
        "    default_auto_reply=\"Reply `TERMINATE` if the task is done.\",\n",
        "    dsn=dsn\n",
        ")\n",
        "\n",
        "assistant = AssistantAgent(\n",
        "    \"assistant\",\n",
        "    description=\"A smart and helpful AI assistant.\",\n",
        "    system_message= dedent(ASSISTANT_SYSTEM_MESSAGE),\n",
        "    human_input_mode=\"NEVER\",\n",
        "    llm_config=llm_config,\n",
        "    code_execution_config=False,\n",
        ")\n"
      ]
    },
    {
      "cell_type": "markdown",
      "metadata": {},
      "source": [
        "We can then ask questions to the assistant."
      ]
    },
    {
      "cell_type": "code",
      "execution_count": 12,
      "metadata": {},
      "outputs": [
        {
          "name": "stdout",
          "output_type": "stream",
          "text": [
            "\u001b[33madmin\u001b[0m (to assistant):\n",
            "\n",
            "How many city are in the database?\n",
            "\n",
            "--------------------------------------------------------------------------------\n",
            "\u001b[33massistant\u001b[0m (to admin):\n",
            "\n",
            "```sql\n",
            "SELECT COUNT(*) FROM city;\n",
            "```\n",
            "\n",
            "--------------------------------------------------------------------------------\n",
            "\u001b[31m\n",
            ">>>>>>>> EXECUTING CODE BLOCK (inferred language is sql)...\u001b[0m\n",
            "\u001b[33madmin\u001b[0m (to assistant):\n",
            "\n",
            "exitcode: 0 (execution succeeded)\n",
            "Code output: [{\"count\": 600}]\n",
            "\n",
            "--------------------------------------------------------------------------------\n",
            "\u001b[33massistant\u001b[0m (to admin):\n",
            "\n",
            "There are 600 cities in the database.\n",
            "\n",
            "--------------------------------------------------------------------------------\n",
            "\u001b[33madmin\u001b[0m (to assistant):\n",
            "\n",
            "Reply `TERMINATE` if the task is done.\n",
            "\n",
            "--------------------------------------------------------------------------------\n",
            "\u001b[33massistant\u001b[0m (to admin):\n",
            "\n",
            "TERMINATE\n",
            "\n",
            "--------------------------------------------------------------------------------\n"
          ]
        },
        {
          "data": {
            "text/plain": [
              "ChatResult(chat_id=None, chat_history=[{'content': 'How many city are in the database?', 'role': 'assistant'}, {'content': '```sql\\nSELECT COUNT(*) FROM city;\\n```', 'role': 'user'}, {'content': 'exitcode: 0 (execution succeeded)\\nCode output: [{\"count\": 600}]', 'role': 'assistant'}, {'content': 'There are 600 cities in the database.', 'role': 'user'}, {'content': 'Reply `TERMINATE` if the task is done.', 'role': 'assistant'}, {'content': 'TERMINATE', 'role': 'user'}], summary='', cost={'usage_including_cached_inference': {'total_cost': 0, 'hermes': {'cost': 0, 'prompt_tokens': 2092, 'completion_tokens': 25, 'total_tokens': 2117}}, 'usage_excluding_cached_inference': {'total_cost': 0, 'hermes': {'cost': 0, 'prompt_tokens': 2092, 'completion_tokens': 25, 'total_tokens': 2117}}}, human_input=[])"
            ]
          },
          "execution_count": 12,
          "metadata": {},
          "output_type": "execute_result"
        }
      ],
      "source": [
        "question = \"How many city are in the database?\"\n",
        "\n",
        "admin.initiate_chat(assistant, message=question)"
      ]
    },
    {
      "cell_type": "markdown",
      "metadata": {},
      "source": [
        "Another question."
      ]
    },
    {
      "cell_type": "code",
      "execution_count": 13,
      "metadata": {},
      "outputs": [
        {
          "name": "stdout",
          "output_type": "stream",
          "text": [
            "\u001b[33madmin\u001b[0m (to assistant):\n",
            "\n",
            "Is there any customer named 'Willie'?\n",
            "\n",
            "--------------------------------------------------------------------------------\n",
            "\u001b[33massistant\u001b[0m (to admin):\n",
            "\n",
            "```sql\n",
            "SELECT * FROM customer WHERE first_name = 'Willie' LIMIT 20;\n",
            "```\n",
            "\n",
            "--------------------------------------------------------------------------------\n",
            "\u001b[31m\n",
            ">>>>>>>> EXECUTING CODE BLOCK (inferred language is sql)...\u001b[0m\n",
            "\u001b[33madmin\u001b[0m (to assistant):\n",
            "\n",
            "exitcode: 0 (execution succeeded)\n",
            "Code output: [{\"customer_id\": 219, \"store_id\": 2, \"first_name\": \"Willie\", \"last_name\": \"Howell\", \"email\": \"willie.howell@sakilacustomer.org\", \"address_id\": 223, \"activebool\": true, \"create_date\": \"2006-02-14\", \"last_update\": \"2013-05-26 14:49:45.738000\", \"active\": 1}, {\"customer_id\": 359, \"store_id\": 2, \"first_name\": \"Willie\", \"last_name\": \"Markham\", \"email\": \"willie.markham@sakilacustomer.org\", \"address_id\": 364, \"activebool\": true, \"create_date\": \"2006-02-14\", \"last_update\": \"2013-05-26 14:49:45.738000\", \"active\": 1}]\n",
            "\n",
            "--------------------------------------------------------------------------------\n",
            "\u001b[33massistant\u001b[0m (to admin):\n",
            "\n",
            "There are two customers named 'Willie'. Here are their details:\n",
            "\n",
            "1. Customer ID: 219\n",
            "   - First Name: Willie\n",
            "   - Last Name: Howell\n",
            "   - Email: willie.howell@sakilacustomer.org\n",
            "   - Address ID: 223\n",
            "   - Active: true\n",
            "   - Create Date: 2006-02-14\n",
            "   - Last Update: 2013-05-26 14:49:45.738000\n",
            "\n",
            "2. Customer ID: 359\n",
            "   - First Name: Willie\n",
            "   - Last Name: Markham\n",
            "   - Email: willie.markham@sakilacustomer.org\n",
            "   - Address ID: 364\n",
            "   - Active: true\n",
            "   - Create Date: 2006-02-14\n",
            "   - Last Update: 2013-05-26 14:49:45.738000\n",
            "\n",
            "--------------------------------------------------------------------------------\n",
            "\u001b[33madmin\u001b[0m (to assistant):\n",
            "\n",
            "Reply `TERMINATE` if the task is done.\n",
            "\n",
            "--------------------------------------------------------------------------------\n",
            "\u001b[33massistant\u001b[0m (to admin):\n",
            "\n",
            "TERMINATE\n",
            "\n",
            "--------------------------------------------------------------------------------\n"
          ]
        },
        {
          "data": {
            "text/plain": [
              "ChatResult(chat_id=None, chat_history=[{'content': \"Is there any customer named 'Willie'?\", 'role': 'assistant'}, {'content': \"```sql\\nSELECT * FROM customer WHERE first_name = 'Willie' LIMIT 20;\\n```\", 'role': 'user'}, {'content': 'exitcode: 0 (execution succeeded)\\nCode output: [{\"customer_id\": 219, \"store_id\": 2, \"first_name\": \"Willie\", \"last_name\": \"Howell\", \"email\": \"willie.howell@sakilacustomer.org\", \"address_id\": 223, \"activebool\": true, \"create_date\": \"2006-02-14\", \"last_update\": \"2013-05-26 14:49:45.738000\", \"active\": 1}, {\"customer_id\": 359, \"store_id\": 2, \"first_name\": \"Willie\", \"last_name\": \"Markham\", \"email\": \"willie.markham@sakilacustomer.org\", \"address_id\": 364, \"activebool\": true, \"create_date\": \"2006-02-14\", \"last_update\": \"2013-05-26 14:49:45.738000\", \"active\": 1}]', 'role': 'assistant'}, {'content': \"There are two customers named 'Willie'. Here are their details:\\n\\n1. Customer ID: 219\\n   - First Name: Willie\\n   - Last Name: Howell\\n   - Email: willie.howell@sakilacustomer.org\\n   - Address ID: 223\\n   - Active: true\\n   - Create Date: 2006-02-14\\n   - Last Update: 2013-05-26 14:49:45.738000\\n\\n2. Customer ID: 359\\n   - First Name: Willie\\n   - Last Name: Markham\\n   - Email: willie.markham@sakilacustomer.org\\n   - Address ID: 364\\n   - Active: true\\n   - Create Date: 2006-02-14\\n   - Last Update: 2013-05-26 14:49:45.738000\", 'role': 'user'}, {'content': 'Reply `TERMINATE` if the task is done.', 'role': 'assistant'}, {'content': 'TERMINATE', 'role': 'user'}], summary='', cost={'usage_including_cached_inference': {'total_cost': 0, 'hermes': {'cost': 0, 'prompt_tokens': 4764, 'completion_tokens': 237, 'total_tokens': 5001}}, 'usage_excluding_cached_inference': {'total_cost': 0, 'hermes': {'cost': 0, 'prompt_tokens': 4764, 'completion_tokens': 237, 'total_tokens': 5001}}}, human_input=[])"
            ]
          },
          "execution_count": 13,
          "metadata": {},
          "output_type": "execute_result"
        }
      ],
      "source": [
        "question = \"Is there any customer named 'Willie'?\"\n",
        "\n",
        "admin.initiate_chat(assistant, message=question)"
      ]
    }
  ],
  "metadata": {
    "front_matter": {
      "description": "Example on how to use postgresql agent.",
      "tags": [
        "postgresql",
        "sql agent",
        "sql executor"
      ]
    },
    "kernelspec": {
      "display_name": "Python 3",
      "language": "python",
      "name": "python3"
    },
    "language_info": {
      "codemirror_mode": {
        "name": "ipython",
        "version": 3
      },
      "file_extension": ".py",
      "mimetype": "text/x-python",
      "name": "python",
      "nbconvert_exporter": "python",
      "pygments_lexer": "ipython3",
      "version": "3.12.3"
    },
    "skip_test": "This notebook needs manual database setup."
  },
  "nbformat": 4,
  "nbformat_minor": 2
}
